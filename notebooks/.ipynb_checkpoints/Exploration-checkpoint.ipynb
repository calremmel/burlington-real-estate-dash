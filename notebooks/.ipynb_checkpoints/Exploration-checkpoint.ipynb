{
 "cells": [
  {
   "cell_type": "code",
   "execution_count": 1,
   "metadata": {},
   "outputs": [
    {
     "name": "stderr",
     "output_type": "stream",
     "text": [
      "/home/calre/anaconda2/envs/learn-env/lib/python3.6/importlib/_bootstrap.py:219: RuntimeWarning: numpy.ufunc size changed, may indicate binary incompatibility. Expected 192 from C header, got 216 from PyObject\n",
      "  return f(*args, **kwds)\n"
     ]
    },
    {
     "data": {
      "text/html": [
       "<script type=\"text/javascript\">window.PlotlyConfig = {MathJaxConfig: 'local'};</script><script type=\"text/javascript\">if (window.MathJax) {MathJax.Hub.Config({SVG: {font: \"STIX-Web\"}});}</script><script>requirejs.config({paths: { 'plotly': ['https://cdn.plot.ly/plotly-latest.min']},});if(!window._Plotly) {require(['plotly'],function(plotly) {window._Plotly=plotly;});}</script>"
      ],
      "text/vnd.plotly.v1+html": [
       "<script type=\"text/javascript\">window.PlotlyConfig = {MathJaxConfig: 'local'};</script><script type=\"text/javascript\">if (window.MathJax) {MathJax.Hub.Config({SVG: {font: \"STIX-Web\"}});}</script><script>requirejs.config({paths: { 'plotly': ['https://cdn.plot.ly/plotly-latest.min']},});if(!window._Plotly) {require(['plotly'],function(plotly) {window._Plotly=plotly;});}</script>"
      ]
     },
     "metadata": {},
     "output_type": "display_data"
    }
   ],
   "source": [
    "import pandas as pd\n",
    "import numpy as np\n",
    "import geopandas as gpd\n",
    "\n",
    "from plotly.offline import download_plotlyjs, init_notebook_mode, plot, iplot\n",
    "import plotly.figure_factory as ff\n",
    "import plotly.graph_objs as go\n",
    "\n",
    "init_notebook_mode(connected=True)"
   ]
  },
  {
   "cell_type": "code",
   "execution_count": 2,
   "metadata": {},
   "outputs": [],
   "source": [
    "geocodes = pd.read_csv('../data/processed/geocoded_properties.csv')\n",
    "principals = pd.read_csv('../data/processed/props_to_principals.csv')"
   ]
  },
  {
   "cell_type": "code",
   "execution_count": 3,
   "metadata": {},
   "outputs": [],
   "source": [
    "last_names = []\n",
    "with open('../data/processed/last_names.txt', 'r') as f:\n",
    "    for line in f:\n",
    "        line = line.replace(\"\\n\", \"\")\n",
    "        last_names.append(line)"
   ]
  },
  {
   "cell_type": "code",
   "execution_count": 26,
   "metadata": {},
   "outputs": [],
   "source": [
    "def mapper(name):\n",
    "\n",
    "    lats, lngs, text = get_marker_data(name)\n",
    "\n",
    "    mapbox_access_token = 'pk.eyJ1IjoiY2FscmVtbWVsIiwiYSI6ImNqc25scWtiMzBkcGI0M3BtNDRrbnFvNGoifQ.qmi7OtQn6vIJbHbbTZs2MQ'\n",
    "\n",
    "    data = [\n",
    "        go.Scattermapbox(\n",
    "            lat=lats,\n",
    "            lon=lngs,\n",
    "            mode='markers',\n",
    "            marker=dict(\n",
    "                size=8\n",
    "            ),\n",
    "            text=text,\n",
    "        )\n",
    "    ]\n",
    "\n",
    "    layout = go.Layout(\n",
    "        width=600,\n",
    "        height=800,\n",
    "        autosize=True,\n",
    "        hovermode='closest',\n",
    "        mapbox=dict(\n",
    "            layers = layers,\n",
    "            accesstoken=mapbox_access_token,\n",
    "            bearing=0,\n",
    "            center=dict(\n",
    "                lat=44.5,\n",
    "                lon=-73.23\n",
    "            ),\n",
    "            pitch=0,\n",
    "            zoom=11.2\n",
    "        ),\n",
    "    )\n",
    "\n",
    "    fig = dict(data=data, layout=layout)\n",
    "\n",
    "    iplot(fig, filename=name + \" map\")"
   ]
  },
  {
   "cell_type": "code",
   "execution_count": 4,
   "metadata": {},
   "outputs": [],
   "source": [
    "import re\n",
    "\n",
    "def findWholeWord(word, sentence):\n",
    "    result = re.compile(r'\\b({0})\\b'.format(word), flags=re.IGNORECASE).search(sentence)\n",
    "    if result:\n",
    "        return True\n",
    "    else:\n",
    "        return False"
   ]
  },
  {
   "cell_type": "code",
   "execution_count": 5,
   "metadata": {},
   "outputs": [],
   "source": [
    "def currency(number):\n",
    "    return '${:,.2f}'.format(number)"
   ]
  },
  {
   "cell_type": "code",
   "execution_count": 35,
   "metadata": {},
   "outputs": [],
   "source": [
    "def get_marker_data(name):\n",
    "    \n",
    "    df = name_search(name)\n",
    "    data = pd.merge(df, geocodes, how='left', left_on='property_id', right_on='Parcel ID')\n",
    "    \n",
    "    lats = data.Latitude\n",
    "    lngs = data.Longitude\n",
    "    text1 = data.owner_name\n",
    "    text2 = data['Listed Real Value'].map(currency)\n",
    "    text = \"Listed Owner: \" + text1 + \"<br>\" + \"Value: \" + text2\n",
    "    \n",
    "    return data.columns\n",
    "#     return lats, lngs, text"
   ]
  },
  {
   "cell_type": "code",
   "execution_count": 34,
   "metadata": {},
   "outputs": [],
   "source": [
    "def name_search(name, df=principals, institutions=False):\n",
    "    \n",
    "    df=df\n",
    "    name=name.upper()\n",
    "    \n",
    "    inst_lst = [45152.0, 43409.0, 46484.0, 46891.0]\n",
    "    \n",
    "    principal_bool = df.principals.map(lambda x: findWholeWord(name, x))\n",
    "    owner_bool = df.owner_name.map(lambda x: findWholeWord(name, x))\n",
    "    \n",
    "    data = df[\n",
    "        principal_bool | owner_bool\n",
    "    ].sort_values(\n",
    "        ['property_id', 'owner_name', 'principals']\n",
    "    ).drop_duplicates(subset=['property_id'])\n",
    "    \n",
    "    if institutions == False:\n",
    "        data = data[data['business_id'].isin(inst_lst) == False]\n",
    "    \n",
    "    return data"
   ]
  },
  {
   "cell_type": "code",
   "execution_count": 36,
   "metadata": {},
   "outputs": [
    {
     "data": {
      "text/plain": [
       "Index(['Unnamed: 0_x', 'business_id', 'owner_name', 'principals',\n",
       "       'property_id', 'property_real_value', 'Unnamed: 0_y', 'lookup-id',\n",
       "       'Owner Name 1', 'Mailing Address 1', 'City', 'State', 'Zip',\n",
       "       'Location #', 'Location Street', 'Parcel ID', 'Span #',\n",
       "       'VT Use Category Code', 'VT Use Category', 'Category', 'Ownership Code',\n",
       "       'Tax Status', 'Total Acres', 'Listed Real Value',\n",
       "       '% Business Use Declared', '% Rental Use Declared', 'Search_String',\n",
       "       'Latitude', 'Longitude', 'Address'],\n",
       "      dtype='object')"
      ]
     },
     "execution_count": 36,
     "metadata": {},
     "output_type": "execute_result"
    }
   ],
   "source": [
    "get_marker_data(\"handy\")"
   ]
  },
  {
   "cell_type": "code",
   "execution_count": 27,
   "metadata": {
    "scrolled": false
   },
   "outputs": [
    {
     "data": {
      "application/vnd.plotly.v1+json": {
       "config": {
        "linkText": "Export to plot.ly",
        "plotlyServerURL": "https://plot.ly",
        "showLink": false
       },
       "data": [
        {
         "lat": [
          44.5138859,
          44.5156656,
          44.51433370000001,
          44.5108965,
          44.51105219999999,
          44.507360999999996,
          44.483683899999996,
          44.476422899999996,
          44.504622399999995,
          44.4887486,
          44.4861484,
          44.4828051,
          44.4816857,
          44.48193879999999,
          44.4828156,
          44.479786600000004,
          44.47985300000001,
          44.478403,
          44.481828,
          44.48170579999999,
          44.4787264,
          44.483975,
          44.4848115,
          44.480364200000004,
          44.480291799999996,
          44.47989339999999,
          44.4805585,
          44.480988,
          44.48783479999999,
          44.4736899,
          44.47718099999999,
          44.47718099999999,
          44.47718099999999,
          44.47718099999999,
          44.4766324,
          44.476826,
          44.476831,
          44.476819,
          44.478017,
          44.475649,
          44.475777,
          44.4756941,
          44.47505020000001,
          44.4776472,
          44.4769521,
          44.4780297,
          44.4773669,
          44.4779179,
          44.4715429,
          44.47644400000001,
          44.4773135,
          44.46410529999999,
          44.465098499999996,
          44.45146099999999,
          44.45146099999999,
          44.452996999999996,
          44.45238370000001,
          44.453849100000006,
          44.4814648
         ],
         "lon": [
          -73.2556913,
          -73.25718379999998,
          -73.2553449,
          -73.26351329999999,
          -73.2633171,
          -73.2510827,
          -73.15757099999998,
          -73.22100449999998,
          -73.2560117,
          -73.20107209999998,
          -73.22157159999998,
          -73.2180518,
          -73.21872710000002,
          -73.21893320000002,
          -73.2111208,
          -73.2130038,
          -73.212937,
          -73.21330499999998,
          -73.211011,
          -73.21104389999998,
          -73.21125409999998,
          -73.20519499999997,
          -73.20446079999998,
          -73.20370890000002,
          -73.20752089999998,
          -73.2058637,
          -73.20205329999997,
          -73.201922,
          -73.18695919999998,
          -73.2167056,
          -73.2179333,
          -73.2179333,
          -73.2179333,
          -73.2179333,
          -73.21524029999998,
          -73.21508299999998,
          -73.21519200000002,
          -73.21540949999998,
          -73.214739,
          -73.2126811,
          -73.21276600000002,
          -73.2129507,
          -73.21214559999999,
          -73.2133066,
          -73.21238989999998,
          -73.2117828,
          -73.2102093,
          -73.21128639999998,
          -73.210792,
          -73.2072804,
          -73.20470480000002,
          -73.214394,
          -73.20859329999998,
          -73.22301929999998,
          -73.22301929999998,
          -73.22480399999998,
          -73.2183408,
          -73.2095422,
          -73.2010702
         ],
         "marker": {
          "size": 8
         },
         "mode": "markers",
         "text": [
          "Listed Owner: MOUNTAHA HANDY REV TRUST<br>Value: $629,400.00",
          "Listed Owner: SISTERS  BROTHERS INVESTMENT GROUP LLP<br>Value: $409,100.00",
          "Listed Owner: MOUNTAHA HANDY REV TRUST<br>Value: $340,000.00",
          "Listed Owner: HANDY JOSEPH J<br>Value: $194,200.00",
          "Listed Owner: MOUNTAHA HANDY REV TRUST<br>Value: $195,900.00",
          "Listed Owner: HANDY CHARLES<br>Value: $216,700.00",
          "Listed Owner: HANDY SAMUEL E<br>Value: $847,000.00",
          "Listed Owner: 96 ETHAN ALLEN PARKWAY LLC<br>Value: $1,457,200.00",
          "Listed Owner: HANDY CHARLIE<br>Value: $397,500.00",
          "Listed Owner: RIVERSIDE PROPERTY RECLAMATION<br>Value: $251,200.00",
          "Listed Owner: HANDY INVESTMENT GROUP LLP<br>Value: $201,100.00",
          "Listed Owner: HANDY KRISTEN<br>Value: $133,700.00",
          "Listed Owner: MOUNTAHA HANDY REV TRUST<br>Value: $553,400.00",
          "Listed Owner: MOUNTAHA HANDY REV TRUST<br>Value: $406,300.00",
          "Listed Owner: SISTERS  BROTHERS INVESTMENT GROUP LLP<br>Value: $429,100.00",
          "Listed Owner: SISTERS  BROTHERS INVESTMENT GROUP LLP<br>Value: $1,200,000.00",
          "Listed Owner: SISTERS  BROTHERS INVESTMENT GROUP LLP<br>Value: $825,000.00",
          "Listed Owner: HANDY SISTERS LLC<br>Value: $936,400.00",
          "Listed Owner: SISTERS  BROTHERS INVESTMENT GROUP LLP<br>Value: $472,100.00",
          "Listed Owner: SISTERS  BROTHERS INVESTMENT GROUP LLP<br>Value: $722,300.00",
          "Listed Owner: HANDY MOUNTAHA<br>Value: $620,900.00",
          "Listed Owner: MOUNTAHA HANDY REV TRUST<br>Value: $371,200.00",
          "Listed Owner: HANDY COURTNEY<br>Value: $390,900.00",
          "Listed Owner: SISTERS  BROTHERS INVESTMENT GROUP LLP<br>Value: $1,465,700.00",
          "Listed Owner: SISTERS  BROTHERS INVESTMENT GROUP LLP<br>Value: $709,900.00",
          "Listed Owner: HANDY INVESTMENT GROUP LLP<br>Value: $943,500.00",
          "Listed Owner: SISTERS  BROTHERS INVESTMENT GROUP LLP<br>Value: $435,100.00",
          "Listed Owner: HANDY COURT LLC<br>Value: $2,193,900.00",
          "Listed Owner: SISTERS  BROTHERS INVESTMENT GROUP LLP<br>Value: $494,700.00",
          "Listed Owner: HANDY EARL A<br>Value: $293,100.00",
          "Listed Owner: HANDY JOAN D<br>Value: $227,000.00",
          "Listed Owner: HANDY ANTHONY<br>Value: $201,300.00",
          "Listed Owner: HANDY ANTHONY S<br>Value: $386,300.00",
          "Listed Owner: HANDY MOUNTAHA<br>Value: $201,300.00",
          "Listed Owner: ONE HUNDRED TWENTYFIVE  COLLEGE STREET<br>Value: $8,700.00",
          "Listed Owner: ONE HUNDRED TWENTYFIVE COLLEGE STREET L<br>Value: $1,554,500.00",
          "Listed Owner: ONE HUNDRED TWENTYFIVE  COLLEGE STREET<br>Value: $792,300.00",
          "Listed Owner: SISTERS BROTHERS INVESTMENT GROUP LLP<br>Value: $860,400.00",
          "Listed Owner: SISTERS  BROTHERS INVESTMENT GROUP LLP<br>Value: $898,500.00",
          "Listed Owner: SISTERS  BROTHERS INVESTMENT GROUP LLP<br>Value: $1,722,300.00",
          "Listed Owner: SISTERS  BROTHERS INVESTMENT GROUP LLP<br>Value: $895,700.00",
          "Listed Owner: SISTERS  BROTHERS INVESTMENT GROUP LLP<br>Value: $949,700.00",
          "Listed Owner: SISTERS  BROTHERS INVESTMENT GROUP LLP<br>Value: $839,900.00",
          "Listed Owner: THE GREAT CEDARS LLC<br>Value: $2,114,600.00",
          "Listed Owner: THE GREAT CEDARS LLC<br>Value: $5,080,600.00",
          "Listed Owner: SISTERS  BROTHERS INVESTMENT GROUP LLP<br>Value: $1,273,000.00",
          "Listed Owner: SISTERS  BROTHERS INVESTMENT GROUP LLP<br>Value: $2,535,100.00",
          "Listed Owner: MOUNTAHA HANDY REV TRUST<br>Value: $625,600.00",
          "Listed Owner: MOUNTAHA HANDY REV TRUST<br>Value: $419,600.00",
          "Listed Owner: GROUP FIVE INVESTMENT LLC<br>Value: $266,300.00",
          "Listed Owner: SISTERS  BROTHERS INVESTMENT GROUP LLP<br>Value: $363,400.00",
          "Listed Owner: GROUP FIVE INVESTMENT LLC<br>Value: $5,583,800.00",
          "Listed Owner: SISTERS  BROTHERS INVESTMENT GROUP LLP<br>Value: $680,000.00",
          "Listed Owner: HANDY III PAUL<br>Value: $131,500.00",
          "Listed Owner: JEANNINE M HANDY REVOCABLE TR<br>Value: $136,800.00",
          "Listed Owner: HANDY JR PAUL L<br>Value: $277,700.00",
          "Listed Owner: SISTERS  BROTHERS INVESTMENT GROUP LLP<br>Value: $496,700.00",
          "Listed Owner: HANDY JANET C<br>Value: $239,400.00",
          "Listed Owner: HANDY  RICKY<br>Value: $318,400.00"
         ],
         "type": "scattermapbox",
         "uid": "679160ee-e7ca-4c80-8e12-7c40523b1cb4"
        }
       ],
       "layout": {
        "autosize": true,
        "height": 800,
        "hovermode": "closest",
        "mapbox": {
         "accesstoken": "pk.eyJ1IjoiY2FscmVtbWVsIiwiYSI6ImNqc25scWtiMzBkcGI0M3BtNDRrbnFvNGoifQ.qmi7OtQn6vIJbHbbTZs2MQ",
         "bearing": 0,
         "center": {
          "lat": 44.5,
          "lon": -73.23
         },
         "layers": [
          {
           "below": "road_major_label",
           "color": "rgba(251,180,174,0.5)",
           "source": {
            "geometry": {
             "coordinates": [
              [
               [
                -73.2044950286289,
                44.4911969546581
               ],
               [
                -73.2044631499705,
                44.4911923698885
               ],
               [
                -73.2041349524606,
                44.4911485533009
               ],
               [
                -73.2039626460935,
                44.4911302099742
               ],
               [
                -73.2038151435313,
                44.4911162141606
               ],
               [
                -73.2036507790987,
                44.4911048526854
               ],
               [
                -73.2034577466909,
                44.4910945107979
               ],
               [
                -73.2033025037231,
                44.4910902642945
               ],
               [
                -73.2031402429233,
                44.4910904201147
               ],
               [
                -73.2029332353116,
                44.4910942250047
               ],
               [
                -73.2027851816268,
                44.4910996358481
               ],
               [
                -73.2025868810345,
                44.4911087304009
               ],
               [
                -73.2022904829263,
                44.4911281301531
               ],
               [
                -73.2021306841926,
                44.4911371284497
               ],
               [
                -73.2017322144576,
                44.4911632009298
               ],
               [
                -73.2017113180502,
                44.4910916145696
               ],
               [
                -73.2016447210556,
                44.4908456640037
               ],
               [
                -73.201542142659,
                44.4905805298113
               ],
               [
                -73.2014402587376,
                44.4904060876316
               ],
               [
                -73.2012982224961,
                44.4902579066006
               ],
               [
                -73.2011424360376,
                44.4901096694105
               ],
               [
                -73.2008964508122,
                44.4899750626634
               ],
               [
                -73.200587056966,
                44.4898602498555
               ],
               [
                -73.2000874468153,
                44.4897401335391
               ],
               [
                -73.1995020386098,
                44.4896400855372
               ],
               [
                -73.1987767703613,
                44.489573233418
               ],
               [
                -73.1982597914053,
                44.4895115704592
               ],
               [
                -73.1977062841195,
                44.489417646618
               ],
               [
                -73.1971887665767,
                44.4893105637027
               ],
               [
                -73.1965164310942,
                44.4891352394645
               ],
               [
                -73.1958306157596,
                44.4889493065468
               ],
               [
                -73.1953492555,
                44.4888096536865
               ],
               [
                -73.1948675820889,
                44.4886764686001
               ],
               [
                -73.1945131070791,
                44.4885683814734
               ],
               [
                -73.1941947753669,
                44.4884602139577
               ],
               [
                -73.1938952908257,
                44.4883841328656
               ],
               [
                -73.1936862318951,
                44.4883465927011
               ],
               [
                -73.1934735884131,
                44.4883381808269
               ],
               [
                -73.1933197473446,
                44.4883520515205
               ],
               [
                -73.1932022009591,
                44.4883786384281
               ],
               [
                -73.193048782642,
                44.4884282231919
               ],
               [
                -73.1929321288795,
                44.4884969893072
               ],
               [
                -73.1928330373527,
                44.4885559464655
               ],
               [
                -73.1927343761129,
                44.4886181344282
               ],
               [
                -73.1926350928111,
                44.488660921473
               ],
               [
                -73.1924951156795,
                44.4886844092792
               ],
               [
                -73.1923545154169,
                44.4886884960868
               ],
               [
                -73.1921869721673,
                44.4886733405091
               ],
               [
                -73.1920553778721,
                44.4886416562672
               ],
               [
                -73.1919370273805,
                44.4886003288275
               ],
               [
                -73.1918549416722,
                44.4885360021946
               ],
               [
                -73.1917810778084,
                44.4884359087016
               ],
               [
                -73.1917302288242,
                44.4883552216677
               ],
               [
                -73.19166625391,
                44.4882940187071
               ],
               [
                -73.1916136596211,
                44.4882650890049
               ],
               [
                -73.1915477116792,
                44.488236381426
               ],
               [
                -73.1914524528491,
                44.4882207870682
               ],
               [
                -73.1913440284544,
                44.4882214434299
               ],
               [
                -73.1911903399249,
                44.488248247036
               ],
               [
                -73.1910302794349,
                44.4883011027876
               ],
               [
                -73.1908567751777,
                44.4883799130427
               ],
               [
                -73.1906315677479,
                44.4884719732936
               ],
               [
                -73.1903970092906,
                44.4885706979183
               ],
               [
                -73.1901536532337,
                44.4886563972271
               ],
               [
                -73.1899755591756,
                44.4887125948687
               ],
               [
                -73.1897768830703,
                44.4887559798349
               ],
               [
                -73.1896138908244,
                44.4887601985012
               ],
               [
                -73.1894804355307,
                44.488737240292
               ],
               [
                -73.1893612330383,
                44.4886901502818
               ],
               [
                -73.1891995397368,
                44.4885711806028
               ],
               [
                -73.1891076889979,
                44.488477943503
               ],
               [
                -73.1890275447889,
                44.488378026511
               ],
               [
                -73.1889557384499,
                44.4882520462656
               ],
               [
                -73.1889136613695,
                44.4881485247605
               ],
               [
                -73.1888990849754,
                44.4880449786553
               ],
               [
                -73.1888929971966,
                44.4879283033498
               ],
               [
                -73.1889009627366,
                44.4878374175863
               ],
               [
                -73.1889205131937,
                44.4877627725399
               ],
               [
                -73.1889529744238,
                44.4876167577877
               ],
               [
                -73.1889522494708,
                44.4875551726426
               ],
               [
                -73.1889373856812,
                44.4874939535672
               ],
               [
                -73.1888936158034,
                44.4874135033368
               ],
               [
                -73.1888230355386,
                44.4873582449513
               ],
               [
                -73.1887370530335,
                44.4873295152813
               ],
               [
                -73.1886154786714,
                44.4873142185337
               ],
               [
                -73.1884828125218,
                44.4873245802494
               ],
               [
                -73.1883790923011,
                44.4873576871455
               ],
               [
                -73.1882936338801,
                44.4874068559025
               ],
               [
                -73.1882399928333,
                44.4874556915774
               ],
               [
                -73.1881955781169,
                44.4875207831317
               ],
               [
                -73.1881423204395,
                44.4876022403467
               ],
               [
                -73.1881025315315,
                44.487693177403
               ],
               [
                -73.188080394887,
                44.4877484323833
               ],
               [
                -73.1880471066204,
                44.4877908178348
               ],
               [
                -73.1879888269784,
                44.4878461501354
               ],
               [
                -73.1879170022497,
                44.4878855332757
               ],
               [
                -73.1878244335346,
                44.4879315101023
               ],
               [
                -73.1877276947928,
                44.4879904477682
               ],
               [
                -73.1876397966155,
                44.4880662069879
               ],
               [
                -73.1875085424459,
                44.4881969266679
               ],
               [
                -73.1873811116525,
                44.4883522312693
               ],
               [
                -73.187290190561,
                44.4885052065571
               ],
               [
                -73.1872464604739,
                44.4886286496179
               ],
               [
                -73.1872111800378,
                44.488735730323
               ],
               [
                -73.1871497979948,
                44.488894995651
               ],
               [
                -73.18709649801,
                44.4889730778221
               ],
               [
                -73.1869971482072,
                44.4890441240217
               ],
               [
                -73.1867718041347,
                44.4890917418143
               ],
               [
                -73.1865096849874,
                44.4891191910739
               ],
               [
                -73.1861019082792,
                44.4891216414231
               ],
               [
                -73.1855639415433,
                44.4891115130863
               ],
               [
                -73.1850229206678,
                44.489108853874
               ],
               [
                -73.1844933032926,
                44.4891071073954
               ],
               [
                -73.1837958715977,
                44.4891005982552
               ],
               [
                -73.1830888389409,
                44.489079237397
               ],
               [
                -73.1827233768727,
                44.4890381127653
               ],
               [
                -73.1825232065331,
                44.4889875623325
               ],
               [
                -73.1823265223909,
                44.4888990238601
               ],
               [
                -73.1822130223683,
                44.4888014108301
               ],
               [
                -73.1821030103601,
                44.4886659512831
               ],
               [
                -73.1819875173003,
                44.4884983234371
               ],
               [
                -73.1818850136679,
                44.4882653719314
               ],
               [
                -73.1818440877862,
                44.4879223719621
               ],
               [
                -73.1818634007805,
                44.4874556911064
               ],
               [
                -73.1818643563828,
                44.48706561602
               ],
               [
                -73.1818596386023,
                44.4867617715006
               ],
               [
                -73.1818367760523,
                44.4864179607407
               ],
               [
                -73.1817796699374,
                44.4860685884268
               ],
               [
                -73.1816855205992,
                44.4857091723911
               ],
               [
                -73.1815569192011,
                44.4854274417256
               ],
               [
                -73.181356189967,
                44.4851589366367
               ],
               [
                -73.1810839647297,
                44.4848905767742
               ],
               [
                -73.1806857998851,
                44.484636044901
               ],
               [
                -73.1801811105028,
                44.484375676367
               ],
               [
                -73.1797419155869,
                44.4842070207172
               ],
               [
                -73.1793176376251,
                44.4841047860092
               ],
               [
                -73.1789755415705,
                44.4840431202995
               ],
               [
                -73.1786044780617,
                44.4840240932013
               ],
               [
                -73.1782194954444,
                44.4840581588327
               ],
               [
                -73.1779231427385,
                44.4841130717278
               ],
               [
                -73.1775943691212,
                44.4842179539782
               ],
               [
                -73.177288304764,
                44.4843504018312
               ],
               [
                -73.1769487896486,
                44.4845117328874
               ],
               [
                -73.1763884323003,
                44.4847698498033
               ],
               [
                -73.1758270644911,
                44.4849749577672
               ],
               [
                -73.1757969298763,
                44.4849848383872
               ],
               [
                -73.1768553291239,
                44.4840053647087
               ],
               [
                -73.1781843829991,
                44.4827907096024
               ],
               [
                -73.1827184882031,
                44.4787841081374
               ],
               [
                -73.1833914883032,
                44.4781887906888
               ],
               [
                -73.1850944015959,
                44.4767215188086
               ],
               [
                -73.1863189839729,
                44.4756702287367
               ],
               [
                -73.1874194706281,
                44.474724994891
               ],
               [
                -73.1883717761577,
                44.4739074784057
               ],
               [
                -73.1885801931877,
                44.4737280613818
               ],
               [
                -73.1895690026345,
                44.472877832907
               ],
               [
                -73.1898777199737,
                44.4726113274577
               ],
               [
                -73.1900526871722,
                44.4724605138799
               ],
               [
                -73.1901386162554,
                44.4723865922956
               ],
               [
                -73.1930759526704,
                44.4737017115917
               ],
               [
                -73.1931398752032,
                44.4737264942884
               ],
               [
                -73.1932496658079,
                44.4737771528045
               ],
               [
                -73.1933641578985,
                44.4738267990309
               ],
               [
                -73.193487779282,
                44.4738845450288
               ],
               [
                -73.1937609669509,
                44.4740017068196
               ],
               [
                -73.1937811842603,
                44.4741499348471
               ],
               [
                -73.1949165197812,
                44.4746644393175
               ],
               [
                -73.1950902648336,
                44.4747421273892
               ],
               [
                -73.1980925574835,
                44.4760831567529
               ],
               [
                -73.1984437223914,
                44.4762158613987
               ],
               [
                -73.1987510047536,
                44.4763247877728
               ],
               [
                -73.1988097332745,
                44.4763417245287
               ],
               [
                -73.1988877669496,
                44.4763636053229
               ],
               [
                -73.1989566607785,
                44.4763766829251
               ],
               [
                -73.1990369218563,
                44.4763877218304
               ],
               [
                -73.1992878896517,
                44.4778325684584
               ],
               [
                -73.2005997615911,
                44.4777601258888
               ],
               [
                -73.2055390722885,
                44.4774871570677
               ],
               [
                -73.2056904027222,
                44.4806567040077
               ],
               [
                -73.205747955813,
                44.482107088662
               ],
               [
                -73.2058092005398,
                44.4832442970328
               ],
               [
                -73.2058890137727,
                44.4849438569922
               ],
               [
                -73.2060347960772,
                44.48807321694
               ],
               [
                -73.2060709785984,
                44.4887277029202
               ],
               [
                -73.2054596342935,
                44.4897027178079
               ],
               [
                -73.2044950286289,
                44.4911969546581
               ]
              ]
             ],
             "type": "Polygon"
            },
            "properties": {
             "COLOR": "rgba(251,180,174,0.5)",
             "DISTRICT": "East",
             "OBJECTID": 5,
             "Shape__Are": 2954396.40816498,
             "Shape__Len": 7976.17879052443,
             "WARD": 1
            },
            "type": "Feature"
           },
           "sourcetype": "geojson",
           "type": "fill"
          },
          {
           "below": "road_major_label",
           "color": "rgba(179,205,227,0.2)",
           "source": {
            "geometry": {
             "coordinates": [
              [
               [
                -73.2281133568395,
                44.4995435895372
               ],
               [
                -73.2280341504162,
                44.4995886695271
               ],
               [
                -73.225764052777,
                44.5008835668173
               ],
               [
                -73.2138859499621,
                44.5076570924708
               ],
               [
                -73.2138301377486,
                44.5075277930409
               ],
               [
                -73.2136812554031,
                44.5072110729023
               ],
               [
                -73.2135050222564,
                44.5068749766904
               ],
               [
                -73.2133200725954,
                44.5065650896327
               ],
               [
                -73.2130942539688,
                44.5062553170472
               ],
               [
                -73.2128192414444,
                44.505971724367
               ],
               [
                -73.2125533498836,
                44.5057270244875
               ],
               [
                -73.2122513098433,
                44.505482549416
               ],
               [
                -73.2118905640331,
                44.5052255028057
               ],
               [
                -73.2116668093938,
                44.5050843122806
               ],
               [
                -73.2113935450726,
                44.5049434306088
               ],
               [
                -73.210933706036,
                44.5047453530749
               ],
               [
                -73.210469468955,
                44.5045731752736
               ],
               [
                -73.2100961622389,
                44.5044133669306
               ],
               [
                -73.2097134279847,
                44.5042212738282
               ],
               [
                -73.2093305393682,
                44.5040162437269
               ],
               [
                -73.2091023166484,
                44.5038944813469
               ],
               [
                -73.2087564469606,
                44.5037605119797
               ],
               [
                -73.2083382771466,
                44.5036269899911
               ],
               [
                -73.207874606095,
                44.503500217276
               ],
               [
                -73.2074433929757,
                44.5033926461833
               ],
               [
                -73.2069222525274,
                44.5032576473074
               ],
               [
                -73.2065070220975,
                44.5031391465405
               ],
               [
                -73.2060889398423,
                44.5030120836422
               ],
               [
                -73.2058050847413,
                44.5029034548521
               ],
               [
                -73.2053467759427,
                44.5026990186922
               ],
               [
                -73.2048947717793,
                44.5024631832823
               ],
               [
                -73.2044667145502,
                44.5021923264998
               ],
               [
                -73.2040279945998,
                44.5018515066054
               ],
               [
                -73.2037440058819,
                44.5016004296946
               ],
               [
                -73.203487448118,
                44.5013427143206
               ],
               [
                -73.2032209151608,
                44.5010396405755
               ],
               [
                -73.202861677116,
                44.5005426654337
               ],
               [
                -73.202704614251,
                44.5002908037998
               ],
               [
                -73.202519273881,
                44.4999419508592
               ],
               [
                -73.2023055776791,
                44.4994893564665
               ],
               [
                -73.2021083099451,
                44.4989974285345
               ],
               [
                -73.2019969247233,
                44.4986874925113
               ],
               [
                -73.2018928515702,
                44.4982991875854
               ],
               [
                -73.2017979031738,
                44.4978524714599
               ],
               [
                -73.2017325898064,
                44.49735382641
               ],
               [
                -73.2017235150224,
                44.4970231530423
               ],
               [
                -73.2017260985464,
                44.4964849989959
               ],
               [
                -73.2016816624399,
                44.4961871657796
               ],
               [
                -73.2016016235894,
                44.4959348300958
               ],
               [
                -73.2015344812651,
                44.4956111216106
               ],
               [
                -73.2015314501271,
                44.4953583128129
               ],
               [
                -73.2015563181795,
                44.4950400858281
               ],
               [
                -73.2015883312869,
                44.4948262938784
               ],
               [
                -73.2016589152686,
                44.4946507924432
               ],
               [
                -73.2017424764224,
                44.4944761966635
               ],
               [
                -73.2018406260619,
                44.4943386329461
               ],
               [
                -73.2019658931214,
                44.4942016062315
               ],
               [
                -73.2022256370036,
                44.4939422602316
               ],
               [
                -73.2024602607804,
                44.493717940954
               ],
               [
                -73.2025742221655,
                44.4935885759187
               ],
               [
                -73.2026632653169,
                44.4934454428437
               ],
               [
                -73.2027064985609,
                44.4932830465789
               ],
               [
                -73.2026958285912,
                44.4931469957258
               ],
               [
                -73.2026303179212,
                44.4929593950995
               ],
               [
                -73.2025553023567,
                44.492765384101
               ],
               [
                -73.2023773822239,
                44.4923779555249
               ],
               [
                -73.2021390263306,
                44.4920288650394
               ],
               [
                -73.201880263298,
                44.4915831554605
               ],
               [
                -73.2017961380101,
                44.4913827320007
               ],
               [
                -73.2017322144576,
                44.4911632009298
               ],
               [
                -73.2021306841926,
                44.4911371284497
               ],
               [
                -73.2022904829263,
                44.4911281301531
               ],
               [
                -73.2025868810345,
                44.4911087304009
               ],
               [
                -73.2027851816268,
                44.4910996358481
               ],
               [
                -73.2029332353116,
                44.4910942250047
               ],
               [
                -73.2031402429233,
                44.4910904201147
               ],
               [
                -73.2033025037231,
                44.4910902642945
               ],
               [
                -73.2034577466909,
                44.4910945107979
               ],
               [
                -73.2036507790987,
                44.4911048526854
               ],
               [
                -73.2038151435313,
                44.4911162141606
               ],
               [
                -73.2039626460935,
                44.4911302099742
               ],
               [
                -73.2041349524606,
                44.4911485533009
               ],
               [
                -73.2044631499705,
                44.4911923698885
               ],
               [
                -73.2044950286289,
                44.4911969546581
               ],
               [
                -73.2054596342935,
                44.4897027178079
               ],
               [
                -73.2060709785984,
                44.4887277029202
               ],
               [
                -73.2060347960772,
                44.48807321694
               ],
               [
                -73.2058890137727,
                44.4849438569922
               ],
               [
                -73.2058092005398,
                44.4832442970328
               ],
               [
                -73.205747955813,
                44.482107088662
               ],
               [
                -73.2056904027222,
                44.4806567040077
               ],
               [
                -73.2093172741978,
                44.4805570376979
               ],
               [
                -73.2112181409485,
                44.4804937513108
               ],
               [
                -73.2112256015957,
                44.4804935644603
               ],
               [
                -73.2135624172147,
                44.480424147771
               ],
               [
                -73.2136834627807,
                44.4822332666908
               ],
               [
                -73.2137297360858,
                44.4826455458222
               ],
               [
                -73.2138724097646,
                44.4847454638392
               ],
               [
                -73.2139582119828,
                44.4858858894763
               ],
               [
                -73.2140785225923,
                44.4876005166688
               ],
               [
                -73.214874100426,
                44.4882779506408
               ],
               [
                -73.2183194212876,
                44.4912102604646
               ],
               [
                -73.2281133568395,
                44.4995435895372
               ]
              ]
             ],
             "type": "Polygon"
            },
            "properties": {
             "COLOR": "rgba(179,205,227,0.5)",
             "DISTRICT": "Central",
             "OBJECTID": 3,
             "Shape__Are": 3333771.27412415,
             "Shape__Len": 8348.21372518335,
             "WARD": 2
            },
            "type": "Feature"
           },
           "sourcetype": "geojson",
           "type": "fill"
          },
          {
           "below": "road_major_label",
           "color": "rgba(204,235,197,0.5)",
           "source": {
            "geometry": {
             "coordinates": [
              [
               [
                -73.2261234491214,
                44.4892195624994
               ],
               [
                -73.22606354948,
                44.4892998133683
               ],
               [
                -73.2257531625519,
                44.4896155013204
               ],
               [
                -73.2255046993235,
                44.4898242074752
               ],
               [
                -73.2253774283734,
                44.4899210570168
               ],
               [
                -73.2252173531356,
                44.4900340041349
               ],
               [
                -73.2250560227022,
                44.4901407718786
               ],
               [
                -73.2248266748922,
                44.490275391475
               ],
               [
                -73.2245745718303,
                44.4904126856159
               ],
               [
                -73.2243382689596,
                44.4905251305282
               ],
               [
                -73.2241006676775,
                44.4906280212752
               ],
               [
                -73.2238715223007,
                44.4907158126673
               ],
               [
                -73.2236939290097,
                44.4907786688815
               ],
               [
                -73.2234829731553,
                44.4908442668049
               ],
               [
                -73.2232523439392,
                44.49090745828
               ],
               [
                -73.2230016239896,
                44.4909664171434
               ],
               [
                -73.2228558508372,
                44.4909972908888
               ],
               [
                -73.2227044906972,
                44.4910211694383
               ],
               [
                -73.2224660894584,
                44.4910596591414
               ],
               [
                -73.2222158153913,
                44.4910911939621
               ],
               [
                -73.2220352842885,
                44.4911072402814
               ],
               [
                -73.2217683484059,
                44.4911258014675
               ],
               [
                -73.2214950589896,
                44.4911389179072
               ],
               [
                -73.2212193481735,
                44.4911468464069
               ],
               [
                -73.2204958746971,
                44.4911654743127
               ],
               [
                -73.2198949088663,
                44.4911781229369
               ],
               [
                -73.2193226191308,
                44.4911904474043
               ],
               [
                -73.2185755192468,
                44.4912048526159
               ],
               [
                -73.2183194212876,
                44.4912102604646
               ],
               [
                -73.214874100426,
                44.4882779506408
               ],
               [
                -73.2140785225923,
                44.4876005166688
               ],
               [
                -73.2139582119828,
                44.4858858894763
               ],
               [
                -73.2138724097646,
                44.4847454638392
               ],
               [
                -73.2137297360858,
                44.4826455458222
               ],
               [
                -73.2136834627807,
                44.4822332666908
               ],
               [
                -73.2135624172147,
                44.480424147771
               ],
               [
                -73.2112256015957,
                44.4804935644603
               ],
               [
                -73.2112181409485,
                44.4804937513108
               ],
               [
                -73.2111075618213,
                44.4782461220179
               ],
               [
                -73.2110545677629,
                44.4771493608458
               ],
               [
                -73.2109906893559,
                44.4759969839105
               ],
               [
                -73.2109841076837,
                44.4758755321086
               ],
               [
                -73.2108051749407,
                44.474822442138
               ],
               [
                -73.2122817663048,
                44.4747686677251
               ],
               [
                -73.2125444312804,
                44.4747923403231
               ],
               [
                -73.2139190040674,
                44.4747471960899
               ],
               [
                -73.2154874556752,
                44.4746897119755
               ],
               [
                -73.2170069160105,
                44.474641092181
               ],
               [
                -73.2185914489818,
                44.474582199154
               ],
               [
                -73.2194124216757,
                44.4745555167572
               ],
               [
                -73.2218321404921,
                44.4744765495371
               ],
               [
                -73.2225510286867,
                44.4744531616562
               ],
               [
                -73.2225534972005,
                44.4745577648374
               ],
               [
                -73.2226313695041,
                44.4752025617631
               ],
               [
                -73.2226677050568,
                44.4756960371104
               ],
               [
                -73.2226733973355,
                44.4761572236369
               ],
               [
                -73.2229023003448,
                44.4764042448268
               ],
               [
                -73.223132583086,
                44.4766355068507
               ],
               [
                -73.2231410417557,
                44.4767161676791
               ],
               [
                -73.2231646409459,
                44.4769412856116
               ],
               [
                -73.2231052498484,
                44.4773483248518
               ],
               [
                -73.2228656839796,
                44.4778924809882
               ],
               [
                -73.2228312696276,
                44.4781910876244
               ],
               [
                -73.2229485244929,
                44.4784617350076
               ],
               [
                -73.2233301742234,
                44.4787034289306
               ],
               [
                -73.224268055065,
                44.4788508981671
               ],
               [
                -73.2245948969179,
                44.4790116585753
               ],
               [
                -73.2247699517453,
                44.4792861562793
               ],
               [
                -73.2250321500043,
                44.4799678884874
               ],
               [
                -73.2253854139929,
                44.4809288689728
               ],
               [
                -73.2255804550751,
                44.4813888521779
               ],
               [
                -73.2256448394224,
                44.4817343596967
               ],
               [
                -73.2256014928961,
                44.4820403348734
               ],
               [
                -73.2256337857895,
                44.4824905244971
               ],
               [
                -73.2257581207539,
                44.4827917786442
               ],
               [
                -73.2257650034854,
                44.4828083281
               ],
               [
                -73.2259295567779,
                44.482899807499
               ],
               [
                -73.225157473842,
                44.4832036632744
               ],
               [
                -73.2238662177888,
                44.4837117452474
               ],
               [
                -73.2238705897499,
                44.4837157960899
               ],
               [
                -73.2240076786612,
                44.4838419031108
               ],
               [
                -73.2241470602019,
                44.4839626533536
               ],
               [
                -73.2243308500312,
                44.4841165871553
               ],
               [
                -73.2244962890347,
                44.4842477172634
               ],
               [
                -73.2247045761372,
                44.4844128856609
               ],
               [
                -73.2248846373948,
                44.4845509536871
               ],
               [
                -73.2250912608669,
                44.4847083978011
               ],
               [
                -73.2254608154832,
                44.4849844715203
               ],
               [
                -73.2256297942112,
                44.4851155774814
               ],
               [
                -73.2257218467876,
                44.4851890976691
               ],
               [
                -73.2258119557936,
                44.4852643175298
               ],
               [
                -73.2260213004771,
                44.4854507091747
               ],
               [
                -73.2261446482527,
                44.4855767614477
               ],
               [
                -73.2262299140289,
                44.4856731037744
               ],
               [
                -73.2263376283302,
                44.4858055827528
               ],
               [
                -73.2264315046609,
                44.4859309779816
               ],
               [
                -73.2265079901624,
                44.4860477650905
               ],
               [
                -73.2265814176489,
                44.4861714624775
               ],
               [
                -73.2266297174898,
                44.486264664863
               ],
               [
                -73.226682184923,
                44.486377105828
               ],
               [
                -73.2267303547807,
                44.4864914019
               ],
               [
                -73.226782015381,
                44.4866337981097
               ],
               [
                -73.2268218821552,
                44.4867754269985
               ],
               [
                -73.2268556598888,
                44.486932983145
               ],
               [
                -73.2268766711406,
                44.4870747311045
               ],
               [
                -73.2268854930431,
                44.4872473518409
               ],
               [
                -73.2268865689033,
                44.4873972424722
               ],
               [
                -73.2268817597127,
                44.4874844552145
               ],
               [
                -73.2268722579351,
                44.4875735256078
               ],
               [
                -73.2268510510337,
                44.4877322758053
               ],
               [
                -73.2268268955489,
                44.4878435168872
               ],
               [
                -73.2267890024267,
                44.4879873270808
               ],
               [
                -73.2267558015936,
                44.488097781555
               ],
               [
                -73.2266969571979,
                44.4882629583183
               ],
               [
                -73.2266200982463,
                44.4884643878276
               ],
               [
                -73.2265312335867,
                44.4886481764446
               ],
               [
                -73.2264109862949,
                44.4888358201659
               ],
               [
                -73.2262830549679,
                44.4890057954136
               ],
               [
                -73.2261234491214,
                44.4892195624994
               ]
              ]
             ],
             "type": "Polygon"
            },
            "properties": {
             "COLOR": "rgba(204,235,197,0.5)",
             "DISTRICT": "Central",
             "OBJECTID": 4,
             "Shape__Are": 1679803.15373993,
             "Shape__Len": 5726.76878332311,
             "WARD": 3
            },
            "type": "Feature"
           },
           "sourcetype": "geojson",
           "type": "fill"
          },
          {
           "below": "road_major_label",
           "color": "rgba(222,203,228,0.5)",
           "source": {
            "geometry": {
             "coordinates": [
              [
               [
                -73.2707399912007,
                44.5252956469716
               ],
               [
                -73.2702152544711,
                44.5253910094937
               ],
               [
                -73.2687385357995,
                44.5256477381728
               ],
               [
                -73.2686152664302,
                44.5255710894249
               ],
               [
                -73.2686729882973,
                44.5255361091099
               ],
               [
                -73.2687447206469,
                44.5254903485908
               ],
               [
                -73.2687820906859,
                44.5254622547466
               ],
               [
                -73.2688225203015,
                44.5254276724354
               ],
               [
                -73.2688609628789,
                44.5253914161018
               ],
               [
                -73.268899200696,
                44.5253396938896
               ],
               [
                -73.268933438566,
                44.5252826547595
               ],
               [
                -73.2689590938597,
                44.5252307355592
               ],
               [
                -73.2689735038408,
                44.525190562472
               ],
               [
                -73.2689820218991,
                44.5251507116348
               ],
               [
                -73.2689910714163,
                44.5250915922326
               ],
               [
                -73.2689924772385,
                44.5250191656074
               ],
               [
                -73.2689870647124,
                44.5249663306574
               ],
               [
                -73.2689762674399,
                44.5249225313489
               ],
               [
                -73.2688236257832,
                44.524973758471
               ],
               [
                -73.2687085059319,
                44.524799185727
               ],
               [
                -73.2685945875826,
                44.5246262930607
               ],
               [
                -73.2684333244631,
                44.5246795458492
               ],
               [
                -73.2683174208516,
                44.5244751684057
               ],
               [
                -73.268201518047,
                44.5242707899317
               ],
               [
                -73.2680880317966,
                44.5240707543841
               ],
               [
                -73.2679793814578,
                44.5238796855863
               ],
               [
                -73.2678731401519,
                44.5236923973236
               ],
               [
                -73.2677713261103,
                44.5235129527586
               ],
               [
                -73.2676695158135,
                44.5233336493623
               ],
               [
                -73.2675692993254,
                44.5231560225434
               ],
               [
                -73.2675489483034,
                44.5231629088574
               ],
               [
                -73.26745537836,
                44.5229824249552
               ],
               [
                -73.2674753424319,
                44.5229759633293
               ],
               [
                -73.2673665055182,
                44.5228003633159
               ],
               [
                -73.2673179187644,
                44.5227225075608
               ],
               [
                -73.2672683398916,
                44.5226290499073
               ],
               [
                -73.2671707376985,
                44.5224407183774
               ],
               [
                -73.267082559176,
                44.5222814310928
               ],
               [
                -73.267215689819,
                44.5222415856835
               ],
               [
                -73.2668121625028,
                44.5218961317955
               ],
               [
                -73.266699484584,
                44.5217869274121
               ],
               [
                -73.2663775252501,
                44.5214860617033
               ],
               [
                -73.2650800910097,
                44.5222196335766
               ],
               [
                -73.2647081320755,
                44.5216720369273
               ],
               [
                -73.2646345840969,
                44.5215788789898
               ],
               [
                -73.2645947448085,
                44.5215383676653
               ],
               [
                -73.2645081108472,
                44.5214665304151
               ],
               [
                -73.2599935590733,
                44.5181199201832
               ],
               [
                -73.240455159557,
                44.5036845491799
               ],
               [
                -73.2369813706866,
                44.5011348703684
               ],
               [
                -73.2359487994008,
                44.500363500506
               ],
               [
                -73.2335821568972,
                44.4986169469586
               ],
               [
                -73.2334159166757,
                44.4984894919674
               ],
               [
                -73.2333198567138,
                44.49841220703
               ],
               [
                -73.2332379892278,
                44.4983386286544
               ],
               [
                -73.2331822246419,
                44.4982785212879
               ],
               [
                -73.2331017370869,
                44.4981896061264
               ],
               [
                -73.2329551634061,
                44.4980007156031
               ],
               [
                -73.2323312734635,
                44.4971291010902
               ],
               [
                -73.2319835993554,
                44.4966634998462
               ],
               [
                -73.2318383290328,
                44.4964840200897
               ],
               [
                -73.2316166290559,
                44.496225441485
               ],
               [
                -73.2314457800031,
                44.4960112522638
               ],
               [
                -73.2306311826111,
                44.4949673294569
               ],
               [
                -73.2261234491214,
                44.4892195624994
               ],
               [
                -73.2262830549679,
                44.4890057954136
               ],
               [
                -73.2264109862949,
                44.4888358201659
               ],
               [
                -73.2265312335867,
                44.4886481764446
               ],
               [
                -73.2266200982463,
                44.4884643878276
               ],
               [
                -73.2266969571979,
                44.4882629583183
               ],
               [
                -73.2267558015936,
                44.488097781555
               ],
               [
                -73.2267890024267,
                44.4879873270808
               ],
               [
                -73.2268268955489,
                44.4878435168872
               ],
               [
                -73.2268510510337,
                44.4877322758053
               ],
               [
                -73.2268722579351,
                44.4875735256078
               ],
               [
                -73.2268817597127,
                44.4874844552145
               ],
               [
                -73.2268865689033,
                44.4873972424722
               ],
               [
                -73.2268854930431,
                44.4872473518409
               ],
               [
                -73.2268766711406,
                44.4870747311045
               ],
               [
                -73.2268556598888,
                44.486932983145
               ],
               [
                -73.2268218821552,
                44.4867754269985
               ],
               [
                -73.226782015381,
                44.4866337981097
               ],
               [
                -73.2267303547807,
                44.4864914019
               ],
               [
                -73.226682184923,
                44.486377105828
               ],
               [
                -73.2266297174898,
                44.486264664863
               ],
               [
                -73.2265814176489,
                44.4861714624775
               ],
               [
                -73.2265079901624,
                44.4860477650905
               ],
               [
                -73.2264315046609,
                44.4859309779816
               ],
               [
                -73.2263376283302,
                44.4858055827528
               ],
               [
                -73.2262299140289,
                44.4856731037744
               ],
               [
                -73.2261446482527,
                44.4855767614477
               ],
               [
                -73.2260213004771,
                44.4854507091747
               ],
               [
                -73.2258119557936,
                44.4852643175298
               ],
               [
                -73.2257218467876,
                44.4851890976691
               ],
               [
                -73.2256297942112,
                44.4851155774814
               ],
               [
                -73.2254608154832,
                44.4849844715203
               ],
               [
                -73.2250912608669,
                44.4847083978011
               ],
               [
                -73.2248846373948,
                44.4845509536871
               ],
               [
                -73.2247045761372,
                44.4844128856609
               ],
               [
                -73.2244962890347,
                44.4842477172634
               ],
               [
                -73.2243308500312,
                44.4841165871553
               ],
               [
                -73.2241470602019,
                44.4839626533536
               ],
               [
                -73.2240076786612,
                44.4838419031108
               ],
               [
                -73.2238705897499,
                44.4837157960899
               ],
               [
                -73.2238662177888,
                44.4837117452474
               ],
               [
                -73.225157473842,
                44.4832036632744
               ],
               [
                -73.2259295567779,
                44.482899807499
               ],
               [
                -73.2270600824285,
                44.4835282026417
               ],
               [
                -73.2279610164973,
                44.4841723934418
               ],
               [
                -73.2286247721734,
                44.4846653805345
               ],
               [
                -73.2287311049935,
                44.4849390440644
               ],
               [
                -73.2286064355855,
                44.4852437121746
               ],
               [
                -73.2285363079526,
                44.4854801133908
               ],
               [
                -73.2285688731672,
                44.4856345836888
               ],
               [
                -73.2288184341503,
                44.4858318234596
               ],
               [
                -73.2290967109304,
                44.4858743408392
               ],
               [
                -73.2295989687694,
                44.4856689275409
               ],
               [
                -73.2299938386611,
                44.4856416558925
               ],
               [
                -73.2303547661853,
                44.4857592939741
               ],
               [
                -73.2305851154689,
                44.4859905410532
               ],
               [
                -73.2306232135988,
                44.4862730770993
               ],
               [
                -73.2303099680452,
                44.4866398389437
               ],
               [
                -73.2302504998296,
                44.4868169737314
               ],
               [
                -73.2303979900295,
                44.4869563661823
               ],
               [
                -73.2307295157742,
                44.4871726225214
               ],
               [
                -73.2310208543173,
                44.4873795732067
               ],
               [
                -73.2312925035139,
                44.4875825715639
               ],
               [
                -73.2317454555915,
                44.487895073095
               ],
               [
                -73.2319965146046,
                44.4882419120113
               ],
               [
                -73.2320759916333,
                44.4883141010186
               ],
               [
                -73.2324805230322,
                44.4886807653235
               ],
               [
                -73.2335058072145,
                44.4892044495037
               ],
               [
                -73.2342817898114,
                44.489552973047
               ],
               [
                -73.2350268445897,
                44.4898469899308
               ],
               [
                -73.2354185387901,
                44.4900338787969
               ],
               [
                -73.2358001607565,
                44.4902007228509
               ],
               [
                -73.2361734618278,
                44.4903618533167
               ],
               [
                -73.236582106445,
                44.4904902729392
               ],
               [
                -73.2370434564201,
                44.490654348746
               ],
               [
                -73.2374720619823,
                44.4907764492445
               ],
               [
                -73.237996266941,
                44.4909084768826
               ],
               [
                -73.2384291096608,
                44.4910235160409
               ],
               [
                -73.2389240947848,
                44.4911436348822
               ],
               [
                -73.2393521094767,
                44.4912494206505
               ],
               [
                -73.2399827236835,
                44.4914067640412
               ],
               [
                -73.2409043764534,
                44.4915873868362
               ],
               [
                -73.2416546559786,
                44.4917308666489
               ],
               [
                -73.2420322205012,
                44.4917923948371
               ],
               [
                -73.2424120907103,
                44.4918496878515
               ],
               [
                -73.243196039551,
                44.4919523016972
               ],
               [
                -73.2439109165967,
                44.4920917790041
               ],
               [
                -73.2440894108592,
                44.4920702271186
               ],
               [
                -73.244437373757,
                44.4920281649795
               ],
               [
                -73.2446198811909,
                44.4918280030484
               ],
               [
                -73.2446263631308,
                44.4915963665292
               ],
               [
                -73.2446109854008,
                44.4911906478695
               ],
               [
                -73.2446771999263,
                44.4908675016427
               ],
               [
                -73.2450225515021,
                44.4903739366085
               ],
               [
                -73.2450914851804,
                44.4900794580783
               ],
               [
                -73.2455497590367,
                44.4897229586012
               ],
               [
                -73.2461973225123,
                44.4895148355277
               ],
               [
                -73.2464544627426,
                44.4892531559245
               ],
               [
                -73.2465938408413,
                44.4887530565977
               ],
               [
                -73.2468995113471,
                44.4882925084771
               ],
               [
                -73.2472558223356,
                44.4879522765411
               ],
               [
                -73.2478111788457,
                44.4876630505484
               ],
               [
                -73.2482692586825,
                44.4875399635027
               ],
               [
                -73.2486960583373,
                44.4875208549781
               ],
               [
                -73.2491350763646,
                44.4876889656665
               ],
               [
                -73.2493987921489,
                44.4878810053396
               ],
               [
                -73.2497211650593,
                44.4881130155743
               ],
               [
                -73.2499906460786,
                44.4889692865369
               ],
               [
                -73.2500871196256,
                44.4893235685006
               ],
               [
                -73.2500760769455,
                44.4897494271233
               ],
               [
                -73.2499633714586,
                44.4900599451292
               ],
               [
                -73.2497325751156,
                44.4904757163765
               ],
               [
                -73.2494579033658,
                44.4911777880423
               ],
               [
                -73.2494754150811,
                44.4918702078527
               ],
               [
                -73.2494448967794,
                44.4923710018552
               ],
               [
                -73.2493869958804,
                44.492789152761
               ],
               [
                -73.2491734423398,
                44.4930798010756
               ],
               [
                -73.2488700181327,
                44.4935015301076
               ],
               [
                -73.2483761157944,
                44.4939299908427
               ],
               [
                -73.2481728103699,
                44.4945003966978
               ],
               [
                -73.2478481574212,
                44.4949838523026
               ],
               [
                -73.2478751302953,
                44.4953419656218
               ],
               [
                -73.248323719316,
                44.4959467697701
               ],
               [
                -73.2485050718382,
                44.4963321348743
               ],
               [
                -73.2485121565363,
                44.4966709737253
               ],
               [
                -73.2482409930655,
                44.4971897957353
               ],
               [
                -73.2480144298419,
                44.4974172501074
               ],
               [
                -73.2475990687508,
                44.4979067821676
               ],
               [
                -73.2474494568267,
                44.4982833471595
               ],
               [
                -73.2475804165848,
                44.4985381304805
               ],
               [
                -73.2476078205742,
                44.498591665987
               ],
               [
                -73.248008694285,
                44.4988434154419
               ],
               [
                -73.2483578709828,
                44.4991082985167
               ],
               [
                -73.2488940392239,
                44.4993996565699
               ],
               [
                -73.2493501927319,
                44.4996407740414
               ],
               [
                -73.2498433657766,
                44.4998573193875
               ],
               [
                -73.2501260875687,
                44.5000561221381
               ],
               [
                -73.2504067499519,
                44.500186176703
               ],
               [
                -73.2508127483893,
                44.5003149837187
               ],
               [
                -73.2511969323783,
                44.5004584173445
               ],
               [
                -73.2516555730713,
                44.500647059653
               ],
               [
                -73.2517794993193,
                44.5006889912539
               ],
               [
                -73.2520040694141,
                44.5007651328573
               ],
               [
                -73.2523739301432,
                44.5008944539283
               ],
               [
                -73.2527350354702,
                44.5010149724704
               ],
               [
                -73.2531182750674,
                44.5011454691652
               ],
               [
                -73.2535470763825,
                44.5013046304131
               ],
               [
                -73.2539317838804,
                44.501426676826
               ],
               [
                -73.2542921629376,
                44.5015514141553
               ],
               [
                -73.2547418690614,
                44.5016551709817
               ],
               [
                -73.2553780920928,
                44.5018393902379
               ],
               [
                -73.2558065369251,
                44.5019396270187
               ],
               [
                -73.2561743472745,
                44.5020307026746
               ],
               [
                -73.256559379034,
                44.502146691359
               ],
               [
                -73.2569474344206,
                44.5022228650589
               ],
               [
                -73.2571661980656,
                44.5022745682423
               ],
               [
                -73.2577479977682,
                44.502412310172
               ],
               [
                -73.2581712672897,
                44.5025068073758
               ],
               [
                -73.2586277338389,
                44.5025853335188
               ],
               [
                -73.2592472933135,
                44.5027858120275
               ],
               [
                -73.2598891979274,
                44.5029515483236
               ],
               [
                -73.2605416403341,
                44.5030812122518
               ],
               [
                -73.2611266027358,
                44.5032494293186
               ],
               [
                -73.2617157342484,
                44.503314965493
               ],
               [
                -73.2622748299235,
                44.5033372499
               ],
               [
                -73.2631311876641,
                44.503433195728
               ],
               [
                -73.2638889805476,
                44.5035344354221
               ],
               [
                -73.2642754303479,
                44.503576566331
               ],
               [
                -73.2646825894327,
                44.503609556957
               ],
               [
                -73.2651319105345,
                44.5036512640003
               ],
               [
                -73.2658804276949,
                44.5037338509216
               ],
               [
                -73.266272992197,
                44.5037625744258
               ],
               [
                -73.2666722180061,
                44.503789847055
               ],
               [
                -73.2670704677726,
                44.5038024998876
               ],
               [
                -73.2674625345448,
                44.5038232077622
               ],
               [
                -73.2679033801056,
                44.5038177139015
               ],
               [
                -73.2683140824664,
                44.5038209984689
               ],
               [
                -73.2690684869362,
                44.5037830163641
               ],
               [
                -73.2697863618974,
                44.5036866388785
               ],
               [
                -73.2706717932807,
                44.5035421610857
               ],
               [
                -73.2710402956398,
                44.5033849963678
               ],
               [
                -73.2712255733181,
                44.5031012482041
               ],
               [
                -73.2712645687656,
                44.5026015170375
               ],
               [
                -73.2713321571141,
                44.5022437556738
               ],
               [
                -73.2712329272562,
                44.5017812363541
               ],
               [
                -73.2711211934244,
                44.5012345730367
               ],
               [
                -73.2709790095215,
                44.5008520729168
               ],
               [
                -73.2709837734369,
                44.5005575913101
               ],
               [
                -73.2711387003584,
                44.5001778657825
               ],
               [
                -73.2713913731249,
                44.49958233871
               ],
               [
                -73.2716884299296,
                44.4988367543781
               ],
               [
                -73.2720251817397,
                44.4983604616158
               ],
               [
                -73.27222176259,
                44.498100961542
               ],
               [
                -73.2724081918824,
                44.4978167813469
               ],
               [
                -73.2725991443637,
                44.4975777077702
               ],
               [
                -73.2727988526992,
                44.4973174826573
               ],
               [
                -73.2730767273407,
                44.4971148023288
               ],
               [
                -73.2732988389622,
                44.496914748751
               ],
               [
                -73.2736115614599,
                44.4967624529464
               ],
               [
                -73.2736366284645,
                44.4967563768247
               ],
               [
                -73.273873183936,
                44.4966979653004
               ],
               [
                -73.2741883881365,
                44.4967335141966
               ],
               [
                -73.2744523306883,
                44.4968443588865
               ],
               [
                -73.2745774000803,
                44.4970313738213
               ],
               [
                -73.2746519781283,
                44.4973815640584
               ],
               [
                -73.2746039874367,
                44.4977930509438
               ],
               [
                -73.2744907786096,
                44.4982349310556
               ],
               [
                -73.2743667315767,
                44.4987190702207
               ],
               [
                -73.2744071219187,
                44.4990987404448
               ],
               [
                -73.274282824065,
                44.4995938487477
               ],
               [
                -73.2736834719447,
                44.5000609587775
               ],
               [
                -73.2736168325331,
                44.5005189751191
               ],
               [
                -73.2734176479433,
                44.5009085646865
               ],
               [
                -73.2733195778762,
                44.501218583935
               ],
               [
                -73.2736866453707,
                44.5015487948746
               ],
               [
                -73.2741996463875,
                44.5020381781704
               ],
               [
                -73.2746422668219,
                44.5021677770787
               ],
               [
                -73.2753044733541,
                44.502498653391
               ],
               [
                -73.2756063659559,
                44.5027724916569
               ],
               [
                -73.2758638834034,
                44.5030781294439
               ],
               [
                -73.2760724116032,
                44.5034527192059
               ],
               [
                -73.2760120059609,
                44.5037869523063
               ],
               [
                -73.2759283669582,
                44.5041473560213
               ],
               [
                -73.2763264168344,
                44.5042630500664
               ],
               [
                -73.2766875508984,
                44.5043805398746
               ],
               [
                -73.2769181563517,
                44.5046116909424
               ],
               [
                -73.2769564913748,
                44.5048942089494
               ],
               [
                -73.2774251374286,
                44.5051466590733
               ],
               [
                -73.2776259678362,
                44.5055025965722
               ],
               [
                -73.2777243890261,
                44.5058112813231
               ],
               [
                -73.2777635738966,
                44.5063346679537
               ],
               [
                -73.2775086733887,
                44.5067894682536
               ],
               [
                -73.2771858603757,
                44.5069544981193
               ],
               [
                -73.2767846119038,
                44.507043284768
               ],
               [
                -73.2762350406223,
                44.5076232654294
               ],
               [
                -73.2755144650747,
                44.5082598068648
               ],
               [
                -73.2753141613885,
                44.5087734304076
               ],
               [
                -73.2749519997188,
                44.5096776571973
               ],
               [
                -73.2749130188645,
                44.5101764043714
               ],
               [
                -73.2746163246906,
                44.5104460090797
               ],
               [
                -73.2742115529109,
                44.5108942243995
               ],
               [
                -73.274108758205,
                44.5113529064327
               ],
               [
                -73.2742153534489,
                44.5116265254031
               ],
               [
                -73.2741187284873,
                44.511898287495
               ],
               [
                -73.273820523854,
                44.5122625344485
               ],
               [
                -73.2734741054839,
                44.5125477998767
               ],
               [
                -73.2731160984409,
                44.5126701688636
               ],
               [
                -73.2722740325928,
                44.512685849886
               ],
               [
                -73.2716090928247,
                44.512870191926
               ],
               [
                -73.2714317224295,
                44.5131894623767
               ],
               [
                -73.2712055102711,
                44.5139777350894
               ],
               [
                -73.2713268225253,
                44.514265177532
               ],
               [
                -73.2712967312154,
                44.5145464716911
               ],
               [
                -73.2710728879474,
                44.5149784074632
               ],
               [
                -73.2707949222577,
                44.515181082929
               ],
               [
                -73.2704126979549,
                44.5152570637266
               ],
               [
                -73.2699442952368,
                44.5153552786092
               ],
               [
                -73.2697799007995,
                44.5156463357561
               ],
               [
                -73.2695321578843,
                44.5160853203538
               ],
               [
                -73.2696677850239,
                44.5162960327149
               ],
               [
                -73.2697568633521,
                44.5164342202114
               ],
               [
                -73.269807380857,
                44.5167184857175
               ],
               [
                -73.2698541469124,
                44.5170164159631
               ],
               [
                -73.2698855692417,
                44.5173131842921
               ],
               [
                -73.269902439232,
                44.5176092074541
               ],
               [
                -73.269906616247,
                44.5178965975492
               ],
               [
                -73.2699003457582,
                44.5182561936222
               ],
               [
                -73.2699060423212,
                44.518778260589
               ],
               [
                -73.2698646538146,
                44.5194262152674
               ],
               [
                -73.2699623634048,
                44.5198909935599
               ],
               [
                -73.2701352941723,
                44.5204261356455
               ],
               [
                -73.2702729600849,
                44.5210292914886
               ],
               [
                -73.2703836067063,
                44.5215506503053
               ],
               [
                -73.2706563717986,
                44.5223525681642
               ],
               [
                -73.2708059147574,
                44.5228122152497
               ],
               [
                -73.2709736699607,
                44.5230729084624
               ],
               [
                -73.2711164222383,
                44.523345301151
               ],
               [
                -73.2714186264459,
                44.5238743655194
               ],
               [
                -73.2718053927238,
                44.524168028504
               ],
               [
                -73.2722793345886,
                44.5245731718781
               ],
               [
                -73.2725765576189,
                44.5249619321238
               ],
               [
                -73.2718929937719,
                44.5250860776611
               ],
               [
                -73.2707399912007,
                44.5252956469716
               ]
              ]
             ],
             "type": "Polygon"
            },
            "properties": {
             "COLOR": "rgba(222,203,228,0.5)",
             "DISTRICT": "North",
             "OBJECTID": 2,
             "Shape__Are": 5941918.4756012,
             "Shape__Len": 17320.6427558326,
             "WARD": 4
            },
            "type": "Feature"
           },
           "sourcetype": "geojson",
           "type": "fill"
          },
          {
           "below": "road_major_label",
           "color": "rgba(254,217,166,0.5)",
           "source": {
            "geometry": {
             "coordinates": [
              [
               [
                -73.2139190040674,
                44.4747471960899
               ],
               [
                -73.2137389604974,
                44.4722214398187
               ],
               [
                -73.2137206042604,
                44.4720366433079
               ],
               [
                -73.2136979127126,
                44.4719150105673
               ],
               [
                -73.2136581988396,
                44.4717501751301
               ],
               [
                -73.2136217428434,
                44.4716592832737
               ],
               [
                -73.2135516073152,
                44.4715119330524
               ],
               [
                -73.2134656142252,
                44.4713846498724
               ],
               [
                -73.2133276616201,
                44.4712156465223
               ],
               [
                -73.2124790636138,
                44.4702916074269
               ],
               [
                -73.2099667437596,
                44.4675785822594
               ],
               [
                -73.2095879392946,
                44.4671721638471
               ],
               [
                -73.2092085658486,
                44.4667507005524
               ],
               [
                -73.20886105798,
                44.4663658802669
               ],
               [
                -73.2086564283823,
                44.4661369605159
               ],
               [
                -73.2084939834935,
                44.4659539010508
               ],
               [
                -73.2083044898223,
                44.465742322353
               ],
               [
                -73.2081575785216,
                44.4655770246322
               ],
               [
                -73.2080504318655,
                44.4654525394414
               ],
               [
                -73.2079811235326,
                44.4653718333659
               ],
               [
                -73.2078595414072,
                44.4652225485065
               ],
               [
                -73.2078174659334,
                44.4651530632878
               ],
               [
                -73.207786073554,
                44.4650901210689
               ],
               [
                -73.2077495323883,
                44.464991072427
               ],
               [
                -73.2077248279232,
                44.4648965896589
               ],
               [
                -73.2077142074904,
                44.4647976611648
               ],
               [
                -73.2077158497251,
                44.4646410041996
               ],
               [
                -73.2077861034278,
                44.4636950606534
               ],
               [
                -73.2077803213935,
                44.4635415427884
               ],
               [
                -73.2077532674968,
                44.4633175665818
               ],
               [
                -73.2077504217925,
                44.4632446046958
               ],
               [
                -73.207759186777,
                44.4631899910053
               ],
               [
                -73.2077821295682,
                44.4631061815208
               ],
               [
                -73.2078472721292,
                44.4628424024832
               ],
               [
                -73.2078640343337,
                44.4627672086912
               ],
               [
                -73.2078846118399,
                44.4626502282366
               ],
               [
                -73.207923329633,
                44.4622796036218
               ],
               [
                -73.2084784453252,
                44.4562270970792
               ],
               [
                -73.2085552081798,
                44.455236676294
               ],
               [
                -73.2083803758922,
                44.4552280584204
               ],
               [
                -73.2087687402409,
                44.4511083776562
               ],
               [
                -73.2092543861436,
                44.4459155997923
               ],
               [
                -73.2096315335229,
                44.4459374433271
               ],
               [
                -73.2134364139489,
                44.4461575705871
               ],
               [
                -73.217464216296,
                44.4463698424876
               ],
               [
                -73.217958028954,
                44.4463965502944
               ],
               [
                -73.2193632275238,
                44.4464703914787
               ],
               [
                -73.2195915263061,
                44.4464869523605
               ],
               [
                -73.2196039459573,
                44.446347381701
               ],
               [
                -73.2206677593733,
                44.4464028275308
               ],
               [
                -73.2207864332711,
                44.4464119214257
               ],
               [
                -73.2209609180741,
                44.4464261472139
               ],
               [
                -73.2233910207924,
                44.4465511182333
               ],
               [
                -73.2269960517983,
                44.4467307173312
               ],
               [
                -73.2273555020476,
                44.4467490997632
               ],
               [
                -73.2282833789265,
                44.4467953553
               ],
               [
                -73.2287728457275,
                44.4468192317035
               ],
               [
                -73.2294249557968,
                44.4468519110704
               ],
               [
                -73.2299199315936,
                44.4468767319201
               ],
               [
                -73.2305076189191,
                44.4469063006915
               ],
               [
                -73.2306639706449,
                44.4469143000745
               ],
               [
                -73.2314940266462,
                44.4469549690101
               ],
               [
                -73.2321527733127,
                44.4469843549708
               ],
               [
                -73.2320806468484,
                44.4476533124902
               ],
               [
                -73.2320551813194,
                44.4478461209775
               ],
               [
                -73.2318766420232,
                44.4484509359278
               ],
               [
                -73.2315915383735,
                44.4490426513366
               ],
               [
                -73.2315647233023,
                44.449253327832
               ],
               [
                -73.231624525112,
                44.4494835570946
               ],
               [
                -73.2318151035776,
                44.4495908926671
               ],
               [
                -73.2321008557799,
                44.4497111171601
               ],
               [
                -73.2327202145819,
                44.4497906716433
               ],
               [
                -73.2329364574091,
                44.4499093717543
               ],
               [
                -73.2330901995214,
                44.4500847186372
               ],
               [
                -73.2332627865961,
                44.4502599452225
               ],
               [
                -73.2332798392628,
                44.4504617621045
               ],
               [
                -73.2331854337178,
                44.4507928182315
               ],
               [
                -73.2329809755133,
                44.45161660047
               ],
               [
                -73.2327887986151,
                44.4519472999773
               ],
               [
                -73.2326804337158,
                44.4521357193819
               ],
               [
                -73.2326646373842,
                44.4523482935271
               ],
               [
                -73.2326585025429,
                44.4526426444409
               ],
               [
                -73.2325342782332,
                44.4529445024186
               ],
               [
                -73.2324112034924,
                44.4532442442913
               ],
               [
                -73.2322423439926,
                44.4535248739401
               ],
               [
                -73.2321215521496,
                44.4540075426337
               ],
               [
                -73.2319872391646,
                44.4542565934674
               ],
               [
                -73.2316781784454,
                44.4544725926501
               ],
               [
                -73.2311380975922,
                44.4545197834147
               ],
               [
                -73.2306975976966,
                44.454492088732
               ],
               [
                -73.2303012219295,
                44.4545706975671
               ],
               [
                -73.2298374809215,
                44.4550097153906
               ],
               [
                -73.2292356705942,
                44.455366227205
               ],
               [
                -73.2285770825631,
                44.4558306699005
               ],
               [
                -73.2282751357826,
                44.4561152364887
               ],
               [
                -73.2277140086386,
                44.4563662992093
               ],
               [
                -73.2271192125672,
                44.4566573683784
               ],
               [
                -73.2267948445471,
                44.4568129868151
               ],
               [
                -73.2264263473724,
                44.4569566510962
               ],
               [
                -73.2259767529997,
                44.4570201159362
               ],
               [
                -73.2256776705544,
                44.4571253694913
               ],
               [
                -73.2249209090953,
                44.4582594711452
               ],
               [
                -73.2249090423113,
                44.4583159336788
               ],
               [
                -73.2248163378643,
                44.4587574971059
               ],
               [
                -73.224453328848,
                44.4592193367311
               ],
               [
                -73.2240231628544,
                44.4594902213623
               ],
               [
                -73.2235847114225,
                44.4597582041209
               ],
               [
                -73.2231523844464,
                44.4599182920302
               ],
               [
                -73.2227657454983,
                44.4599623620553
               ],
               [
                -73.2226607528862,
                44.4602369483665
               ],
               [
                -73.222348064277,
                44.4607054940853
               ],
               [
                -73.222284037934,
                44.4608950286423
               ],
               [
                -73.2220915757953,
                44.4614647603194
               ],
               [
                -73.2221234093353,
                44.4617854465462
               ],
               [
                -73.2220919554606,
                44.462068988832
               ],
               [
                -73.221812613953,
                44.4626316754054
               ],
               [
                -73.2214913750496,
                44.4631726905758
               ],
               [
                -73.2207380456992,
                44.4640560214995
               ],
               [
                -73.2205617239115,
                44.4643117905973
               ],
               [
                -73.220210930421,
                44.4648143185953
               ],
               [
                -73.2200282365278,
                44.4652868183247
               ],
               [
                -73.220007671771,
                44.4653710364179
               ],
               [
                -73.2199377639768,
                44.4656581951529
               ],
               [
                -73.2197409338005,
                44.4660033850266
               ],
               [
                -73.2197076861735,
                44.4663658235922
               ],
               [
                -73.2197003052161,
                44.4666600405743
               ],
               [
                -73.2196844609633,
                44.4669367330894
               ],
               [
                -73.2196988574914,
                44.4672773572145
               ],
               [
                -73.2196699123664,
                44.4677982439711
               ],
               [
                -73.2196758744505,
                44.4680916739426
               ],
               [
                -73.2196798063212,
                44.4683796324109
               ],
               [
                -73.2201894343728,
                44.4690705045509
               ],
               [
                -73.2205039947958,
                44.4695154003144
               ],
               [
                -73.2205563589213,
                44.4698131775464
               ],
               [
                -73.220722838335,
                44.4700648152451
               ],
               [
                -73.2211241918616,
                44.4701895407087
               ],
               [
                -73.2214850075319,
                44.4703072078728
               ],
               [
                -73.2217144529446,
                44.4705367917962
               ],
               [
                -73.2218909069837,
                44.4708960767115
               ],
               [
                -73.2218613638529,
                44.4711758095342
               ],
               [
                -73.2215243687469,
                44.4720674808713
               ],
               [
                -73.2214719361243,
                44.4724341184254
               ],
               [
                -73.2215131340035,
                44.4727813222913
               ],
               [
                -73.2215809871518,
                44.4729011211312
               ],
               [
                -73.2216512502413,
                44.473025122752
               ],
               [
                -73.2222910523722,
                44.4738197811739
               ],
               [
                -73.2225435443575,
                44.4741331654658
               ],
               [
                -73.2225510286867,
                44.4744531616562
               ],
               [
                -73.2218321404921,
                44.4744765495371
               ],
               [
                -73.2194124216757,
                44.4745555167572
               ],
               [
                -73.2185914489818,
                44.474582199154
               ],
               [
                -73.2170069160105,
                44.474641092181
               ],
               [
                -73.2154874556752,
                44.4746897119755
               ],
               [
                -73.2139190040674,
                44.4747471960899
               ]
              ]
             ],
             "type": "Polygon"
            },
            "properties": {
             "COLOR": "rgba(254,217,166,0.5)",
             "DISTRICT": "South",
             "OBJECTID": 8,
             "Shape__Are": 3945828.28310394,
             "Shape__Len": 9586.5616136336,
             "WARD": 5
            },
            "type": "Feature"
           },
           "sourcetype": "geojson",
           "type": "fill"
          },
          {
           "below": "road_major_label",
           "color": "rgba(255,255,204,0.5)",
           "source": {
            "geometry": {
             "coordinates": [
              [
               [
                -73.2109906893559,
                44.4759969839105
               ],
               [
                -73.2007023529722,
                44.4763547369941
               ],
               [
                -73.1992185105388,
                44.476397719214
               ],
               [
                -73.1991757861112,
                44.4756815387582
               ],
               [
                -73.1991691954024,
                44.4755572739848
               ],
               [
                -73.1991543023503,
                44.4753297065638
               ],
               [
                -73.1991161436687,
                44.4746011246361
               ],
               [
                -73.1983657941845,
                44.4745562181207
               ],
               [
                -73.1984689120685,
                44.4744421096644
               ],
               [
                -73.1985712457306,
                44.4743281463011
               ],
               [
                -73.1986790120362,
                44.474208666235
               ],
               [
                -73.1986668345637,
                44.4742086003365
               ],
               [
                -73.1984448995983,
                44.474108432052
               ],
               [
                -73.1983284044046,
                44.4740558513449
               ],
               [
                -73.1981791364991,
                44.4739888458258
               ],
               [
                -73.1981017123795,
                44.4739519146006
               ],
               [
                -73.1980176211179,
                44.4739158682197
               ],
               [
                -73.1978150139295,
                44.4738223310824
               ],
               [
                -73.1975306430528,
                44.4736902010755
               ],
               [
                -73.1964381972715,
                44.4731826326634
               ],
               [
                -73.1964710210226,
                44.4731354660766
               ],
               [
                -73.1965125840264,
                44.4730634985433
               ],
               [
                -73.1965513916807,
                44.4729909844314
               ],
               [
                -73.1965988402071,
                44.4728855137417
               ],
               [
                -73.1966238794309,
                44.4728112557851
               ],
               [
                -73.1966441572325,
                44.4727329492046
               ],
               [
                -73.1966581645693,
                44.472655805801
               ],
               [
                -73.1966720196514,
                44.4725658678763
               ],
               [
                -73.1966803359864,
                44.4725056331888
               ],
               [
                -73.1966834135415,
                44.4724341811177
               ],
               [
                -73.1966768329207,
                44.4723432420084
               ],
               [
                -73.1966690981718,
                44.4722542790213
               ],
               [
                -73.1966529983105,
                44.4721555234349
               ],
               [
                -73.1966251198625,
                44.4720571213704
               ],
               [
                -73.1965930144795,
                44.4719666187154
               ],
               [
                -73.1965645982961,
                44.4718890311906
               ],
               [
                -73.1965206773091,
                44.4717956487465
               ],
               [
                -73.1964550084746,
                44.4716900237277
               ],
               [
                -73.1962827808765,
                44.4714750864884
               ],
               [
                -73.1962364987642,
                44.4714143414097
               ],
               [
                -73.1961801087188,
                44.4713293305505
               ],
               [
                -73.196143252288,
                44.4712685270783
               ],
               [
                -73.1961125542268,
                44.4711971404772
               ],
               [
                -73.1960860498447,
                44.4711150414341
               ],
               [
                -73.1960704192639,
                44.4710556555798
               ],
               [
                -73.1960640069032,
                44.4709787770642
               ],
               [
                -73.1960632765612,
                44.4709173322132
               ],
               [
                -73.1960710374328,
                44.4708433209447
               ],
               [
                -73.196083894712,
                44.4707685748554
               ],
               [
                -73.1960990661109,
                44.4706901590736
               ],
               [
                -73.1961175468082,
                44.4706259251882
               ],
               [
                -73.196144330435,
                44.4705662808204
               ],
               [
                -73.1961765135047,
                44.4704983069193
               ],
               [
                -73.1962162491237,
                44.4704378807259
               ],
               [
                -73.1962726721456,
                44.4703606200667
               ],
               [
                -73.1963671285885,
                44.4702450192185
               ],
               [
                -73.1966036694905,
                44.4699897636878
               ],
               [
                -73.1967579258227,
                44.4698168481885
               ],
               [
                -73.1978802569728,
                44.4698052153609
               ],
               [
                -73.1981708531277,
                44.4698021731247
               ],
               [
                -73.198207129119,
                44.4703742621385
               ],
               [
                -73.198221501982,
                44.4704267644987
               ],
               [
                -73.1982435553939,
                44.4704647370486
               ],
               [
                -73.1982745331088,
                44.4704935151675
               ],
               [
                -73.1983184159939,
                44.4705175733455
               ],
               [
                -73.1983921546587,
                44.4705422930983
               ],
               [
                -73.1984819134723,
                44.4705600239347
               ],
               [
                -73.1986279061793,
                44.470583598776
               ],
               [
                -73.1987058096156,
                44.4705952148155
               ],
               [
                -73.1987656948012,
                44.4706108792103
               ],
               [
                -73.1988221086339,
                44.4706319078008
               ],
               [
                -73.199111858158,
                44.4707550022683
               ],
               [
                -73.1991666572839,
                44.4707722436941
               ],
               [
                -73.1992166333709,
                44.4707803747555
               ],
               [
                -73.1992677227913,
                44.4707830146996
               ],
               [
                -73.1993321295862,
                44.4707826203516
               ],
               [
                -73.1993992222718,
                44.4707768665325
               ],
               [
                -73.1994642515945,
                44.4707628277962
               ],
               [
                -73.1995276176208,
                44.4707410659628
               ],
               [
                -73.1995952122339,
                44.4707116853371
               ],
               [
                -73.1998342939572,
                44.4706043364221
               ],
               [
                -73.1998894685702,
                44.4705872647081
               ],
               [
                -73.1999321839941,
                44.4705794091871
               ],
               [
                -73.1999714378092,
                44.4705776225114
               ],
               [
                -73.2000063991787,
                44.4705781110989
               ],
               [
                -73.2004374661499,
                44.4705964199687
               ],
               [
                -73.2003709845684,
                44.4689783288329
               ],
               [
                -73.2003703287808,
                44.4689234918474
               ],
               [
                -73.200376131128,
                44.468850335523
               ],
               [
                -73.200382835338,
                44.4687870172941
               ],
               [
                -73.2003964834503,
                44.4687131090955
               ],
               [
                -73.2009027009288,
                44.4670375074336
               ],
               [
                -73.2000866747275,
                44.466944220892
               ],
               [
                -73.1999883387634,
                44.4669313243957
               ],
               [
                -73.1999088019621,
                44.4669140945574
               ],
               [
                -73.1998402187476,
                44.4668932814497
               ],
               [
                -73.1997782734359,
                44.4668691932179
               ],
               [
                -73.1992894019694,
                44.4666450918962
               ],
               [
                -73.1991481720635,
                44.4665919596342
               ],
               [
                -73.1990335293017,
                44.4665618660344
               ],
               [
                -73.1989508668071,
                44.466545919985
               ],
               [
                -73.198878518466,
                44.4665386285593
               ],
               [
                -73.1988027019362,
                44.4665368425907
               ],
               [
                -73.1987112299925,
                44.4665396520863
               ],
               [
                -73.1986060612672,
                44.4665464825607
               ],
               [
                -73.1985095670416,
                44.4665562126161
               ],
               [
                -73.1984315368374,
                44.4665663921486
               ],
               [
                -73.1983798367544,
                44.4665780989325
               ],
               [
                -73.198333298058,
                44.4665945537584
               ],
               [
                -73.1982728129512,
                44.4666269842127
               ],
               [
                -73.1981905701572,
                44.4666792340043
               ],
               [
                -73.1981134714588,
                44.4667346867067
               ],
               [
                -73.1980556036963,
                44.4667890372782
               ],
               [
                -73.1979865396568,
                44.4668596274084
               ],
               [
                -73.1979351177699,
                44.4669277185278
               ],
               [
                -73.1978856967523,
                44.4669988914183
               ],
               [
                -73.1973239406353,
                44.4679753911808
               ],
               [
                -73.197299121853,
                44.4680348834636
               ],
               [
                -73.1972848753302,
                44.468091779643
               ],
               [
                -73.1972844632849,
                44.4681561842189
               ],
               [
                -73.1972983694404,
                44.4682026437163
               ],
               [
                -73.1967437412109,
                44.4683275214485
               ],
               [
                -73.1966109315546,
                44.4683550492083
               ],
               [
                -73.1964871116275,
                44.4683790058977
               ],
               [
                -73.1963534598785,
                44.4684018974628
               ],
               [
                -73.1962472437371,
                44.468419981496
               ],
               [
                -73.196172829636,
                44.4684373091219
               ],
               [
                -73.1960518880362,
                44.4684722163571
               ],
               [
                -73.1959595712559,
                44.4685032925545
               ],
               [
                -73.1958845787094,
                44.4685380600035
               ],
               [
                -73.1958023156578,
                44.4685889024643
               ],
               [
                -73.1956217983695,
                44.4687331495333
               ],
               [
                -73.1955766964672,
                44.4687715316035
               ],
               [
                -73.1955419983667,
                44.4687931166719
               ],
               [
                -73.1955052738536,
                44.4688093701805
               ],
               [
                -73.195460284647,
                44.4688241278924
               ],
               [
                -73.1953924885058,
                44.4688366341891
               ],
               [
                -73.1952564184987,
                44.4688543365953
               ],
               [
                -73.1942030249391,
                44.4689483477236
               ],
               [
                -73.1941253761969,
                44.4689579604248
               ],
               [
                -73.1940403464885,
                44.4689743666326
               ],
               [
                -73.1939757915201,
                44.4689952885013
               ],
               [
                -73.1939015026132,
                44.4690233007632
               ],
               [
                -73.1938443830762,
                44.4690419284142
               ],
               [
                -73.1937735008415,
                44.4690590926273
               ],
               [
                -73.1937001894092,
                44.4690702248027
               ],
               [
                -73.1935773640096,
                44.4690788452868
               ],
               [
                -73.1933607726427,
                44.4690959094496
               ],
               [
                -73.1930971303824,
                44.4691195862689
               ],
               [
                -73.192899849268,
                44.4691422974368
               ],
               [
                -73.1928579060344,
                44.4691490207105
               ],
               [
                -73.1920388053296,
                44.4647086650401
               ],
               [
                -73.1911641976955,
                44.4602123900488
               ],
               [
                -73.1907258327129,
                44.4579698091702
               ],
               [
                -73.1899787114897,
                44.45414588344
               ],
               [
                -73.1989975286409,
                44.4546920411039
               ],
               [
                -73.1991908570378,
                44.4547043570042
               ],
               [
                -73.1996246499034,
                44.4547305277959
               ],
               [
                -73.1999334935348,
                44.454749305585
               ],
               [
                -73.1999943921942,
                44.4547525888616
               ],
               [
                -73.2014085516241,
                44.4548384077359
               ],
               [
                -73.2014659175105,
                44.4548417110232
               ],
               [
                -73.2017892985934,
                44.4548612395603
               ],
               [
                -73.2019232895624,
                44.4548694156699
               ],
               [
                -73.2021747584998,
                44.4548840402407
               ],
               [
                -73.2025566744036,
                44.454906019067
               ],
               [
                -73.2029409563896,
                44.4549288244066
               ],
               [
                -73.2033193386516,
                44.4549508224301
               ],
               [
                -73.2036985076637,
                44.4549728134525
               ],
               [
                -73.2040796377204,
                44.4549946507347
               ],
               [
                -73.2044623503544,
                44.4550174615287
               ],
               [
                -73.2048426974065,
                44.4550394414856
               ],
               [
                -73.205223829965,
                44.4550614153255
               ],
               [
                -73.2057098878653,
                44.4550907554762
               ],
               [
                -73.207009909884,
                44.4551528827197
               ],
               [
                -73.2082023997452,
                44.4552193193811
               ],
               [
                -73.2083803758922,
                44.4552280584204
               ],
               [
                -73.2085552081798,
                44.455236676294
               ],
               [
                -73.2084784453252,
                44.4562270970792
               ],
               [
                -73.207923329633,
                44.4622796036218
               ],
               [
                -73.2078846118399,
                44.4626502282366
               ],
               [
                -73.2078640343337,
                44.4627672086912
               ],
               [
                -73.2078472721292,
                44.4628424024832
               ],
               [
                -73.2077821295682,
                44.4631061815208
               ],
               [
                -73.207759186777,
                44.4631899910053
               ],
               [
                -73.2077504217925,
                44.4632446046958
               ],
               [
                -73.2077532674968,
                44.4633175665818
               ],
               [
                -73.2077803213935,
                44.4635415427884
               ],
               [
                -73.2077861034278,
                44.4636950606534
               ],
               [
                -73.2077158497251,
                44.4646410041996
               ],
               [
                -73.2077142074904,
                44.4647976611648
               ],
               [
                -73.2077248279232,
                44.4648965896589
               ],
               [
                -73.2077495323883,
                44.464991072427
               ],
               [
                -73.207786073554,
                44.4650901210689
               ],
               [
                -73.2078174659334,
                44.4651530632878
               ],
               [
                -73.2078595414072,
                44.4652225485065
               ],
               [
                -73.2079811235326,
                44.4653718333659
               ],
               [
                -73.2080504318655,
                44.4654525394414
               ],
               [
                -73.2081575785216,
                44.4655770246322
               ],
               [
                -73.2083044898223,
                44.465742322353
               ],
               [
                -73.2084939834935,
                44.4659539010508
               ],
               [
                -73.2086564283823,
                44.4661369605159
               ],
               [
                -73.20886105798,
                44.4663658802669
               ],
               [
                -73.2092085658486,
                44.4667507005524
               ],
               [
                -73.2095879392946,
                44.4671721638471
               ],
               [
                -73.2099667437596,
                44.4675785822594
               ],
               [
                -73.2124790636138,
                44.4702916074269
               ],
               [
                -73.2133276616201,
                44.4712156465223
               ],
               [
                -73.2134656142252,
                44.4713846498724
               ],
               [
                -73.2135516073152,
                44.4715119330524
               ],
               [
                -73.2136217428434,
                44.4716592832737
               ],
               [
                -73.2136581988396,
                44.4717501751301
               ],
               [
                -73.2136979127126,
                44.4719150105673
               ],
               [
                -73.2137206042604,
                44.4720366433079
               ],
               [
                -73.2137389604974,
                44.4722214398187
               ],
               [
                -73.2139190040674,
                44.4747471960899
               ],
               [
                -73.2125444312804,
                44.4747923403231
               ],
               [
                -73.2122817663048,
                44.4747686677251
               ],
               [
                -73.2108051749407,
                44.474822442138
               ],
               [
                -73.2109841076837,
                44.4758755321086
               ],
               [
                -73.2109906893559,
                44.4759969839105
               ]
              ]
             ],
             "type": "Polygon"
            },
            "properties": {
             "COLOR": "rgba(255,255,204,0.5)",
             "DISTRICT": "South",
             "OBJECTID": 7,
             "Shape__Are": 3020282.76257324,
             "Shape__Len": 9281.90557654939,
             "WARD": 6
            },
            "type": "Feature"
           },
           "sourcetype": "geojson",
           "type": "fill"
          },
          {
           "below": "road_major_label",
           "color": "rgba(229,216,189,0.5)",
           "source": {
            "geometry": {
             "coordinates": [
              [
               [
                -73.2707399912007,
                44.5252956469716
               ],
               [
                -73.2718929937719,
                44.5250860776611
               ],
               [
                -73.2725765576189,
                44.5249619321238
               ],
               [
                -73.2725885600772,
                44.5249777402473
               ],
               [
                -73.2729751031789,
                44.5254616540278
               ],
               [
                -73.2733005606759,
                44.5257553056194
               ],
               [
                -73.2734742344123,
                44.5260160962375
               ],
               [
                -73.2735649844184,
                44.5261897042793
               ],
               [
                -73.2736113665569,
                44.5262782590289
               ],
               [
                -73.2738775243169,
                44.5266651167358
               ],
               [
                -73.2738713428651,
                44.5269999635705
               ],
               [
                -73.2739958237059,
                44.5273454558653
               ],
               [
                -73.2741197359068,
                44.5278260829729
               ],
               [
                -73.2744975654214,
                44.5285399566918
               ],
               [
                -73.2749927960093,
                44.5292715927932
               ],
               [
                -73.2756829037737,
                44.5300816332366
               ],
               [
                -73.2751480260725,
                44.5302450037349
               ],
               [
                -73.2746331886455,
                44.5303781436814
               ],
               [
                -73.2742264212234,
                44.5304782076789
               ],
               [
                -73.2736211620922,
                44.5306119568975
               ],
               [
                -73.2731916398801,
                44.5306861577398
               ],
               [
                -73.272983715794,
                44.5307200466499
               ],
               [
                -73.2727755330258,
                44.5307343920845
               ],
               [
                -73.2724941947203,
                44.5307168909183
               ],
               [
                -73.2721766888933,
                44.5306994923073
               ],
               [
                -73.2718956592274,
                44.5306755188273
               ],
               [
                -73.2715604124378,
                44.530684252906
               ],
               [
                -73.2712530615566,
                44.5307511522833
               ],
               [
                -73.2710007811128,
                44.5308500210363
               ],
               [
                -73.2707306232567,
                44.530994568322
               ],
               [
                -73.2704975355908,
                44.5311776755914
               ],
               [
                -73.2703364398253,
                44.5313342832196
               ],
               [
                -73.2701674977664,
                44.5315817805293
               ],
               [
                -73.2700432501572,
                44.5317900251408
               ],
               [
                -73.2699913903332,
                44.5319719092914
               ],
               [
                -73.2699762095225,
                44.5321923559387
               ],
               [
                -73.2700111293158,
                44.5324255417914
               ],
               [
                -73.2700812254321,
                44.5326130715016
               ],
               [
                -73.2701789266858,
                44.532806883757
               ],
               [
                -73.2704276103381,
                44.5330905145005
               ],
               [
                -73.2707482067477,
                44.5333411779616
               ],
               [
                -73.2712795629063,
                44.5337718105408
               ],
               [
                -73.2723876017319,
                44.5346395111751
               ],
               [
                -73.2731115843093,
                44.5352440382748
               ],
               [
                -73.2735612880192,
                44.5356818219263
               ],
               [
                -73.2738559849227,
                44.5360233485043
               ],
               [
                -73.2741061966464,
                44.5364495440085
               ],
               [
                -73.2742830380299,
                44.5367983369508
               ],
               [
                -73.2743729208537,
                44.5370830353912
               ],
               [
                -73.2743979569407,
                44.5372513220859
               ],
               [
                -73.2743775593216,
                44.5374329947182
               ],
               [
                -73.2743209902495,
                44.5376149125863
               ],
               [
                -73.2742156549119,
                44.5378555156065
               ],
               [
                -73.2739978947089,
                44.5381875778942
               ],
               [
                -73.2737031545686,
                44.5385266291191
               ],
               [
                -73.2735332626072,
                44.538702846371
               ],
               [
                -73.2733361555274,
                44.5388727780069
               ],
               [
                -73.2731027007917,
                44.539029879274
               ],
               [
                -73.2728689037897,
                44.5391611083048
               ],
               [
                -73.2725624526891,
                44.5392992970903
               ],
               [
                -73.2722737443763,
                44.5394114919049
               ],
               [
                -73.2716691591161,
                44.5396035815102
               ],
               [
                -73.2713167159482,
                44.5396837222182
               ],
               [
                -73.2709461013645,
                44.5397575166605
               ],
               [
                -73.2704753604484,
                44.5398125800938
               ],
               [
                -73.270050058508,
                44.5398543986376
               ],
               [
                -73.2693257119386,
                44.5399110266018
               ],
               [
                -73.2686050944798,
                44.5399224876702
               ],
               [
                -73.2679072806842,
                44.5399336495771
               ],
               [
                -73.2672184242092,
                44.5399382792052
               ],
               [
                -73.2665632000916,
                44.539898948338
               ],
               [
                -73.2659479221836,
                44.5398171603996
               ],
               [
                -73.2654120240509,
                44.5397013712434
               ],
               [
                -73.2648928173621,
                44.5395389239732
               ],
               [
                -73.2644024469885,
                44.5393561731584
               ],
               [
                -73.2640105034887,
                44.5391827457288
               ],
               [
                -73.2636797164502,
                44.5389648957349
               ],
               [
                -73.2632862468978,
                44.5386742025857
               ],
               [
                -73.2629327647795,
                44.5383139179351
               ],
               [
                -73.2627482123806,
                44.5380623251468
               ],
               [
                -73.2625902812421,
                44.5377716032387
               ],
               [
                -73.2624966374379,
                44.5375258708141
               ],
               [
                -73.2624266918133,
                44.5372279529588
               ],
               [
                -73.2623790937616,
                44.536744273005
               ],
               [
                -73.2623914362645,
                44.5364245726464
               ],
               [
                -73.2624729057939,
                44.5360689757706
               ],
               [
                -73.2625720729033,
                44.5358042379768
               ],
               [
                -73.2627314252191,
                44.5354512139105
               ],
               [
                -73.2629517322551,
                44.5350390057281
               ],
               [
                -73.2631728038518,
                44.5346855686772
               ],
               [
                -73.2633533578675,
                44.5343910392055
               ],
               [
                -73.263552523175,
                44.5340765575905
               ],
               [
                -73.2637553581722,
                44.5337723166556
               ],
               [
                -73.263996670421,
                44.5334039782043
               ],
               [
                -73.264237788404,
                44.5330210165378
               ],
               [
                -73.2645593321804,
                44.5325348663964
               ],
               [
                -73.2649215726051,
                44.5320044304027
               ],
               [
                -73.2653737776119,
                44.531349087361
               ],
               [
                -73.266029074242,
                44.5304716131132
               ],
               [
                -73.2664027423336,
                44.5299150819856
               ],
               [
                -73.2666153741374,
                44.5295507270593
               ],
               [
                -73.2667827943758,
                44.5291865348785
               ],
               [
                -73.2668877733061,
                44.5288875842635
               ],
               [
                -73.2669614200425,
                44.5286277950698
               ],
               [
                -73.2670533886541,
                44.5280567012607
               ],
               [
                -73.267058177048,
                44.5277325509688
               ],
               [
                -73.2670144837792,
                44.5274288335871
               ],
               [
                -73.2669134551962,
                44.5270398675662
               ],
               [
                -73.2667694541305,
                44.5266414868088
               ],
               [
                -73.2665890942953,
                44.5262583950647
               ],
               [
                -73.2663177707792,
                44.5258934909926
               ],
               [
                -73.2659462696156,
                44.525503526199
               ],
               [
                -73.2655423400199,
                44.5251584918913
               ],
               [
                -73.2647913199625,
                44.5246352316308
               ],
               [
                -73.2643225890171,
                44.5243540455556
               ],
               [
                -73.2637927820489,
                44.5240916859619
               ],
               [
                -73.2629271578157,
                44.5237307466373
               ],
               [
                -73.2622048377079,
                44.5235059447257
               ],
               [
                -73.2616093556836,
                44.5233608649081
               ],
               [
                -73.26090117727,
                44.523255342726
               ],
               [
                -73.2602077724961,
                44.5232276183265
               ],
               [
                -73.2591430332574,
                44.5232719634423
               ],
               [
                -73.2585281764152,
                44.5233294825902
               ],
               [
                -73.2580670159221,
                44.5234167733745
               ],
               [
                -73.2576337901423,
                44.5235363593813
               ],
               [
                -73.2574306242688,
                44.5236025304489
               ],
               [
                -73.2572058092054,
                44.523727200326
               ],
               [
                -73.2570671611479,
                44.5238577664684
               ],
               [
                -73.2569334238111,
                44.5240337198054
               ],
               [
                -73.2567461963261,
                44.5242683821477
               ],
               [
                -73.2566260449812,
                44.5244311671815
               ],
               [
                -73.2565274620775,
                44.5245291261196
               ],
               [
                -73.2564064720308,
                44.5246270920855
               ],
               [
                -73.2561450099421,
                44.5247455347017
               ],
               [
                -73.2559556803258,
                44.5248180802855
               ],
               [
                -73.2556939393767,
                44.5248846359469
               ],
               [
                -73.255404264059,
                44.5249190346793
               ],
               [
                -73.2551326443179,
                44.5249208309109
               ],
               [
                -73.2548151732657,
                44.5249033837719
               ],
               [
                -73.254343116144,
                44.5248482874202
               ],
               [
                -73.2538375972632,
                44.5247591007227
               ],
               [
                -73.2534887134133,
                44.5246528478924
               ],
               [
                -73.2531166172793,
                44.5245145463543
               ],
               [
                -73.2525593836399,
                44.5242248952571
               ],
               [
                -73.2521066487878,
                44.5239294920559
               ],
               [
                -73.2519372808548,
                44.523781554904
               ],
               [
                -73.2518131161817,
                44.5236331786524
               ],
               [
                -73.2515904353281,
                44.5232521702519
               ],
               [
                -73.2514047297621,
                44.5229034005282
               ],
               [
                -73.2512709452439,
                44.5227098092217
               ],
               [
                -73.2511420677666,
                44.5225614641129
               ],
               [
                -73.250991703167,
                44.5224846928113
               ],
               [
                -73.2507871174327,
                44.5224406188725
               ],
               [
                -73.2506147880838,
                44.5224288149748
               ],
               [
                -73.2504703904528,
                44.5224493096819
               ],
               [
                -73.2503261814156,
                44.522515080702
               ],
               [
                -73.2501686290731,
                44.5226132811939
               ],
               [
                -73.2500568399467,
                44.5227242579451
               ],
               [
                -73.2499680973664,
                44.5228544877345
               ],
               [
                -73.2499112978992,
                44.5230233184834
               ],
               [
                -73.2499227496463,
                44.5232112459415
               ],
               [
                -73.2500026205227,
                44.5234312065056
               ],
               [
                -73.2501413684436,
                44.5236441711567
               ],
               [
                -73.2502396543259,
                44.5238898838267
               ],
               [
                -73.2502792283822,
                44.5241553874955
               ],
               [
                -73.2502559344298,
                44.5244537856346
               ],
               [
                -73.2501860417114,
                44.5246745893523
               ],
               [
                -73.2501342919969,
                44.524869400618
               ],
               [
                -73.2500369228773,
                44.5250321694596
               ],
               [
                -73.2498772015899,
                44.5252989809593
               ],
               [
                -73.2496761841967,
                44.5255337222081
               ],
               [
                -73.2494266316664,
                44.5258465425775
               ],
               [
                -73.2491761018754,
                44.5261139488991
               ],
               [
                -73.2488897989395,
                44.526381590136
               ],
               [
                -73.2486026854507,
                44.5266168939688
               ],
               [
                -73.2482566033468,
                44.5268524421368
               ],
               [
                -73.2477815932635,
                44.5271204726067
               ],
               [
                -73.2473564839046,
                44.5273251788789
               ],
               [
                -73.2469015499808,
                44.5275035025339
               ],
               [
                -73.2463098859806,
                44.5276884829341
               ],
               [
                -73.2458455079117,
                44.5278665824049
               ],
               [
                -73.2451470601742,
                44.528156309432
               ],
               [
                -73.2445482276905,
                44.5284584607101
               ],
               [
                -73.2439718594852,
                44.5287344479895
               ],
               [
                -73.2434308280647,
                44.5289455192822
               ],
               [
                -73.2431148233616,
                44.5290447403583
               ],
               [
                -73.2427894465482,
                44.5291181491935
               ],
               [
                -73.2425090126072,
                44.529139518483
               ],
               [
                -73.2422821038735,
                44.5291345247085
               ],
               [
                -73.2420643008597,
                44.5291034586098
               ],
               [
                -73.2418188801064,
                44.5290337607537
               ],
               [
                -73.2415906551044,
                44.5289250004927
               ],
               [
                -73.2412621360478,
                44.5287197253457
               ],
               [
                -73.2410058035435,
                44.5285333862779
               ],
               [
                -73.2408409375272,
                44.5283983401851
               ],
               [
                -73.2407215919427,
                44.5282565298739
               ],
               [
                -73.2406377712751,
                44.5280949442047
               ],
               [
                -73.2406033010066,
                44.5278877598671
               ],
               [
                -73.2405899895065,
                44.527550791396
               ],
               [
                -73.2406026504619,
                44.5271228165047
               ],
               [
                -73.2405373421264,
                44.5265915734592
               ],
               [
                -73.240399334405,
                44.526093424421
               ],
               [
                -73.2402952012872,
                44.5257245621719
               ],
               [
                -73.2401825394266,
                44.5254270473194
               ],
               [
                -73.2400489498002,
                44.5252463782983
               ],
               [
                -73.2399067305688,
                44.5250982474103
               ],
               [
                -73.239719161058,
                44.5249698145572
               ],
               [
                -73.2392719248252,
                44.5247004789027
               ],
               [
                -73.2388696687395,
                44.5244437871163
               ],
               [
                -73.2382214290167,
                44.524039491379
               ],
               [
                -73.2376684204381,
                44.5236735271388
               ],
               [
                -73.2374348383738,
                44.5234805641781
               ],
               [
                -73.2372103653479,
                44.5232616695889
               ],
               [
                -73.2370218272805,
                44.5230554783819
               ],
               [
                -73.2369063341537,
                44.5228746888241
               ],
               [
                -73.236808513564,
                44.5226613036311
               ],
               [
                -73.2367470207525,
                44.5224607601228
               ],
               [
                -73.2366891022658,
                44.5221694976494
               ],
               [
                -73.2366679168304,
                44.5219232759461
               ],
               [
                -73.236696012975,
                44.5216573309633
               ],
               [
                -73.2367383405934,
                44.5213977629221
               ],
               [
                -73.2368298654541,
                44.5211118638187
               ],
               [
                -73.2369309200925,
                44.5208648534143
               ],
               [
                -73.2371655203452,
                44.5204225095068
               ],
               [
                -73.2373965590689,
                44.5200409348962
               ],
               [
                -73.2375782885404,
                44.5197392653037
               ],
               [
                -73.2377830862004,
                44.5194591025372
               ],
               [
                -73.2379259940509,
                44.5192897213817
               ],
               [
                -73.2380961193901,
                44.5191589749459
               ],
               [
                -73.2382715979484,
                44.5190475981487
               ],
               [
                -73.2384962726138,
                44.5189100297156
               ],
               [
                -73.2387398272534,
                44.5188046798507
               ],
               [
                -73.2389110792592,
                44.5187322796933
               ],
               [
                -73.2390631790496,
                44.5186684410509
               ],
               [
                -73.2391989498097,
                44.5185878331231
               ],
               [
                -73.2393293575455,
                44.5184872927873
               ],
               [
                -73.2394861424888,
                44.5182967279309
               ],
               [
                -73.2395751612422,
                44.5180627296345
               ],
               [
                -73.2395983164281,
                44.5179045277584
               ],
               [
                -73.2395799946364,
                44.5177612184932
               ],
               [
                -73.2395186595414,
                44.5175113198841
               ],
               [
                -73.239458384866,
                44.5173452212706
               ],
               [
                -73.2393382499442,
                44.5171390128448
               ],
               [
                -73.2391820720739,
                44.5169420369659
               ],
               [
                -73.2389766530659,
                44.5167675963034
               ],
               [
                -73.2387391823124,
                44.5166071433714
               ],
               [
                -73.2385294030249,
                44.5164917895631
               ],
               [
                -73.2382829907373,
                44.5163702034094
               ],
               [
                -73.2380097732969,
                44.5162423211666
               ],
               [
                -73.2376636835285,
                44.5161019732225
               ],
               [
                -73.2374134414679,
                44.5160192198375
               ],
               [
                -73.2371316109063,
                44.5159562146853
               ],
               [
                -73.2368456213402,
                44.5159061732091
               ],
               [
                -73.2363741268018,
                44.5158574676111
               ],
               [
                -73.2359653521919,
                44.5157952788867
               ],
               [
                -73.2357383178383,
                44.5157448547144
               ],
               [
                -73.2355292001794,
                44.5156813771651
               ],
               [
                -73.2353651184803,
                44.5156046735265
               ],
               [
                -73.2352191131842,
                44.515527712896
               ],
               [
                -73.2349908591731,
                44.5153801294396
               ],
               [
                -73.2347070814431,
                44.51516161035
               ],
               [
                -73.23446393293,
                44.5149232834707
               ],
               [
                -73.2342430935326,
                44.5146458632242
               ],
               [
                -73.2340125667426,
                44.5143167573237
               ],
               [
                -73.2337618688668,
                44.5140087320468
               ],
               [
                -73.2334782490364,
                44.5137079488734
               ],
               [
                -73.2332173560523,
                44.5134013944489
               ],
               [
                -73.233043024233,
                44.5132274471713
               ],
               [
                -73.2328603039533,
                44.5131054404247
               ],
               [
                -73.23260527281,
                44.5129838972471
               ],
               [
                -73.2323868983136,
                44.5129334108346
               ],
               [
                -73.2321511640597,
                44.5129090489752
               ],
               [
                -73.2319247125874,
                44.5129040316599
               ],
               [
                -73.2316620360994,
                44.5129251201622
               ],
               [
                -73.2314004007409,
                44.5129980883697
               ],
               [
                -73.2311476552093,
                44.5130905439768
               ],
               [
                -73.2308777080256,
                44.5132219199431
               ],
               [
                -73.2303826142059,
                44.5134843825588
               ],
               [
                -73.2299869350264,
                44.5137137251871
               ],
               [
                -73.2298075392948,
                44.5138575968399
               ],
               [
                -73.2296554195295,
                44.5140140893059
               ],
               [
                -73.2295129042395,
                44.5142159393116
               ],
               [
                -73.2293531997574,
                44.5144891912842
               ],
               [
                -73.2292023729989,
                44.5147495909871
               ],
               [
                -73.2289894592385,
                44.5150428683365
               ],
               [
                -73.2287869540051,
                44.5153199078304
               ],
               [
                -73.2285393216625,
                44.5155715019337
               ],
               [
                -73.2282730563207,
                44.515810418957
               ],
               [
                -73.2279052098021,
                44.5160672787624
               ],
               [
                -73.227567894173,
                44.5162509622365
               ],
               [
                -73.2272344146784,
                44.5163956708747
               ],
               [
                -73.2269003718954,
                44.516495103435
               ],
               [
                -73.2265523284307,
                44.5165750782851
               ],
               [
                -73.225955818332,
                44.516682646247
               ],
               [
                -73.2252139555232,
                44.5167651195821
               ],
               [
                -73.2245437653988,
                44.5167952464871
               ],
               [
                -73.2239547644489,
                44.5167795761613
               ],
               [
                -73.2234377596392,
                44.516737434009
               ],
               [
                -73.2229338699586,
                44.5166750973381
               ],
               [
                -73.222235200931,
                44.5165635100047
               ],
               [
                -73.2215270931363,
                44.516451274271
               ],
               [
                -73.220822243186,
                44.5163480138836
               ],
               [
                -73.220374547156,
                44.5163159659026
               ],
               [
                -73.2201391238443,
                44.5163174505816
               ],
               [
                -73.2199490574273,
                44.5163315855064
               ],
               [
                -73.2196050050683,
                44.5163532996005
               ],
               [
                -73.2194237386674,
                44.5163479727949
               ],
               [
                -73.2192422331401,
                44.5163231023072
               ],
               [
                -73.2190238520428,
                44.5162402483627
               ],
               [
                -73.2188231527696,
                44.5161248011727
               ],
               [
                -73.2187403677951,
                44.5160410931784
               ],
               [
                -73.2186480585607,
                44.5158860122985
               ],
               [
                -73.2186097542673,
                44.5157436694851
               ],
               [
                -73.2186163249855,
                44.5155426876813
               ],
               [
                -73.2186687234562,
                44.5153608238203
               ],
               [
                -73.2187304865807,
                44.5152372558282
               ],
               [
                -73.2188189458978,
                44.5151431890151
               ],
               [
                -73.2190628135778,
                44.5149657443535
               ],
               [
                -73.2193883358459,
                44.5147803315619
               ],
               [
                -73.2198169164417,
                44.5146015803674
               ],
               [
                -73.2203377051852,
                44.5144102930196
               ],
               [
                -73.2209242042474,
                44.5142250582015
               ],
               [
                -73.2215469382856,
                44.5140461997128
               ],
               [
                -73.2221650513171,
                44.5138753819133
               ],
               [
                -73.2227680841877,
                44.5137249048605
               ],
               [
                -73.223348951781,
                44.5135939704242
               ],
               [
                -73.2238465657226,
                44.5135324619606
               ],
               [
                -73.2243532972908,
                44.5134773622748
               ],
               [
                -73.2248873064466,
                44.5134350238595
               ],
               [
                -73.2254084386014,
                44.5134002171442
               ],
               [
                -73.2258688902728,
                44.5133532782514
               ],
               [
                -73.2262573592894,
                44.5132700956817
               ],
               [
                -73.2265732558707,
                44.5131667027626
               ],
               [
                -73.2269834488805,
                44.5129974621845
               ],
               [
                -73.2273391572127,
                44.5127771031165
               ],
               [
                -73.2275875808299,
                44.51258962633
               ],
               [
                -73.2278364213467,
                44.5123726174853
               ],
               [
                -73.2281233082891,
                44.5121179622017
               ],
               [
                -73.2284404222505,
                44.5117659467906
               ],
               [
                -73.228587648339,
                44.5115639275957
               ],
               [
                -73.2287072056324,
                44.5113492884863
               ],
               [
                -73.2287946048335,
                44.5111088398624
               ],
               [
                -73.2288640762745,
                44.5108491010471
               ],
               [
                -73.2289058779041,
                44.510576602122
               ],
               [
                -73.2288836803279,
                44.5102461558486
               ],
               [
                -73.2288252478508,
                44.5099094729116
               ],
               [
                -73.2286881855929,
                44.5094759854889
               ],
               [
                -73.2284655378699,
                44.5090495116668
               ],
               [
                -73.2282619390509,
                44.5087008175342
               ],
               [
                -73.2279582855693,
                44.5083017170189
               ],
               [
                -73.2276316702522,
                44.5079203387153
               ],
               [
                -73.2272880324184,
                44.5075919394135
               ],
               [
                -73.2269356121226,
                44.5073154828864
               ],
               [
                -73.2265381624481,
                44.5070521070856
               ],
               [
                -73.2260545715201,
                44.506750608844
               ],
               [
                -73.2257532732164,
                44.5065709885233
               ],
               [
                -73.2255156377206,
                44.506390963005
               ],
               [
                -73.2253234340827,
                44.5062300539114
               ],
               [
                -73.225149872426,
                44.5061145856783
               ],
               [
                -73.2249765502169,
                44.5060183798118
               ],
               [
                -73.2247304505626,
                44.5059161667365
               ],
               [
                -73.2245304185401,
                44.505852612173
               ],
               [
                -73.2243128720621,
                44.5058345865959
               ],
               [
                -73.2241141254274,
                44.5058747981352
               ],
               [
                -73.2239066600436,
                44.5059409370167
               ],
               [
                -73.2236871562372,
                44.5060188231464
               ],
               [
                -73.2233306818619,
                44.5061750559947
               ],
               [
                -73.2229273261919,
                44.5064175001172
               ],
               [
                -73.222422334367,
                44.506799515125
               ],
               [
                -73.2219572439483,
                44.5072626915677
               ],
               [
                -73.2216087641594,
                44.5076538369025
               ],
               [
                -73.221358264756,
                44.5079277929276
               ],
               [
                -73.2211436686975,
                44.5081494924839
               ],
               [
                -73.220883959754,
                44.5083780864549
               ],
               [
                -73.2205787414725,
                44.5086132944518
               ],
               [
                -73.2201701808297,
                44.5089141173735
               ],
               [
                -73.2199728575125,
                44.5090710233979
               ],
               [
                -73.2198653566706,
                44.509181802538
               ],
               [
                -73.2196956242936,
                44.5093773441339
               ],
               [
                -73.2194718995739,
                44.5095927714331
               ],
               [
                -73.2192251397268,
                44.5097887966274
               ],
               [
                -73.218964776441,
                44.5099653619962
               ],
               [
                -73.2187041004422,
                44.5101485379017
               ],
               [
                -73.2184791737309,
                44.5102666646628
               ],
               [
                -73.218253767744,
                44.5103458427428
               ],
               [
                -73.2180641984495,
                44.5103989217641
               ],
               [
                -73.2178563925214,
                44.5104391784431
               ],
               [
                -73.2176299547162,
                44.5104664747732
               ],
               [
                -73.2174216704385,
                44.5104677833172
               ],
               [
                -73.2170317429092,
                44.5104314220533
               ],
               [
                -73.2166686126741,
                44.5103688776112
               ],
               [
                -73.2162962044546,
                44.5102868443821
               ],
               [
                -73.215941559224,
                44.5101788252821
               ],
               [
                -73.2156045957069,
                44.5100383531073
               ],
               [
                -73.2152673186206,
                44.5098720076897
               ],
               [
                -73.2149536332608,
                44.5096742973295
               ],
               [
                -73.2146918701449,
                44.5094800580519
               ],
               [
                -73.2144810555035,
                44.5092739685064
               ],
               [
                -73.2143151974409,
                44.5090481928635
               ],
               [
                -73.2142034132518,
                44.5088090008907
               ],
               [
                -73.2141236184397,
                44.5085825463403
               ],
               [
                -73.2140888565831,
                44.5083105314181
               ],
               [
                -73.214031382808,
                44.5080774684423
               ],
               [
                -73.2139559105727,
                44.507818644624
               ],
               [
                -73.2138859499621,
                44.5076570924708
               ],
               [
                -73.225764052777,
                44.5008835668173
               ],
               [
                -73.2280341504162,
                44.4995886695271
               ],
               [
                -73.2281133568395,
                44.4995435895372
               ],
               [
                -73.2183194212876,
                44.4912102604646
               ],
               [
                -73.2185755192468,
                44.4912048526159
               ],
               [
                -73.2193226191308,
                44.4911904474043
               ],
               [
                -73.2198949088663,
                44.4911781229369
               ],
               [
                -73.2204958746971,
                44.4911654743127
               ],
               [
                -73.2212193481735,
                44.4911468464069
               ],
               [
                -73.2214950589896,
                44.4911389179072
               ],
               [
                -73.2217683484059,
                44.4911258014675
               ],
               [
                -73.2220352842885,
                44.4911072402814
               ],
               [
                -73.2222158153913,
                44.4910911939621
               ],
               [
                -73.2224660894584,
                44.4910596591414
               ],
               [
                -73.2227044906972,
                44.4910211694383
               ],
               [
                -73.2228558508372,
                44.4909972908888
               ],
               [
                -73.2230016239896,
                44.4909664171434
               ],
               [
                -73.2232523439392,
                44.49090745828
               ],
               [
                -73.2234829731553,
                44.4908442668049
               ],
               [
                -73.2236939290097,
                44.4907786688815
               ],
               [
                -73.2238715223007,
                44.4907158126673
               ],
               [
                -73.2241006676775,
                44.4906280212752
               ],
               [
                -73.2243382689596,
                44.4905251305282
               ],
               [
                -73.2245745718303,
                44.4904126856159
               ],
               [
                -73.2248266748922,
                44.490275391475
               ],
               [
                -73.2250560227022,
                44.4901407718786
               ],
               [
                -73.2252173531356,
                44.4900340041349
               ],
               [
                -73.2253774283734,
                44.4899210570168
               ],
               [
                -73.2255046993235,
                44.4898242074752
               ],
               [
                -73.2257531625519,
                44.4896155013204
               ],
               [
                -73.22606354948,
                44.4892998133683
               ],
               [
                -73.2261234491214,
                44.4892195624994
               ],
               [
                -73.2306311826111,
                44.4949673294569
               ],
               [
                -73.2314457800031,
                44.4960112522638
               ],
               [
                -73.2316166290559,
                44.496225441485
               ],
               [
                -73.2318383290328,
                44.4964840200897
               ],
               [
                -73.2319835993554,
                44.4966634998462
               ],
               [
                -73.2323312734635,
                44.4971291010902
               ],
               [
                -73.2329551634061,
                44.4980007156031
               ],
               [
                -73.2331017370869,
                44.4981896061264
               ],
               [
                -73.2331822246419,
                44.4982785212879
               ],
               [
                -73.2332379892278,
                44.4983386286544
               ],
               [
                -73.2333198567138,
                44.49841220703
               ],
               [
                -73.2334159166757,
                44.4984894919674
               ],
               [
                -73.2335821568972,
                44.4986169469586
               ],
               [
                -73.2359487994008,
                44.500363500506
               ],
               [
                -73.2369813706866,
                44.5011348703684
               ],
               [
                -73.240455159557,
                44.5036845491799
               ],
               [
                -73.2599935590733,
                44.5181199201832
               ],
               [
                -73.2645081108472,
                44.5214665304151
               ],
               [
                -73.2645947448085,
                44.5215383676653
               ],
               [
                -73.2646345840969,
                44.5215788789898
               ],
               [
                -73.2647081320755,
                44.5216720369273
               ],
               [
                -73.2650800910097,
                44.5222196335766
               ],
               [
                -73.2663775252501,
                44.5214860617033
               ],
               [
                -73.266699484584,
                44.5217869274121
               ],
               [
                -73.2668121625028,
                44.5218961317955
               ],
               [
                -73.267215689819,
                44.5222415856835
               ],
               [
                -73.267082559176,
                44.5222814310928
               ],
               [
                -73.2671707376985,
                44.5224407183774
               ],
               [
                -73.2672683398916,
                44.5226290499073
               ],
               [
                -73.2673179187644,
                44.5227225075608
               ],
               [
                -73.2673665055182,
                44.5228003633159
               ],
               [
                -73.2674753424319,
                44.5229759633293
               ],
               [
                -73.26745537836,
                44.5229824249552
               ],
               [
                -73.2675489483034,
                44.5231629088574
               ],
               [
                -73.2675692993254,
                44.5231560225434
               ],
               [
                -73.2676695158135,
                44.5233336493623
               ],
               [
                -73.2677713261103,
                44.5235129527586
               ],
               [
                -73.2678731401519,
                44.5236923973236
               ],
               [
                -73.2679793814578,
                44.5238796855863
               ],
               [
                -73.2680880317966,
                44.5240707543841
               ],
               [
                -73.268201518047,
                44.5242707899317
               ],
               [
                -73.2683174208516,
                44.5244751684057
               ],
               [
                -73.2684333244631,
                44.5246795458492
               ],
               [
                -73.2685945875826,
                44.5246262930607
               ],
               [
                -73.2687085059319,
                44.524799185727
               ],
               [
                -73.2688236257832,
                44.524973758471
               ],
               [
                -73.2689762674399,
                44.5249225313489
               ],
               [
                -73.2689870647124,
                44.5249663306574
               ],
               [
                -73.2689924772385,
                44.5250191656074
               ],
               [
                -73.2689910714163,
                44.5250915922326
               ],
               [
                -73.2689820218991,
                44.5251507116348
               ],
               [
                -73.2689735038408,
                44.525190562472
               ],
               [
                -73.2689590938597,
                44.5252307355592
               ],
               [
                -73.268933438566,
                44.5252826547595
               ],
               [
                -73.268899200696,
                44.5253396938896
               ],
               [
                -73.2688609628789,
                44.5253914161018
               ],
               [
                -73.2688225203015,
                44.5254276724354
               ],
               [
                -73.2687820906859,
                44.5254622547466
               ],
               [
                -73.2687447206469,
                44.5254903485908
               ],
               [
                -73.2686729882973,
                44.5255361091099
               ],
               [
                -73.2686152664302,
                44.5255710894249
               ],
               [
                -73.2687385357995,
                44.5256477381728
               ],
               [
                -73.2702152544711,
                44.5253910094937
               ],
               [
                -73.2707399912007,
                44.5252956469716
               ]
              ]
             ],
             "type": "Polygon"
            },
            "properties": {
             "COLOR": "rgba(229,216,189,0.5)",
             "DISTRICT": "North",
             "OBJECTID": 1,
             "Shape__Are": 7072752.23921967,
             "Shape__Len": 23027.3495793427,
             "WARD": 7
            },
            "type": "Feature"
           },
           "sourcetype": "geojson",
           "type": "fill"
          },
          {
           "below": "road_major_label",
           "color": "rgba(253,218,236,0.5)",
           "source": {
            "geometry": {
             "coordinates": [
              [
               [
                -73.2056904027222,
                44.4806567040077
               ],
               [
                -73.2055390722885,
                44.4774871570677
               ],
               [
                -73.2005997615911,
                44.4777601258888
               ],
               [
                -73.1992878896517,
                44.4778325684584
               ],
               [
                -73.1990369218563,
                44.4763877218304
               ],
               [
                -73.1989566607785,
                44.4763766829251
               ],
               [
                -73.1988877669496,
                44.4763636053229
               ],
               [
                -73.1988097332745,
                44.4763417245287
               ],
               [
                -73.1987510047536,
                44.4763247877728
               ],
               [
                -73.1984437223914,
                44.4762158613987
               ],
               [
                -73.1980925574835,
                44.4760831567529
               ],
               [
                -73.1950902648336,
                44.4747421273892
               ],
               [
                -73.1949165197812,
                44.4746644393175
               ],
               [
                -73.1937811842603,
                44.4741499348471
               ],
               [
                -73.1937609669509,
                44.4740017068196
               ],
               [
                -73.193720053509,
                44.4736978011905
               ],
               [
                -73.1936748004435,
                44.4734586055731
               ],
               [
                -73.193223129521,
                44.4710711450807
               ],
               [
                -73.1929135667105,
                44.4694386344493
               ],
               [
                -73.1928675616283,
                44.4692016927652
               ],
               [
                -73.1928579060344,
                44.4691490207105
               ],
               [
                -73.192899849268,
                44.4691422974368
               ],
               [
                -73.1930971303824,
                44.4691195862689
               ],
               [
                -73.1933607726427,
                44.4690959094496
               ],
               [
                -73.1935773640096,
                44.4690788452868
               ],
               [
                -73.1937001894092,
                44.4690702248027
               ],
               [
                -73.1937735008415,
                44.4690590926273
               ],
               [
                -73.1938443830762,
                44.4690419284142
               ],
               [
                -73.1939015026132,
                44.4690233007632
               ],
               [
                -73.1939757915201,
                44.4689952885013
               ],
               [
                -73.1940403464885,
                44.4689743666326
               ],
               [
                -73.1941253761969,
                44.4689579604248
               ],
               [
                -73.1942030249391,
                44.4689483477236
               ],
               [
                -73.1952564184987,
                44.4688543365953
               ],
               [
                -73.1953924885058,
                44.4688366341891
               ],
               [
                -73.195460284647,
                44.4688241278924
               ],
               [
                -73.1955052738536,
                44.4688093701805
               ],
               [
                -73.1955419983667,
                44.4687931166719
               ],
               [
                -73.1955766964672,
                44.4687715316035
               ],
               [
                -73.1956217983695,
                44.4687331495333
               ],
               [
                -73.1958023156578,
                44.4685889024643
               ],
               [
                -73.1958845787094,
                44.4685380600035
               ],
               [
                -73.1959595712559,
                44.4685032925545
               ],
               [
                -73.1960518880362,
                44.4684722163571
               ],
               [
                -73.196172829636,
                44.4684373091219
               ],
               [
                -73.1962472437371,
                44.468419981496
               ],
               [
                -73.1963534598785,
                44.4684018974628
               ],
               [
                -73.1964871116275,
                44.4683790058977
               ],
               [
                -73.1966109315546,
                44.4683550492083
               ],
               [
                -73.1967437412109,
                44.4683275214485
               ],
               [
                -73.1972983694404,
                44.4682026437163
               ],
               [
                -73.1972844632849,
                44.4681561842189
               ],
               [
                -73.1972848753302,
                44.468091779643
               ],
               [
                -73.197299121853,
                44.4680348834636
               ],
               [
                -73.1973239406353,
                44.4679753911808
               ],
               [
                -73.1978856967523,
                44.4669988914183
               ],
               [
                -73.1979351177699,
                44.4669277185278
               ],
               [
                -73.1979865396568,
                44.4668596274084
               ],
               [
                -73.1980556036963,
                44.4667890372782
               ],
               [
                -73.1981134714588,
                44.4667346867067
               ],
               [
                -73.1981905701572,
                44.4666792340043
               ],
               [
                -73.1982728129512,
                44.4666269842127
               ],
               [
                -73.198333298058,
                44.4665945537584
               ],
               [
                -73.1983798367544,
                44.4665780989325
               ],
               [
                -73.1984315368374,
                44.4665663921486
               ],
               [
                -73.1985095670416,
                44.4665562126161
               ],
               [
                -73.1986060612672,
                44.4665464825607
               ],
               [
                -73.1987112299925,
                44.4665396520863
               ],
               [
                -73.1988027019362,
                44.4665368425907
               ],
               [
                -73.198878518466,
                44.4665386285593
               ],
               [
                -73.1989508668071,
                44.466545919985
               ],
               [
                -73.1990335293017,
                44.4665618660344
               ],
               [
                -73.1991481720635,
                44.4665919596342
               ],
               [
                -73.1992894019694,
                44.4666450918962
               ],
               [
                -73.1997782734359,
                44.4668691932179
               ],
               [
                -73.1998402187476,
                44.4668932814497
               ],
               [
                -73.1999088019621,
                44.4669140945574
               ],
               [
                -73.1999883387634,
                44.4669313243957
               ],
               [
                -73.2000866747275,
                44.466944220892
               ],
               [
                -73.2009027009288,
                44.4670375074336
               ],
               [
                -73.2003964834503,
                44.4687131090955
               ],
               [
                -73.200382835338,
                44.4687870172941
               ],
               [
                -73.200376131128,
                44.468850335523
               ],
               [
                -73.2003703287808,
                44.4689234918474
               ],
               [
                -73.2003709845684,
                44.4689783288329
               ],
               [
                -73.2004374661499,
                44.4705964199687
               ],
               [
                -73.2000063991787,
                44.4705781110989
               ],
               [
                -73.1999714378092,
                44.4705776225114
               ],
               [
                -73.1999321839941,
                44.4705794091871
               ],
               [
                -73.1998894685702,
                44.4705872647081
               ],
               [
                -73.1998342939572,
                44.4706043364221
               ],
               [
                -73.1995952122339,
                44.4707116853371
               ],
               [
                -73.1995276176208,
                44.4707410659628
               ],
               [
                -73.1994642515945,
                44.4707628277962
               ],
               [
                -73.1993992222718,
                44.4707768665325
               ],
               [
                -73.1993321295862,
                44.4707826203516
               ],
               [
                -73.1992677227913,
                44.4707830146996
               ],
               [
                -73.1992166333709,
                44.4707803747555
               ],
               [
                -73.1991666572839,
                44.4707722436941
               ],
               [
                -73.199111858158,
                44.4707550022683
               ],
               [
                -73.1988221086339,
                44.4706319078008
               ],
               [
                -73.1987656948012,
                44.4706108792103
               ],
               [
                -73.1987058096156,
                44.4705952148155
               ],
               [
                -73.1986279061793,
                44.470583598776
               ],
               [
                -73.1984819134723,
                44.4705600239347
               ],
               [
                -73.1983921546587,
                44.4705422930983
               ],
               [
                -73.1983184159939,
                44.4705175733455
               ],
               [
                -73.1982745331088,
                44.4704935151675
               ],
               [
                -73.1982435553939,
                44.4704647370486
               ],
               [
                -73.198221501982,
                44.4704267644987
               ],
               [
                -73.198207129119,
                44.4703742621385
               ],
               [
                -73.1981708531277,
                44.4698021731247
               ],
               [
                -73.1978802569728,
                44.4698052153609
               ],
               [
                -73.1967579258227,
                44.4698168481885
               ],
               [
                -73.1966036694905,
                44.4699897636878
               ],
               [
                -73.1963671285885,
                44.4702450192185
               ],
               [
                -73.1962726721456,
                44.4703606200667
               ],
               [
                -73.1962162491237,
                44.4704378807259
               ],
               [
                -73.1961765135047,
                44.4704983069193
               ],
               [
                -73.196144330435,
                44.4705662808204
               ],
               [
                -73.1961175468082,
                44.4706259251882
               ],
               [
                -73.1960990661109,
                44.4706901590736
               ],
               [
                -73.196083894712,
                44.4707685748554
               ],
               [
                -73.1960710374328,
                44.4708433209447
               ],
               [
                -73.1960632765612,
                44.4709173322132
               ],
               [
                -73.1960640069032,
                44.4709787770642
               ],
               [
                -73.1960704192639,
                44.4710556555798
               ],
               [
                -73.1960860498447,
                44.4711150414341
               ],
               [
                -73.1961125542268,
                44.4711971404772
               ],
               [
                -73.196143252288,
                44.4712685270783
               ],
               [
                -73.1961801087188,
                44.4713293305505
               ],
               [
                -73.1962364987642,
                44.4714143414097
               ],
               [
                -73.1962827808765,
                44.4714750864884
               ],
               [
                -73.1964550084746,
                44.4716900237277
               ],
               [
                -73.1965206773091,
                44.4717956487465
               ],
               [
                -73.1965645982961,
                44.4718890311906
               ],
               [
                -73.1965930144795,
                44.4719666187154
               ],
               [
                -73.1966251198625,
                44.4720571213704
               ],
               [
                -73.1966529983105,
                44.4721555234349
               ],
               [
                -73.1966690981718,
                44.4722542790213
               ],
               [
                -73.1966768329207,
                44.4723432420084
               ],
               [
                -73.1966834135415,
                44.4724341811177
               ],
               [
                -73.1966803359864,
                44.4725056331888
               ],
               [
                -73.1966720196514,
                44.4725658678763
               ],
               [
                -73.1966581645693,
                44.472655805801
               ],
               [
                -73.1966441572325,
                44.4727329492046
               ],
               [
                -73.1966238794309,
                44.4728112557851
               ],
               [
                -73.1965988402071,
                44.4728855137417
               ],
               [
                -73.1965513916807,
                44.4729909844314
               ],
               [
                -73.1965125840264,
                44.4730634985433
               ],
               [
                -73.1964710210226,
                44.4731354660766
               ],
               [
                -73.1964381972715,
                44.4731826326634
               ],
               [
                -73.1975306430528,
                44.4736902010755
               ],
               [
                -73.1978150139295,
                44.4738223310824
               ],
               [
                -73.1980176211179,
                44.4739158682197
               ],
               [
                -73.1981017123795,
                44.4739519146006
               ],
               [
                -73.1981791364991,
                44.4739888458258
               ],
               [
                -73.1983284044046,
                44.4740558513449
               ],
               [
                -73.1984448995983,
                44.474108432052
               ],
               [
                -73.1986668345637,
                44.4742086003365
               ],
               [
                -73.1986790120362,
                44.474208666235
               ],
               [
                -73.1985712457306,
                44.4743281463011
               ],
               [
                -73.1984689120685,
                44.4744421096644
               ],
               [
                -73.1983657941845,
                44.4745562181207
               ],
               [
                -73.1991161436687,
                44.4746011246361
               ],
               [
                -73.1991543023503,
                44.4753297065638
               ],
               [
                -73.1991691954024,
                44.4755572739848
               ],
               [
                -73.1991757861112,
                44.4756815387582
               ],
               [
                -73.1992185105388,
                44.476397719214
               ],
               [
                -73.2007023529722,
                44.4763547369941
               ],
               [
                -73.2109906893559,
                44.4759969839105
               ],
               [
                -73.2110545677629,
                44.4771493608458
               ],
               [
                -73.2111075618213,
                44.4782461220179
               ],
               [
                -73.2112181409485,
                44.4804937513108
               ],
               [
                -73.2093172741978,
                44.4805570376979
               ],
               [
                -73.2056904027222,
                44.4806567040077
               ]
              ]
             ],
             "type": "Polygon"
            },
            "properties": {
             "COLOR": "rgba(253,218,236,0.5)",
             "DISTRICT": "East",
             "OBJECTID": 6,
             "Shape__Are": 617387.785255432,
             "Shape__Len": 6428.33008716662,
             "WARD": 8
            },
            "type": "Feature"
           },
           "sourcetype": "geojson",
           "type": "fill"
          }
         ],
         "pitch": 0,
         "zoom": 11.2
        },
        "width": 600
       }
      },
      "text/html": [
       "<div id=\"fd9c5883-a918-4cf8-82ac-402d2cf20339\" style=\"height: 800px; width: 600px;\" class=\"plotly-graph-div\"></div><script type=\"text/javascript\">require([\"plotly\"], function(Plotly) { window.PLOTLYENV=window.PLOTLYENV || {};window.PLOTLYENV.BASE_URL=\"https://plot.ly\";Plotly.newPlot(\"fd9c5883-a918-4cf8-82ac-402d2cf20339\", [{\"lat\": [44.5138859, 44.5156656, 44.51433370000001, 44.5108965, 44.51105219999999, 44.507360999999996, 44.483683899999996, 44.476422899999996, 44.504622399999995, 44.4887486, 44.4861484, 44.4828051, 44.4816857, 44.48193879999999, 44.4828156, 44.479786600000004, 44.47985300000001, 44.478403, 44.481828, 44.48170579999999, 44.4787264, 44.483975, 44.4848115, 44.480364200000004, 44.480291799999996, 44.47989339999999, 44.4805585, 44.480988, 44.48783479999999, 44.4736899, 44.47718099999999, 44.47718099999999, 44.47718099999999, 44.47718099999999, 44.4766324, 44.476826, 44.476831, 44.476819, 44.478017, 44.475649, 44.475777, 44.4756941, 44.47505020000001, 44.4776472, 44.4769521, 44.4780297, 44.4773669, 44.4779179, 44.4715429, 44.47644400000001, 44.4773135, 44.46410529999999, 44.465098499999996, 44.45146099999999, 44.45146099999999, 44.452996999999996, 44.45238370000001, 44.453849100000006, 44.4814648], \"lon\": [-73.2556913, -73.25718379999998, -73.2553449, -73.26351329999999, -73.2633171, -73.2510827, -73.15757099999998, -73.22100449999998, -73.2560117, -73.20107209999998, -73.22157159999998, -73.2180518, -73.21872710000002, -73.21893320000002, -73.2111208, -73.2130038, -73.212937, -73.21330499999998, -73.211011, -73.21104389999998, -73.21125409999998, -73.20519499999997, -73.20446079999998, -73.20370890000002, -73.20752089999998, -73.2058637, -73.20205329999997, -73.201922, -73.18695919999998, -73.2167056, -73.2179333, -73.2179333, -73.2179333, -73.2179333, -73.21524029999998, -73.21508299999998, -73.21519200000002, -73.21540949999998, -73.214739, -73.2126811, -73.21276600000002, -73.2129507, -73.21214559999999, -73.2133066, -73.21238989999998, -73.2117828, -73.2102093, -73.21128639999998, -73.210792, -73.2072804, -73.20470480000002, -73.214394, -73.20859329999998, -73.22301929999998, -73.22301929999998, -73.22480399999998, -73.2183408, -73.2095422, -73.2010702], \"marker\": {\"size\": 8}, \"mode\": \"markers\", \"text\": [\"Listed Owner: MOUNTAHA HANDY REV TRUST<br>Value: $629,400.00\", \"Listed Owner: SISTERS  BROTHERS INVESTMENT GROUP LLP<br>Value: $409,100.00\", \"Listed Owner: MOUNTAHA HANDY REV TRUST<br>Value: $340,000.00\", \"Listed Owner: HANDY JOSEPH J<br>Value: $194,200.00\", \"Listed Owner: MOUNTAHA HANDY REV TRUST<br>Value: $195,900.00\", \"Listed Owner: HANDY CHARLES<br>Value: $216,700.00\", \"Listed Owner: HANDY SAMUEL E<br>Value: $847,000.00\", \"Listed Owner: 96 ETHAN ALLEN PARKWAY LLC<br>Value: $1,457,200.00\", \"Listed Owner: HANDY CHARLIE<br>Value: $397,500.00\", \"Listed Owner: RIVERSIDE PROPERTY RECLAMATION<br>Value: $251,200.00\", \"Listed Owner: HANDY INVESTMENT GROUP LLP<br>Value: $201,100.00\", \"Listed Owner: HANDY KRISTEN<br>Value: $133,700.00\", \"Listed Owner: MOUNTAHA HANDY REV TRUST<br>Value: $553,400.00\", \"Listed Owner: MOUNTAHA HANDY REV TRUST<br>Value: $406,300.00\", \"Listed Owner: SISTERS  BROTHERS INVESTMENT GROUP LLP<br>Value: $429,100.00\", \"Listed Owner: SISTERS  BROTHERS INVESTMENT GROUP LLP<br>Value: $1,200,000.00\", \"Listed Owner: SISTERS  BROTHERS INVESTMENT GROUP LLP<br>Value: $825,000.00\", \"Listed Owner: HANDY SISTERS LLC<br>Value: $936,400.00\", \"Listed Owner: SISTERS  BROTHERS INVESTMENT GROUP LLP<br>Value: $472,100.00\", \"Listed Owner: SISTERS  BROTHERS INVESTMENT GROUP LLP<br>Value: $722,300.00\", \"Listed Owner: HANDY MOUNTAHA<br>Value: $620,900.00\", \"Listed Owner: MOUNTAHA HANDY REV TRUST<br>Value: $371,200.00\", \"Listed Owner: HANDY COURTNEY<br>Value: $390,900.00\", \"Listed Owner: SISTERS  BROTHERS INVESTMENT GROUP LLP<br>Value: $1,465,700.00\", \"Listed Owner: SISTERS  BROTHERS INVESTMENT GROUP LLP<br>Value: $709,900.00\", \"Listed Owner: HANDY INVESTMENT GROUP LLP<br>Value: $943,500.00\", \"Listed Owner: SISTERS  BROTHERS INVESTMENT GROUP LLP<br>Value: $435,100.00\", \"Listed Owner: HANDY COURT LLC<br>Value: $2,193,900.00\", \"Listed Owner: SISTERS  BROTHERS INVESTMENT GROUP LLP<br>Value: $494,700.00\", \"Listed Owner: HANDY EARL A<br>Value: $293,100.00\", \"Listed Owner: HANDY JOAN D<br>Value: $227,000.00\", \"Listed Owner: HANDY ANTHONY<br>Value: $201,300.00\", \"Listed Owner: HANDY ANTHONY S<br>Value: $386,300.00\", \"Listed Owner: HANDY MOUNTAHA<br>Value: $201,300.00\", \"Listed Owner: ONE HUNDRED TWENTYFIVE  COLLEGE STREET<br>Value: $8,700.00\", \"Listed Owner: ONE HUNDRED TWENTYFIVE COLLEGE STREET L<br>Value: $1,554,500.00\", \"Listed Owner: ONE HUNDRED TWENTYFIVE  COLLEGE STREET<br>Value: $792,300.00\", \"Listed Owner: SISTERS BROTHERS INVESTMENT GROUP LLP<br>Value: $860,400.00\", \"Listed Owner: SISTERS  BROTHERS INVESTMENT GROUP LLP<br>Value: $898,500.00\", \"Listed Owner: SISTERS  BROTHERS INVESTMENT GROUP LLP<br>Value: $1,722,300.00\", \"Listed Owner: SISTERS  BROTHERS INVESTMENT GROUP LLP<br>Value: $895,700.00\", \"Listed Owner: SISTERS  BROTHERS INVESTMENT GROUP LLP<br>Value: $949,700.00\", \"Listed Owner: SISTERS  BROTHERS INVESTMENT GROUP LLP<br>Value: $839,900.00\", \"Listed Owner: THE GREAT CEDARS LLC<br>Value: $2,114,600.00\", \"Listed Owner: THE GREAT CEDARS LLC<br>Value: $5,080,600.00\", \"Listed Owner: SISTERS  BROTHERS INVESTMENT GROUP LLP<br>Value: $1,273,000.00\", \"Listed Owner: SISTERS  BROTHERS INVESTMENT GROUP LLP<br>Value: $2,535,100.00\", \"Listed Owner: MOUNTAHA HANDY REV TRUST<br>Value: $625,600.00\", \"Listed Owner: MOUNTAHA HANDY REV TRUST<br>Value: $419,600.00\", \"Listed Owner: GROUP FIVE INVESTMENT LLC<br>Value: $266,300.00\", \"Listed Owner: SISTERS  BROTHERS INVESTMENT GROUP LLP<br>Value: $363,400.00\", \"Listed Owner: GROUP FIVE INVESTMENT LLC<br>Value: $5,583,800.00\", \"Listed Owner: SISTERS  BROTHERS INVESTMENT GROUP LLP<br>Value: $680,000.00\", \"Listed Owner: HANDY III PAUL<br>Value: $131,500.00\", \"Listed Owner: JEANNINE M HANDY REVOCABLE TR<br>Value: $136,800.00\", \"Listed Owner: HANDY JR PAUL L<br>Value: $277,700.00\", \"Listed Owner: SISTERS  BROTHERS INVESTMENT GROUP LLP<br>Value: $496,700.00\", \"Listed Owner: HANDY JANET C<br>Value: $239,400.00\", \"Listed Owner: HANDY  RICKY<br>Value: $318,400.00\"], \"type\": \"scattermapbox\", \"uid\": \"d36da0fb-0a4a-4007-88af-6d4b1dbfb01e\"}], {\"autosize\": true, \"height\": 800, \"hovermode\": \"closest\", \"mapbox\": {\"accesstoken\": \"pk.eyJ1IjoiY2FscmVtbWVsIiwiYSI6ImNqc25scWtiMzBkcGI0M3BtNDRrbnFvNGoifQ.qmi7OtQn6vIJbHbbTZs2MQ\", \"bearing\": 0, \"center\": {\"lat\": 44.5, \"lon\": -73.23}, \"layers\": [{\"below\": \"road_major_label\", \"color\": \"rgba(251,180,174,0.5)\", \"source\": {\"type\": \"Feature\", \"properties\": {\"OBJECTID\": 5, \"WARD\": 1, \"DISTRICT\": \"East\", \"Shape__Are\": 2954396.40816498, \"Shape__Len\": 7976.17879052443, \"COLOR\": \"rgba(251,180,174,0.5)\"}, \"geometry\": {\"type\": \"Polygon\", \"coordinates\": [[[-73.2044950286289, 44.4911969546581], [-73.2044631499705, 44.4911923698885], [-73.2041349524606, 44.4911485533009], [-73.2039626460935, 44.4911302099742], [-73.2038151435313, 44.4911162141606], [-73.2036507790987, 44.4911048526854], [-73.2034577466909, 44.4910945107979], [-73.2033025037231, 44.4910902642945], [-73.2031402429233, 44.4910904201147], [-73.2029332353116, 44.4910942250047], [-73.2027851816268, 44.4910996358481], [-73.2025868810345, 44.4911087304009], [-73.2022904829263, 44.4911281301531], [-73.2021306841926, 44.4911371284497], [-73.2017322144576, 44.4911632009298], [-73.2017113180502, 44.4910916145696], [-73.2016447210556, 44.4908456640037], [-73.201542142659, 44.4905805298113], [-73.2014402587376, 44.4904060876316], [-73.2012982224961, 44.4902579066006], [-73.2011424360376, 44.4901096694105], [-73.2008964508122, 44.4899750626634], [-73.200587056966, 44.4898602498555], [-73.2000874468153, 44.4897401335391], [-73.1995020386098, 44.4896400855372], [-73.1987767703613, 44.489573233418], [-73.1982597914053, 44.4895115704592], [-73.1977062841195, 44.489417646618], [-73.1971887665767, 44.4893105637027], [-73.1965164310942, 44.4891352394645], [-73.1958306157596, 44.4889493065468], [-73.1953492555, 44.4888096536865], [-73.1948675820889, 44.4886764686001], [-73.1945131070791, 44.4885683814734], [-73.1941947753669, 44.4884602139577], [-73.1938952908257, 44.4883841328656], [-73.1936862318951, 44.4883465927011], [-73.1934735884131, 44.4883381808269], [-73.1933197473446, 44.4883520515205], [-73.1932022009591, 44.4883786384281], [-73.193048782642, 44.4884282231919], [-73.1929321288795, 44.4884969893072], [-73.1928330373527, 44.4885559464655], [-73.1927343761129, 44.4886181344282], [-73.1926350928111, 44.488660921473], [-73.1924951156795, 44.4886844092792], [-73.1923545154169, 44.4886884960868], [-73.1921869721673, 44.4886733405091], [-73.1920553778721, 44.4886416562672], [-73.1919370273805, 44.4886003288275], [-73.1918549416722, 44.4885360021946], [-73.1917810778084, 44.4884359087016], [-73.1917302288242, 44.4883552216677], [-73.19166625391, 44.4882940187071], [-73.1916136596211, 44.4882650890049], [-73.1915477116792, 44.488236381426], [-73.1914524528491, 44.4882207870682], [-73.1913440284544, 44.4882214434299], [-73.1911903399249, 44.488248247036], [-73.1910302794349, 44.4883011027876], [-73.1908567751777, 44.4883799130427], [-73.1906315677479, 44.4884719732936], [-73.1903970092906, 44.4885706979183], [-73.1901536532337, 44.4886563972271], [-73.1899755591756, 44.4887125948687], [-73.1897768830703, 44.4887559798349], [-73.1896138908244, 44.4887601985012], [-73.1894804355307, 44.488737240292], [-73.1893612330383, 44.4886901502818], [-73.1891995397368, 44.4885711806028], [-73.1891076889979, 44.488477943503], [-73.1890275447889, 44.488378026511], [-73.1889557384499, 44.4882520462656], [-73.1889136613695, 44.4881485247605], [-73.1888990849754, 44.4880449786553], [-73.1888929971966, 44.4879283033498], [-73.1889009627366, 44.4878374175863], [-73.1889205131937, 44.4877627725399], [-73.1889529744238, 44.4876167577877], [-73.1889522494708, 44.4875551726426], [-73.1889373856812, 44.4874939535672], [-73.1888936158034, 44.4874135033368], [-73.1888230355386, 44.4873582449513], [-73.1887370530335, 44.4873295152813], [-73.1886154786714, 44.4873142185337], [-73.1884828125218, 44.4873245802494], [-73.1883790923011, 44.4873576871455], [-73.1882936338801, 44.4874068559025], [-73.1882399928333, 44.4874556915774], [-73.1881955781169, 44.4875207831317], [-73.1881423204395, 44.4876022403467], [-73.1881025315315, 44.487693177403], [-73.188080394887, 44.4877484323833], [-73.1880471066204, 44.4877908178348], [-73.1879888269784, 44.4878461501354], [-73.1879170022497, 44.4878855332757], [-73.1878244335346, 44.4879315101023], [-73.1877276947928, 44.4879904477682], [-73.1876397966155, 44.4880662069879], [-73.1875085424459, 44.4881969266679], [-73.1873811116525, 44.4883522312693], [-73.187290190561, 44.4885052065571], [-73.1872464604739, 44.4886286496179], [-73.1872111800378, 44.488735730323], [-73.1871497979948, 44.488894995651], [-73.18709649801, 44.4889730778221], [-73.1869971482072, 44.4890441240217], [-73.1867718041347, 44.4890917418143], [-73.1865096849874, 44.4891191910739], [-73.1861019082792, 44.4891216414231], [-73.1855639415433, 44.4891115130863], [-73.1850229206678, 44.489108853874], [-73.1844933032926, 44.4891071073954], [-73.1837958715977, 44.4891005982552], [-73.1830888389409, 44.489079237397], [-73.1827233768727, 44.4890381127653], [-73.1825232065331, 44.4889875623325], [-73.1823265223909, 44.4888990238601], [-73.1822130223683, 44.4888014108301], [-73.1821030103601, 44.4886659512831], [-73.1819875173003, 44.4884983234371], [-73.1818850136679, 44.4882653719314], [-73.1818440877862, 44.4879223719621], [-73.1818634007805, 44.4874556911064], [-73.1818643563828, 44.48706561602], [-73.1818596386023, 44.4867617715006], [-73.1818367760523, 44.4864179607407], [-73.1817796699374, 44.4860685884268], [-73.1816855205992, 44.4857091723911], [-73.1815569192011, 44.4854274417256], [-73.181356189967, 44.4851589366367], [-73.1810839647297, 44.4848905767742], [-73.1806857998851, 44.484636044901], [-73.1801811105028, 44.484375676367], [-73.1797419155869, 44.4842070207172], [-73.1793176376251, 44.4841047860092], [-73.1789755415705, 44.4840431202995], [-73.1786044780617, 44.4840240932013], [-73.1782194954444, 44.4840581588327], [-73.1779231427385, 44.4841130717278], [-73.1775943691212, 44.4842179539782], [-73.177288304764, 44.4843504018312], [-73.1769487896486, 44.4845117328874], [-73.1763884323003, 44.4847698498033], [-73.1758270644911, 44.4849749577672], [-73.1757969298763, 44.4849848383872], [-73.1768553291239, 44.4840053647087], [-73.1781843829991, 44.4827907096024], [-73.1827184882031, 44.4787841081374], [-73.1833914883032, 44.4781887906888], [-73.1850944015959, 44.4767215188086], [-73.1863189839729, 44.4756702287367], [-73.1874194706281, 44.474724994891], [-73.1883717761577, 44.4739074784057], [-73.1885801931877, 44.4737280613818], [-73.1895690026345, 44.472877832907], [-73.1898777199737, 44.4726113274577], [-73.1900526871722, 44.4724605138799], [-73.1901386162554, 44.4723865922956], [-73.1930759526704, 44.4737017115917], [-73.1931398752032, 44.4737264942884], [-73.1932496658079, 44.4737771528045], [-73.1933641578985, 44.4738267990309], [-73.193487779282, 44.4738845450288], [-73.1937609669509, 44.4740017068196], [-73.1937811842603, 44.4741499348471], [-73.1949165197812, 44.4746644393175], [-73.1950902648336, 44.4747421273892], [-73.1980925574835, 44.4760831567529], [-73.1984437223914, 44.4762158613987], [-73.1987510047536, 44.4763247877728], [-73.1988097332745, 44.4763417245287], [-73.1988877669496, 44.4763636053229], [-73.1989566607785, 44.4763766829251], [-73.1990369218563, 44.4763877218304], [-73.1992878896517, 44.4778325684584], [-73.2005997615911, 44.4777601258888], [-73.2055390722885, 44.4774871570677], [-73.2056904027222, 44.4806567040077], [-73.205747955813, 44.482107088662], [-73.2058092005398, 44.4832442970328], [-73.2058890137727, 44.4849438569922], [-73.2060347960772, 44.48807321694], [-73.2060709785984, 44.4887277029202], [-73.2054596342935, 44.4897027178079], [-73.2044950286289, 44.4911969546581]]]}}, \"sourcetype\": \"geojson\", \"type\": \"fill\"}, {\"below\": \"road_major_label\", \"color\": \"rgba(179,205,227,0.2)\", \"source\": {\"type\": \"Feature\", \"properties\": {\"OBJECTID\": 3, \"WARD\": 2, \"DISTRICT\": \"Central\", \"Shape__Are\": 3333771.27412415, \"Shape__Len\": 8348.21372518335, \"COLOR\": \"rgba(179,205,227,0.5)\"}, \"geometry\": {\"type\": \"Polygon\", \"coordinates\": [[[-73.2281133568395, 44.4995435895372], [-73.2280341504162, 44.4995886695271], [-73.225764052777, 44.5008835668173], [-73.2138859499621, 44.5076570924708], [-73.2138301377486, 44.5075277930409], [-73.2136812554031, 44.5072110729023], [-73.2135050222564, 44.5068749766904], [-73.2133200725954, 44.5065650896327], [-73.2130942539688, 44.5062553170472], [-73.2128192414444, 44.505971724367], [-73.2125533498836, 44.5057270244875], [-73.2122513098433, 44.505482549416], [-73.2118905640331, 44.5052255028057], [-73.2116668093938, 44.5050843122806], [-73.2113935450726, 44.5049434306088], [-73.210933706036, 44.5047453530749], [-73.210469468955, 44.5045731752736], [-73.2100961622389, 44.5044133669306], [-73.2097134279847, 44.5042212738282], [-73.2093305393682, 44.5040162437269], [-73.2091023166484, 44.5038944813469], [-73.2087564469606, 44.5037605119797], [-73.2083382771466, 44.5036269899911], [-73.207874606095, 44.503500217276], [-73.2074433929757, 44.5033926461833], [-73.2069222525274, 44.5032576473074], [-73.2065070220975, 44.5031391465405], [-73.2060889398423, 44.5030120836422], [-73.2058050847413, 44.5029034548521], [-73.2053467759427, 44.5026990186922], [-73.2048947717793, 44.5024631832823], [-73.2044667145502, 44.5021923264998], [-73.2040279945998, 44.5018515066054], [-73.2037440058819, 44.5016004296946], [-73.203487448118, 44.5013427143206], [-73.2032209151608, 44.5010396405755], [-73.202861677116, 44.5005426654337], [-73.202704614251, 44.5002908037998], [-73.202519273881, 44.4999419508592], [-73.2023055776791, 44.4994893564665], [-73.2021083099451, 44.4989974285345], [-73.2019969247233, 44.4986874925113], [-73.2018928515702, 44.4982991875854], [-73.2017979031738, 44.4978524714599], [-73.2017325898064, 44.49735382641], [-73.2017235150224, 44.4970231530423], [-73.2017260985464, 44.4964849989959], [-73.2016816624399, 44.4961871657796], [-73.2016016235894, 44.4959348300958], [-73.2015344812651, 44.4956111216106], [-73.2015314501271, 44.4953583128129], [-73.2015563181795, 44.4950400858281], [-73.2015883312869, 44.4948262938784], [-73.2016589152686, 44.4946507924432], [-73.2017424764224, 44.4944761966635], [-73.2018406260619, 44.4943386329461], [-73.2019658931214, 44.4942016062315], [-73.2022256370036, 44.4939422602316], [-73.2024602607804, 44.493717940954], [-73.2025742221655, 44.4935885759187], [-73.2026632653169, 44.4934454428437], [-73.2027064985609, 44.4932830465789], [-73.2026958285912, 44.4931469957258], [-73.2026303179212, 44.4929593950995], [-73.2025553023567, 44.492765384101], [-73.2023773822239, 44.4923779555249], [-73.2021390263306, 44.4920288650394], [-73.201880263298, 44.4915831554605], [-73.2017961380101, 44.4913827320007], [-73.2017322144576, 44.4911632009298], [-73.2021306841926, 44.4911371284497], [-73.2022904829263, 44.4911281301531], [-73.2025868810345, 44.4911087304009], [-73.2027851816268, 44.4910996358481], [-73.2029332353116, 44.4910942250047], [-73.2031402429233, 44.4910904201147], [-73.2033025037231, 44.4910902642945], [-73.2034577466909, 44.4910945107979], [-73.2036507790987, 44.4911048526854], [-73.2038151435313, 44.4911162141606], [-73.2039626460935, 44.4911302099742], [-73.2041349524606, 44.4911485533009], [-73.2044631499705, 44.4911923698885], [-73.2044950286289, 44.4911969546581], [-73.2054596342935, 44.4897027178079], [-73.2060709785984, 44.4887277029202], [-73.2060347960772, 44.48807321694], [-73.2058890137727, 44.4849438569922], [-73.2058092005398, 44.4832442970328], [-73.205747955813, 44.482107088662], [-73.2056904027222, 44.4806567040077], [-73.2093172741978, 44.4805570376979], [-73.2112181409485, 44.4804937513108], [-73.2112256015957, 44.4804935644603], [-73.2135624172147, 44.480424147771], [-73.2136834627807, 44.4822332666908], [-73.2137297360858, 44.4826455458222], [-73.2138724097646, 44.4847454638392], [-73.2139582119828, 44.4858858894763], [-73.2140785225923, 44.4876005166688], [-73.214874100426, 44.4882779506408], [-73.2183194212876, 44.4912102604646], [-73.2281133568395, 44.4995435895372]]]}}, \"sourcetype\": \"geojson\", \"type\": \"fill\"}, {\"below\": \"road_major_label\", \"color\": \"rgba(204,235,197,0.5)\", \"source\": {\"type\": \"Feature\", \"properties\": {\"OBJECTID\": 4, \"WARD\": 3, \"DISTRICT\": \"Central\", \"Shape__Are\": 1679803.15373993, \"Shape__Len\": 5726.76878332311, \"COLOR\": \"rgba(204,235,197,0.5)\"}, \"geometry\": {\"type\": \"Polygon\", \"coordinates\": [[[-73.2261234491214, 44.4892195624994], [-73.22606354948, 44.4892998133683], [-73.2257531625519, 44.4896155013204], [-73.2255046993235, 44.4898242074752], [-73.2253774283734, 44.4899210570168], [-73.2252173531356, 44.4900340041349], [-73.2250560227022, 44.4901407718786], [-73.2248266748922, 44.490275391475], [-73.2245745718303, 44.4904126856159], [-73.2243382689596, 44.4905251305282], [-73.2241006676775, 44.4906280212752], [-73.2238715223007, 44.4907158126673], [-73.2236939290097, 44.4907786688815], [-73.2234829731553, 44.4908442668049], [-73.2232523439392, 44.49090745828], [-73.2230016239896, 44.4909664171434], [-73.2228558508372, 44.4909972908888], [-73.2227044906972, 44.4910211694383], [-73.2224660894584, 44.4910596591414], [-73.2222158153913, 44.4910911939621], [-73.2220352842885, 44.4911072402814], [-73.2217683484059, 44.4911258014675], [-73.2214950589896, 44.4911389179072], [-73.2212193481735, 44.4911468464069], [-73.2204958746971, 44.4911654743127], [-73.2198949088663, 44.4911781229369], [-73.2193226191308, 44.4911904474043], [-73.2185755192468, 44.4912048526159], [-73.2183194212876, 44.4912102604646], [-73.214874100426, 44.4882779506408], [-73.2140785225923, 44.4876005166688], [-73.2139582119828, 44.4858858894763], [-73.2138724097646, 44.4847454638392], [-73.2137297360858, 44.4826455458222], [-73.2136834627807, 44.4822332666908], [-73.2135624172147, 44.480424147771], [-73.2112256015957, 44.4804935644603], [-73.2112181409485, 44.4804937513108], [-73.2111075618213, 44.4782461220179], [-73.2110545677629, 44.4771493608458], [-73.2109906893559, 44.4759969839105], [-73.2109841076837, 44.4758755321086], [-73.2108051749407, 44.474822442138], [-73.2122817663048, 44.4747686677251], [-73.2125444312804, 44.4747923403231], [-73.2139190040674, 44.4747471960899], [-73.2154874556752, 44.4746897119755], [-73.2170069160105, 44.474641092181], [-73.2185914489818, 44.474582199154], [-73.2194124216757, 44.4745555167572], [-73.2218321404921, 44.4744765495371], [-73.2225510286867, 44.4744531616562], [-73.2225534972005, 44.4745577648374], [-73.2226313695041, 44.4752025617631], [-73.2226677050568, 44.4756960371104], [-73.2226733973355, 44.4761572236369], [-73.2229023003448, 44.4764042448268], [-73.223132583086, 44.4766355068507], [-73.2231410417557, 44.4767161676791], [-73.2231646409459, 44.4769412856116], [-73.2231052498484, 44.4773483248518], [-73.2228656839796, 44.4778924809882], [-73.2228312696276, 44.4781910876244], [-73.2229485244929, 44.4784617350076], [-73.2233301742234, 44.4787034289306], [-73.224268055065, 44.4788508981671], [-73.2245948969179, 44.4790116585753], [-73.2247699517453, 44.4792861562793], [-73.2250321500043, 44.4799678884874], [-73.2253854139929, 44.4809288689728], [-73.2255804550751, 44.4813888521779], [-73.2256448394224, 44.4817343596967], [-73.2256014928961, 44.4820403348734], [-73.2256337857895, 44.4824905244971], [-73.2257581207539, 44.4827917786442], [-73.2257650034854, 44.4828083281], [-73.2259295567779, 44.482899807499], [-73.225157473842, 44.4832036632744], [-73.2238662177888, 44.4837117452474], [-73.2238705897499, 44.4837157960899], [-73.2240076786612, 44.4838419031108], [-73.2241470602019, 44.4839626533536], [-73.2243308500312, 44.4841165871553], [-73.2244962890347, 44.4842477172634], [-73.2247045761372, 44.4844128856609], [-73.2248846373948, 44.4845509536871], [-73.2250912608669, 44.4847083978011], [-73.2254608154832, 44.4849844715203], [-73.2256297942112, 44.4851155774814], [-73.2257218467876, 44.4851890976691], [-73.2258119557936, 44.4852643175298], [-73.2260213004771, 44.4854507091747], [-73.2261446482527, 44.4855767614477], [-73.2262299140289, 44.4856731037744], [-73.2263376283302, 44.4858055827528], [-73.2264315046609, 44.4859309779816], [-73.2265079901624, 44.4860477650905], [-73.2265814176489, 44.4861714624775], [-73.2266297174898, 44.486264664863], [-73.226682184923, 44.486377105828], [-73.2267303547807, 44.4864914019], [-73.226782015381, 44.4866337981097], [-73.2268218821552, 44.4867754269985], [-73.2268556598888, 44.486932983145], [-73.2268766711406, 44.4870747311045], [-73.2268854930431, 44.4872473518409], [-73.2268865689033, 44.4873972424722], [-73.2268817597127, 44.4874844552145], [-73.2268722579351, 44.4875735256078], [-73.2268510510337, 44.4877322758053], [-73.2268268955489, 44.4878435168872], [-73.2267890024267, 44.4879873270808], [-73.2267558015936, 44.488097781555], [-73.2266969571979, 44.4882629583183], [-73.2266200982463, 44.4884643878276], [-73.2265312335867, 44.4886481764446], [-73.2264109862949, 44.4888358201659], [-73.2262830549679, 44.4890057954136], [-73.2261234491214, 44.4892195624994]]]}}, \"sourcetype\": \"geojson\", \"type\": \"fill\"}, {\"below\": \"road_major_label\", \"color\": \"rgba(222,203,228,0.5)\", \"source\": {\"type\": \"Feature\", \"properties\": {\"OBJECTID\": 2, \"WARD\": 4, \"DISTRICT\": \"North\", \"Shape__Are\": 5941918.4756012, \"Shape__Len\": 17320.6427558326, \"COLOR\": \"rgba(222,203,228,0.5)\"}, \"geometry\": {\"type\": \"Polygon\", \"coordinates\": [[[-73.2707399912007, 44.5252956469716], [-73.2702152544711, 44.5253910094937], [-73.2687385357995, 44.5256477381728], [-73.2686152664302, 44.5255710894249], [-73.2686729882973, 44.5255361091099], [-73.2687447206469, 44.5254903485908], [-73.2687820906859, 44.5254622547466], [-73.2688225203015, 44.5254276724354], [-73.2688609628789, 44.5253914161018], [-73.268899200696, 44.5253396938896], [-73.268933438566, 44.5252826547595], [-73.2689590938597, 44.5252307355592], [-73.2689735038408, 44.525190562472], [-73.2689820218991, 44.5251507116348], [-73.2689910714163, 44.5250915922326], [-73.2689924772385, 44.5250191656074], [-73.2689870647124, 44.5249663306574], [-73.2689762674399, 44.5249225313489], [-73.2688236257832, 44.524973758471], [-73.2687085059319, 44.524799185727], [-73.2685945875826, 44.5246262930607], [-73.2684333244631, 44.5246795458492], [-73.2683174208516, 44.5244751684057], [-73.268201518047, 44.5242707899317], [-73.2680880317966, 44.5240707543841], [-73.2679793814578, 44.5238796855863], [-73.2678731401519, 44.5236923973236], [-73.2677713261103, 44.5235129527586], [-73.2676695158135, 44.5233336493623], [-73.2675692993254, 44.5231560225434], [-73.2675489483034, 44.5231629088574], [-73.26745537836, 44.5229824249552], [-73.2674753424319, 44.5229759633293], [-73.2673665055182, 44.5228003633159], [-73.2673179187644, 44.5227225075608], [-73.2672683398916, 44.5226290499073], [-73.2671707376985, 44.5224407183774], [-73.267082559176, 44.5222814310928], [-73.267215689819, 44.5222415856835], [-73.2668121625028, 44.5218961317955], [-73.266699484584, 44.5217869274121], [-73.2663775252501, 44.5214860617033], [-73.2650800910097, 44.5222196335766], [-73.2647081320755, 44.5216720369273], [-73.2646345840969, 44.5215788789898], [-73.2645947448085, 44.5215383676653], [-73.2645081108472, 44.5214665304151], [-73.2599935590733, 44.5181199201832], [-73.240455159557, 44.5036845491799], [-73.2369813706866, 44.5011348703684], [-73.2359487994008, 44.500363500506], [-73.2335821568972, 44.4986169469586], [-73.2334159166757, 44.4984894919674], [-73.2333198567138, 44.49841220703], [-73.2332379892278, 44.4983386286544], [-73.2331822246419, 44.4982785212879], [-73.2331017370869, 44.4981896061264], [-73.2329551634061, 44.4980007156031], [-73.2323312734635, 44.4971291010902], [-73.2319835993554, 44.4966634998462], [-73.2318383290328, 44.4964840200897], [-73.2316166290559, 44.496225441485], [-73.2314457800031, 44.4960112522638], [-73.2306311826111, 44.4949673294569], [-73.2261234491214, 44.4892195624994], [-73.2262830549679, 44.4890057954136], [-73.2264109862949, 44.4888358201659], [-73.2265312335867, 44.4886481764446], [-73.2266200982463, 44.4884643878276], [-73.2266969571979, 44.4882629583183], [-73.2267558015936, 44.488097781555], [-73.2267890024267, 44.4879873270808], [-73.2268268955489, 44.4878435168872], [-73.2268510510337, 44.4877322758053], [-73.2268722579351, 44.4875735256078], [-73.2268817597127, 44.4874844552145], [-73.2268865689033, 44.4873972424722], [-73.2268854930431, 44.4872473518409], [-73.2268766711406, 44.4870747311045], [-73.2268556598888, 44.486932983145], [-73.2268218821552, 44.4867754269985], [-73.226782015381, 44.4866337981097], [-73.2267303547807, 44.4864914019], [-73.226682184923, 44.486377105828], [-73.2266297174898, 44.486264664863], [-73.2265814176489, 44.4861714624775], [-73.2265079901624, 44.4860477650905], [-73.2264315046609, 44.4859309779816], [-73.2263376283302, 44.4858055827528], [-73.2262299140289, 44.4856731037744], [-73.2261446482527, 44.4855767614477], [-73.2260213004771, 44.4854507091747], [-73.2258119557936, 44.4852643175298], [-73.2257218467876, 44.4851890976691], [-73.2256297942112, 44.4851155774814], [-73.2254608154832, 44.4849844715203], [-73.2250912608669, 44.4847083978011], [-73.2248846373948, 44.4845509536871], [-73.2247045761372, 44.4844128856609], [-73.2244962890347, 44.4842477172634], [-73.2243308500312, 44.4841165871553], [-73.2241470602019, 44.4839626533536], [-73.2240076786612, 44.4838419031108], [-73.2238705897499, 44.4837157960899], [-73.2238662177888, 44.4837117452474], [-73.225157473842, 44.4832036632744], [-73.2259295567779, 44.482899807499], [-73.2270600824285, 44.4835282026417], [-73.2279610164973, 44.4841723934418], [-73.2286247721734, 44.4846653805345], [-73.2287311049935, 44.4849390440644], [-73.2286064355855, 44.4852437121746], [-73.2285363079526, 44.4854801133908], [-73.2285688731672, 44.4856345836888], [-73.2288184341503, 44.4858318234596], [-73.2290967109304, 44.4858743408392], [-73.2295989687694, 44.4856689275409], [-73.2299938386611, 44.4856416558925], [-73.2303547661853, 44.4857592939741], [-73.2305851154689, 44.4859905410532], [-73.2306232135988, 44.4862730770993], [-73.2303099680452, 44.4866398389437], [-73.2302504998296, 44.4868169737314], [-73.2303979900295, 44.4869563661823], [-73.2307295157742, 44.4871726225214], [-73.2310208543173, 44.4873795732067], [-73.2312925035139, 44.4875825715639], [-73.2317454555915, 44.487895073095], [-73.2319965146046, 44.4882419120113], [-73.2320759916333, 44.4883141010186], [-73.2324805230322, 44.4886807653235], [-73.2335058072145, 44.4892044495037], [-73.2342817898114, 44.489552973047], [-73.2350268445897, 44.4898469899308], [-73.2354185387901, 44.4900338787969], [-73.2358001607565, 44.4902007228509], [-73.2361734618278, 44.4903618533167], [-73.236582106445, 44.4904902729392], [-73.2370434564201, 44.490654348746], [-73.2374720619823, 44.4907764492445], [-73.237996266941, 44.4909084768826], [-73.2384291096608, 44.4910235160409], [-73.2389240947848, 44.4911436348822], [-73.2393521094767, 44.4912494206505], [-73.2399827236835, 44.4914067640412], [-73.2409043764534, 44.4915873868362], [-73.2416546559786, 44.4917308666489], [-73.2420322205012, 44.4917923948371], [-73.2424120907103, 44.4918496878515], [-73.243196039551, 44.4919523016972], [-73.2439109165967, 44.4920917790041], [-73.2440894108592, 44.4920702271186], [-73.244437373757, 44.4920281649795], [-73.2446198811909, 44.4918280030484], [-73.2446263631308, 44.4915963665292], [-73.2446109854008, 44.4911906478695], [-73.2446771999263, 44.4908675016427], [-73.2450225515021, 44.4903739366085], [-73.2450914851804, 44.4900794580783], [-73.2455497590367, 44.4897229586012], [-73.2461973225123, 44.4895148355277], [-73.2464544627426, 44.4892531559245], [-73.2465938408413, 44.4887530565977], [-73.2468995113471, 44.4882925084771], [-73.2472558223356, 44.4879522765411], [-73.2478111788457, 44.4876630505484], [-73.2482692586825, 44.4875399635027], [-73.2486960583373, 44.4875208549781], [-73.2491350763646, 44.4876889656665], [-73.2493987921489, 44.4878810053396], [-73.2497211650593, 44.4881130155743], [-73.2499906460786, 44.4889692865369], [-73.2500871196256, 44.4893235685006], [-73.2500760769455, 44.4897494271233], [-73.2499633714586, 44.4900599451292], [-73.2497325751156, 44.4904757163765], [-73.2494579033658, 44.4911777880423], [-73.2494754150811, 44.4918702078527], [-73.2494448967794, 44.4923710018552], [-73.2493869958804, 44.492789152761], [-73.2491734423398, 44.4930798010756], [-73.2488700181327, 44.4935015301076], [-73.2483761157944, 44.4939299908427], [-73.2481728103699, 44.4945003966978], [-73.2478481574212, 44.4949838523026], [-73.2478751302953, 44.4953419656218], [-73.248323719316, 44.4959467697701], [-73.2485050718382, 44.4963321348743], [-73.2485121565363, 44.4966709737253], [-73.2482409930655, 44.4971897957353], [-73.2480144298419, 44.4974172501074], [-73.2475990687508, 44.4979067821676], [-73.2474494568267, 44.4982833471595], [-73.2475804165848, 44.4985381304805], [-73.2476078205742, 44.498591665987], [-73.248008694285, 44.4988434154419], [-73.2483578709828, 44.4991082985167], [-73.2488940392239, 44.4993996565699], [-73.2493501927319, 44.4996407740414], [-73.2498433657766, 44.4998573193875], [-73.2501260875687, 44.5000561221381], [-73.2504067499519, 44.500186176703], [-73.2508127483893, 44.5003149837187], [-73.2511969323783, 44.5004584173445], [-73.2516555730713, 44.500647059653], [-73.2517794993193, 44.5006889912539], [-73.2520040694141, 44.5007651328573], [-73.2523739301432, 44.5008944539283], [-73.2527350354702, 44.5010149724704], [-73.2531182750674, 44.5011454691652], [-73.2535470763825, 44.5013046304131], [-73.2539317838804, 44.501426676826], [-73.2542921629376, 44.5015514141553], [-73.2547418690614, 44.5016551709817], [-73.2553780920928, 44.5018393902379], [-73.2558065369251, 44.5019396270187], [-73.2561743472745, 44.5020307026746], [-73.256559379034, 44.502146691359], [-73.2569474344206, 44.5022228650589], [-73.2571661980656, 44.5022745682423], [-73.2577479977682, 44.502412310172], [-73.2581712672897, 44.5025068073758], [-73.2586277338389, 44.5025853335188], [-73.2592472933135, 44.5027858120275], [-73.2598891979274, 44.5029515483236], [-73.2605416403341, 44.5030812122518], [-73.2611266027358, 44.5032494293186], [-73.2617157342484, 44.503314965493], [-73.2622748299235, 44.5033372499], [-73.2631311876641, 44.503433195728], [-73.2638889805476, 44.5035344354221], [-73.2642754303479, 44.503576566331], [-73.2646825894327, 44.503609556957], [-73.2651319105345, 44.5036512640003], [-73.2658804276949, 44.5037338509216], [-73.266272992197, 44.5037625744258], [-73.2666722180061, 44.503789847055], [-73.2670704677726, 44.5038024998876], [-73.2674625345448, 44.5038232077622], [-73.2679033801056, 44.5038177139015], [-73.2683140824664, 44.5038209984689], [-73.2690684869362, 44.5037830163641], [-73.2697863618974, 44.5036866388785], [-73.2706717932807, 44.5035421610857], [-73.2710402956398, 44.5033849963678], [-73.2712255733181, 44.5031012482041], [-73.2712645687656, 44.5026015170375], [-73.2713321571141, 44.5022437556738], [-73.2712329272562, 44.5017812363541], [-73.2711211934244, 44.5012345730367], [-73.2709790095215, 44.5008520729168], [-73.2709837734369, 44.5005575913101], [-73.2711387003584, 44.5001778657825], [-73.2713913731249, 44.49958233871], [-73.2716884299296, 44.4988367543781], [-73.2720251817397, 44.4983604616158], [-73.27222176259, 44.498100961542], [-73.2724081918824, 44.4978167813469], [-73.2725991443637, 44.4975777077702], [-73.2727988526992, 44.4973174826573], [-73.2730767273407, 44.4971148023288], [-73.2732988389622, 44.496914748751], [-73.2736115614599, 44.4967624529464], [-73.2736366284645, 44.4967563768247], [-73.273873183936, 44.4966979653004], [-73.2741883881365, 44.4967335141966], [-73.2744523306883, 44.4968443588865], [-73.2745774000803, 44.4970313738213], [-73.2746519781283, 44.4973815640584], [-73.2746039874367, 44.4977930509438], [-73.2744907786096, 44.4982349310556], [-73.2743667315767, 44.4987190702207], [-73.2744071219187, 44.4990987404448], [-73.274282824065, 44.4995938487477], [-73.2736834719447, 44.5000609587775], [-73.2736168325331, 44.5005189751191], [-73.2734176479433, 44.5009085646865], [-73.2733195778762, 44.501218583935], [-73.2736866453707, 44.5015487948746], [-73.2741996463875, 44.5020381781704], [-73.2746422668219, 44.5021677770787], [-73.2753044733541, 44.502498653391], [-73.2756063659559, 44.5027724916569], [-73.2758638834034, 44.5030781294439], [-73.2760724116032, 44.5034527192059], [-73.2760120059609, 44.5037869523063], [-73.2759283669582, 44.5041473560213], [-73.2763264168344, 44.5042630500664], [-73.2766875508984, 44.5043805398746], [-73.2769181563517, 44.5046116909424], [-73.2769564913748, 44.5048942089494], [-73.2774251374286, 44.5051466590733], [-73.2776259678362, 44.5055025965722], [-73.2777243890261, 44.5058112813231], [-73.2777635738966, 44.5063346679537], [-73.2775086733887, 44.5067894682536], [-73.2771858603757, 44.5069544981193], [-73.2767846119038, 44.507043284768], [-73.2762350406223, 44.5076232654294], [-73.2755144650747, 44.5082598068648], [-73.2753141613885, 44.5087734304076], [-73.2749519997188, 44.5096776571973], [-73.2749130188645, 44.5101764043714], [-73.2746163246906, 44.5104460090797], [-73.2742115529109, 44.5108942243995], [-73.274108758205, 44.5113529064327], [-73.2742153534489, 44.5116265254031], [-73.2741187284873, 44.511898287495], [-73.273820523854, 44.5122625344485], [-73.2734741054839, 44.5125477998767], [-73.2731160984409, 44.5126701688636], [-73.2722740325928, 44.512685849886], [-73.2716090928247, 44.512870191926], [-73.2714317224295, 44.5131894623767], [-73.2712055102711, 44.5139777350894], [-73.2713268225253, 44.514265177532], [-73.2712967312154, 44.5145464716911], [-73.2710728879474, 44.5149784074632], [-73.2707949222577, 44.515181082929], [-73.2704126979549, 44.5152570637266], [-73.2699442952368, 44.5153552786092], [-73.2697799007995, 44.5156463357561], [-73.2695321578843, 44.5160853203538], [-73.2696677850239, 44.5162960327149], [-73.2697568633521, 44.5164342202114], [-73.269807380857, 44.5167184857175], [-73.2698541469124, 44.5170164159631], [-73.2698855692417, 44.5173131842921], [-73.269902439232, 44.5176092074541], [-73.269906616247, 44.5178965975492], [-73.2699003457582, 44.5182561936222], [-73.2699060423212, 44.518778260589], [-73.2698646538146, 44.5194262152674], [-73.2699623634048, 44.5198909935599], [-73.2701352941723, 44.5204261356455], [-73.2702729600849, 44.5210292914886], [-73.2703836067063, 44.5215506503053], [-73.2706563717986, 44.5223525681642], [-73.2708059147574, 44.5228122152497], [-73.2709736699607, 44.5230729084624], [-73.2711164222383, 44.523345301151], [-73.2714186264459, 44.5238743655194], [-73.2718053927238, 44.524168028504], [-73.2722793345886, 44.5245731718781], [-73.2725765576189, 44.5249619321238], [-73.2718929937719, 44.5250860776611], [-73.2707399912007, 44.5252956469716]]]}}, \"sourcetype\": \"geojson\", \"type\": \"fill\"}, {\"below\": \"road_major_label\", \"color\": \"rgba(254,217,166,0.5)\", \"source\": {\"type\": \"Feature\", \"properties\": {\"OBJECTID\": 8, \"WARD\": 5, \"DISTRICT\": \"South\", \"Shape__Are\": 3945828.28310394, \"Shape__Len\": 9586.5616136336, \"COLOR\": \"rgba(254,217,166,0.5)\"}, \"geometry\": {\"type\": \"Polygon\", \"coordinates\": [[[-73.2139190040674, 44.4747471960899], [-73.2137389604974, 44.4722214398187], [-73.2137206042604, 44.4720366433079], [-73.2136979127126, 44.4719150105673], [-73.2136581988396, 44.4717501751301], [-73.2136217428434, 44.4716592832737], [-73.2135516073152, 44.4715119330524], [-73.2134656142252, 44.4713846498724], [-73.2133276616201, 44.4712156465223], [-73.2124790636138, 44.4702916074269], [-73.2099667437596, 44.4675785822594], [-73.2095879392946, 44.4671721638471], [-73.2092085658486, 44.4667507005524], [-73.20886105798, 44.4663658802669], [-73.2086564283823, 44.4661369605159], [-73.2084939834935, 44.4659539010508], [-73.2083044898223, 44.465742322353], [-73.2081575785216, 44.4655770246322], [-73.2080504318655, 44.4654525394414], [-73.2079811235326, 44.4653718333659], [-73.2078595414072, 44.4652225485065], [-73.2078174659334, 44.4651530632878], [-73.207786073554, 44.4650901210689], [-73.2077495323883, 44.464991072427], [-73.2077248279232, 44.4648965896589], [-73.2077142074904, 44.4647976611648], [-73.2077158497251, 44.4646410041996], [-73.2077861034278, 44.4636950606534], [-73.2077803213935, 44.4635415427884], [-73.2077532674968, 44.4633175665818], [-73.2077504217925, 44.4632446046958], [-73.207759186777, 44.4631899910053], [-73.2077821295682, 44.4631061815208], [-73.2078472721292, 44.4628424024832], [-73.2078640343337, 44.4627672086912], [-73.2078846118399, 44.4626502282366], [-73.207923329633, 44.4622796036218], [-73.2084784453252, 44.4562270970792], [-73.2085552081798, 44.455236676294], [-73.2083803758922, 44.4552280584204], [-73.2087687402409, 44.4511083776562], [-73.2092543861436, 44.4459155997923], [-73.2096315335229, 44.4459374433271], [-73.2134364139489, 44.4461575705871], [-73.217464216296, 44.4463698424876], [-73.217958028954, 44.4463965502944], [-73.2193632275238, 44.4464703914787], [-73.2195915263061, 44.4464869523605], [-73.2196039459573, 44.446347381701], [-73.2206677593733, 44.4464028275308], [-73.2207864332711, 44.4464119214257], [-73.2209609180741, 44.4464261472139], [-73.2233910207924, 44.4465511182333], [-73.2269960517983, 44.4467307173312], [-73.2273555020476, 44.4467490997632], [-73.2282833789265, 44.4467953553], [-73.2287728457275, 44.4468192317035], [-73.2294249557968, 44.4468519110704], [-73.2299199315936, 44.4468767319201], [-73.2305076189191, 44.4469063006915], [-73.2306639706449, 44.4469143000745], [-73.2314940266462, 44.4469549690101], [-73.2321527733127, 44.4469843549708], [-73.2320806468484, 44.4476533124902], [-73.2320551813194, 44.4478461209775], [-73.2318766420232, 44.4484509359278], [-73.2315915383735, 44.4490426513366], [-73.2315647233023, 44.449253327832], [-73.231624525112, 44.4494835570946], [-73.2318151035776, 44.4495908926671], [-73.2321008557799, 44.4497111171601], [-73.2327202145819, 44.4497906716433], [-73.2329364574091, 44.4499093717543], [-73.2330901995214, 44.4500847186372], [-73.2332627865961, 44.4502599452225], [-73.2332798392628, 44.4504617621045], [-73.2331854337178, 44.4507928182315], [-73.2329809755133, 44.45161660047], [-73.2327887986151, 44.4519472999773], [-73.2326804337158, 44.4521357193819], [-73.2326646373842, 44.4523482935271], [-73.2326585025429, 44.4526426444409], [-73.2325342782332, 44.4529445024186], [-73.2324112034924, 44.4532442442913], [-73.2322423439926, 44.4535248739401], [-73.2321215521496, 44.4540075426337], [-73.2319872391646, 44.4542565934674], [-73.2316781784454, 44.4544725926501], [-73.2311380975922, 44.4545197834147], [-73.2306975976966, 44.454492088732], [-73.2303012219295, 44.4545706975671], [-73.2298374809215, 44.4550097153906], [-73.2292356705942, 44.455366227205], [-73.2285770825631, 44.4558306699005], [-73.2282751357826, 44.4561152364887], [-73.2277140086386, 44.4563662992093], [-73.2271192125672, 44.4566573683784], [-73.2267948445471, 44.4568129868151], [-73.2264263473724, 44.4569566510962], [-73.2259767529997, 44.4570201159362], [-73.2256776705544, 44.4571253694913], [-73.2249209090953, 44.4582594711452], [-73.2249090423113, 44.4583159336788], [-73.2248163378643, 44.4587574971059], [-73.224453328848, 44.4592193367311], [-73.2240231628544, 44.4594902213623], [-73.2235847114225, 44.4597582041209], [-73.2231523844464, 44.4599182920302], [-73.2227657454983, 44.4599623620553], [-73.2226607528862, 44.4602369483665], [-73.222348064277, 44.4607054940853], [-73.222284037934, 44.4608950286423], [-73.2220915757953, 44.4614647603194], [-73.2221234093353, 44.4617854465462], [-73.2220919554606, 44.462068988832], [-73.221812613953, 44.4626316754054], [-73.2214913750496, 44.4631726905758], [-73.2207380456992, 44.4640560214995], [-73.2205617239115, 44.4643117905973], [-73.220210930421, 44.4648143185953], [-73.2200282365278, 44.4652868183247], [-73.220007671771, 44.4653710364179], [-73.2199377639768, 44.4656581951529], [-73.2197409338005, 44.4660033850266], [-73.2197076861735, 44.4663658235922], [-73.2197003052161, 44.4666600405743], [-73.2196844609633, 44.4669367330894], [-73.2196988574914, 44.4672773572145], [-73.2196699123664, 44.4677982439711], [-73.2196758744505, 44.4680916739426], [-73.2196798063212, 44.4683796324109], [-73.2201894343728, 44.4690705045509], [-73.2205039947958, 44.4695154003144], [-73.2205563589213, 44.4698131775464], [-73.220722838335, 44.4700648152451], [-73.2211241918616, 44.4701895407087], [-73.2214850075319, 44.4703072078728], [-73.2217144529446, 44.4705367917962], [-73.2218909069837, 44.4708960767115], [-73.2218613638529, 44.4711758095342], [-73.2215243687469, 44.4720674808713], [-73.2214719361243, 44.4724341184254], [-73.2215131340035, 44.4727813222913], [-73.2215809871518, 44.4729011211312], [-73.2216512502413, 44.473025122752], [-73.2222910523722, 44.4738197811739], [-73.2225435443575, 44.4741331654658], [-73.2225510286867, 44.4744531616562], [-73.2218321404921, 44.4744765495371], [-73.2194124216757, 44.4745555167572], [-73.2185914489818, 44.474582199154], [-73.2170069160105, 44.474641092181], [-73.2154874556752, 44.4746897119755], [-73.2139190040674, 44.4747471960899]]]}}, \"sourcetype\": \"geojson\", \"type\": \"fill\"}, {\"below\": \"road_major_label\", \"color\": \"rgba(255,255,204,0.5)\", \"source\": {\"type\": \"Feature\", \"properties\": {\"OBJECTID\": 7, \"WARD\": 6, \"DISTRICT\": \"South\", \"Shape__Are\": 3020282.76257324, \"Shape__Len\": 9281.90557654939, \"COLOR\": \"rgba(255,255,204,0.5)\"}, \"geometry\": {\"type\": \"Polygon\", \"coordinates\": [[[-73.2109906893559, 44.4759969839105], [-73.2007023529722, 44.4763547369941], [-73.1992185105388, 44.476397719214], [-73.1991757861112, 44.4756815387582], [-73.1991691954024, 44.4755572739848], [-73.1991543023503, 44.4753297065638], [-73.1991161436687, 44.4746011246361], [-73.1983657941845, 44.4745562181207], [-73.1984689120685, 44.4744421096644], [-73.1985712457306, 44.4743281463011], [-73.1986790120362, 44.474208666235], [-73.1986668345637, 44.4742086003365], [-73.1984448995983, 44.474108432052], [-73.1983284044046, 44.4740558513449], [-73.1981791364991, 44.4739888458258], [-73.1981017123795, 44.4739519146006], [-73.1980176211179, 44.4739158682197], [-73.1978150139295, 44.4738223310824], [-73.1975306430528, 44.4736902010755], [-73.1964381972715, 44.4731826326634], [-73.1964710210226, 44.4731354660766], [-73.1965125840264, 44.4730634985433], [-73.1965513916807, 44.4729909844314], [-73.1965988402071, 44.4728855137417], [-73.1966238794309, 44.4728112557851], [-73.1966441572325, 44.4727329492046], [-73.1966581645693, 44.472655805801], [-73.1966720196514, 44.4725658678763], [-73.1966803359864, 44.4725056331888], [-73.1966834135415, 44.4724341811177], [-73.1966768329207, 44.4723432420084], [-73.1966690981718, 44.4722542790213], [-73.1966529983105, 44.4721555234349], [-73.1966251198625, 44.4720571213704], [-73.1965930144795, 44.4719666187154], [-73.1965645982961, 44.4718890311906], [-73.1965206773091, 44.4717956487465], [-73.1964550084746, 44.4716900237277], [-73.1962827808765, 44.4714750864884], [-73.1962364987642, 44.4714143414097], [-73.1961801087188, 44.4713293305505], [-73.196143252288, 44.4712685270783], [-73.1961125542268, 44.4711971404772], [-73.1960860498447, 44.4711150414341], [-73.1960704192639, 44.4710556555798], [-73.1960640069032, 44.4709787770642], [-73.1960632765612, 44.4709173322132], [-73.1960710374328, 44.4708433209447], [-73.196083894712, 44.4707685748554], [-73.1960990661109, 44.4706901590736], [-73.1961175468082, 44.4706259251882], [-73.196144330435, 44.4705662808204], [-73.1961765135047, 44.4704983069193], [-73.1962162491237, 44.4704378807259], [-73.1962726721456, 44.4703606200667], [-73.1963671285885, 44.4702450192185], [-73.1966036694905, 44.4699897636878], [-73.1967579258227, 44.4698168481885], [-73.1978802569728, 44.4698052153609], [-73.1981708531277, 44.4698021731247], [-73.198207129119, 44.4703742621385], [-73.198221501982, 44.4704267644987], [-73.1982435553939, 44.4704647370486], [-73.1982745331088, 44.4704935151675], [-73.1983184159939, 44.4705175733455], [-73.1983921546587, 44.4705422930983], [-73.1984819134723, 44.4705600239347], [-73.1986279061793, 44.470583598776], [-73.1987058096156, 44.4705952148155], [-73.1987656948012, 44.4706108792103], [-73.1988221086339, 44.4706319078008], [-73.199111858158, 44.4707550022683], [-73.1991666572839, 44.4707722436941], [-73.1992166333709, 44.4707803747555], [-73.1992677227913, 44.4707830146996], [-73.1993321295862, 44.4707826203516], [-73.1993992222718, 44.4707768665325], [-73.1994642515945, 44.4707628277962], [-73.1995276176208, 44.4707410659628], [-73.1995952122339, 44.4707116853371], [-73.1998342939572, 44.4706043364221], [-73.1998894685702, 44.4705872647081], [-73.1999321839941, 44.4705794091871], [-73.1999714378092, 44.4705776225114], [-73.2000063991787, 44.4705781110989], [-73.2004374661499, 44.4705964199687], [-73.2003709845684, 44.4689783288329], [-73.2003703287808, 44.4689234918474], [-73.200376131128, 44.468850335523], [-73.200382835338, 44.4687870172941], [-73.2003964834503, 44.4687131090955], [-73.2009027009288, 44.4670375074336], [-73.2000866747275, 44.466944220892], [-73.1999883387634, 44.4669313243957], [-73.1999088019621, 44.4669140945574], [-73.1998402187476, 44.4668932814497], [-73.1997782734359, 44.4668691932179], [-73.1992894019694, 44.4666450918962], [-73.1991481720635, 44.4665919596342], [-73.1990335293017, 44.4665618660344], [-73.1989508668071, 44.466545919985], [-73.198878518466, 44.4665386285593], [-73.1988027019362, 44.4665368425907], [-73.1987112299925, 44.4665396520863], [-73.1986060612672, 44.4665464825607], [-73.1985095670416, 44.4665562126161], [-73.1984315368374, 44.4665663921486], [-73.1983798367544, 44.4665780989325], [-73.198333298058, 44.4665945537584], [-73.1982728129512, 44.4666269842127], [-73.1981905701572, 44.4666792340043], [-73.1981134714588, 44.4667346867067], [-73.1980556036963, 44.4667890372782], [-73.1979865396568, 44.4668596274084], [-73.1979351177699, 44.4669277185278], [-73.1978856967523, 44.4669988914183], [-73.1973239406353, 44.4679753911808], [-73.197299121853, 44.4680348834636], [-73.1972848753302, 44.468091779643], [-73.1972844632849, 44.4681561842189], [-73.1972983694404, 44.4682026437163], [-73.1967437412109, 44.4683275214485], [-73.1966109315546, 44.4683550492083], [-73.1964871116275, 44.4683790058977], [-73.1963534598785, 44.4684018974628], [-73.1962472437371, 44.468419981496], [-73.196172829636, 44.4684373091219], [-73.1960518880362, 44.4684722163571], [-73.1959595712559, 44.4685032925545], [-73.1958845787094, 44.4685380600035], [-73.1958023156578, 44.4685889024643], [-73.1956217983695, 44.4687331495333], [-73.1955766964672, 44.4687715316035], [-73.1955419983667, 44.4687931166719], [-73.1955052738536, 44.4688093701805], [-73.195460284647, 44.4688241278924], [-73.1953924885058, 44.4688366341891], [-73.1952564184987, 44.4688543365953], [-73.1942030249391, 44.4689483477236], [-73.1941253761969, 44.4689579604248], [-73.1940403464885, 44.4689743666326], [-73.1939757915201, 44.4689952885013], [-73.1939015026132, 44.4690233007632], [-73.1938443830762, 44.4690419284142], [-73.1937735008415, 44.4690590926273], [-73.1937001894092, 44.4690702248027], [-73.1935773640096, 44.4690788452868], [-73.1933607726427, 44.4690959094496], [-73.1930971303824, 44.4691195862689], [-73.192899849268, 44.4691422974368], [-73.1928579060344, 44.4691490207105], [-73.1920388053296, 44.4647086650401], [-73.1911641976955, 44.4602123900488], [-73.1907258327129, 44.4579698091702], [-73.1899787114897, 44.45414588344], [-73.1989975286409, 44.4546920411039], [-73.1991908570378, 44.4547043570042], [-73.1996246499034, 44.4547305277959], [-73.1999334935348, 44.454749305585], [-73.1999943921942, 44.4547525888616], [-73.2014085516241, 44.4548384077359], [-73.2014659175105, 44.4548417110232], [-73.2017892985934, 44.4548612395603], [-73.2019232895624, 44.4548694156699], [-73.2021747584998, 44.4548840402407], [-73.2025566744036, 44.454906019067], [-73.2029409563896, 44.4549288244066], [-73.2033193386516, 44.4549508224301], [-73.2036985076637, 44.4549728134525], [-73.2040796377204, 44.4549946507347], [-73.2044623503544, 44.4550174615287], [-73.2048426974065, 44.4550394414856], [-73.205223829965, 44.4550614153255], [-73.2057098878653, 44.4550907554762], [-73.207009909884, 44.4551528827197], [-73.2082023997452, 44.4552193193811], [-73.2083803758922, 44.4552280584204], [-73.2085552081798, 44.455236676294], [-73.2084784453252, 44.4562270970792], [-73.207923329633, 44.4622796036218], [-73.2078846118399, 44.4626502282366], [-73.2078640343337, 44.4627672086912], [-73.2078472721292, 44.4628424024832], [-73.2077821295682, 44.4631061815208], [-73.207759186777, 44.4631899910053], [-73.2077504217925, 44.4632446046958], [-73.2077532674968, 44.4633175665818], [-73.2077803213935, 44.4635415427884], [-73.2077861034278, 44.4636950606534], [-73.2077158497251, 44.4646410041996], [-73.2077142074904, 44.4647976611648], [-73.2077248279232, 44.4648965896589], [-73.2077495323883, 44.464991072427], [-73.207786073554, 44.4650901210689], [-73.2078174659334, 44.4651530632878], [-73.2078595414072, 44.4652225485065], [-73.2079811235326, 44.4653718333659], [-73.2080504318655, 44.4654525394414], [-73.2081575785216, 44.4655770246322], [-73.2083044898223, 44.465742322353], [-73.2084939834935, 44.4659539010508], [-73.2086564283823, 44.4661369605159], [-73.20886105798, 44.4663658802669], [-73.2092085658486, 44.4667507005524], [-73.2095879392946, 44.4671721638471], [-73.2099667437596, 44.4675785822594], [-73.2124790636138, 44.4702916074269], [-73.2133276616201, 44.4712156465223], [-73.2134656142252, 44.4713846498724], [-73.2135516073152, 44.4715119330524], [-73.2136217428434, 44.4716592832737], [-73.2136581988396, 44.4717501751301], [-73.2136979127126, 44.4719150105673], [-73.2137206042604, 44.4720366433079], [-73.2137389604974, 44.4722214398187], [-73.2139190040674, 44.4747471960899], [-73.2125444312804, 44.4747923403231], [-73.2122817663048, 44.4747686677251], [-73.2108051749407, 44.474822442138], [-73.2109841076837, 44.4758755321086], [-73.2109906893559, 44.4759969839105]]]}}, \"sourcetype\": \"geojson\", \"type\": \"fill\"}, {\"below\": \"road_major_label\", \"color\": \"rgba(229,216,189,0.5)\", \"source\": {\"type\": \"Feature\", \"properties\": {\"OBJECTID\": 1, \"WARD\": 7, \"DISTRICT\": \"North\", \"Shape__Are\": 7072752.23921967, \"Shape__Len\": 23027.3495793427, \"COLOR\": \"rgba(229,216,189,0.5)\"}, \"geometry\": {\"type\": \"Polygon\", \"coordinates\": [[[-73.2707399912007, 44.5252956469716], [-73.2718929937719, 44.5250860776611], [-73.2725765576189, 44.5249619321238], [-73.2725885600772, 44.5249777402473], [-73.2729751031789, 44.5254616540278], [-73.2733005606759, 44.5257553056194], [-73.2734742344123, 44.5260160962375], [-73.2735649844184, 44.5261897042793], [-73.2736113665569, 44.5262782590289], [-73.2738775243169, 44.5266651167358], [-73.2738713428651, 44.5269999635705], [-73.2739958237059, 44.5273454558653], [-73.2741197359068, 44.5278260829729], [-73.2744975654214, 44.5285399566918], [-73.2749927960093, 44.5292715927932], [-73.2756829037737, 44.5300816332366], [-73.2751480260725, 44.5302450037349], [-73.2746331886455, 44.5303781436814], [-73.2742264212234, 44.5304782076789], [-73.2736211620922, 44.5306119568975], [-73.2731916398801, 44.5306861577398], [-73.272983715794, 44.5307200466499], [-73.2727755330258, 44.5307343920845], [-73.2724941947203, 44.5307168909183], [-73.2721766888933, 44.5306994923073], [-73.2718956592274, 44.5306755188273], [-73.2715604124378, 44.530684252906], [-73.2712530615566, 44.5307511522833], [-73.2710007811128, 44.5308500210363], [-73.2707306232567, 44.530994568322], [-73.2704975355908, 44.5311776755914], [-73.2703364398253, 44.5313342832196], [-73.2701674977664, 44.5315817805293], [-73.2700432501572, 44.5317900251408], [-73.2699913903332, 44.5319719092914], [-73.2699762095225, 44.5321923559387], [-73.2700111293158, 44.5324255417914], [-73.2700812254321, 44.5326130715016], [-73.2701789266858, 44.532806883757], [-73.2704276103381, 44.5330905145005], [-73.2707482067477, 44.5333411779616], [-73.2712795629063, 44.5337718105408], [-73.2723876017319, 44.5346395111751], [-73.2731115843093, 44.5352440382748], [-73.2735612880192, 44.5356818219263], [-73.2738559849227, 44.5360233485043], [-73.2741061966464, 44.5364495440085], [-73.2742830380299, 44.5367983369508], [-73.2743729208537, 44.5370830353912], [-73.2743979569407, 44.5372513220859], [-73.2743775593216, 44.5374329947182], [-73.2743209902495, 44.5376149125863], [-73.2742156549119, 44.5378555156065], [-73.2739978947089, 44.5381875778942], [-73.2737031545686, 44.5385266291191], [-73.2735332626072, 44.538702846371], [-73.2733361555274, 44.5388727780069], [-73.2731027007917, 44.539029879274], [-73.2728689037897, 44.5391611083048], [-73.2725624526891, 44.5392992970903], [-73.2722737443763, 44.5394114919049], [-73.2716691591161, 44.5396035815102], [-73.2713167159482, 44.5396837222182], [-73.2709461013645, 44.5397575166605], [-73.2704753604484, 44.5398125800938], [-73.270050058508, 44.5398543986376], [-73.2693257119386, 44.5399110266018], [-73.2686050944798, 44.5399224876702], [-73.2679072806842, 44.5399336495771], [-73.2672184242092, 44.5399382792052], [-73.2665632000916, 44.539898948338], [-73.2659479221836, 44.5398171603996], [-73.2654120240509, 44.5397013712434], [-73.2648928173621, 44.5395389239732], [-73.2644024469885, 44.5393561731584], [-73.2640105034887, 44.5391827457288], [-73.2636797164502, 44.5389648957349], [-73.2632862468978, 44.5386742025857], [-73.2629327647795, 44.5383139179351], [-73.2627482123806, 44.5380623251468], [-73.2625902812421, 44.5377716032387], [-73.2624966374379, 44.5375258708141], [-73.2624266918133, 44.5372279529588], [-73.2623790937616, 44.536744273005], [-73.2623914362645, 44.5364245726464], [-73.2624729057939, 44.5360689757706], [-73.2625720729033, 44.5358042379768], [-73.2627314252191, 44.5354512139105], [-73.2629517322551, 44.5350390057281], [-73.2631728038518, 44.5346855686772], [-73.2633533578675, 44.5343910392055], [-73.263552523175, 44.5340765575905], [-73.2637553581722, 44.5337723166556], [-73.263996670421, 44.5334039782043], [-73.264237788404, 44.5330210165378], [-73.2645593321804, 44.5325348663964], [-73.2649215726051, 44.5320044304027], [-73.2653737776119, 44.531349087361], [-73.266029074242, 44.5304716131132], [-73.2664027423336, 44.5299150819856], [-73.2666153741374, 44.5295507270593], [-73.2667827943758, 44.5291865348785], [-73.2668877733061, 44.5288875842635], [-73.2669614200425, 44.5286277950698], [-73.2670533886541, 44.5280567012607], [-73.267058177048, 44.5277325509688], [-73.2670144837792, 44.5274288335871], [-73.2669134551962, 44.5270398675662], [-73.2667694541305, 44.5266414868088], [-73.2665890942953, 44.5262583950647], [-73.2663177707792, 44.5258934909926], [-73.2659462696156, 44.525503526199], [-73.2655423400199, 44.5251584918913], [-73.2647913199625, 44.5246352316308], [-73.2643225890171, 44.5243540455556], [-73.2637927820489, 44.5240916859619], [-73.2629271578157, 44.5237307466373], [-73.2622048377079, 44.5235059447257], [-73.2616093556836, 44.5233608649081], [-73.26090117727, 44.523255342726], [-73.2602077724961, 44.5232276183265], [-73.2591430332574, 44.5232719634423], [-73.2585281764152, 44.5233294825902], [-73.2580670159221, 44.5234167733745], [-73.2576337901423, 44.5235363593813], [-73.2574306242688, 44.5236025304489], [-73.2572058092054, 44.523727200326], [-73.2570671611479, 44.5238577664684], [-73.2569334238111, 44.5240337198054], [-73.2567461963261, 44.5242683821477], [-73.2566260449812, 44.5244311671815], [-73.2565274620775, 44.5245291261196], [-73.2564064720308, 44.5246270920855], [-73.2561450099421, 44.5247455347017], [-73.2559556803258, 44.5248180802855], [-73.2556939393767, 44.5248846359469], [-73.255404264059, 44.5249190346793], [-73.2551326443179, 44.5249208309109], [-73.2548151732657, 44.5249033837719], [-73.254343116144, 44.5248482874202], [-73.2538375972632, 44.5247591007227], [-73.2534887134133, 44.5246528478924], [-73.2531166172793, 44.5245145463543], [-73.2525593836399, 44.5242248952571], [-73.2521066487878, 44.5239294920559], [-73.2519372808548, 44.523781554904], [-73.2518131161817, 44.5236331786524], [-73.2515904353281, 44.5232521702519], [-73.2514047297621, 44.5229034005282], [-73.2512709452439, 44.5227098092217], [-73.2511420677666, 44.5225614641129], [-73.250991703167, 44.5224846928113], [-73.2507871174327, 44.5224406188725], [-73.2506147880838, 44.5224288149748], [-73.2504703904528, 44.5224493096819], [-73.2503261814156, 44.522515080702], [-73.2501686290731, 44.5226132811939], [-73.2500568399467, 44.5227242579451], [-73.2499680973664, 44.5228544877345], [-73.2499112978992, 44.5230233184834], [-73.2499227496463, 44.5232112459415], [-73.2500026205227, 44.5234312065056], [-73.2501413684436, 44.5236441711567], [-73.2502396543259, 44.5238898838267], [-73.2502792283822, 44.5241553874955], [-73.2502559344298, 44.5244537856346], [-73.2501860417114, 44.5246745893523], [-73.2501342919969, 44.524869400618], [-73.2500369228773, 44.5250321694596], [-73.2498772015899, 44.5252989809593], [-73.2496761841967, 44.5255337222081], [-73.2494266316664, 44.5258465425775], [-73.2491761018754, 44.5261139488991], [-73.2488897989395, 44.526381590136], [-73.2486026854507, 44.5266168939688], [-73.2482566033468, 44.5268524421368], [-73.2477815932635, 44.5271204726067], [-73.2473564839046, 44.5273251788789], [-73.2469015499808, 44.5275035025339], [-73.2463098859806, 44.5276884829341], [-73.2458455079117, 44.5278665824049], [-73.2451470601742, 44.528156309432], [-73.2445482276905, 44.5284584607101], [-73.2439718594852, 44.5287344479895], [-73.2434308280647, 44.5289455192822], [-73.2431148233616, 44.5290447403583], [-73.2427894465482, 44.5291181491935], [-73.2425090126072, 44.529139518483], [-73.2422821038735, 44.5291345247085], [-73.2420643008597, 44.5291034586098], [-73.2418188801064, 44.5290337607537], [-73.2415906551044, 44.5289250004927], [-73.2412621360478, 44.5287197253457], [-73.2410058035435, 44.5285333862779], [-73.2408409375272, 44.5283983401851], [-73.2407215919427, 44.5282565298739], [-73.2406377712751, 44.5280949442047], [-73.2406033010066, 44.5278877598671], [-73.2405899895065, 44.527550791396], [-73.2406026504619, 44.5271228165047], [-73.2405373421264, 44.5265915734592], [-73.240399334405, 44.526093424421], [-73.2402952012872, 44.5257245621719], [-73.2401825394266, 44.5254270473194], [-73.2400489498002, 44.5252463782983], [-73.2399067305688, 44.5250982474103], [-73.239719161058, 44.5249698145572], [-73.2392719248252, 44.5247004789027], [-73.2388696687395, 44.5244437871163], [-73.2382214290167, 44.524039491379], [-73.2376684204381, 44.5236735271388], [-73.2374348383738, 44.5234805641781], [-73.2372103653479, 44.5232616695889], [-73.2370218272805, 44.5230554783819], [-73.2369063341537, 44.5228746888241], [-73.236808513564, 44.5226613036311], [-73.2367470207525, 44.5224607601228], [-73.2366891022658, 44.5221694976494], [-73.2366679168304, 44.5219232759461], [-73.236696012975, 44.5216573309633], [-73.2367383405934, 44.5213977629221], [-73.2368298654541, 44.5211118638187], [-73.2369309200925, 44.5208648534143], [-73.2371655203452, 44.5204225095068], [-73.2373965590689, 44.5200409348962], [-73.2375782885404, 44.5197392653037], [-73.2377830862004, 44.5194591025372], [-73.2379259940509, 44.5192897213817], [-73.2380961193901, 44.5191589749459], [-73.2382715979484, 44.5190475981487], [-73.2384962726138, 44.5189100297156], [-73.2387398272534, 44.5188046798507], [-73.2389110792592, 44.5187322796933], [-73.2390631790496, 44.5186684410509], [-73.2391989498097, 44.5185878331231], [-73.2393293575455, 44.5184872927873], [-73.2394861424888, 44.5182967279309], [-73.2395751612422, 44.5180627296345], [-73.2395983164281, 44.5179045277584], [-73.2395799946364, 44.5177612184932], [-73.2395186595414, 44.5175113198841], [-73.239458384866, 44.5173452212706], [-73.2393382499442, 44.5171390128448], [-73.2391820720739, 44.5169420369659], [-73.2389766530659, 44.5167675963034], [-73.2387391823124, 44.5166071433714], [-73.2385294030249, 44.5164917895631], [-73.2382829907373, 44.5163702034094], [-73.2380097732969, 44.5162423211666], [-73.2376636835285, 44.5161019732225], [-73.2374134414679, 44.5160192198375], [-73.2371316109063, 44.5159562146853], [-73.2368456213402, 44.5159061732091], [-73.2363741268018, 44.5158574676111], [-73.2359653521919, 44.5157952788867], [-73.2357383178383, 44.5157448547144], [-73.2355292001794, 44.5156813771651], [-73.2353651184803, 44.5156046735265], [-73.2352191131842, 44.515527712896], [-73.2349908591731, 44.5153801294396], [-73.2347070814431, 44.51516161035], [-73.23446393293, 44.5149232834707], [-73.2342430935326, 44.5146458632242], [-73.2340125667426, 44.5143167573237], [-73.2337618688668, 44.5140087320468], [-73.2334782490364, 44.5137079488734], [-73.2332173560523, 44.5134013944489], [-73.233043024233, 44.5132274471713], [-73.2328603039533, 44.5131054404247], [-73.23260527281, 44.5129838972471], [-73.2323868983136, 44.5129334108346], [-73.2321511640597, 44.5129090489752], [-73.2319247125874, 44.5129040316599], [-73.2316620360994, 44.5129251201622], [-73.2314004007409, 44.5129980883697], [-73.2311476552093, 44.5130905439768], [-73.2308777080256, 44.5132219199431], [-73.2303826142059, 44.5134843825588], [-73.2299869350264, 44.5137137251871], [-73.2298075392948, 44.5138575968399], [-73.2296554195295, 44.5140140893059], [-73.2295129042395, 44.5142159393116], [-73.2293531997574, 44.5144891912842], [-73.2292023729989, 44.5147495909871], [-73.2289894592385, 44.5150428683365], [-73.2287869540051, 44.5153199078304], [-73.2285393216625, 44.5155715019337], [-73.2282730563207, 44.515810418957], [-73.2279052098021, 44.5160672787624], [-73.227567894173, 44.5162509622365], [-73.2272344146784, 44.5163956708747], [-73.2269003718954, 44.516495103435], [-73.2265523284307, 44.5165750782851], [-73.225955818332, 44.516682646247], [-73.2252139555232, 44.5167651195821], [-73.2245437653988, 44.5167952464871], [-73.2239547644489, 44.5167795761613], [-73.2234377596392, 44.516737434009], [-73.2229338699586, 44.5166750973381], [-73.222235200931, 44.5165635100047], [-73.2215270931363, 44.516451274271], [-73.220822243186, 44.5163480138836], [-73.220374547156, 44.5163159659026], [-73.2201391238443, 44.5163174505816], [-73.2199490574273, 44.5163315855064], [-73.2196050050683, 44.5163532996005], [-73.2194237386674, 44.5163479727949], [-73.2192422331401, 44.5163231023072], [-73.2190238520428, 44.5162402483627], [-73.2188231527696, 44.5161248011727], [-73.2187403677951, 44.5160410931784], [-73.2186480585607, 44.5158860122985], [-73.2186097542673, 44.5157436694851], [-73.2186163249855, 44.5155426876813], [-73.2186687234562, 44.5153608238203], [-73.2187304865807, 44.5152372558282], [-73.2188189458978, 44.5151431890151], [-73.2190628135778, 44.5149657443535], [-73.2193883358459, 44.5147803315619], [-73.2198169164417, 44.5146015803674], [-73.2203377051852, 44.5144102930196], [-73.2209242042474, 44.5142250582015], [-73.2215469382856, 44.5140461997128], [-73.2221650513171, 44.5138753819133], [-73.2227680841877, 44.5137249048605], [-73.223348951781, 44.5135939704242], [-73.2238465657226, 44.5135324619606], [-73.2243532972908, 44.5134773622748], [-73.2248873064466, 44.5134350238595], [-73.2254084386014, 44.5134002171442], [-73.2258688902728, 44.5133532782514], [-73.2262573592894, 44.5132700956817], [-73.2265732558707, 44.5131667027626], [-73.2269834488805, 44.5129974621845], [-73.2273391572127, 44.5127771031165], [-73.2275875808299, 44.51258962633], [-73.2278364213467, 44.5123726174853], [-73.2281233082891, 44.5121179622017], [-73.2284404222505, 44.5117659467906], [-73.228587648339, 44.5115639275957], [-73.2287072056324, 44.5113492884863], [-73.2287946048335, 44.5111088398624], [-73.2288640762745, 44.5108491010471], [-73.2289058779041, 44.510576602122], [-73.2288836803279, 44.5102461558486], [-73.2288252478508, 44.5099094729116], [-73.2286881855929, 44.5094759854889], [-73.2284655378699, 44.5090495116668], [-73.2282619390509, 44.5087008175342], [-73.2279582855693, 44.5083017170189], [-73.2276316702522, 44.5079203387153], [-73.2272880324184, 44.5075919394135], [-73.2269356121226, 44.5073154828864], [-73.2265381624481, 44.5070521070856], [-73.2260545715201, 44.506750608844], [-73.2257532732164, 44.5065709885233], [-73.2255156377206, 44.506390963005], [-73.2253234340827, 44.5062300539114], [-73.225149872426, 44.5061145856783], [-73.2249765502169, 44.5060183798118], [-73.2247304505626, 44.5059161667365], [-73.2245304185401, 44.505852612173], [-73.2243128720621, 44.5058345865959], [-73.2241141254274, 44.5058747981352], [-73.2239066600436, 44.5059409370167], [-73.2236871562372, 44.5060188231464], [-73.2233306818619, 44.5061750559947], [-73.2229273261919, 44.5064175001172], [-73.222422334367, 44.506799515125], [-73.2219572439483, 44.5072626915677], [-73.2216087641594, 44.5076538369025], [-73.221358264756, 44.5079277929276], [-73.2211436686975, 44.5081494924839], [-73.220883959754, 44.5083780864549], [-73.2205787414725, 44.5086132944518], [-73.2201701808297, 44.5089141173735], [-73.2199728575125, 44.5090710233979], [-73.2198653566706, 44.509181802538], [-73.2196956242936, 44.5093773441339], [-73.2194718995739, 44.5095927714331], [-73.2192251397268, 44.5097887966274], [-73.218964776441, 44.5099653619962], [-73.2187041004422, 44.5101485379017], [-73.2184791737309, 44.5102666646628], [-73.218253767744, 44.5103458427428], [-73.2180641984495, 44.5103989217641], [-73.2178563925214, 44.5104391784431], [-73.2176299547162, 44.5104664747732], [-73.2174216704385, 44.5104677833172], [-73.2170317429092, 44.5104314220533], [-73.2166686126741, 44.5103688776112], [-73.2162962044546, 44.5102868443821], [-73.215941559224, 44.5101788252821], [-73.2156045957069, 44.5100383531073], [-73.2152673186206, 44.5098720076897], [-73.2149536332608, 44.5096742973295], [-73.2146918701449, 44.5094800580519], [-73.2144810555035, 44.5092739685064], [-73.2143151974409, 44.5090481928635], [-73.2142034132518, 44.5088090008907], [-73.2141236184397, 44.5085825463403], [-73.2140888565831, 44.5083105314181], [-73.214031382808, 44.5080774684423], [-73.2139559105727, 44.507818644624], [-73.2138859499621, 44.5076570924708], [-73.225764052777, 44.5008835668173], [-73.2280341504162, 44.4995886695271], [-73.2281133568395, 44.4995435895372], [-73.2183194212876, 44.4912102604646], [-73.2185755192468, 44.4912048526159], [-73.2193226191308, 44.4911904474043], [-73.2198949088663, 44.4911781229369], [-73.2204958746971, 44.4911654743127], [-73.2212193481735, 44.4911468464069], [-73.2214950589896, 44.4911389179072], [-73.2217683484059, 44.4911258014675], [-73.2220352842885, 44.4911072402814], [-73.2222158153913, 44.4910911939621], [-73.2224660894584, 44.4910596591414], [-73.2227044906972, 44.4910211694383], [-73.2228558508372, 44.4909972908888], [-73.2230016239896, 44.4909664171434], [-73.2232523439392, 44.49090745828], [-73.2234829731553, 44.4908442668049], [-73.2236939290097, 44.4907786688815], [-73.2238715223007, 44.4907158126673], [-73.2241006676775, 44.4906280212752], [-73.2243382689596, 44.4905251305282], [-73.2245745718303, 44.4904126856159], [-73.2248266748922, 44.490275391475], [-73.2250560227022, 44.4901407718786], [-73.2252173531356, 44.4900340041349], [-73.2253774283734, 44.4899210570168], [-73.2255046993235, 44.4898242074752], [-73.2257531625519, 44.4896155013204], [-73.22606354948, 44.4892998133683], [-73.2261234491214, 44.4892195624994], [-73.2306311826111, 44.4949673294569], [-73.2314457800031, 44.4960112522638], [-73.2316166290559, 44.496225441485], [-73.2318383290328, 44.4964840200897], [-73.2319835993554, 44.4966634998462], [-73.2323312734635, 44.4971291010902], [-73.2329551634061, 44.4980007156031], [-73.2331017370869, 44.4981896061264], [-73.2331822246419, 44.4982785212879], [-73.2332379892278, 44.4983386286544], [-73.2333198567138, 44.49841220703], [-73.2334159166757, 44.4984894919674], [-73.2335821568972, 44.4986169469586], [-73.2359487994008, 44.500363500506], [-73.2369813706866, 44.5011348703684], [-73.240455159557, 44.5036845491799], [-73.2599935590733, 44.5181199201832], [-73.2645081108472, 44.5214665304151], [-73.2645947448085, 44.5215383676653], [-73.2646345840969, 44.5215788789898], [-73.2647081320755, 44.5216720369273], [-73.2650800910097, 44.5222196335766], [-73.2663775252501, 44.5214860617033], [-73.266699484584, 44.5217869274121], [-73.2668121625028, 44.5218961317955], [-73.267215689819, 44.5222415856835], [-73.267082559176, 44.5222814310928], [-73.2671707376985, 44.5224407183774], [-73.2672683398916, 44.5226290499073], [-73.2673179187644, 44.5227225075608], [-73.2673665055182, 44.5228003633159], [-73.2674753424319, 44.5229759633293], [-73.26745537836, 44.5229824249552], [-73.2675489483034, 44.5231629088574], [-73.2675692993254, 44.5231560225434], [-73.2676695158135, 44.5233336493623], [-73.2677713261103, 44.5235129527586], [-73.2678731401519, 44.5236923973236], [-73.2679793814578, 44.5238796855863], [-73.2680880317966, 44.5240707543841], [-73.268201518047, 44.5242707899317], [-73.2683174208516, 44.5244751684057], [-73.2684333244631, 44.5246795458492], [-73.2685945875826, 44.5246262930607], [-73.2687085059319, 44.524799185727], [-73.2688236257832, 44.524973758471], [-73.2689762674399, 44.5249225313489], [-73.2689870647124, 44.5249663306574], [-73.2689924772385, 44.5250191656074], [-73.2689910714163, 44.5250915922326], [-73.2689820218991, 44.5251507116348], [-73.2689735038408, 44.525190562472], [-73.2689590938597, 44.5252307355592], [-73.268933438566, 44.5252826547595], [-73.268899200696, 44.5253396938896], [-73.2688609628789, 44.5253914161018], [-73.2688225203015, 44.5254276724354], [-73.2687820906859, 44.5254622547466], [-73.2687447206469, 44.5254903485908], [-73.2686729882973, 44.5255361091099], [-73.2686152664302, 44.5255710894249], [-73.2687385357995, 44.5256477381728], [-73.2702152544711, 44.5253910094937], [-73.2707399912007, 44.5252956469716]]]}}, \"sourcetype\": \"geojson\", \"type\": \"fill\"}, {\"below\": \"road_major_label\", \"color\": \"rgba(253,218,236,0.5)\", \"source\": {\"type\": \"Feature\", \"properties\": {\"OBJECTID\": 6, \"WARD\": 8, \"DISTRICT\": \"East\", \"Shape__Are\": 617387.785255432, \"Shape__Len\": 6428.33008716662, \"COLOR\": \"rgba(253,218,236,0.5)\"}, \"geometry\": {\"type\": \"Polygon\", \"coordinates\": [[[-73.2056904027222, 44.4806567040077], [-73.2055390722885, 44.4774871570677], [-73.2005997615911, 44.4777601258888], [-73.1992878896517, 44.4778325684584], [-73.1990369218563, 44.4763877218304], [-73.1989566607785, 44.4763766829251], [-73.1988877669496, 44.4763636053229], [-73.1988097332745, 44.4763417245287], [-73.1987510047536, 44.4763247877728], [-73.1984437223914, 44.4762158613987], [-73.1980925574835, 44.4760831567529], [-73.1950902648336, 44.4747421273892], [-73.1949165197812, 44.4746644393175], [-73.1937811842603, 44.4741499348471], [-73.1937609669509, 44.4740017068196], [-73.193720053509, 44.4736978011905], [-73.1936748004435, 44.4734586055731], [-73.193223129521, 44.4710711450807], [-73.1929135667105, 44.4694386344493], [-73.1928675616283, 44.4692016927652], [-73.1928579060344, 44.4691490207105], [-73.192899849268, 44.4691422974368], [-73.1930971303824, 44.4691195862689], [-73.1933607726427, 44.4690959094496], [-73.1935773640096, 44.4690788452868], [-73.1937001894092, 44.4690702248027], [-73.1937735008415, 44.4690590926273], [-73.1938443830762, 44.4690419284142], [-73.1939015026132, 44.4690233007632], [-73.1939757915201, 44.4689952885013], [-73.1940403464885, 44.4689743666326], [-73.1941253761969, 44.4689579604248], [-73.1942030249391, 44.4689483477236], [-73.1952564184987, 44.4688543365953], [-73.1953924885058, 44.4688366341891], [-73.195460284647, 44.4688241278924], [-73.1955052738536, 44.4688093701805], [-73.1955419983667, 44.4687931166719], [-73.1955766964672, 44.4687715316035], [-73.1956217983695, 44.4687331495333], [-73.1958023156578, 44.4685889024643], [-73.1958845787094, 44.4685380600035], [-73.1959595712559, 44.4685032925545], [-73.1960518880362, 44.4684722163571], [-73.196172829636, 44.4684373091219], [-73.1962472437371, 44.468419981496], [-73.1963534598785, 44.4684018974628], [-73.1964871116275, 44.4683790058977], [-73.1966109315546, 44.4683550492083], [-73.1967437412109, 44.4683275214485], [-73.1972983694404, 44.4682026437163], [-73.1972844632849, 44.4681561842189], [-73.1972848753302, 44.468091779643], [-73.197299121853, 44.4680348834636], [-73.1973239406353, 44.4679753911808], [-73.1978856967523, 44.4669988914183], [-73.1979351177699, 44.4669277185278], [-73.1979865396568, 44.4668596274084], [-73.1980556036963, 44.4667890372782], [-73.1981134714588, 44.4667346867067], [-73.1981905701572, 44.4666792340043], [-73.1982728129512, 44.4666269842127], [-73.198333298058, 44.4665945537584], [-73.1983798367544, 44.4665780989325], [-73.1984315368374, 44.4665663921486], [-73.1985095670416, 44.4665562126161], [-73.1986060612672, 44.4665464825607], [-73.1987112299925, 44.4665396520863], [-73.1988027019362, 44.4665368425907], [-73.198878518466, 44.4665386285593], [-73.1989508668071, 44.466545919985], [-73.1990335293017, 44.4665618660344], [-73.1991481720635, 44.4665919596342], [-73.1992894019694, 44.4666450918962], [-73.1997782734359, 44.4668691932179], [-73.1998402187476, 44.4668932814497], [-73.1999088019621, 44.4669140945574], [-73.1999883387634, 44.4669313243957], [-73.2000866747275, 44.466944220892], [-73.2009027009288, 44.4670375074336], [-73.2003964834503, 44.4687131090955], [-73.200382835338, 44.4687870172941], [-73.200376131128, 44.468850335523], [-73.2003703287808, 44.4689234918474], [-73.2003709845684, 44.4689783288329], [-73.2004374661499, 44.4705964199687], [-73.2000063991787, 44.4705781110989], [-73.1999714378092, 44.4705776225114], [-73.1999321839941, 44.4705794091871], [-73.1998894685702, 44.4705872647081], [-73.1998342939572, 44.4706043364221], [-73.1995952122339, 44.4707116853371], [-73.1995276176208, 44.4707410659628], [-73.1994642515945, 44.4707628277962], [-73.1993992222718, 44.4707768665325], [-73.1993321295862, 44.4707826203516], [-73.1992677227913, 44.4707830146996], [-73.1992166333709, 44.4707803747555], [-73.1991666572839, 44.4707722436941], [-73.199111858158, 44.4707550022683], [-73.1988221086339, 44.4706319078008], [-73.1987656948012, 44.4706108792103], [-73.1987058096156, 44.4705952148155], [-73.1986279061793, 44.470583598776], [-73.1984819134723, 44.4705600239347], [-73.1983921546587, 44.4705422930983], [-73.1983184159939, 44.4705175733455], [-73.1982745331088, 44.4704935151675], [-73.1982435553939, 44.4704647370486], [-73.198221501982, 44.4704267644987], [-73.198207129119, 44.4703742621385], [-73.1981708531277, 44.4698021731247], [-73.1978802569728, 44.4698052153609], [-73.1967579258227, 44.4698168481885], [-73.1966036694905, 44.4699897636878], [-73.1963671285885, 44.4702450192185], [-73.1962726721456, 44.4703606200667], [-73.1962162491237, 44.4704378807259], [-73.1961765135047, 44.4704983069193], [-73.196144330435, 44.4705662808204], [-73.1961175468082, 44.4706259251882], [-73.1960990661109, 44.4706901590736], [-73.196083894712, 44.4707685748554], [-73.1960710374328, 44.4708433209447], [-73.1960632765612, 44.4709173322132], [-73.1960640069032, 44.4709787770642], [-73.1960704192639, 44.4710556555798], [-73.1960860498447, 44.4711150414341], [-73.1961125542268, 44.4711971404772], [-73.196143252288, 44.4712685270783], [-73.1961801087188, 44.4713293305505], [-73.1962364987642, 44.4714143414097], [-73.1962827808765, 44.4714750864884], [-73.1964550084746, 44.4716900237277], [-73.1965206773091, 44.4717956487465], [-73.1965645982961, 44.4718890311906], [-73.1965930144795, 44.4719666187154], [-73.1966251198625, 44.4720571213704], [-73.1966529983105, 44.4721555234349], [-73.1966690981718, 44.4722542790213], [-73.1966768329207, 44.4723432420084], [-73.1966834135415, 44.4724341811177], [-73.1966803359864, 44.4725056331888], [-73.1966720196514, 44.4725658678763], [-73.1966581645693, 44.472655805801], [-73.1966441572325, 44.4727329492046], [-73.1966238794309, 44.4728112557851], [-73.1965988402071, 44.4728855137417], [-73.1965513916807, 44.4729909844314], [-73.1965125840264, 44.4730634985433], [-73.1964710210226, 44.4731354660766], [-73.1964381972715, 44.4731826326634], [-73.1975306430528, 44.4736902010755], [-73.1978150139295, 44.4738223310824], [-73.1980176211179, 44.4739158682197], [-73.1981017123795, 44.4739519146006], [-73.1981791364991, 44.4739888458258], [-73.1983284044046, 44.4740558513449], [-73.1984448995983, 44.474108432052], [-73.1986668345637, 44.4742086003365], [-73.1986790120362, 44.474208666235], [-73.1985712457306, 44.4743281463011], [-73.1984689120685, 44.4744421096644], [-73.1983657941845, 44.4745562181207], [-73.1991161436687, 44.4746011246361], [-73.1991543023503, 44.4753297065638], [-73.1991691954024, 44.4755572739848], [-73.1991757861112, 44.4756815387582], [-73.1992185105388, 44.476397719214], [-73.2007023529722, 44.4763547369941], [-73.2109906893559, 44.4759969839105], [-73.2110545677629, 44.4771493608458], [-73.2111075618213, 44.4782461220179], [-73.2112181409485, 44.4804937513108], [-73.2093172741978, 44.4805570376979], [-73.2056904027222, 44.4806567040077]]]}}, \"sourcetype\": \"geojson\", \"type\": \"fill\"}], \"pitch\": 0, \"zoom\": 11.2}, \"width\": 600}, {\"showLink\": false, \"linkText\": \"Export to plot.ly\", \"plotlyServerURL\": \"https://plot.ly\"})});</script>"
      ],
      "text/vnd.plotly.v1+html": [
       "<div id=\"fd9c5883-a918-4cf8-82ac-402d2cf20339\" style=\"height: 800px; width: 600px;\" class=\"plotly-graph-div\"></div><script type=\"text/javascript\">require([\"plotly\"], function(Plotly) { window.PLOTLYENV=window.PLOTLYENV || {};window.PLOTLYENV.BASE_URL=\"https://plot.ly\";Plotly.newPlot(\"fd9c5883-a918-4cf8-82ac-402d2cf20339\", [{\"lat\": [44.5138859, 44.5156656, 44.51433370000001, 44.5108965, 44.51105219999999, 44.507360999999996, 44.483683899999996, 44.476422899999996, 44.504622399999995, 44.4887486, 44.4861484, 44.4828051, 44.4816857, 44.48193879999999, 44.4828156, 44.479786600000004, 44.47985300000001, 44.478403, 44.481828, 44.48170579999999, 44.4787264, 44.483975, 44.4848115, 44.480364200000004, 44.480291799999996, 44.47989339999999, 44.4805585, 44.480988, 44.48783479999999, 44.4736899, 44.47718099999999, 44.47718099999999, 44.47718099999999, 44.47718099999999, 44.4766324, 44.476826, 44.476831, 44.476819, 44.478017, 44.475649, 44.475777, 44.4756941, 44.47505020000001, 44.4776472, 44.4769521, 44.4780297, 44.4773669, 44.4779179, 44.4715429, 44.47644400000001, 44.4773135, 44.46410529999999, 44.465098499999996, 44.45146099999999, 44.45146099999999, 44.452996999999996, 44.45238370000001, 44.453849100000006, 44.4814648], \"lon\": [-73.2556913, -73.25718379999998, -73.2553449, -73.26351329999999, -73.2633171, -73.2510827, -73.15757099999998, -73.22100449999998, -73.2560117, -73.20107209999998, -73.22157159999998, -73.2180518, -73.21872710000002, -73.21893320000002, -73.2111208, -73.2130038, -73.212937, -73.21330499999998, -73.211011, -73.21104389999998, -73.21125409999998, -73.20519499999997, -73.20446079999998, -73.20370890000002, -73.20752089999998, -73.2058637, -73.20205329999997, -73.201922, -73.18695919999998, -73.2167056, -73.2179333, -73.2179333, -73.2179333, -73.2179333, -73.21524029999998, -73.21508299999998, -73.21519200000002, -73.21540949999998, -73.214739, -73.2126811, -73.21276600000002, -73.2129507, -73.21214559999999, -73.2133066, -73.21238989999998, -73.2117828, -73.2102093, -73.21128639999998, -73.210792, -73.2072804, -73.20470480000002, -73.214394, -73.20859329999998, -73.22301929999998, -73.22301929999998, -73.22480399999998, -73.2183408, -73.2095422, -73.2010702], \"marker\": {\"size\": 8}, \"mode\": \"markers\", \"text\": [\"Listed Owner: MOUNTAHA HANDY REV TRUST<br>Value: $629,400.00\", \"Listed Owner: SISTERS  BROTHERS INVESTMENT GROUP LLP<br>Value: $409,100.00\", \"Listed Owner: MOUNTAHA HANDY REV TRUST<br>Value: $340,000.00\", \"Listed Owner: HANDY JOSEPH J<br>Value: $194,200.00\", \"Listed Owner: MOUNTAHA HANDY REV TRUST<br>Value: $195,900.00\", \"Listed Owner: HANDY CHARLES<br>Value: $216,700.00\", \"Listed Owner: HANDY SAMUEL E<br>Value: $847,000.00\", \"Listed Owner: 96 ETHAN ALLEN PARKWAY LLC<br>Value: $1,457,200.00\", \"Listed Owner: HANDY CHARLIE<br>Value: $397,500.00\", \"Listed Owner: RIVERSIDE PROPERTY RECLAMATION<br>Value: $251,200.00\", \"Listed Owner: HANDY INVESTMENT GROUP LLP<br>Value: $201,100.00\", \"Listed Owner: HANDY KRISTEN<br>Value: $133,700.00\", \"Listed Owner: MOUNTAHA HANDY REV TRUST<br>Value: $553,400.00\", \"Listed Owner: MOUNTAHA HANDY REV TRUST<br>Value: $406,300.00\", \"Listed Owner: SISTERS  BROTHERS INVESTMENT GROUP LLP<br>Value: $429,100.00\", \"Listed Owner: SISTERS  BROTHERS INVESTMENT GROUP LLP<br>Value: $1,200,000.00\", \"Listed Owner: SISTERS  BROTHERS INVESTMENT GROUP LLP<br>Value: $825,000.00\", \"Listed Owner: HANDY SISTERS LLC<br>Value: $936,400.00\", \"Listed Owner: SISTERS  BROTHERS INVESTMENT GROUP LLP<br>Value: $472,100.00\", \"Listed Owner: SISTERS  BROTHERS INVESTMENT GROUP LLP<br>Value: $722,300.00\", \"Listed Owner: HANDY MOUNTAHA<br>Value: $620,900.00\", \"Listed Owner: MOUNTAHA HANDY REV TRUST<br>Value: $371,200.00\", \"Listed Owner: HANDY COURTNEY<br>Value: $390,900.00\", \"Listed Owner: SISTERS  BROTHERS INVESTMENT GROUP LLP<br>Value: $1,465,700.00\", \"Listed Owner: SISTERS  BROTHERS INVESTMENT GROUP LLP<br>Value: $709,900.00\", \"Listed Owner: HANDY INVESTMENT GROUP LLP<br>Value: $943,500.00\", \"Listed Owner: SISTERS  BROTHERS INVESTMENT GROUP LLP<br>Value: $435,100.00\", \"Listed Owner: HANDY COURT LLC<br>Value: $2,193,900.00\", \"Listed Owner: SISTERS  BROTHERS INVESTMENT GROUP LLP<br>Value: $494,700.00\", \"Listed Owner: HANDY EARL A<br>Value: $293,100.00\", \"Listed Owner: HANDY JOAN D<br>Value: $227,000.00\", \"Listed Owner: HANDY ANTHONY<br>Value: $201,300.00\", \"Listed Owner: HANDY ANTHONY S<br>Value: $386,300.00\", \"Listed Owner: HANDY MOUNTAHA<br>Value: $201,300.00\", \"Listed Owner: ONE HUNDRED TWENTYFIVE  COLLEGE STREET<br>Value: $8,700.00\", \"Listed Owner: ONE HUNDRED TWENTYFIVE COLLEGE STREET L<br>Value: $1,554,500.00\", \"Listed Owner: ONE HUNDRED TWENTYFIVE  COLLEGE STREET<br>Value: $792,300.00\", \"Listed Owner: SISTERS BROTHERS INVESTMENT GROUP LLP<br>Value: $860,400.00\", \"Listed Owner: SISTERS  BROTHERS INVESTMENT GROUP LLP<br>Value: $898,500.00\", \"Listed Owner: SISTERS  BROTHERS INVESTMENT GROUP LLP<br>Value: $1,722,300.00\", \"Listed Owner: SISTERS  BROTHERS INVESTMENT GROUP LLP<br>Value: $895,700.00\", \"Listed Owner: SISTERS  BROTHERS INVESTMENT GROUP LLP<br>Value: $949,700.00\", \"Listed Owner: SISTERS  BROTHERS INVESTMENT GROUP LLP<br>Value: $839,900.00\", \"Listed Owner: THE GREAT CEDARS LLC<br>Value: $2,114,600.00\", \"Listed Owner: THE GREAT CEDARS LLC<br>Value: $5,080,600.00\", \"Listed Owner: SISTERS  BROTHERS INVESTMENT GROUP LLP<br>Value: $1,273,000.00\", \"Listed Owner: SISTERS  BROTHERS INVESTMENT GROUP LLP<br>Value: $2,535,100.00\", \"Listed Owner: MOUNTAHA HANDY REV TRUST<br>Value: $625,600.00\", \"Listed Owner: MOUNTAHA HANDY REV TRUST<br>Value: $419,600.00\", \"Listed Owner: GROUP FIVE INVESTMENT LLC<br>Value: $266,300.00\", \"Listed Owner: SISTERS  BROTHERS INVESTMENT GROUP LLP<br>Value: $363,400.00\", \"Listed Owner: GROUP FIVE INVESTMENT LLC<br>Value: $5,583,800.00\", \"Listed Owner: SISTERS  BROTHERS INVESTMENT GROUP LLP<br>Value: $680,000.00\", \"Listed Owner: HANDY III PAUL<br>Value: $131,500.00\", \"Listed Owner: JEANNINE M HANDY REVOCABLE TR<br>Value: $136,800.00\", \"Listed Owner: HANDY JR PAUL L<br>Value: $277,700.00\", \"Listed Owner: SISTERS  BROTHERS INVESTMENT GROUP LLP<br>Value: $496,700.00\", \"Listed Owner: HANDY JANET C<br>Value: $239,400.00\", \"Listed Owner: HANDY  RICKY<br>Value: $318,400.00\"], \"type\": \"scattermapbox\", \"uid\": \"d36da0fb-0a4a-4007-88af-6d4b1dbfb01e\"}], {\"autosize\": true, \"height\": 800, \"hovermode\": \"closest\", \"mapbox\": {\"accesstoken\": \"pk.eyJ1IjoiY2FscmVtbWVsIiwiYSI6ImNqc25scWtiMzBkcGI0M3BtNDRrbnFvNGoifQ.qmi7OtQn6vIJbHbbTZs2MQ\", \"bearing\": 0, \"center\": {\"lat\": 44.5, \"lon\": -73.23}, \"layers\": [{\"below\": \"road_major_label\", \"color\": \"rgba(251,180,174,0.5)\", \"source\": {\"type\": \"Feature\", \"properties\": {\"OBJECTID\": 5, \"WARD\": 1, \"DISTRICT\": \"East\", \"Shape__Are\": 2954396.40816498, \"Shape__Len\": 7976.17879052443, \"COLOR\": \"rgba(251,180,174,0.5)\"}, \"geometry\": {\"type\": \"Polygon\", \"coordinates\": [[[-73.2044950286289, 44.4911969546581], [-73.2044631499705, 44.4911923698885], [-73.2041349524606, 44.4911485533009], [-73.2039626460935, 44.4911302099742], [-73.2038151435313, 44.4911162141606], [-73.2036507790987, 44.4911048526854], [-73.2034577466909, 44.4910945107979], [-73.2033025037231, 44.4910902642945], [-73.2031402429233, 44.4910904201147], [-73.2029332353116, 44.4910942250047], [-73.2027851816268, 44.4910996358481], [-73.2025868810345, 44.4911087304009], [-73.2022904829263, 44.4911281301531], [-73.2021306841926, 44.4911371284497], [-73.2017322144576, 44.4911632009298], [-73.2017113180502, 44.4910916145696], [-73.2016447210556, 44.4908456640037], [-73.201542142659, 44.4905805298113], [-73.2014402587376, 44.4904060876316], [-73.2012982224961, 44.4902579066006], [-73.2011424360376, 44.4901096694105], [-73.2008964508122, 44.4899750626634], [-73.200587056966, 44.4898602498555], [-73.2000874468153, 44.4897401335391], [-73.1995020386098, 44.4896400855372], [-73.1987767703613, 44.489573233418], [-73.1982597914053, 44.4895115704592], [-73.1977062841195, 44.489417646618], [-73.1971887665767, 44.4893105637027], [-73.1965164310942, 44.4891352394645], [-73.1958306157596, 44.4889493065468], [-73.1953492555, 44.4888096536865], [-73.1948675820889, 44.4886764686001], [-73.1945131070791, 44.4885683814734], [-73.1941947753669, 44.4884602139577], [-73.1938952908257, 44.4883841328656], [-73.1936862318951, 44.4883465927011], [-73.1934735884131, 44.4883381808269], [-73.1933197473446, 44.4883520515205], [-73.1932022009591, 44.4883786384281], [-73.193048782642, 44.4884282231919], [-73.1929321288795, 44.4884969893072], [-73.1928330373527, 44.4885559464655], [-73.1927343761129, 44.4886181344282], [-73.1926350928111, 44.488660921473], [-73.1924951156795, 44.4886844092792], [-73.1923545154169, 44.4886884960868], [-73.1921869721673, 44.4886733405091], [-73.1920553778721, 44.4886416562672], [-73.1919370273805, 44.4886003288275], [-73.1918549416722, 44.4885360021946], [-73.1917810778084, 44.4884359087016], [-73.1917302288242, 44.4883552216677], [-73.19166625391, 44.4882940187071], [-73.1916136596211, 44.4882650890049], [-73.1915477116792, 44.488236381426], [-73.1914524528491, 44.4882207870682], [-73.1913440284544, 44.4882214434299], [-73.1911903399249, 44.488248247036], [-73.1910302794349, 44.4883011027876], [-73.1908567751777, 44.4883799130427], [-73.1906315677479, 44.4884719732936], [-73.1903970092906, 44.4885706979183], [-73.1901536532337, 44.4886563972271], [-73.1899755591756, 44.4887125948687], [-73.1897768830703, 44.4887559798349], [-73.1896138908244, 44.4887601985012], [-73.1894804355307, 44.488737240292], [-73.1893612330383, 44.4886901502818], [-73.1891995397368, 44.4885711806028], [-73.1891076889979, 44.488477943503], [-73.1890275447889, 44.488378026511], [-73.1889557384499, 44.4882520462656], [-73.1889136613695, 44.4881485247605], [-73.1888990849754, 44.4880449786553], [-73.1888929971966, 44.4879283033498], [-73.1889009627366, 44.4878374175863], [-73.1889205131937, 44.4877627725399], [-73.1889529744238, 44.4876167577877], [-73.1889522494708, 44.4875551726426], [-73.1889373856812, 44.4874939535672], [-73.1888936158034, 44.4874135033368], [-73.1888230355386, 44.4873582449513], [-73.1887370530335, 44.4873295152813], [-73.1886154786714, 44.4873142185337], [-73.1884828125218, 44.4873245802494], [-73.1883790923011, 44.4873576871455], [-73.1882936338801, 44.4874068559025], [-73.1882399928333, 44.4874556915774], [-73.1881955781169, 44.4875207831317], [-73.1881423204395, 44.4876022403467], [-73.1881025315315, 44.487693177403], [-73.188080394887, 44.4877484323833], [-73.1880471066204, 44.4877908178348], [-73.1879888269784, 44.4878461501354], [-73.1879170022497, 44.4878855332757], [-73.1878244335346, 44.4879315101023], [-73.1877276947928, 44.4879904477682], [-73.1876397966155, 44.4880662069879], [-73.1875085424459, 44.4881969266679], [-73.1873811116525, 44.4883522312693], [-73.187290190561, 44.4885052065571], [-73.1872464604739, 44.4886286496179], [-73.1872111800378, 44.488735730323], [-73.1871497979948, 44.488894995651], [-73.18709649801, 44.4889730778221], [-73.1869971482072, 44.4890441240217], [-73.1867718041347, 44.4890917418143], [-73.1865096849874, 44.4891191910739], [-73.1861019082792, 44.4891216414231], [-73.1855639415433, 44.4891115130863], [-73.1850229206678, 44.489108853874], [-73.1844933032926, 44.4891071073954], [-73.1837958715977, 44.4891005982552], [-73.1830888389409, 44.489079237397], [-73.1827233768727, 44.4890381127653], [-73.1825232065331, 44.4889875623325], [-73.1823265223909, 44.4888990238601], [-73.1822130223683, 44.4888014108301], [-73.1821030103601, 44.4886659512831], [-73.1819875173003, 44.4884983234371], [-73.1818850136679, 44.4882653719314], [-73.1818440877862, 44.4879223719621], [-73.1818634007805, 44.4874556911064], [-73.1818643563828, 44.48706561602], [-73.1818596386023, 44.4867617715006], [-73.1818367760523, 44.4864179607407], [-73.1817796699374, 44.4860685884268], [-73.1816855205992, 44.4857091723911], [-73.1815569192011, 44.4854274417256], [-73.181356189967, 44.4851589366367], [-73.1810839647297, 44.4848905767742], [-73.1806857998851, 44.484636044901], [-73.1801811105028, 44.484375676367], [-73.1797419155869, 44.4842070207172], [-73.1793176376251, 44.4841047860092], [-73.1789755415705, 44.4840431202995], [-73.1786044780617, 44.4840240932013], [-73.1782194954444, 44.4840581588327], [-73.1779231427385, 44.4841130717278], [-73.1775943691212, 44.4842179539782], [-73.177288304764, 44.4843504018312], [-73.1769487896486, 44.4845117328874], [-73.1763884323003, 44.4847698498033], [-73.1758270644911, 44.4849749577672], [-73.1757969298763, 44.4849848383872], [-73.1768553291239, 44.4840053647087], [-73.1781843829991, 44.4827907096024], [-73.1827184882031, 44.4787841081374], [-73.1833914883032, 44.4781887906888], [-73.1850944015959, 44.4767215188086], [-73.1863189839729, 44.4756702287367], [-73.1874194706281, 44.474724994891], [-73.1883717761577, 44.4739074784057], [-73.1885801931877, 44.4737280613818], [-73.1895690026345, 44.472877832907], [-73.1898777199737, 44.4726113274577], [-73.1900526871722, 44.4724605138799], [-73.1901386162554, 44.4723865922956], [-73.1930759526704, 44.4737017115917], [-73.1931398752032, 44.4737264942884], [-73.1932496658079, 44.4737771528045], [-73.1933641578985, 44.4738267990309], [-73.193487779282, 44.4738845450288], [-73.1937609669509, 44.4740017068196], [-73.1937811842603, 44.4741499348471], [-73.1949165197812, 44.4746644393175], [-73.1950902648336, 44.4747421273892], [-73.1980925574835, 44.4760831567529], [-73.1984437223914, 44.4762158613987], [-73.1987510047536, 44.4763247877728], [-73.1988097332745, 44.4763417245287], [-73.1988877669496, 44.4763636053229], [-73.1989566607785, 44.4763766829251], [-73.1990369218563, 44.4763877218304], [-73.1992878896517, 44.4778325684584], [-73.2005997615911, 44.4777601258888], [-73.2055390722885, 44.4774871570677], [-73.2056904027222, 44.4806567040077], [-73.205747955813, 44.482107088662], [-73.2058092005398, 44.4832442970328], [-73.2058890137727, 44.4849438569922], [-73.2060347960772, 44.48807321694], [-73.2060709785984, 44.4887277029202], [-73.2054596342935, 44.4897027178079], [-73.2044950286289, 44.4911969546581]]]}}, \"sourcetype\": \"geojson\", \"type\": \"fill\"}, {\"below\": \"road_major_label\", \"color\": \"rgba(179,205,227,0.2)\", \"source\": {\"type\": \"Feature\", \"properties\": {\"OBJECTID\": 3, \"WARD\": 2, \"DISTRICT\": \"Central\", \"Shape__Are\": 3333771.27412415, \"Shape__Len\": 8348.21372518335, \"COLOR\": \"rgba(179,205,227,0.5)\"}, \"geometry\": {\"type\": \"Polygon\", \"coordinates\": [[[-73.2281133568395, 44.4995435895372], [-73.2280341504162, 44.4995886695271], [-73.225764052777, 44.5008835668173], [-73.2138859499621, 44.5076570924708], [-73.2138301377486, 44.5075277930409], [-73.2136812554031, 44.5072110729023], [-73.2135050222564, 44.5068749766904], [-73.2133200725954, 44.5065650896327], [-73.2130942539688, 44.5062553170472], [-73.2128192414444, 44.505971724367], [-73.2125533498836, 44.5057270244875], [-73.2122513098433, 44.505482549416], [-73.2118905640331, 44.5052255028057], [-73.2116668093938, 44.5050843122806], [-73.2113935450726, 44.5049434306088], [-73.210933706036, 44.5047453530749], [-73.210469468955, 44.5045731752736], [-73.2100961622389, 44.5044133669306], [-73.2097134279847, 44.5042212738282], [-73.2093305393682, 44.5040162437269], [-73.2091023166484, 44.5038944813469], [-73.2087564469606, 44.5037605119797], [-73.2083382771466, 44.5036269899911], [-73.207874606095, 44.503500217276], [-73.2074433929757, 44.5033926461833], [-73.2069222525274, 44.5032576473074], [-73.2065070220975, 44.5031391465405], [-73.2060889398423, 44.5030120836422], [-73.2058050847413, 44.5029034548521], [-73.2053467759427, 44.5026990186922], [-73.2048947717793, 44.5024631832823], [-73.2044667145502, 44.5021923264998], [-73.2040279945998, 44.5018515066054], [-73.2037440058819, 44.5016004296946], [-73.203487448118, 44.5013427143206], [-73.2032209151608, 44.5010396405755], [-73.202861677116, 44.5005426654337], [-73.202704614251, 44.5002908037998], [-73.202519273881, 44.4999419508592], [-73.2023055776791, 44.4994893564665], [-73.2021083099451, 44.4989974285345], [-73.2019969247233, 44.4986874925113], [-73.2018928515702, 44.4982991875854], [-73.2017979031738, 44.4978524714599], [-73.2017325898064, 44.49735382641], [-73.2017235150224, 44.4970231530423], [-73.2017260985464, 44.4964849989959], [-73.2016816624399, 44.4961871657796], [-73.2016016235894, 44.4959348300958], [-73.2015344812651, 44.4956111216106], [-73.2015314501271, 44.4953583128129], [-73.2015563181795, 44.4950400858281], [-73.2015883312869, 44.4948262938784], [-73.2016589152686, 44.4946507924432], [-73.2017424764224, 44.4944761966635], [-73.2018406260619, 44.4943386329461], [-73.2019658931214, 44.4942016062315], [-73.2022256370036, 44.4939422602316], [-73.2024602607804, 44.493717940954], [-73.2025742221655, 44.4935885759187], [-73.2026632653169, 44.4934454428437], [-73.2027064985609, 44.4932830465789], [-73.2026958285912, 44.4931469957258], [-73.2026303179212, 44.4929593950995], [-73.2025553023567, 44.492765384101], [-73.2023773822239, 44.4923779555249], [-73.2021390263306, 44.4920288650394], [-73.201880263298, 44.4915831554605], [-73.2017961380101, 44.4913827320007], [-73.2017322144576, 44.4911632009298], [-73.2021306841926, 44.4911371284497], [-73.2022904829263, 44.4911281301531], [-73.2025868810345, 44.4911087304009], [-73.2027851816268, 44.4910996358481], [-73.2029332353116, 44.4910942250047], [-73.2031402429233, 44.4910904201147], [-73.2033025037231, 44.4910902642945], [-73.2034577466909, 44.4910945107979], [-73.2036507790987, 44.4911048526854], [-73.2038151435313, 44.4911162141606], [-73.2039626460935, 44.4911302099742], [-73.2041349524606, 44.4911485533009], [-73.2044631499705, 44.4911923698885], [-73.2044950286289, 44.4911969546581], [-73.2054596342935, 44.4897027178079], [-73.2060709785984, 44.4887277029202], [-73.2060347960772, 44.48807321694], [-73.2058890137727, 44.4849438569922], [-73.2058092005398, 44.4832442970328], [-73.205747955813, 44.482107088662], [-73.2056904027222, 44.4806567040077], [-73.2093172741978, 44.4805570376979], [-73.2112181409485, 44.4804937513108], [-73.2112256015957, 44.4804935644603], [-73.2135624172147, 44.480424147771], [-73.2136834627807, 44.4822332666908], [-73.2137297360858, 44.4826455458222], [-73.2138724097646, 44.4847454638392], [-73.2139582119828, 44.4858858894763], [-73.2140785225923, 44.4876005166688], [-73.214874100426, 44.4882779506408], [-73.2183194212876, 44.4912102604646], [-73.2281133568395, 44.4995435895372]]]}}, \"sourcetype\": \"geojson\", \"type\": \"fill\"}, {\"below\": \"road_major_label\", \"color\": \"rgba(204,235,197,0.5)\", \"source\": {\"type\": \"Feature\", \"properties\": {\"OBJECTID\": 4, \"WARD\": 3, \"DISTRICT\": \"Central\", \"Shape__Are\": 1679803.15373993, \"Shape__Len\": 5726.76878332311, \"COLOR\": \"rgba(204,235,197,0.5)\"}, \"geometry\": {\"type\": \"Polygon\", \"coordinates\": [[[-73.2261234491214, 44.4892195624994], [-73.22606354948, 44.4892998133683], [-73.2257531625519, 44.4896155013204], [-73.2255046993235, 44.4898242074752], [-73.2253774283734, 44.4899210570168], [-73.2252173531356, 44.4900340041349], [-73.2250560227022, 44.4901407718786], [-73.2248266748922, 44.490275391475], [-73.2245745718303, 44.4904126856159], [-73.2243382689596, 44.4905251305282], [-73.2241006676775, 44.4906280212752], [-73.2238715223007, 44.4907158126673], [-73.2236939290097, 44.4907786688815], [-73.2234829731553, 44.4908442668049], [-73.2232523439392, 44.49090745828], [-73.2230016239896, 44.4909664171434], [-73.2228558508372, 44.4909972908888], [-73.2227044906972, 44.4910211694383], [-73.2224660894584, 44.4910596591414], [-73.2222158153913, 44.4910911939621], [-73.2220352842885, 44.4911072402814], [-73.2217683484059, 44.4911258014675], [-73.2214950589896, 44.4911389179072], [-73.2212193481735, 44.4911468464069], [-73.2204958746971, 44.4911654743127], [-73.2198949088663, 44.4911781229369], [-73.2193226191308, 44.4911904474043], [-73.2185755192468, 44.4912048526159], [-73.2183194212876, 44.4912102604646], [-73.214874100426, 44.4882779506408], [-73.2140785225923, 44.4876005166688], [-73.2139582119828, 44.4858858894763], [-73.2138724097646, 44.4847454638392], [-73.2137297360858, 44.4826455458222], [-73.2136834627807, 44.4822332666908], [-73.2135624172147, 44.480424147771], [-73.2112256015957, 44.4804935644603], [-73.2112181409485, 44.4804937513108], [-73.2111075618213, 44.4782461220179], [-73.2110545677629, 44.4771493608458], [-73.2109906893559, 44.4759969839105], [-73.2109841076837, 44.4758755321086], [-73.2108051749407, 44.474822442138], [-73.2122817663048, 44.4747686677251], [-73.2125444312804, 44.4747923403231], [-73.2139190040674, 44.4747471960899], [-73.2154874556752, 44.4746897119755], [-73.2170069160105, 44.474641092181], [-73.2185914489818, 44.474582199154], [-73.2194124216757, 44.4745555167572], [-73.2218321404921, 44.4744765495371], [-73.2225510286867, 44.4744531616562], [-73.2225534972005, 44.4745577648374], [-73.2226313695041, 44.4752025617631], [-73.2226677050568, 44.4756960371104], [-73.2226733973355, 44.4761572236369], [-73.2229023003448, 44.4764042448268], [-73.223132583086, 44.4766355068507], [-73.2231410417557, 44.4767161676791], [-73.2231646409459, 44.4769412856116], [-73.2231052498484, 44.4773483248518], [-73.2228656839796, 44.4778924809882], [-73.2228312696276, 44.4781910876244], [-73.2229485244929, 44.4784617350076], [-73.2233301742234, 44.4787034289306], [-73.224268055065, 44.4788508981671], [-73.2245948969179, 44.4790116585753], [-73.2247699517453, 44.4792861562793], [-73.2250321500043, 44.4799678884874], [-73.2253854139929, 44.4809288689728], [-73.2255804550751, 44.4813888521779], [-73.2256448394224, 44.4817343596967], [-73.2256014928961, 44.4820403348734], [-73.2256337857895, 44.4824905244971], [-73.2257581207539, 44.4827917786442], [-73.2257650034854, 44.4828083281], [-73.2259295567779, 44.482899807499], [-73.225157473842, 44.4832036632744], [-73.2238662177888, 44.4837117452474], [-73.2238705897499, 44.4837157960899], [-73.2240076786612, 44.4838419031108], [-73.2241470602019, 44.4839626533536], [-73.2243308500312, 44.4841165871553], [-73.2244962890347, 44.4842477172634], [-73.2247045761372, 44.4844128856609], [-73.2248846373948, 44.4845509536871], [-73.2250912608669, 44.4847083978011], [-73.2254608154832, 44.4849844715203], [-73.2256297942112, 44.4851155774814], [-73.2257218467876, 44.4851890976691], [-73.2258119557936, 44.4852643175298], [-73.2260213004771, 44.4854507091747], [-73.2261446482527, 44.4855767614477], [-73.2262299140289, 44.4856731037744], [-73.2263376283302, 44.4858055827528], [-73.2264315046609, 44.4859309779816], [-73.2265079901624, 44.4860477650905], [-73.2265814176489, 44.4861714624775], [-73.2266297174898, 44.486264664863], [-73.226682184923, 44.486377105828], [-73.2267303547807, 44.4864914019], [-73.226782015381, 44.4866337981097], [-73.2268218821552, 44.4867754269985], [-73.2268556598888, 44.486932983145], [-73.2268766711406, 44.4870747311045], [-73.2268854930431, 44.4872473518409], [-73.2268865689033, 44.4873972424722], [-73.2268817597127, 44.4874844552145], [-73.2268722579351, 44.4875735256078], [-73.2268510510337, 44.4877322758053], [-73.2268268955489, 44.4878435168872], [-73.2267890024267, 44.4879873270808], [-73.2267558015936, 44.488097781555], [-73.2266969571979, 44.4882629583183], [-73.2266200982463, 44.4884643878276], [-73.2265312335867, 44.4886481764446], [-73.2264109862949, 44.4888358201659], [-73.2262830549679, 44.4890057954136], [-73.2261234491214, 44.4892195624994]]]}}, \"sourcetype\": \"geojson\", \"type\": \"fill\"}, {\"below\": \"road_major_label\", \"color\": \"rgba(222,203,228,0.5)\", \"source\": {\"type\": \"Feature\", \"properties\": {\"OBJECTID\": 2, \"WARD\": 4, \"DISTRICT\": \"North\", \"Shape__Are\": 5941918.4756012, \"Shape__Len\": 17320.6427558326, \"COLOR\": \"rgba(222,203,228,0.5)\"}, \"geometry\": {\"type\": \"Polygon\", \"coordinates\": [[[-73.2707399912007, 44.5252956469716], [-73.2702152544711, 44.5253910094937], [-73.2687385357995, 44.5256477381728], [-73.2686152664302, 44.5255710894249], [-73.2686729882973, 44.5255361091099], [-73.2687447206469, 44.5254903485908], [-73.2687820906859, 44.5254622547466], [-73.2688225203015, 44.5254276724354], [-73.2688609628789, 44.5253914161018], [-73.268899200696, 44.5253396938896], [-73.268933438566, 44.5252826547595], [-73.2689590938597, 44.5252307355592], [-73.2689735038408, 44.525190562472], [-73.2689820218991, 44.5251507116348], [-73.2689910714163, 44.5250915922326], [-73.2689924772385, 44.5250191656074], [-73.2689870647124, 44.5249663306574], [-73.2689762674399, 44.5249225313489], [-73.2688236257832, 44.524973758471], [-73.2687085059319, 44.524799185727], [-73.2685945875826, 44.5246262930607], [-73.2684333244631, 44.5246795458492], [-73.2683174208516, 44.5244751684057], [-73.268201518047, 44.5242707899317], [-73.2680880317966, 44.5240707543841], [-73.2679793814578, 44.5238796855863], [-73.2678731401519, 44.5236923973236], [-73.2677713261103, 44.5235129527586], [-73.2676695158135, 44.5233336493623], [-73.2675692993254, 44.5231560225434], [-73.2675489483034, 44.5231629088574], [-73.26745537836, 44.5229824249552], [-73.2674753424319, 44.5229759633293], [-73.2673665055182, 44.5228003633159], [-73.2673179187644, 44.5227225075608], [-73.2672683398916, 44.5226290499073], [-73.2671707376985, 44.5224407183774], [-73.267082559176, 44.5222814310928], [-73.267215689819, 44.5222415856835], [-73.2668121625028, 44.5218961317955], [-73.266699484584, 44.5217869274121], [-73.2663775252501, 44.5214860617033], [-73.2650800910097, 44.5222196335766], [-73.2647081320755, 44.5216720369273], [-73.2646345840969, 44.5215788789898], [-73.2645947448085, 44.5215383676653], [-73.2645081108472, 44.5214665304151], [-73.2599935590733, 44.5181199201832], [-73.240455159557, 44.5036845491799], [-73.2369813706866, 44.5011348703684], [-73.2359487994008, 44.500363500506], [-73.2335821568972, 44.4986169469586], [-73.2334159166757, 44.4984894919674], [-73.2333198567138, 44.49841220703], [-73.2332379892278, 44.4983386286544], [-73.2331822246419, 44.4982785212879], [-73.2331017370869, 44.4981896061264], [-73.2329551634061, 44.4980007156031], [-73.2323312734635, 44.4971291010902], [-73.2319835993554, 44.4966634998462], [-73.2318383290328, 44.4964840200897], [-73.2316166290559, 44.496225441485], [-73.2314457800031, 44.4960112522638], [-73.2306311826111, 44.4949673294569], [-73.2261234491214, 44.4892195624994], [-73.2262830549679, 44.4890057954136], [-73.2264109862949, 44.4888358201659], [-73.2265312335867, 44.4886481764446], [-73.2266200982463, 44.4884643878276], [-73.2266969571979, 44.4882629583183], [-73.2267558015936, 44.488097781555], [-73.2267890024267, 44.4879873270808], [-73.2268268955489, 44.4878435168872], [-73.2268510510337, 44.4877322758053], [-73.2268722579351, 44.4875735256078], [-73.2268817597127, 44.4874844552145], [-73.2268865689033, 44.4873972424722], [-73.2268854930431, 44.4872473518409], [-73.2268766711406, 44.4870747311045], [-73.2268556598888, 44.486932983145], [-73.2268218821552, 44.4867754269985], [-73.226782015381, 44.4866337981097], [-73.2267303547807, 44.4864914019], [-73.226682184923, 44.486377105828], [-73.2266297174898, 44.486264664863], [-73.2265814176489, 44.4861714624775], [-73.2265079901624, 44.4860477650905], [-73.2264315046609, 44.4859309779816], [-73.2263376283302, 44.4858055827528], [-73.2262299140289, 44.4856731037744], [-73.2261446482527, 44.4855767614477], [-73.2260213004771, 44.4854507091747], [-73.2258119557936, 44.4852643175298], [-73.2257218467876, 44.4851890976691], [-73.2256297942112, 44.4851155774814], [-73.2254608154832, 44.4849844715203], [-73.2250912608669, 44.4847083978011], [-73.2248846373948, 44.4845509536871], [-73.2247045761372, 44.4844128856609], [-73.2244962890347, 44.4842477172634], [-73.2243308500312, 44.4841165871553], [-73.2241470602019, 44.4839626533536], [-73.2240076786612, 44.4838419031108], [-73.2238705897499, 44.4837157960899], [-73.2238662177888, 44.4837117452474], [-73.225157473842, 44.4832036632744], [-73.2259295567779, 44.482899807499], [-73.2270600824285, 44.4835282026417], [-73.2279610164973, 44.4841723934418], [-73.2286247721734, 44.4846653805345], [-73.2287311049935, 44.4849390440644], [-73.2286064355855, 44.4852437121746], [-73.2285363079526, 44.4854801133908], [-73.2285688731672, 44.4856345836888], [-73.2288184341503, 44.4858318234596], [-73.2290967109304, 44.4858743408392], [-73.2295989687694, 44.4856689275409], [-73.2299938386611, 44.4856416558925], [-73.2303547661853, 44.4857592939741], [-73.2305851154689, 44.4859905410532], [-73.2306232135988, 44.4862730770993], [-73.2303099680452, 44.4866398389437], [-73.2302504998296, 44.4868169737314], [-73.2303979900295, 44.4869563661823], [-73.2307295157742, 44.4871726225214], [-73.2310208543173, 44.4873795732067], [-73.2312925035139, 44.4875825715639], [-73.2317454555915, 44.487895073095], [-73.2319965146046, 44.4882419120113], [-73.2320759916333, 44.4883141010186], [-73.2324805230322, 44.4886807653235], [-73.2335058072145, 44.4892044495037], [-73.2342817898114, 44.489552973047], [-73.2350268445897, 44.4898469899308], [-73.2354185387901, 44.4900338787969], [-73.2358001607565, 44.4902007228509], [-73.2361734618278, 44.4903618533167], [-73.236582106445, 44.4904902729392], [-73.2370434564201, 44.490654348746], [-73.2374720619823, 44.4907764492445], [-73.237996266941, 44.4909084768826], [-73.2384291096608, 44.4910235160409], [-73.2389240947848, 44.4911436348822], [-73.2393521094767, 44.4912494206505], [-73.2399827236835, 44.4914067640412], [-73.2409043764534, 44.4915873868362], [-73.2416546559786, 44.4917308666489], [-73.2420322205012, 44.4917923948371], [-73.2424120907103, 44.4918496878515], [-73.243196039551, 44.4919523016972], [-73.2439109165967, 44.4920917790041], [-73.2440894108592, 44.4920702271186], [-73.244437373757, 44.4920281649795], [-73.2446198811909, 44.4918280030484], [-73.2446263631308, 44.4915963665292], [-73.2446109854008, 44.4911906478695], [-73.2446771999263, 44.4908675016427], [-73.2450225515021, 44.4903739366085], [-73.2450914851804, 44.4900794580783], [-73.2455497590367, 44.4897229586012], [-73.2461973225123, 44.4895148355277], [-73.2464544627426, 44.4892531559245], [-73.2465938408413, 44.4887530565977], [-73.2468995113471, 44.4882925084771], [-73.2472558223356, 44.4879522765411], [-73.2478111788457, 44.4876630505484], [-73.2482692586825, 44.4875399635027], [-73.2486960583373, 44.4875208549781], [-73.2491350763646, 44.4876889656665], [-73.2493987921489, 44.4878810053396], [-73.2497211650593, 44.4881130155743], [-73.2499906460786, 44.4889692865369], [-73.2500871196256, 44.4893235685006], [-73.2500760769455, 44.4897494271233], [-73.2499633714586, 44.4900599451292], [-73.2497325751156, 44.4904757163765], [-73.2494579033658, 44.4911777880423], [-73.2494754150811, 44.4918702078527], [-73.2494448967794, 44.4923710018552], [-73.2493869958804, 44.492789152761], [-73.2491734423398, 44.4930798010756], [-73.2488700181327, 44.4935015301076], [-73.2483761157944, 44.4939299908427], [-73.2481728103699, 44.4945003966978], [-73.2478481574212, 44.4949838523026], [-73.2478751302953, 44.4953419656218], [-73.248323719316, 44.4959467697701], [-73.2485050718382, 44.4963321348743], [-73.2485121565363, 44.4966709737253], [-73.2482409930655, 44.4971897957353], [-73.2480144298419, 44.4974172501074], [-73.2475990687508, 44.4979067821676], [-73.2474494568267, 44.4982833471595], [-73.2475804165848, 44.4985381304805], [-73.2476078205742, 44.498591665987], [-73.248008694285, 44.4988434154419], [-73.2483578709828, 44.4991082985167], [-73.2488940392239, 44.4993996565699], [-73.2493501927319, 44.4996407740414], [-73.2498433657766, 44.4998573193875], [-73.2501260875687, 44.5000561221381], [-73.2504067499519, 44.500186176703], [-73.2508127483893, 44.5003149837187], [-73.2511969323783, 44.5004584173445], [-73.2516555730713, 44.500647059653], [-73.2517794993193, 44.5006889912539], [-73.2520040694141, 44.5007651328573], [-73.2523739301432, 44.5008944539283], [-73.2527350354702, 44.5010149724704], [-73.2531182750674, 44.5011454691652], [-73.2535470763825, 44.5013046304131], [-73.2539317838804, 44.501426676826], [-73.2542921629376, 44.5015514141553], [-73.2547418690614, 44.5016551709817], [-73.2553780920928, 44.5018393902379], [-73.2558065369251, 44.5019396270187], [-73.2561743472745, 44.5020307026746], [-73.256559379034, 44.502146691359], [-73.2569474344206, 44.5022228650589], [-73.2571661980656, 44.5022745682423], [-73.2577479977682, 44.502412310172], [-73.2581712672897, 44.5025068073758], [-73.2586277338389, 44.5025853335188], [-73.2592472933135, 44.5027858120275], [-73.2598891979274, 44.5029515483236], [-73.2605416403341, 44.5030812122518], [-73.2611266027358, 44.5032494293186], [-73.2617157342484, 44.503314965493], [-73.2622748299235, 44.5033372499], [-73.2631311876641, 44.503433195728], [-73.2638889805476, 44.5035344354221], [-73.2642754303479, 44.503576566331], [-73.2646825894327, 44.503609556957], [-73.2651319105345, 44.5036512640003], [-73.2658804276949, 44.5037338509216], [-73.266272992197, 44.5037625744258], [-73.2666722180061, 44.503789847055], [-73.2670704677726, 44.5038024998876], [-73.2674625345448, 44.5038232077622], [-73.2679033801056, 44.5038177139015], [-73.2683140824664, 44.5038209984689], [-73.2690684869362, 44.5037830163641], [-73.2697863618974, 44.5036866388785], [-73.2706717932807, 44.5035421610857], [-73.2710402956398, 44.5033849963678], [-73.2712255733181, 44.5031012482041], [-73.2712645687656, 44.5026015170375], [-73.2713321571141, 44.5022437556738], [-73.2712329272562, 44.5017812363541], [-73.2711211934244, 44.5012345730367], [-73.2709790095215, 44.5008520729168], [-73.2709837734369, 44.5005575913101], [-73.2711387003584, 44.5001778657825], [-73.2713913731249, 44.49958233871], [-73.2716884299296, 44.4988367543781], [-73.2720251817397, 44.4983604616158], [-73.27222176259, 44.498100961542], [-73.2724081918824, 44.4978167813469], [-73.2725991443637, 44.4975777077702], [-73.2727988526992, 44.4973174826573], [-73.2730767273407, 44.4971148023288], [-73.2732988389622, 44.496914748751], [-73.2736115614599, 44.4967624529464], [-73.2736366284645, 44.4967563768247], [-73.273873183936, 44.4966979653004], [-73.2741883881365, 44.4967335141966], [-73.2744523306883, 44.4968443588865], [-73.2745774000803, 44.4970313738213], [-73.2746519781283, 44.4973815640584], [-73.2746039874367, 44.4977930509438], [-73.2744907786096, 44.4982349310556], [-73.2743667315767, 44.4987190702207], [-73.2744071219187, 44.4990987404448], [-73.274282824065, 44.4995938487477], [-73.2736834719447, 44.5000609587775], [-73.2736168325331, 44.5005189751191], [-73.2734176479433, 44.5009085646865], [-73.2733195778762, 44.501218583935], [-73.2736866453707, 44.5015487948746], [-73.2741996463875, 44.5020381781704], [-73.2746422668219, 44.5021677770787], [-73.2753044733541, 44.502498653391], [-73.2756063659559, 44.5027724916569], [-73.2758638834034, 44.5030781294439], [-73.2760724116032, 44.5034527192059], [-73.2760120059609, 44.5037869523063], [-73.2759283669582, 44.5041473560213], [-73.2763264168344, 44.5042630500664], [-73.2766875508984, 44.5043805398746], [-73.2769181563517, 44.5046116909424], [-73.2769564913748, 44.5048942089494], [-73.2774251374286, 44.5051466590733], [-73.2776259678362, 44.5055025965722], [-73.2777243890261, 44.5058112813231], [-73.2777635738966, 44.5063346679537], [-73.2775086733887, 44.5067894682536], [-73.2771858603757, 44.5069544981193], [-73.2767846119038, 44.507043284768], [-73.2762350406223, 44.5076232654294], [-73.2755144650747, 44.5082598068648], [-73.2753141613885, 44.5087734304076], [-73.2749519997188, 44.5096776571973], [-73.2749130188645, 44.5101764043714], [-73.2746163246906, 44.5104460090797], [-73.2742115529109, 44.5108942243995], [-73.274108758205, 44.5113529064327], [-73.2742153534489, 44.5116265254031], [-73.2741187284873, 44.511898287495], [-73.273820523854, 44.5122625344485], [-73.2734741054839, 44.5125477998767], [-73.2731160984409, 44.5126701688636], [-73.2722740325928, 44.512685849886], [-73.2716090928247, 44.512870191926], [-73.2714317224295, 44.5131894623767], [-73.2712055102711, 44.5139777350894], [-73.2713268225253, 44.514265177532], [-73.2712967312154, 44.5145464716911], [-73.2710728879474, 44.5149784074632], [-73.2707949222577, 44.515181082929], [-73.2704126979549, 44.5152570637266], [-73.2699442952368, 44.5153552786092], [-73.2697799007995, 44.5156463357561], [-73.2695321578843, 44.5160853203538], [-73.2696677850239, 44.5162960327149], [-73.2697568633521, 44.5164342202114], [-73.269807380857, 44.5167184857175], [-73.2698541469124, 44.5170164159631], [-73.2698855692417, 44.5173131842921], [-73.269902439232, 44.5176092074541], [-73.269906616247, 44.5178965975492], [-73.2699003457582, 44.5182561936222], [-73.2699060423212, 44.518778260589], [-73.2698646538146, 44.5194262152674], [-73.2699623634048, 44.5198909935599], [-73.2701352941723, 44.5204261356455], [-73.2702729600849, 44.5210292914886], [-73.2703836067063, 44.5215506503053], [-73.2706563717986, 44.5223525681642], [-73.2708059147574, 44.5228122152497], [-73.2709736699607, 44.5230729084624], [-73.2711164222383, 44.523345301151], [-73.2714186264459, 44.5238743655194], [-73.2718053927238, 44.524168028504], [-73.2722793345886, 44.5245731718781], [-73.2725765576189, 44.5249619321238], [-73.2718929937719, 44.5250860776611], [-73.2707399912007, 44.5252956469716]]]}}, \"sourcetype\": \"geojson\", \"type\": \"fill\"}, {\"below\": \"road_major_label\", \"color\": \"rgba(254,217,166,0.5)\", \"source\": {\"type\": \"Feature\", \"properties\": {\"OBJECTID\": 8, \"WARD\": 5, \"DISTRICT\": \"South\", \"Shape__Are\": 3945828.28310394, \"Shape__Len\": 9586.5616136336, \"COLOR\": \"rgba(254,217,166,0.5)\"}, \"geometry\": {\"type\": \"Polygon\", \"coordinates\": [[[-73.2139190040674, 44.4747471960899], [-73.2137389604974, 44.4722214398187], [-73.2137206042604, 44.4720366433079], [-73.2136979127126, 44.4719150105673], [-73.2136581988396, 44.4717501751301], [-73.2136217428434, 44.4716592832737], [-73.2135516073152, 44.4715119330524], [-73.2134656142252, 44.4713846498724], [-73.2133276616201, 44.4712156465223], [-73.2124790636138, 44.4702916074269], [-73.2099667437596, 44.4675785822594], [-73.2095879392946, 44.4671721638471], [-73.2092085658486, 44.4667507005524], [-73.20886105798, 44.4663658802669], [-73.2086564283823, 44.4661369605159], [-73.2084939834935, 44.4659539010508], [-73.2083044898223, 44.465742322353], [-73.2081575785216, 44.4655770246322], [-73.2080504318655, 44.4654525394414], [-73.2079811235326, 44.4653718333659], [-73.2078595414072, 44.4652225485065], [-73.2078174659334, 44.4651530632878], [-73.207786073554, 44.4650901210689], [-73.2077495323883, 44.464991072427], [-73.2077248279232, 44.4648965896589], [-73.2077142074904, 44.4647976611648], [-73.2077158497251, 44.4646410041996], [-73.2077861034278, 44.4636950606534], [-73.2077803213935, 44.4635415427884], [-73.2077532674968, 44.4633175665818], [-73.2077504217925, 44.4632446046958], [-73.207759186777, 44.4631899910053], [-73.2077821295682, 44.4631061815208], [-73.2078472721292, 44.4628424024832], [-73.2078640343337, 44.4627672086912], [-73.2078846118399, 44.4626502282366], [-73.207923329633, 44.4622796036218], [-73.2084784453252, 44.4562270970792], [-73.2085552081798, 44.455236676294], [-73.2083803758922, 44.4552280584204], [-73.2087687402409, 44.4511083776562], [-73.2092543861436, 44.4459155997923], [-73.2096315335229, 44.4459374433271], [-73.2134364139489, 44.4461575705871], [-73.217464216296, 44.4463698424876], [-73.217958028954, 44.4463965502944], [-73.2193632275238, 44.4464703914787], [-73.2195915263061, 44.4464869523605], [-73.2196039459573, 44.446347381701], [-73.2206677593733, 44.4464028275308], [-73.2207864332711, 44.4464119214257], [-73.2209609180741, 44.4464261472139], [-73.2233910207924, 44.4465511182333], [-73.2269960517983, 44.4467307173312], [-73.2273555020476, 44.4467490997632], [-73.2282833789265, 44.4467953553], [-73.2287728457275, 44.4468192317035], [-73.2294249557968, 44.4468519110704], [-73.2299199315936, 44.4468767319201], [-73.2305076189191, 44.4469063006915], [-73.2306639706449, 44.4469143000745], [-73.2314940266462, 44.4469549690101], [-73.2321527733127, 44.4469843549708], [-73.2320806468484, 44.4476533124902], [-73.2320551813194, 44.4478461209775], [-73.2318766420232, 44.4484509359278], [-73.2315915383735, 44.4490426513366], [-73.2315647233023, 44.449253327832], [-73.231624525112, 44.4494835570946], [-73.2318151035776, 44.4495908926671], [-73.2321008557799, 44.4497111171601], [-73.2327202145819, 44.4497906716433], [-73.2329364574091, 44.4499093717543], [-73.2330901995214, 44.4500847186372], [-73.2332627865961, 44.4502599452225], [-73.2332798392628, 44.4504617621045], [-73.2331854337178, 44.4507928182315], [-73.2329809755133, 44.45161660047], [-73.2327887986151, 44.4519472999773], [-73.2326804337158, 44.4521357193819], [-73.2326646373842, 44.4523482935271], [-73.2326585025429, 44.4526426444409], [-73.2325342782332, 44.4529445024186], [-73.2324112034924, 44.4532442442913], [-73.2322423439926, 44.4535248739401], [-73.2321215521496, 44.4540075426337], [-73.2319872391646, 44.4542565934674], [-73.2316781784454, 44.4544725926501], [-73.2311380975922, 44.4545197834147], [-73.2306975976966, 44.454492088732], [-73.2303012219295, 44.4545706975671], [-73.2298374809215, 44.4550097153906], [-73.2292356705942, 44.455366227205], [-73.2285770825631, 44.4558306699005], [-73.2282751357826, 44.4561152364887], [-73.2277140086386, 44.4563662992093], [-73.2271192125672, 44.4566573683784], [-73.2267948445471, 44.4568129868151], [-73.2264263473724, 44.4569566510962], [-73.2259767529997, 44.4570201159362], [-73.2256776705544, 44.4571253694913], [-73.2249209090953, 44.4582594711452], [-73.2249090423113, 44.4583159336788], [-73.2248163378643, 44.4587574971059], [-73.224453328848, 44.4592193367311], [-73.2240231628544, 44.4594902213623], [-73.2235847114225, 44.4597582041209], [-73.2231523844464, 44.4599182920302], [-73.2227657454983, 44.4599623620553], [-73.2226607528862, 44.4602369483665], [-73.222348064277, 44.4607054940853], [-73.222284037934, 44.4608950286423], [-73.2220915757953, 44.4614647603194], [-73.2221234093353, 44.4617854465462], [-73.2220919554606, 44.462068988832], [-73.221812613953, 44.4626316754054], [-73.2214913750496, 44.4631726905758], [-73.2207380456992, 44.4640560214995], [-73.2205617239115, 44.4643117905973], [-73.220210930421, 44.4648143185953], [-73.2200282365278, 44.4652868183247], [-73.220007671771, 44.4653710364179], [-73.2199377639768, 44.4656581951529], [-73.2197409338005, 44.4660033850266], [-73.2197076861735, 44.4663658235922], [-73.2197003052161, 44.4666600405743], [-73.2196844609633, 44.4669367330894], [-73.2196988574914, 44.4672773572145], [-73.2196699123664, 44.4677982439711], [-73.2196758744505, 44.4680916739426], [-73.2196798063212, 44.4683796324109], [-73.2201894343728, 44.4690705045509], [-73.2205039947958, 44.4695154003144], [-73.2205563589213, 44.4698131775464], [-73.220722838335, 44.4700648152451], [-73.2211241918616, 44.4701895407087], [-73.2214850075319, 44.4703072078728], [-73.2217144529446, 44.4705367917962], [-73.2218909069837, 44.4708960767115], [-73.2218613638529, 44.4711758095342], [-73.2215243687469, 44.4720674808713], [-73.2214719361243, 44.4724341184254], [-73.2215131340035, 44.4727813222913], [-73.2215809871518, 44.4729011211312], [-73.2216512502413, 44.473025122752], [-73.2222910523722, 44.4738197811739], [-73.2225435443575, 44.4741331654658], [-73.2225510286867, 44.4744531616562], [-73.2218321404921, 44.4744765495371], [-73.2194124216757, 44.4745555167572], [-73.2185914489818, 44.474582199154], [-73.2170069160105, 44.474641092181], [-73.2154874556752, 44.4746897119755], [-73.2139190040674, 44.4747471960899]]]}}, \"sourcetype\": \"geojson\", \"type\": \"fill\"}, {\"below\": \"road_major_label\", \"color\": \"rgba(255,255,204,0.5)\", \"source\": {\"type\": \"Feature\", \"properties\": {\"OBJECTID\": 7, \"WARD\": 6, \"DISTRICT\": \"South\", \"Shape__Are\": 3020282.76257324, \"Shape__Len\": 9281.90557654939, \"COLOR\": \"rgba(255,255,204,0.5)\"}, \"geometry\": {\"type\": \"Polygon\", \"coordinates\": [[[-73.2109906893559, 44.4759969839105], [-73.2007023529722, 44.4763547369941], [-73.1992185105388, 44.476397719214], [-73.1991757861112, 44.4756815387582], [-73.1991691954024, 44.4755572739848], [-73.1991543023503, 44.4753297065638], [-73.1991161436687, 44.4746011246361], [-73.1983657941845, 44.4745562181207], [-73.1984689120685, 44.4744421096644], [-73.1985712457306, 44.4743281463011], [-73.1986790120362, 44.474208666235], [-73.1986668345637, 44.4742086003365], [-73.1984448995983, 44.474108432052], [-73.1983284044046, 44.4740558513449], [-73.1981791364991, 44.4739888458258], [-73.1981017123795, 44.4739519146006], [-73.1980176211179, 44.4739158682197], [-73.1978150139295, 44.4738223310824], [-73.1975306430528, 44.4736902010755], [-73.1964381972715, 44.4731826326634], [-73.1964710210226, 44.4731354660766], [-73.1965125840264, 44.4730634985433], [-73.1965513916807, 44.4729909844314], [-73.1965988402071, 44.4728855137417], [-73.1966238794309, 44.4728112557851], [-73.1966441572325, 44.4727329492046], [-73.1966581645693, 44.472655805801], [-73.1966720196514, 44.4725658678763], [-73.1966803359864, 44.4725056331888], [-73.1966834135415, 44.4724341811177], [-73.1966768329207, 44.4723432420084], [-73.1966690981718, 44.4722542790213], [-73.1966529983105, 44.4721555234349], [-73.1966251198625, 44.4720571213704], [-73.1965930144795, 44.4719666187154], [-73.1965645982961, 44.4718890311906], [-73.1965206773091, 44.4717956487465], [-73.1964550084746, 44.4716900237277], [-73.1962827808765, 44.4714750864884], [-73.1962364987642, 44.4714143414097], [-73.1961801087188, 44.4713293305505], [-73.196143252288, 44.4712685270783], [-73.1961125542268, 44.4711971404772], [-73.1960860498447, 44.4711150414341], [-73.1960704192639, 44.4710556555798], [-73.1960640069032, 44.4709787770642], [-73.1960632765612, 44.4709173322132], [-73.1960710374328, 44.4708433209447], [-73.196083894712, 44.4707685748554], [-73.1960990661109, 44.4706901590736], [-73.1961175468082, 44.4706259251882], [-73.196144330435, 44.4705662808204], [-73.1961765135047, 44.4704983069193], [-73.1962162491237, 44.4704378807259], [-73.1962726721456, 44.4703606200667], [-73.1963671285885, 44.4702450192185], [-73.1966036694905, 44.4699897636878], [-73.1967579258227, 44.4698168481885], [-73.1978802569728, 44.4698052153609], [-73.1981708531277, 44.4698021731247], [-73.198207129119, 44.4703742621385], [-73.198221501982, 44.4704267644987], [-73.1982435553939, 44.4704647370486], [-73.1982745331088, 44.4704935151675], [-73.1983184159939, 44.4705175733455], [-73.1983921546587, 44.4705422930983], [-73.1984819134723, 44.4705600239347], [-73.1986279061793, 44.470583598776], [-73.1987058096156, 44.4705952148155], [-73.1987656948012, 44.4706108792103], [-73.1988221086339, 44.4706319078008], [-73.199111858158, 44.4707550022683], [-73.1991666572839, 44.4707722436941], [-73.1992166333709, 44.4707803747555], [-73.1992677227913, 44.4707830146996], [-73.1993321295862, 44.4707826203516], [-73.1993992222718, 44.4707768665325], [-73.1994642515945, 44.4707628277962], [-73.1995276176208, 44.4707410659628], [-73.1995952122339, 44.4707116853371], [-73.1998342939572, 44.4706043364221], [-73.1998894685702, 44.4705872647081], [-73.1999321839941, 44.4705794091871], [-73.1999714378092, 44.4705776225114], [-73.2000063991787, 44.4705781110989], [-73.2004374661499, 44.4705964199687], [-73.2003709845684, 44.4689783288329], [-73.2003703287808, 44.4689234918474], [-73.200376131128, 44.468850335523], [-73.200382835338, 44.4687870172941], [-73.2003964834503, 44.4687131090955], [-73.2009027009288, 44.4670375074336], [-73.2000866747275, 44.466944220892], [-73.1999883387634, 44.4669313243957], [-73.1999088019621, 44.4669140945574], [-73.1998402187476, 44.4668932814497], [-73.1997782734359, 44.4668691932179], [-73.1992894019694, 44.4666450918962], [-73.1991481720635, 44.4665919596342], [-73.1990335293017, 44.4665618660344], [-73.1989508668071, 44.466545919985], [-73.198878518466, 44.4665386285593], [-73.1988027019362, 44.4665368425907], [-73.1987112299925, 44.4665396520863], [-73.1986060612672, 44.4665464825607], [-73.1985095670416, 44.4665562126161], [-73.1984315368374, 44.4665663921486], [-73.1983798367544, 44.4665780989325], [-73.198333298058, 44.4665945537584], [-73.1982728129512, 44.4666269842127], [-73.1981905701572, 44.4666792340043], [-73.1981134714588, 44.4667346867067], [-73.1980556036963, 44.4667890372782], [-73.1979865396568, 44.4668596274084], [-73.1979351177699, 44.4669277185278], [-73.1978856967523, 44.4669988914183], [-73.1973239406353, 44.4679753911808], [-73.197299121853, 44.4680348834636], [-73.1972848753302, 44.468091779643], [-73.1972844632849, 44.4681561842189], [-73.1972983694404, 44.4682026437163], [-73.1967437412109, 44.4683275214485], [-73.1966109315546, 44.4683550492083], [-73.1964871116275, 44.4683790058977], [-73.1963534598785, 44.4684018974628], [-73.1962472437371, 44.468419981496], [-73.196172829636, 44.4684373091219], [-73.1960518880362, 44.4684722163571], [-73.1959595712559, 44.4685032925545], [-73.1958845787094, 44.4685380600035], [-73.1958023156578, 44.4685889024643], [-73.1956217983695, 44.4687331495333], [-73.1955766964672, 44.4687715316035], [-73.1955419983667, 44.4687931166719], [-73.1955052738536, 44.4688093701805], [-73.195460284647, 44.4688241278924], [-73.1953924885058, 44.4688366341891], [-73.1952564184987, 44.4688543365953], [-73.1942030249391, 44.4689483477236], [-73.1941253761969, 44.4689579604248], [-73.1940403464885, 44.4689743666326], [-73.1939757915201, 44.4689952885013], [-73.1939015026132, 44.4690233007632], [-73.1938443830762, 44.4690419284142], [-73.1937735008415, 44.4690590926273], [-73.1937001894092, 44.4690702248027], [-73.1935773640096, 44.4690788452868], [-73.1933607726427, 44.4690959094496], [-73.1930971303824, 44.4691195862689], [-73.192899849268, 44.4691422974368], [-73.1928579060344, 44.4691490207105], [-73.1920388053296, 44.4647086650401], [-73.1911641976955, 44.4602123900488], [-73.1907258327129, 44.4579698091702], [-73.1899787114897, 44.45414588344], [-73.1989975286409, 44.4546920411039], [-73.1991908570378, 44.4547043570042], [-73.1996246499034, 44.4547305277959], [-73.1999334935348, 44.454749305585], [-73.1999943921942, 44.4547525888616], [-73.2014085516241, 44.4548384077359], [-73.2014659175105, 44.4548417110232], [-73.2017892985934, 44.4548612395603], [-73.2019232895624, 44.4548694156699], [-73.2021747584998, 44.4548840402407], [-73.2025566744036, 44.454906019067], [-73.2029409563896, 44.4549288244066], [-73.2033193386516, 44.4549508224301], [-73.2036985076637, 44.4549728134525], [-73.2040796377204, 44.4549946507347], [-73.2044623503544, 44.4550174615287], [-73.2048426974065, 44.4550394414856], [-73.205223829965, 44.4550614153255], [-73.2057098878653, 44.4550907554762], [-73.207009909884, 44.4551528827197], [-73.2082023997452, 44.4552193193811], [-73.2083803758922, 44.4552280584204], [-73.2085552081798, 44.455236676294], [-73.2084784453252, 44.4562270970792], [-73.207923329633, 44.4622796036218], [-73.2078846118399, 44.4626502282366], [-73.2078640343337, 44.4627672086912], [-73.2078472721292, 44.4628424024832], [-73.2077821295682, 44.4631061815208], [-73.207759186777, 44.4631899910053], [-73.2077504217925, 44.4632446046958], [-73.2077532674968, 44.4633175665818], [-73.2077803213935, 44.4635415427884], [-73.2077861034278, 44.4636950606534], [-73.2077158497251, 44.4646410041996], [-73.2077142074904, 44.4647976611648], [-73.2077248279232, 44.4648965896589], [-73.2077495323883, 44.464991072427], [-73.207786073554, 44.4650901210689], [-73.2078174659334, 44.4651530632878], [-73.2078595414072, 44.4652225485065], [-73.2079811235326, 44.4653718333659], [-73.2080504318655, 44.4654525394414], [-73.2081575785216, 44.4655770246322], [-73.2083044898223, 44.465742322353], [-73.2084939834935, 44.4659539010508], [-73.2086564283823, 44.4661369605159], [-73.20886105798, 44.4663658802669], [-73.2092085658486, 44.4667507005524], [-73.2095879392946, 44.4671721638471], [-73.2099667437596, 44.4675785822594], [-73.2124790636138, 44.4702916074269], [-73.2133276616201, 44.4712156465223], [-73.2134656142252, 44.4713846498724], [-73.2135516073152, 44.4715119330524], [-73.2136217428434, 44.4716592832737], [-73.2136581988396, 44.4717501751301], [-73.2136979127126, 44.4719150105673], [-73.2137206042604, 44.4720366433079], [-73.2137389604974, 44.4722214398187], [-73.2139190040674, 44.4747471960899], [-73.2125444312804, 44.4747923403231], [-73.2122817663048, 44.4747686677251], [-73.2108051749407, 44.474822442138], [-73.2109841076837, 44.4758755321086], [-73.2109906893559, 44.4759969839105]]]}}, \"sourcetype\": \"geojson\", \"type\": \"fill\"}, {\"below\": \"road_major_label\", \"color\": \"rgba(229,216,189,0.5)\", \"source\": {\"type\": \"Feature\", \"properties\": {\"OBJECTID\": 1, \"WARD\": 7, \"DISTRICT\": \"North\", \"Shape__Are\": 7072752.23921967, \"Shape__Len\": 23027.3495793427, \"COLOR\": \"rgba(229,216,189,0.5)\"}, \"geometry\": {\"type\": \"Polygon\", \"coordinates\": [[[-73.2707399912007, 44.5252956469716], [-73.2718929937719, 44.5250860776611], [-73.2725765576189, 44.5249619321238], [-73.2725885600772, 44.5249777402473], [-73.2729751031789, 44.5254616540278], [-73.2733005606759, 44.5257553056194], [-73.2734742344123, 44.5260160962375], [-73.2735649844184, 44.5261897042793], [-73.2736113665569, 44.5262782590289], [-73.2738775243169, 44.5266651167358], [-73.2738713428651, 44.5269999635705], [-73.2739958237059, 44.5273454558653], [-73.2741197359068, 44.5278260829729], [-73.2744975654214, 44.5285399566918], [-73.2749927960093, 44.5292715927932], [-73.2756829037737, 44.5300816332366], [-73.2751480260725, 44.5302450037349], [-73.2746331886455, 44.5303781436814], [-73.2742264212234, 44.5304782076789], [-73.2736211620922, 44.5306119568975], [-73.2731916398801, 44.5306861577398], [-73.272983715794, 44.5307200466499], [-73.2727755330258, 44.5307343920845], [-73.2724941947203, 44.5307168909183], [-73.2721766888933, 44.5306994923073], [-73.2718956592274, 44.5306755188273], [-73.2715604124378, 44.530684252906], [-73.2712530615566, 44.5307511522833], [-73.2710007811128, 44.5308500210363], [-73.2707306232567, 44.530994568322], [-73.2704975355908, 44.5311776755914], [-73.2703364398253, 44.5313342832196], [-73.2701674977664, 44.5315817805293], [-73.2700432501572, 44.5317900251408], [-73.2699913903332, 44.5319719092914], [-73.2699762095225, 44.5321923559387], [-73.2700111293158, 44.5324255417914], [-73.2700812254321, 44.5326130715016], [-73.2701789266858, 44.532806883757], [-73.2704276103381, 44.5330905145005], [-73.2707482067477, 44.5333411779616], [-73.2712795629063, 44.5337718105408], [-73.2723876017319, 44.5346395111751], [-73.2731115843093, 44.5352440382748], [-73.2735612880192, 44.5356818219263], [-73.2738559849227, 44.5360233485043], [-73.2741061966464, 44.5364495440085], [-73.2742830380299, 44.5367983369508], [-73.2743729208537, 44.5370830353912], [-73.2743979569407, 44.5372513220859], [-73.2743775593216, 44.5374329947182], [-73.2743209902495, 44.5376149125863], [-73.2742156549119, 44.5378555156065], [-73.2739978947089, 44.5381875778942], [-73.2737031545686, 44.5385266291191], [-73.2735332626072, 44.538702846371], [-73.2733361555274, 44.5388727780069], [-73.2731027007917, 44.539029879274], [-73.2728689037897, 44.5391611083048], [-73.2725624526891, 44.5392992970903], [-73.2722737443763, 44.5394114919049], [-73.2716691591161, 44.5396035815102], [-73.2713167159482, 44.5396837222182], [-73.2709461013645, 44.5397575166605], [-73.2704753604484, 44.5398125800938], [-73.270050058508, 44.5398543986376], [-73.2693257119386, 44.5399110266018], [-73.2686050944798, 44.5399224876702], [-73.2679072806842, 44.5399336495771], [-73.2672184242092, 44.5399382792052], [-73.2665632000916, 44.539898948338], [-73.2659479221836, 44.5398171603996], [-73.2654120240509, 44.5397013712434], [-73.2648928173621, 44.5395389239732], [-73.2644024469885, 44.5393561731584], [-73.2640105034887, 44.5391827457288], [-73.2636797164502, 44.5389648957349], [-73.2632862468978, 44.5386742025857], [-73.2629327647795, 44.5383139179351], [-73.2627482123806, 44.5380623251468], [-73.2625902812421, 44.5377716032387], [-73.2624966374379, 44.5375258708141], [-73.2624266918133, 44.5372279529588], [-73.2623790937616, 44.536744273005], [-73.2623914362645, 44.5364245726464], [-73.2624729057939, 44.5360689757706], [-73.2625720729033, 44.5358042379768], [-73.2627314252191, 44.5354512139105], [-73.2629517322551, 44.5350390057281], [-73.2631728038518, 44.5346855686772], [-73.2633533578675, 44.5343910392055], [-73.263552523175, 44.5340765575905], [-73.2637553581722, 44.5337723166556], [-73.263996670421, 44.5334039782043], [-73.264237788404, 44.5330210165378], [-73.2645593321804, 44.5325348663964], [-73.2649215726051, 44.5320044304027], [-73.2653737776119, 44.531349087361], [-73.266029074242, 44.5304716131132], [-73.2664027423336, 44.5299150819856], [-73.2666153741374, 44.5295507270593], [-73.2667827943758, 44.5291865348785], [-73.2668877733061, 44.5288875842635], [-73.2669614200425, 44.5286277950698], [-73.2670533886541, 44.5280567012607], [-73.267058177048, 44.5277325509688], [-73.2670144837792, 44.5274288335871], [-73.2669134551962, 44.5270398675662], [-73.2667694541305, 44.5266414868088], [-73.2665890942953, 44.5262583950647], [-73.2663177707792, 44.5258934909926], [-73.2659462696156, 44.525503526199], [-73.2655423400199, 44.5251584918913], [-73.2647913199625, 44.5246352316308], [-73.2643225890171, 44.5243540455556], [-73.2637927820489, 44.5240916859619], [-73.2629271578157, 44.5237307466373], [-73.2622048377079, 44.5235059447257], [-73.2616093556836, 44.5233608649081], [-73.26090117727, 44.523255342726], [-73.2602077724961, 44.5232276183265], [-73.2591430332574, 44.5232719634423], [-73.2585281764152, 44.5233294825902], [-73.2580670159221, 44.5234167733745], [-73.2576337901423, 44.5235363593813], [-73.2574306242688, 44.5236025304489], [-73.2572058092054, 44.523727200326], [-73.2570671611479, 44.5238577664684], [-73.2569334238111, 44.5240337198054], [-73.2567461963261, 44.5242683821477], [-73.2566260449812, 44.5244311671815], [-73.2565274620775, 44.5245291261196], [-73.2564064720308, 44.5246270920855], [-73.2561450099421, 44.5247455347017], [-73.2559556803258, 44.5248180802855], [-73.2556939393767, 44.5248846359469], [-73.255404264059, 44.5249190346793], [-73.2551326443179, 44.5249208309109], [-73.2548151732657, 44.5249033837719], [-73.254343116144, 44.5248482874202], [-73.2538375972632, 44.5247591007227], [-73.2534887134133, 44.5246528478924], [-73.2531166172793, 44.5245145463543], [-73.2525593836399, 44.5242248952571], [-73.2521066487878, 44.5239294920559], [-73.2519372808548, 44.523781554904], [-73.2518131161817, 44.5236331786524], [-73.2515904353281, 44.5232521702519], [-73.2514047297621, 44.5229034005282], [-73.2512709452439, 44.5227098092217], [-73.2511420677666, 44.5225614641129], [-73.250991703167, 44.5224846928113], [-73.2507871174327, 44.5224406188725], [-73.2506147880838, 44.5224288149748], [-73.2504703904528, 44.5224493096819], [-73.2503261814156, 44.522515080702], [-73.2501686290731, 44.5226132811939], [-73.2500568399467, 44.5227242579451], [-73.2499680973664, 44.5228544877345], [-73.2499112978992, 44.5230233184834], [-73.2499227496463, 44.5232112459415], [-73.2500026205227, 44.5234312065056], [-73.2501413684436, 44.5236441711567], [-73.2502396543259, 44.5238898838267], [-73.2502792283822, 44.5241553874955], [-73.2502559344298, 44.5244537856346], [-73.2501860417114, 44.5246745893523], [-73.2501342919969, 44.524869400618], [-73.2500369228773, 44.5250321694596], [-73.2498772015899, 44.5252989809593], [-73.2496761841967, 44.5255337222081], [-73.2494266316664, 44.5258465425775], [-73.2491761018754, 44.5261139488991], [-73.2488897989395, 44.526381590136], [-73.2486026854507, 44.5266168939688], [-73.2482566033468, 44.5268524421368], [-73.2477815932635, 44.5271204726067], [-73.2473564839046, 44.5273251788789], [-73.2469015499808, 44.5275035025339], [-73.2463098859806, 44.5276884829341], [-73.2458455079117, 44.5278665824049], [-73.2451470601742, 44.528156309432], [-73.2445482276905, 44.5284584607101], [-73.2439718594852, 44.5287344479895], [-73.2434308280647, 44.5289455192822], [-73.2431148233616, 44.5290447403583], [-73.2427894465482, 44.5291181491935], [-73.2425090126072, 44.529139518483], [-73.2422821038735, 44.5291345247085], [-73.2420643008597, 44.5291034586098], [-73.2418188801064, 44.5290337607537], [-73.2415906551044, 44.5289250004927], [-73.2412621360478, 44.5287197253457], [-73.2410058035435, 44.5285333862779], [-73.2408409375272, 44.5283983401851], [-73.2407215919427, 44.5282565298739], [-73.2406377712751, 44.5280949442047], [-73.2406033010066, 44.5278877598671], [-73.2405899895065, 44.527550791396], [-73.2406026504619, 44.5271228165047], [-73.2405373421264, 44.5265915734592], [-73.240399334405, 44.526093424421], [-73.2402952012872, 44.5257245621719], [-73.2401825394266, 44.5254270473194], [-73.2400489498002, 44.5252463782983], [-73.2399067305688, 44.5250982474103], [-73.239719161058, 44.5249698145572], [-73.2392719248252, 44.5247004789027], [-73.2388696687395, 44.5244437871163], [-73.2382214290167, 44.524039491379], [-73.2376684204381, 44.5236735271388], [-73.2374348383738, 44.5234805641781], [-73.2372103653479, 44.5232616695889], [-73.2370218272805, 44.5230554783819], [-73.2369063341537, 44.5228746888241], [-73.236808513564, 44.5226613036311], [-73.2367470207525, 44.5224607601228], [-73.2366891022658, 44.5221694976494], [-73.2366679168304, 44.5219232759461], [-73.236696012975, 44.5216573309633], [-73.2367383405934, 44.5213977629221], [-73.2368298654541, 44.5211118638187], [-73.2369309200925, 44.5208648534143], [-73.2371655203452, 44.5204225095068], [-73.2373965590689, 44.5200409348962], [-73.2375782885404, 44.5197392653037], [-73.2377830862004, 44.5194591025372], [-73.2379259940509, 44.5192897213817], [-73.2380961193901, 44.5191589749459], [-73.2382715979484, 44.5190475981487], [-73.2384962726138, 44.5189100297156], [-73.2387398272534, 44.5188046798507], [-73.2389110792592, 44.5187322796933], [-73.2390631790496, 44.5186684410509], [-73.2391989498097, 44.5185878331231], [-73.2393293575455, 44.5184872927873], [-73.2394861424888, 44.5182967279309], [-73.2395751612422, 44.5180627296345], [-73.2395983164281, 44.5179045277584], [-73.2395799946364, 44.5177612184932], [-73.2395186595414, 44.5175113198841], [-73.239458384866, 44.5173452212706], [-73.2393382499442, 44.5171390128448], [-73.2391820720739, 44.5169420369659], [-73.2389766530659, 44.5167675963034], [-73.2387391823124, 44.5166071433714], [-73.2385294030249, 44.5164917895631], [-73.2382829907373, 44.5163702034094], [-73.2380097732969, 44.5162423211666], [-73.2376636835285, 44.5161019732225], [-73.2374134414679, 44.5160192198375], [-73.2371316109063, 44.5159562146853], [-73.2368456213402, 44.5159061732091], [-73.2363741268018, 44.5158574676111], [-73.2359653521919, 44.5157952788867], [-73.2357383178383, 44.5157448547144], [-73.2355292001794, 44.5156813771651], [-73.2353651184803, 44.5156046735265], [-73.2352191131842, 44.515527712896], [-73.2349908591731, 44.5153801294396], [-73.2347070814431, 44.51516161035], [-73.23446393293, 44.5149232834707], [-73.2342430935326, 44.5146458632242], [-73.2340125667426, 44.5143167573237], [-73.2337618688668, 44.5140087320468], [-73.2334782490364, 44.5137079488734], [-73.2332173560523, 44.5134013944489], [-73.233043024233, 44.5132274471713], [-73.2328603039533, 44.5131054404247], [-73.23260527281, 44.5129838972471], [-73.2323868983136, 44.5129334108346], [-73.2321511640597, 44.5129090489752], [-73.2319247125874, 44.5129040316599], [-73.2316620360994, 44.5129251201622], [-73.2314004007409, 44.5129980883697], [-73.2311476552093, 44.5130905439768], [-73.2308777080256, 44.5132219199431], [-73.2303826142059, 44.5134843825588], [-73.2299869350264, 44.5137137251871], [-73.2298075392948, 44.5138575968399], [-73.2296554195295, 44.5140140893059], [-73.2295129042395, 44.5142159393116], [-73.2293531997574, 44.5144891912842], [-73.2292023729989, 44.5147495909871], [-73.2289894592385, 44.5150428683365], [-73.2287869540051, 44.5153199078304], [-73.2285393216625, 44.5155715019337], [-73.2282730563207, 44.515810418957], [-73.2279052098021, 44.5160672787624], [-73.227567894173, 44.5162509622365], [-73.2272344146784, 44.5163956708747], [-73.2269003718954, 44.516495103435], [-73.2265523284307, 44.5165750782851], [-73.225955818332, 44.516682646247], [-73.2252139555232, 44.5167651195821], [-73.2245437653988, 44.5167952464871], [-73.2239547644489, 44.5167795761613], [-73.2234377596392, 44.516737434009], [-73.2229338699586, 44.5166750973381], [-73.222235200931, 44.5165635100047], [-73.2215270931363, 44.516451274271], [-73.220822243186, 44.5163480138836], [-73.220374547156, 44.5163159659026], [-73.2201391238443, 44.5163174505816], [-73.2199490574273, 44.5163315855064], [-73.2196050050683, 44.5163532996005], [-73.2194237386674, 44.5163479727949], [-73.2192422331401, 44.5163231023072], [-73.2190238520428, 44.5162402483627], [-73.2188231527696, 44.5161248011727], [-73.2187403677951, 44.5160410931784], [-73.2186480585607, 44.5158860122985], [-73.2186097542673, 44.5157436694851], [-73.2186163249855, 44.5155426876813], [-73.2186687234562, 44.5153608238203], [-73.2187304865807, 44.5152372558282], [-73.2188189458978, 44.5151431890151], [-73.2190628135778, 44.5149657443535], [-73.2193883358459, 44.5147803315619], [-73.2198169164417, 44.5146015803674], [-73.2203377051852, 44.5144102930196], [-73.2209242042474, 44.5142250582015], [-73.2215469382856, 44.5140461997128], [-73.2221650513171, 44.5138753819133], [-73.2227680841877, 44.5137249048605], [-73.223348951781, 44.5135939704242], [-73.2238465657226, 44.5135324619606], [-73.2243532972908, 44.5134773622748], [-73.2248873064466, 44.5134350238595], [-73.2254084386014, 44.5134002171442], [-73.2258688902728, 44.5133532782514], [-73.2262573592894, 44.5132700956817], [-73.2265732558707, 44.5131667027626], [-73.2269834488805, 44.5129974621845], [-73.2273391572127, 44.5127771031165], [-73.2275875808299, 44.51258962633], [-73.2278364213467, 44.5123726174853], [-73.2281233082891, 44.5121179622017], [-73.2284404222505, 44.5117659467906], [-73.228587648339, 44.5115639275957], [-73.2287072056324, 44.5113492884863], [-73.2287946048335, 44.5111088398624], [-73.2288640762745, 44.5108491010471], [-73.2289058779041, 44.510576602122], [-73.2288836803279, 44.5102461558486], [-73.2288252478508, 44.5099094729116], [-73.2286881855929, 44.5094759854889], [-73.2284655378699, 44.5090495116668], [-73.2282619390509, 44.5087008175342], [-73.2279582855693, 44.5083017170189], [-73.2276316702522, 44.5079203387153], [-73.2272880324184, 44.5075919394135], [-73.2269356121226, 44.5073154828864], [-73.2265381624481, 44.5070521070856], [-73.2260545715201, 44.506750608844], [-73.2257532732164, 44.5065709885233], [-73.2255156377206, 44.506390963005], [-73.2253234340827, 44.5062300539114], [-73.225149872426, 44.5061145856783], [-73.2249765502169, 44.5060183798118], [-73.2247304505626, 44.5059161667365], [-73.2245304185401, 44.505852612173], [-73.2243128720621, 44.5058345865959], [-73.2241141254274, 44.5058747981352], [-73.2239066600436, 44.5059409370167], [-73.2236871562372, 44.5060188231464], [-73.2233306818619, 44.5061750559947], [-73.2229273261919, 44.5064175001172], [-73.222422334367, 44.506799515125], [-73.2219572439483, 44.5072626915677], [-73.2216087641594, 44.5076538369025], [-73.221358264756, 44.5079277929276], [-73.2211436686975, 44.5081494924839], [-73.220883959754, 44.5083780864549], [-73.2205787414725, 44.5086132944518], [-73.2201701808297, 44.5089141173735], [-73.2199728575125, 44.5090710233979], [-73.2198653566706, 44.509181802538], [-73.2196956242936, 44.5093773441339], [-73.2194718995739, 44.5095927714331], [-73.2192251397268, 44.5097887966274], [-73.218964776441, 44.5099653619962], [-73.2187041004422, 44.5101485379017], [-73.2184791737309, 44.5102666646628], [-73.218253767744, 44.5103458427428], [-73.2180641984495, 44.5103989217641], [-73.2178563925214, 44.5104391784431], [-73.2176299547162, 44.5104664747732], [-73.2174216704385, 44.5104677833172], [-73.2170317429092, 44.5104314220533], [-73.2166686126741, 44.5103688776112], [-73.2162962044546, 44.5102868443821], [-73.215941559224, 44.5101788252821], [-73.2156045957069, 44.5100383531073], [-73.2152673186206, 44.5098720076897], [-73.2149536332608, 44.5096742973295], [-73.2146918701449, 44.5094800580519], [-73.2144810555035, 44.5092739685064], [-73.2143151974409, 44.5090481928635], [-73.2142034132518, 44.5088090008907], [-73.2141236184397, 44.5085825463403], [-73.2140888565831, 44.5083105314181], [-73.214031382808, 44.5080774684423], [-73.2139559105727, 44.507818644624], [-73.2138859499621, 44.5076570924708], [-73.225764052777, 44.5008835668173], [-73.2280341504162, 44.4995886695271], [-73.2281133568395, 44.4995435895372], [-73.2183194212876, 44.4912102604646], [-73.2185755192468, 44.4912048526159], [-73.2193226191308, 44.4911904474043], [-73.2198949088663, 44.4911781229369], [-73.2204958746971, 44.4911654743127], [-73.2212193481735, 44.4911468464069], [-73.2214950589896, 44.4911389179072], [-73.2217683484059, 44.4911258014675], [-73.2220352842885, 44.4911072402814], [-73.2222158153913, 44.4910911939621], [-73.2224660894584, 44.4910596591414], [-73.2227044906972, 44.4910211694383], [-73.2228558508372, 44.4909972908888], [-73.2230016239896, 44.4909664171434], [-73.2232523439392, 44.49090745828], [-73.2234829731553, 44.4908442668049], [-73.2236939290097, 44.4907786688815], [-73.2238715223007, 44.4907158126673], [-73.2241006676775, 44.4906280212752], [-73.2243382689596, 44.4905251305282], [-73.2245745718303, 44.4904126856159], [-73.2248266748922, 44.490275391475], [-73.2250560227022, 44.4901407718786], [-73.2252173531356, 44.4900340041349], [-73.2253774283734, 44.4899210570168], [-73.2255046993235, 44.4898242074752], [-73.2257531625519, 44.4896155013204], [-73.22606354948, 44.4892998133683], [-73.2261234491214, 44.4892195624994], [-73.2306311826111, 44.4949673294569], [-73.2314457800031, 44.4960112522638], [-73.2316166290559, 44.496225441485], [-73.2318383290328, 44.4964840200897], [-73.2319835993554, 44.4966634998462], [-73.2323312734635, 44.4971291010902], [-73.2329551634061, 44.4980007156031], [-73.2331017370869, 44.4981896061264], [-73.2331822246419, 44.4982785212879], [-73.2332379892278, 44.4983386286544], [-73.2333198567138, 44.49841220703], [-73.2334159166757, 44.4984894919674], [-73.2335821568972, 44.4986169469586], [-73.2359487994008, 44.500363500506], [-73.2369813706866, 44.5011348703684], [-73.240455159557, 44.5036845491799], [-73.2599935590733, 44.5181199201832], [-73.2645081108472, 44.5214665304151], [-73.2645947448085, 44.5215383676653], [-73.2646345840969, 44.5215788789898], [-73.2647081320755, 44.5216720369273], [-73.2650800910097, 44.5222196335766], [-73.2663775252501, 44.5214860617033], [-73.266699484584, 44.5217869274121], [-73.2668121625028, 44.5218961317955], [-73.267215689819, 44.5222415856835], [-73.267082559176, 44.5222814310928], [-73.2671707376985, 44.5224407183774], [-73.2672683398916, 44.5226290499073], [-73.2673179187644, 44.5227225075608], [-73.2673665055182, 44.5228003633159], [-73.2674753424319, 44.5229759633293], [-73.26745537836, 44.5229824249552], [-73.2675489483034, 44.5231629088574], [-73.2675692993254, 44.5231560225434], [-73.2676695158135, 44.5233336493623], [-73.2677713261103, 44.5235129527586], [-73.2678731401519, 44.5236923973236], [-73.2679793814578, 44.5238796855863], [-73.2680880317966, 44.5240707543841], [-73.268201518047, 44.5242707899317], [-73.2683174208516, 44.5244751684057], [-73.2684333244631, 44.5246795458492], [-73.2685945875826, 44.5246262930607], [-73.2687085059319, 44.524799185727], [-73.2688236257832, 44.524973758471], [-73.2689762674399, 44.5249225313489], [-73.2689870647124, 44.5249663306574], [-73.2689924772385, 44.5250191656074], [-73.2689910714163, 44.5250915922326], [-73.2689820218991, 44.5251507116348], [-73.2689735038408, 44.525190562472], [-73.2689590938597, 44.5252307355592], [-73.268933438566, 44.5252826547595], [-73.268899200696, 44.5253396938896], [-73.2688609628789, 44.5253914161018], [-73.2688225203015, 44.5254276724354], [-73.2687820906859, 44.5254622547466], [-73.2687447206469, 44.5254903485908], [-73.2686729882973, 44.5255361091099], [-73.2686152664302, 44.5255710894249], [-73.2687385357995, 44.5256477381728], [-73.2702152544711, 44.5253910094937], [-73.2707399912007, 44.5252956469716]]]}}, \"sourcetype\": \"geojson\", \"type\": \"fill\"}, {\"below\": \"road_major_label\", \"color\": \"rgba(253,218,236,0.5)\", \"source\": {\"type\": \"Feature\", \"properties\": {\"OBJECTID\": 6, \"WARD\": 8, \"DISTRICT\": \"East\", \"Shape__Are\": 617387.785255432, \"Shape__Len\": 6428.33008716662, \"COLOR\": \"rgba(253,218,236,0.5)\"}, \"geometry\": {\"type\": \"Polygon\", \"coordinates\": [[[-73.2056904027222, 44.4806567040077], [-73.2055390722885, 44.4774871570677], [-73.2005997615911, 44.4777601258888], [-73.1992878896517, 44.4778325684584], [-73.1990369218563, 44.4763877218304], [-73.1989566607785, 44.4763766829251], [-73.1988877669496, 44.4763636053229], [-73.1988097332745, 44.4763417245287], [-73.1987510047536, 44.4763247877728], [-73.1984437223914, 44.4762158613987], [-73.1980925574835, 44.4760831567529], [-73.1950902648336, 44.4747421273892], [-73.1949165197812, 44.4746644393175], [-73.1937811842603, 44.4741499348471], [-73.1937609669509, 44.4740017068196], [-73.193720053509, 44.4736978011905], [-73.1936748004435, 44.4734586055731], [-73.193223129521, 44.4710711450807], [-73.1929135667105, 44.4694386344493], [-73.1928675616283, 44.4692016927652], [-73.1928579060344, 44.4691490207105], [-73.192899849268, 44.4691422974368], [-73.1930971303824, 44.4691195862689], [-73.1933607726427, 44.4690959094496], [-73.1935773640096, 44.4690788452868], [-73.1937001894092, 44.4690702248027], [-73.1937735008415, 44.4690590926273], [-73.1938443830762, 44.4690419284142], [-73.1939015026132, 44.4690233007632], [-73.1939757915201, 44.4689952885013], [-73.1940403464885, 44.4689743666326], [-73.1941253761969, 44.4689579604248], [-73.1942030249391, 44.4689483477236], [-73.1952564184987, 44.4688543365953], [-73.1953924885058, 44.4688366341891], [-73.195460284647, 44.4688241278924], [-73.1955052738536, 44.4688093701805], [-73.1955419983667, 44.4687931166719], [-73.1955766964672, 44.4687715316035], [-73.1956217983695, 44.4687331495333], [-73.1958023156578, 44.4685889024643], [-73.1958845787094, 44.4685380600035], [-73.1959595712559, 44.4685032925545], [-73.1960518880362, 44.4684722163571], [-73.196172829636, 44.4684373091219], [-73.1962472437371, 44.468419981496], [-73.1963534598785, 44.4684018974628], [-73.1964871116275, 44.4683790058977], [-73.1966109315546, 44.4683550492083], [-73.1967437412109, 44.4683275214485], [-73.1972983694404, 44.4682026437163], [-73.1972844632849, 44.4681561842189], [-73.1972848753302, 44.468091779643], [-73.197299121853, 44.4680348834636], [-73.1973239406353, 44.4679753911808], [-73.1978856967523, 44.4669988914183], [-73.1979351177699, 44.4669277185278], [-73.1979865396568, 44.4668596274084], [-73.1980556036963, 44.4667890372782], [-73.1981134714588, 44.4667346867067], [-73.1981905701572, 44.4666792340043], [-73.1982728129512, 44.4666269842127], [-73.198333298058, 44.4665945537584], [-73.1983798367544, 44.4665780989325], [-73.1984315368374, 44.4665663921486], [-73.1985095670416, 44.4665562126161], [-73.1986060612672, 44.4665464825607], [-73.1987112299925, 44.4665396520863], [-73.1988027019362, 44.4665368425907], [-73.198878518466, 44.4665386285593], [-73.1989508668071, 44.466545919985], [-73.1990335293017, 44.4665618660344], [-73.1991481720635, 44.4665919596342], [-73.1992894019694, 44.4666450918962], [-73.1997782734359, 44.4668691932179], [-73.1998402187476, 44.4668932814497], [-73.1999088019621, 44.4669140945574], [-73.1999883387634, 44.4669313243957], [-73.2000866747275, 44.466944220892], [-73.2009027009288, 44.4670375074336], [-73.2003964834503, 44.4687131090955], [-73.200382835338, 44.4687870172941], [-73.200376131128, 44.468850335523], [-73.2003703287808, 44.4689234918474], [-73.2003709845684, 44.4689783288329], [-73.2004374661499, 44.4705964199687], [-73.2000063991787, 44.4705781110989], [-73.1999714378092, 44.4705776225114], [-73.1999321839941, 44.4705794091871], [-73.1998894685702, 44.4705872647081], [-73.1998342939572, 44.4706043364221], [-73.1995952122339, 44.4707116853371], [-73.1995276176208, 44.4707410659628], [-73.1994642515945, 44.4707628277962], [-73.1993992222718, 44.4707768665325], [-73.1993321295862, 44.4707826203516], [-73.1992677227913, 44.4707830146996], [-73.1992166333709, 44.4707803747555], [-73.1991666572839, 44.4707722436941], [-73.199111858158, 44.4707550022683], [-73.1988221086339, 44.4706319078008], [-73.1987656948012, 44.4706108792103], [-73.1987058096156, 44.4705952148155], [-73.1986279061793, 44.470583598776], [-73.1984819134723, 44.4705600239347], [-73.1983921546587, 44.4705422930983], [-73.1983184159939, 44.4705175733455], [-73.1982745331088, 44.4704935151675], [-73.1982435553939, 44.4704647370486], [-73.198221501982, 44.4704267644987], [-73.198207129119, 44.4703742621385], [-73.1981708531277, 44.4698021731247], [-73.1978802569728, 44.4698052153609], [-73.1967579258227, 44.4698168481885], [-73.1966036694905, 44.4699897636878], [-73.1963671285885, 44.4702450192185], [-73.1962726721456, 44.4703606200667], [-73.1962162491237, 44.4704378807259], [-73.1961765135047, 44.4704983069193], [-73.196144330435, 44.4705662808204], [-73.1961175468082, 44.4706259251882], [-73.1960990661109, 44.4706901590736], [-73.196083894712, 44.4707685748554], [-73.1960710374328, 44.4708433209447], [-73.1960632765612, 44.4709173322132], [-73.1960640069032, 44.4709787770642], [-73.1960704192639, 44.4710556555798], [-73.1960860498447, 44.4711150414341], [-73.1961125542268, 44.4711971404772], [-73.196143252288, 44.4712685270783], [-73.1961801087188, 44.4713293305505], [-73.1962364987642, 44.4714143414097], [-73.1962827808765, 44.4714750864884], [-73.1964550084746, 44.4716900237277], [-73.1965206773091, 44.4717956487465], [-73.1965645982961, 44.4718890311906], [-73.1965930144795, 44.4719666187154], [-73.1966251198625, 44.4720571213704], [-73.1966529983105, 44.4721555234349], [-73.1966690981718, 44.4722542790213], [-73.1966768329207, 44.4723432420084], [-73.1966834135415, 44.4724341811177], [-73.1966803359864, 44.4725056331888], [-73.1966720196514, 44.4725658678763], [-73.1966581645693, 44.472655805801], [-73.1966441572325, 44.4727329492046], [-73.1966238794309, 44.4728112557851], [-73.1965988402071, 44.4728855137417], [-73.1965513916807, 44.4729909844314], [-73.1965125840264, 44.4730634985433], [-73.1964710210226, 44.4731354660766], [-73.1964381972715, 44.4731826326634], [-73.1975306430528, 44.4736902010755], [-73.1978150139295, 44.4738223310824], [-73.1980176211179, 44.4739158682197], [-73.1981017123795, 44.4739519146006], [-73.1981791364991, 44.4739888458258], [-73.1983284044046, 44.4740558513449], [-73.1984448995983, 44.474108432052], [-73.1986668345637, 44.4742086003365], [-73.1986790120362, 44.474208666235], [-73.1985712457306, 44.4743281463011], [-73.1984689120685, 44.4744421096644], [-73.1983657941845, 44.4745562181207], [-73.1991161436687, 44.4746011246361], [-73.1991543023503, 44.4753297065638], [-73.1991691954024, 44.4755572739848], [-73.1991757861112, 44.4756815387582], [-73.1992185105388, 44.476397719214], [-73.2007023529722, 44.4763547369941], [-73.2109906893559, 44.4759969839105], [-73.2110545677629, 44.4771493608458], [-73.2111075618213, 44.4782461220179], [-73.2112181409485, 44.4804937513108], [-73.2093172741978, 44.4805570376979], [-73.2056904027222, 44.4806567040077]]]}}, \"sourcetype\": \"geojson\", \"type\": \"fill\"}], \"pitch\": 0, \"zoom\": 11.2}, \"width\": 600}, {\"showLink\": false, \"linkText\": \"Export to plot.ly\", \"plotlyServerURL\": \"https://plot.ly\"})});</script>"
      ]
     },
     "metadata": {},
     "output_type": "display_data"
    }
   ],
   "source": [
    "mapper(\"HANDY\")"
   ]
  },
  {
   "cell_type": "code",
   "execution_count": 16,
   "metadata": {},
   "outputs": [],
   "source": [
    "colors = [\"rgba(251,180,174,0.5)\",\n",
    "\"rgba(179,205,227,0.2)\",\n",
    "\"rgba(204,235,197,0.5)\",\n",
    "\"rgba(222,203,228,0.5)\",\n",
    "\"rgba(254,217,166,0.5)\",\n",
    "\"rgba(255,255,204,0.5)\",\n",
    "\"rgba(229,216,189,0.5)\",\n",
    "\"rgba(253,218,236,0.5)\"\n",
    "]\n",
    "\n",
    "files = [\n",
    "    'ward1.json', \n",
    "    'ward2.json',\n",
    "    'ward3.json', \n",
    "    'ward4.json', \n",
    "    'ward5.json',\n",
    "    'ward6.json',\n",
    "    'ward7.json',\n",
    "    'ward8.json']"
   ]
  },
  {
   "cell_type": "code",
   "execution_count": 9,
   "metadata": {},
   "outputs": [],
   "source": [
    "import json"
   ]
  },
  {
   "cell_type": "code",
   "execution_count": 10,
   "metadata": {},
   "outputs": [],
   "source": [
    "burlington = json.load(open('burlington.json'))"
   ]
  },
  {
   "cell_type": "code",
   "execution_count": 21,
   "metadata": {},
   "outputs": [
    {
     "data": {
      "text/plain": [
       "{'type': 'FeatureCollection',\n",
       " 'crs': {'type': 'name',\n",
       "  'properties': {'name': 'urn:ogc:def:crs:OGC:1.3:CRS84'}},\n",
       " 'features': [{'type': 'Feature',\n",
       "   'properties': {'OBJECTID': 5,\n",
       "    'WARD': 1,\n",
       "    'DISTRICT': 'East',\n",
       "    'Shape__Are': 2954396.40816498,\n",
       "    'Shape__Len': 7976.17879052443,\n",
       "    'COLOR': 'rgba(251,180,174,0.5)'},\n",
       "   'geometry': {'type': 'Polygon',\n",
       "    'coordinates': [[[-73.2044950286289, 44.4911969546581],\n",
       "      [-73.2044631499705, 44.4911923698885],\n",
       "      [-73.2041349524606, 44.4911485533009],\n",
       "      [-73.2039626460935, 44.4911302099742],\n",
       "      [-73.2038151435313, 44.4911162141606],\n",
       "      [-73.2036507790987, 44.4911048526854],\n",
       "      [-73.2034577466909, 44.4910945107979],\n",
       "      [-73.2033025037231, 44.4910902642945],\n",
       "      [-73.2031402429233, 44.4910904201147],\n",
       "      [-73.2029332353116, 44.4910942250047],\n",
       "      [-73.2027851816268, 44.4910996358481],\n",
       "      [-73.2025868810345, 44.4911087304009],\n",
       "      [-73.2022904829263, 44.4911281301531],\n",
       "      [-73.2021306841926, 44.4911371284497],\n",
       "      [-73.2017322144576, 44.4911632009298],\n",
       "      [-73.2017113180502, 44.4910916145696],\n",
       "      [-73.2016447210556, 44.4908456640037],\n",
       "      [-73.201542142659, 44.4905805298113],\n",
       "      [-73.2014402587376, 44.4904060876316],\n",
       "      [-73.2012982224961, 44.4902579066006],\n",
       "      [-73.2011424360376, 44.4901096694105],\n",
       "      [-73.2008964508122, 44.4899750626634],\n",
       "      [-73.200587056966, 44.4898602498555],\n",
       "      [-73.2000874468153, 44.4897401335391],\n",
       "      [-73.1995020386098, 44.4896400855372],\n",
       "      [-73.1987767703613, 44.489573233418],\n",
       "      [-73.1982597914053, 44.4895115704592],\n",
       "      [-73.1977062841195, 44.489417646618],\n",
       "      [-73.1971887665767, 44.4893105637027],\n",
       "      [-73.1965164310942, 44.4891352394645],\n",
       "      [-73.1958306157596, 44.4889493065468],\n",
       "      [-73.1953492555, 44.4888096536865],\n",
       "      [-73.1948675820889, 44.4886764686001],\n",
       "      [-73.1945131070791, 44.4885683814734],\n",
       "      [-73.1941947753669, 44.4884602139577],\n",
       "      [-73.1938952908257, 44.4883841328656],\n",
       "      [-73.1936862318951, 44.4883465927011],\n",
       "      [-73.1934735884131, 44.4883381808269],\n",
       "      [-73.1933197473446, 44.4883520515205],\n",
       "      [-73.1932022009591, 44.4883786384281],\n",
       "      [-73.193048782642, 44.4884282231919],\n",
       "      [-73.1929321288795, 44.4884969893072],\n",
       "      [-73.1928330373527, 44.4885559464655],\n",
       "      [-73.1927343761129, 44.4886181344282],\n",
       "      [-73.1926350928111, 44.488660921473],\n",
       "      [-73.1924951156795, 44.4886844092792],\n",
       "      [-73.1923545154169, 44.4886884960868],\n",
       "      [-73.1921869721673, 44.4886733405091],\n",
       "      [-73.1920553778721, 44.4886416562672],\n",
       "      [-73.1919370273805, 44.4886003288275],\n",
       "      [-73.1918549416722, 44.4885360021946],\n",
       "      [-73.1917810778084, 44.4884359087016],\n",
       "      [-73.1917302288242, 44.4883552216677],\n",
       "      [-73.19166625391, 44.4882940187071],\n",
       "      [-73.1916136596211, 44.4882650890049],\n",
       "      [-73.1915477116792, 44.488236381426],\n",
       "      [-73.1914524528491, 44.4882207870682],\n",
       "      [-73.1913440284544, 44.4882214434299],\n",
       "      [-73.1911903399249, 44.488248247036],\n",
       "      [-73.1910302794349, 44.4883011027876],\n",
       "      [-73.1908567751777, 44.4883799130427],\n",
       "      [-73.1906315677479, 44.4884719732936],\n",
       "      [-73.1903970092906, 44.4885706979183],\n",
       "      [-73.1901536532337, 44.4886563972271],\n",
       "      [-73.1899755591756, 44.4887125948687],\n",
       "      [-73.1897768830703, 44.4887559798349],\n",
       "      [-73.1896138908244, 44.4887601985012],\n",
       "      [-73.1894804355307, 44.488737240292],\n",
       "      [-73.1893612330383, 44.4886901502818],\n",
       "      [-73.1891995397368, 44.4885711806028],\n",
       "      [-73.1891076889979, 44.488477943503],\n",
       "      [-73.1890275447889, 44.488378026511],\n",
       "      [-73.1889557384499, 44.4882520462656],\n",
       "      [-73.1889136613695, 44.4881485247605],\n",
       "      [-73.1888990849754, 44.4880449786553],\n",
       "      [-73.1888929971966, 44.4879283033498],\n",
       "      [-73.1889009627366, 44.4878374175863],\n",
       "      [-73.1889205131937, 44.4877627725399],\n",
       "      [-73.1889529744238, 44.4876167577877],\n",
       "      [-73.1889522494708, 44.4875551726426],\n",
       "      [-73.1889373856812, 44.4874939535672],\n",
       "      [-73.1888936158034, 44.4874135033368],\n",
       "      [-73.1888230355386, 44.4873582449513],\n",
       "      [-73.1887370530335, 44.4873295152813],\n",
       "      [-73.1886154786714, 44.4873142185337],\n",
       "      [-73.1884828125218, 44.4873245802494],\n",
       "      [-73.1883790923011, 44.4873576871455],\n",
       "      [-73.1882936338801, 44.4874068559025],\n",
       "      [-73.1882399928333, 44.4874556915774],\n",
       "      [-73.1881955781169, 44.4875207831317],\n",
       "      [-73.1881423204395, 44.4876022403467],\n",
       "      [-73.1881025315315, 44.487693177403],\n",
       "      [-73.188080394887, 44.4877484323833],\n",
       "      [-73.1880471066204, 44.4877908178348],\n",
       "      [-73.1879888269784, 44.4878461501354],\n",
       "      [-73.1879170022497, 44.4878855332757],\n",
       "      [-73.1878244335346, 44.4879315101023],\n",
       "      [-73.1877276947928, 44.4879904477682],\n",
       "      [-73.1876397966155, 44.4880662069879],\n",
       "      [-73.1875085424459, 44.4881969266679],\n",
       "      [-73.1873811116525, 44.4883522312693],\n",
       "      [-73.187290190561, 44.4885052065571],\n",
       "      [-73.1872464604739, 44.4886286496179],\n",
       "      [-73.1872111800378, 44.488735730323],\n",
       "      [-73.1871497979948, 44.488894995651],\n",
       "      [-73.18709649801, 44.4889730778221],\n",
       "      [-73.1869971482072, 44.4890441240217],\n",
       "      [-73.1867718041347, 44.4890917418143],\n",
       "      [-73.1865096849874, 44.4891191910739],\n",
       "      [-73.1861019082792, 44.4891216414231],\n",
       "      [-73.1855639415433, 44.4891115130863],\n",
       "      [-73.1850229206678, 44.489108853874],\n",
       "      [-73.1844933032926, 44.4891071073954],\n",
       "      [-73.1837958715977, 44.4891005982552],\n",
       "      [-73.1830888389409, 44.489079237397],\n",
       "      [-73.1827233768727, 44.4890381127653],\n",
       "      [-73.1825232065331, 44.4889875623325],\n",
       "      [-73.1823265223909, 44.4888990238601],\n",
       "      [-73.1822130223683, 44.4888014108301],\n",
       "      [-73.1821030103601, 44.4886659512831],\n",
       "      [-73.1819875173003, 44.4884983234371],\n",
       "      [-73.1818850136679, 44.4882653719314],\n",
       "      [-73.1818440877862, 44.4879223719621],\n",
       "      [-73.1818634007805, 44.4874556911064],\n",
       "      [-73.1818643563828, 44.48706561602],\n",
       "      [-73.1818596386023, 44.4867617715006],\n",
       "      [-73.1818367760523, 44.4864179607407],\n",
       "      [-73.1817796699374, 44.4860685884268],\n",
       "      [-73.1816855205992, 44.4857091723911],\n",
       "      [-73.1815569192011, 44.4854274417256],\n",
       "      [-73.181356189967, 44.4851589366367],\n",
       "      [-73.1810839647297, 44.4848905767742],\n",
       "      [-73.1806857998851, 44.484636044901],\n",
       "      [-73.1801811105028, 44.484375676367],\n",
       "      [-73.1797419155869, 44.4842070207172],\n",
       "      [-73.1793176376251, 44.4841047860092],\n",
       "      [-73.1789755415705, 44.4840431202995],\n",
       "      [-73.1786044780617, 44.4840240932013],\n",
       "      [-73.1782194954444, 44.4840581588327],\n",
       "      [-73.1779231427385, 44.4841130717278],\n",
       "      [-73.1775943691212, 44.4842179539782],\n",
       "      [-73.177288304764, 44.4843504018312],\n",
       "      [-73.1769487896486, 44.4845117328874],\n",
       "      [-73.1763884323003, 44.4847698498033],\n",
       "      [-73.1758270644911, 44.4849749577672],\n",
       "      [-73.1757969298763, 44.4849848383872],\n",
       "      [-73.1768553291239, 44.4840053647087],\n",
       "      [-73.1781843829991, 44.4827907096024],\n",
       "      [-73.1827184882031, 44.4787841081374],\n",
       "      [-73.1833914883032, 44.4781887906888],\n",
       "      [-73.1850944015959, 44.4767215188086],\n",
       "      [-73.1863189839729, 44.4756702287367],\n",
       "      [-73.1874194706281, 44.474724994891],\n",
       "      [-73.1883717761577, 44.4739074784057],\n",
       "      [-73.1885801931877, 44.4737280613818],\n",
       "      [-73.1895690026345, 44.472877832907],\n",
       "      [-73.1898777199737, 44.4726113274577],\n",
       "      [-73.1900526871722, 44.4724605138799],\n",
       "      [-73.1901386162554, 44.4723865922956],\n",
       "      [-73.1930759526704, 44.4737017115917],\n",
       "      [-73.1931398752032, 44.4737264942884],\n",
       "      [-73.1932496658079, 44.4737771528045],\n",
       "      [-73.1933641578985, 44.4738267990309],\n",
       "      [-73.193487779282, 44.4738845450288],\n",
       "      [-73.1937609669509, 44.4740017068196],\n",
       "      [-73.1937811842603, 44.4741499348471],\n",
       "      [-73.1949165197812, 44.4746644393175],\n",
       "      [-73.1950902648336, 44.4747421273892],\n",
       "      [-73.1980925574835, 44.4760831567529],\n",
       "      [-73.1984437223914, 44.4762158613987],\n",
       "      [-73.1987510047536, 44.4763247877728],\n",
       "      [-73.1988097332745, 44.4763417245287],\n",
       "      [-73.1988877669496, 44.4763636053229],\n",
       "      [-73.1989566607785, 44.4763766829251],\n",
       "      [-73.1990369218563, 44.4763877218304],\n",
       "      [-73.1992878896517, 44.4778325684584],\n",
       "      [-73.2005997615911, 44.4777601258888],\n",
       "      [-73.2055390722885, 44.4774871570677],\n",
       "      [-73.2056904027222, 44.4806567040077],\n",
       "      [-73.205747955813, 44.482107088662],\n",
       "      [-73.2058092005398, 44.4832442970328],\n",
       "      [-73.2058890137727, 44.4849438569922],\n",
       "      [-73.2060347960772, 44.48807321694],\n",
       "      [-73.2060709785984, 44.4887277029202],\n",
       "      [-73.2054596342935, 44.4897027178079],\n",
       "      [-73.2044950286289, 44.4911969546581]]]}},\n",
       "  {'type': 'Feature',\n",
       "   'properties': {'OBJECTID': 3,\n",
       "    'WARD': 2,\n",
       "    'DISTRICT': 'Central',\n",
       "    'Shape__Are': 3333771.27412415,\n",
       "    'Shape__Len': 8348.21372518335,\n",
       "    'COLOR': 'rgba(179,205,227,0.5)'},\n",
       "   'geometry': {'type': 'Polygon',\n",
       "    'coordinates': [[[-73.2281133568395, 44.4995435895372],\n",
       "      [-73.2280341504162, 44.4995886695271],\n",
       "      [-73.225764052777, 44.5008835668173],\n",
       "      [-73.2138859499621, 44.5076570924708],\n",
       "      [-73.2138301377486, 44.5075277930409],\n",
       "      [-73.2136812554031, 44.5072110729023],\n",
       "      [-73.2135050222564, 44.5068749766904],\n",
       "      [-73.2133200725954, 44.5065650896327],\n",
       "      [-73.2130942539688, 44.5062553170472],\n",
       "      [-73.2128192414444, 44.505971724367],\n",
       "      [-73.2125533498836, 44.5057270244875],\n",
       "      [-73.2122513098433, 44.505482549416],\n",
       "      [-73.2118905640331, 44.5052255028057],\n",
       "      [-73.2116668093938, 44.5050843122806],\n",
       "      [-73.2113935450726, 44.5049434306088],\n",
       "      [-73.210933706036, 44.5047453530749],\n",
       "      [-73.210469468955, 44.5045731752736],\n",
       "      [-73.2100961622389, 44.5044133669306],\n",
       "      [-73.2097134279847, 44.5042212738282],\n",
       "      [-73.2093305393682, 44.5040162437269],\n",
       "      [-73.2091023166484, 44.5038944813469],\n",
       "      [-73.2087564469606, 44.5037605119797],\n",
       "      [-73.2083382771466, 44.5036269899911],\n",
       "      [-73.207874606095, 44.503500217276],\n",
       "      [-73.2074433929757, 44.5033926461833],\n",
       "      [-73.2069222525274, 44.5032576473074],\n",
       "      [-73.2065070220975, 44.5031391465405],\n",
       "      [-73.2060889398423, 44.5030120836422],\n",
       "      [-73.2058050847413, 44.5029034548521],\n",
       "      [-73.2053467759427, 44.5026990186922],\n",
       "      [-73.2048947717793, 44.5024631832823],\n",
       "      [-73.2044667145502, 44.5021923264998],\n",
       "      [-73.2040279945998, 44.5018515066054],\n",
       "      [-73.2037440058819, 44.5016004296946],\n",
       "      [-73.203487448118, 44.5013427143206],\n",
       "      [-73.2032209151608, 44.5010396405755],\n",
       "      [-73.202861677116, 44.5005426654337],\n",
       "      [-73.202704614251, 44.5002908037998],\n",
       "      [-73.202519273881, 44.4999419508592],\n",
       "      [-73.2023055776791, 44.4994893564665],\n",
       "      [-73.2021083099451, 44.4989974285345],\n",
       "      [-73.2019969247233, 44.4986874925113],\n",
       "      [-73.2018928515702, 44.4982991875854],\n",
       "      [-73.2017979031738, 44.4978524714599],\n",
       "      [-73.2017325898064, 44.49735382641],\n",
       "      [-73.2017235150224, 44.4970231530423],\n",
       "      [-73.2017260985464, 44.4964849989959],\n",
       "      [-73.2016816624399, 44.4961871657796],\n",
       "      [-73.2016016235894, 44.4959348300958],\n",
       "      [-73.2015344812651, 44.4956111216106],\n",
       "      [-73.2015314501271, 44.4953583128129],\n",
       "      [-73.2015563181795, 44.4950400858281],\n",
       "      [-73.2015883312869, 44.4948262938784],\n",
       "      [-73.2016589152686, 44.4946507924432],\n",
       "      [-73.2017424764224, 44.4944761966635],\n",
       "      [-73.2018406260619, 44.4943386329461],\n",
       "      [-73.2019658931214, 44.4942016062315],\n",
       "      [-73.2022256370036, 44.4939422602316],\n",
       "      [-73.2024602607804, 44.493717940954],\n",
       "      [-73.2025742221655, 44.4935885759187],\n",
       "      [-73.2026632653169, 44.4934454428437],\n",
       "      [-73.2027064985609, 44.4932830465789],\n",
       "      [-73.2026958285912, 44.4931469957258],\n",
       "      [-73.2026303179212, 44.4929593950995],\n",
       "      [-73.2025553023567, 44.492765384101],\n",
       "      [-73.2023773822239, 44.4923779555249],\n",
       "      [-73.2021390263306, 44.4920288650394],\n",
       "      [-73.201880263298, 44.4915831554605],\n",
       "      [-73.2017961380101, 44.4913827320007],\n",
       "      [-73.2017322144576, 44.4911632009298],\n",
       "      [-73.2021306841926, 44.4911371284497],\n",
       "      [-73.2022904829263, 44.4911281301531],\n",
       "      [-73.2025868810345, 44.4911087304009],\n",
       "      [-73.2027851816268, 44.4910996358481],\n",
       "      [-73.2029332353116, 44.4910942250047],\n",
       "      [-73.2031402429233, 44.4910904201147],\n",
       "      [-73.2033025037231, 44.4910902642945],\n",
       "      [-73.2034577466909, 44.4910945107979],\n",
       "      [-73.2036507790987, 44.4911048526854],\n",
       "      [-73.2038151435313, 44.4911162141606],\n",
       "      [-73.2039626460935, 44.4911302099742],\n",
       "      [-73.2041349524606, 44.4911485533009],\n",
       "      [-73.2044631499705, 44.4911923698885],\n",
       "      [-73.2044950286289, 44.4911969546581],\n",
       "      [-73.2054596342935, 44.4897027178079],\n",
       "      [-73.2060709785984, 44.4887277029202],\n",
       "      [-73.2060347960772, 44.48807321694],\n",
       "      [-73.2058890137727, 44.4849438569922],\n",
       "      [-73.2058092005398, 44.4832442970328],\n",
       "      [-73.205747955813, 44.482107088662],\n",
       "      [-73.2056904027222, 44.4806567040077],\n",
       "      [-73.2093172741978, 44.4805570376979],\n",
       "      [-73.2112181409485, 44.4804937513108],\n",
       "      [-73.2112256015957, 44.4804935644603],\n",
       "      [-73.2135624172147, 44.480424147771],\n",
       "      [-73.2136834627807, 44.4822332666908],\n",
       "      [-73.2137297360858, 44.4826455458222],\n",
       "      [-73.2138724097646, 44.4847454638392],\n",
       "      [-73.2139582119828, 44.4858858894763],\n",
       "      [-73.2140785225923, 44.4876005166688],\n",
       "      [-73.214874100426, 44.4882779506408],\n",
       "      [-73.2183194212876, 44.4912102604646],\n",
       "      [-73.2281133568395, 44.4995435895372]]]}},\n",
       "  {'type': 'Feature',\n",
       "   'properties': {'OBJECTID': 4,\n",
       "    'WARD': 3,\n",
       "    'DISTRICT': 'Central',\n",
       "    'Shape__Are': 1679803.15373993,\n",
       "    'Shape__Len': 5726.76878332311,\n",
       "    'COLOR': 'rgba(204,235,197,0.5)'},\n",
       "   'geometry': {'type': 'Polygon',\n",
       "    'coordinates': [[[-73.2261234491214, 44.4892195624994],\n",
       "      [-73.22606354948, 44.4892998133683],\n",
       "      [-73.2257531625519, 44.4896155013204],\n",
       "      [-73.2255046993235, 44.4898242074752],\n",
       "      [-73.2253774283734, 44.4899210570168],\n",
       "      [-73.2252173531356, 44.4900340041349],\n",
       "      [-73.2250560227022, 44.4901407718786],\n",
       "      [-73.2248266748922, 44.490275391475],\n",
       "      [-73.2245745718303, 44.4904126856159],\n",
       "      [-73.2243382689596, 44.4905251305282],\n",
       "      [-73.2241006676775, 44.4906280212752],\n",
       "      [-73.2238715223007, 44.4907158126673],\n",
       "      [-73.2236939290097, 44.4907786688815],\n",
       "      [-73.2234829731553, 44.4908442668049],\n",
       "      [-73.2232523439392, 44.49090745828],\n",
       "      [-73.2230016239896, 44.4909664171434],\n",
       "      [-73.2228558508372, 44.4909972908888],\n",
       "      [-73.2227044906972, 44.4910211694383],\n",
       "      [-73.2224660894584, 44.4910596591414],\n",
       "      [-73.2222158153913, 44.4910911939621],\n",
       "      [-73.2220352842885, 44.4911072402814],\n",
       "      [-73.2217683484059, 44.4911258014675],\n",
       "      [-73.2214950589896, 44.4911389179072],\n",
       "      [-73.2212193481735, 44.4911468464069],\n",
       "      [-73.2204958746971, 44.4911654743127],\n",
       "      [-73.2198949088663, 44.4911781229369],\n",
       "      [-73.2193226191308, 44.4911904474043],\n",
       "      [-73.2185755192468, 44.4912048526159],\n",
       "      [-73.2183194212876, 44.4912102604646],\n",
       "      [-73.214874100426, 44.4882779506408],\n",
       "      [-73.2140785225923, 44.4876005166688],\n",
       "      [-73.2139582119828, 44.4858858894763],\n",
       "      [-73.2138724097646, 44.4847454638392],\n",
       "      [-73.2137297360858, 44.4826455458222],\n",
       "      [-73.2136834627807, 44.4822332666908],\n",
       "      [-73.2135624172147, 44.480424147771],\n",
       "      [-73.2112256015957, 44.4804935644603],\n",
       "      [-73.2112181409485, 44.4804937513108],\n",
       "      [-73.2111075618213, 44.4782461220179],\n",
       "      [-73.2110545677629, 44.4771493608458],\n",
       "      [-73.2109906893559, 44.4759969839105],\n",
       "      [-73.2109841076837, 44.4758755321086],\n",
       "      [-73.2108051749407, 44.474822442138],\n",
       "      [-73.2122817663048, 44.4747686677251],\n",
       "      [-73.2125444312804, 44.4747923403231],\n",
       "      [-73.2139190040674, 44.4747471960899],\n",
       "      [-73.2154874556752, 44.4746897119755],\n",
       "      [-73.2170069160105, 44.474641092181],\n",
       "      [-73.2185914489818, 44.474582199154],\n",
       "      [-73.2194124216757, 44.4745555167572],\n",
       "      [-73.2218321404921, 44.4744765495371],\n",
       "      [-73.2225510286867, 44.4744531616562],\n",
       "      [-73.2225534972005, 44.4745577648374],\n",
       "      [-73.2226313695041, 44.4752025617631],\n",
       "      [-73.2226677050568, 44.4756960371104],\n",
       "      [-73.2226733973355, 44.4761572236369],\n",
       "      [-73.2229023003448, 44.4764042448268],\n",
       "      [-73.223132583086, 44.4766355068507],\n",
       "      [-73.2231410417557, 44.4767161676791],\n",
       "      [-73.2231646409459, 44.4769412856116],\n",
       "      [-73.2231052498484, 44.4773483248518],\n",
       "      [-73.2228656839796, 44.4778924809882],\n",
       "      [-73.2228312696276, 44.4781910876244],\n",
       "      [-73.2229485244929, 44.4784617350076],\n",
       "      [-73.2233301742234, 44.4787034289306],\n",
       "      [-73.224268055065, 44.4788508981671],\n",
       "      [-73.2245948969179, 44.4790116585753],\n",
       "      [-73.2247699517453, 44.4792861562793],\n",
       "      [-73.2250321500043, 44.4799678884874],\n",
       "      [-73.2253854139929, 44.4809288689728],\n",
       "      [-73.2255804550751, 44.4813888521779],\n",
       "      [-73.2256448394224, 44.4817343596967],\n",
       "      [-73.2256014928961, 44.4820403348734],\n",
       "      [-73.2256337857895, 44.4824905244971],\n",
       "      [-73.2257581207539, 44.4827917786442],\n",
       "      [-73.2257650034854, 44.4828083281],\n",
       "      [-73.2259295567779, 44.482899807499],\n",
       "      [-73.225157473842, 44.4832036632744],\n",
       "      [-73.2238662177888, 44.4837117452474],\n",
       "      [-73.2238705897499, 44.4837157960899],\n",
       "      [-73.2240076786612, 44.4838419031108],\n",
       "      [-73.2241470602019, 44.4839626533536],\n",
       "      [-73.2243308500312, 44.4841165871553],\n",
       "      [-73.2244962890347, 44.4842477172634],\n",
       "      [-73.2247045761372, 44.4844128856609],\n",
       "      [-73.2248846373948, 44.4845509536871],\n",
       "      [-73.2250912608669, 44.4847083978011],\n",
       "      [-73.2254608154832, 44.4849844715203],\n",
       "      [-73.2256297942112, 44.4851155774814],\n",
       "      [-73.2257218467876, 44.4851890976691],\n",
       "      [-73.2258119557936, 44.4852643175298],\n",
       "      [-73.2260213004771, 44.4854507091747],\n",
       "      [-73.2261446482527, 44.4855767614477],\n",
       "      [-73.2262299140289, 44.4856731037744],\n",
       "      [-73.2263376283302, 44.4858055827528],\n",
       "      [-73.2264315046609, 44.4859309779816],\n",
       "      [-73.2265079901624, 44.4860477650905],\n",
       "      [-73.2265814176489, 44.4861714624775],\n",
       "      [-73.2266297174898, 44.486264664863],\n",
       "      [-73.226682184923, 44.486377105828],\n",
       "      [-73.2267303547807, 44.4864914019],\n",
       "      [-73.226782015381, 44.4866337981097],\n",
       "      [-73.2268218821552, 44.4867754269985],\n",
       "      [-73.2268556598888, 44.486932983145],\n",
       "      [-73.2268766711406, 44.4870747311045],\n",
       "      [-73.2268854930431, 44.4872473518409],\n",
       "      [-73.2268865689033, 44.4873972424722],\n",
       "      [-73.2268817597127, 44.4874844552145],\n",
       "      [-73.2268722579351, 44.4875735256078],\n",
       "      [-73.2268510510337, 44.4877322758053],\n",
       "      [-73.2268268955489, 44.4878435168872],\n",
       "      [-73.2267890024267, 44.4879873270808],\n",
       "      [-73.2267558015936, 44.488097781555],\n",
       "      [-73.2266969571979, 44.4882629583183],\n",
       "      [-73.2266200982463, 44.4884643878276],\n",
       "      [-73.2265312335867, 44.4886481764446],\n",
       "      [-73.2264109862949, 44.4888358201659],\n",
       "      [-73.2262830549679, 44.4890057954136],\n",
       "      [-73.2261234491214, 44.4892195624994]]]}},\n",
       "  {'type': 'Feature',\n",
       "   'properties': {'OBJECTID': 2,\n",
       "    'WARD': 4,\n",
       "    'DISTRICT': 'North',\n",
       "    'Shape__Are': 5941918.4756012,\n",
       "    'Shape__Len': 17320.6427558326,\n",
       "    'COLOR': 'rgba(222,203,228,0.5)'},\n",
       "   'geometry': {'type': 'Polygon',\n",
       "    'coordinates': [[[-73.2707399912007, 44.5252956469716],\n",
       "      [-73.2702152544711, 44.5253910094937],\n",
       "      [-73.2687385357995, 44.5256477381728],\n",
       "      [-73.2686152664302, 44.5255710894249],\n",
       "      [-73.2686729882973, 44.5255361091099],\n",
       "      [-73.2687447206469, 44.5254903485908],\n",
       "      [-73.2687820906859, 44.5254622547466],\n",
       "      [-73.2688225203015, 44.5254276724354],\n",
       "      [-73.2688609628789, 44.5253914161018],\n",
       "      [-73.268899200696, 44.5253396938896],\n",
       "      [-73.268933438566, 44.5252826547595],\n",
       "      [-73.2689590938597, 44.5252307355592],\n",
       "      [-73.2689735038408, 44.525190562472],\n",
       "      [-73.2689820218991, 44.5251507116348],\n",
       "      [-73.2689910714163, 44.5250915922326],\n",
       "      [-73.2689924772385, 44.5250191656074],\n",
       "      [-73.2689870647124, 44.5249663306574],\n",
       "      [-73.2689762674399, 44.5249225313489],\n",
       "      [-73.2688236257832, 44.524973758471],\n",
       "      [-73.2687085059319, 44.524799185727],\n",
       "      [-73.2685945875826, 44.5246262930607],\n",
       "      [-73.2684333244631, 44.5246795458492],\n",
       "      [-73.2683174208516, 44.5244751684057],\n",
       "      [-73.268201518047, 44.5242707899317],\n",
       "      [-73.2680880317966, 44.5240707543841],\n",
       "      [-73.2679793814578, 44.5238796855863],\n",
       "      [-73.2678731401519, 44.5236923973236],\n",
       "      [-73.2677713261103, 44.5235129527586],\n",
       "      [-73.2676695158135, 44.5233336493623],\n",
       "      [-73.2675692993254, 44.5231560225434],\n",
       "      [-73.2675489483034, 44.5231629088574],\n",
       "      [-73.26745537836, 44.5229824249552],\n",
       "      [-73.2674753424319, 44.5229759633293],\n",
       "      [-73.2673665055182, 44.5228003633159],\n",
       "      [-73.2673179187644, 44.5227225075608],\n",
       "      [-73.2672683398916, 44.5226290499073],\n",
       "      [-73.2671707376985, 44.5224407183774],\n",
       "      [-73.267082559176, 44.5222814310928],\n",
       "      [-73.267215689819, 44.5222415856835],\n",
       "      [-73.2668121625028, 44.5218961317955],\n",
       "      [-73.266699484584, 44.5217869274121],\n",
       "      [-73.2663775252501, 44.5214860617033],\n",
       "      [-73.2650800910097, 44.5222196335766],\n",
       "      [-73.2647081320755, 44.5216720369273],\n",
       "      [-73.2646345840969, 44.5215788789898],\n",
       "      [-73.2645947448085, 44.5215383676653],\n",
       "      [-73.2645081108472, 44.5214665304151],\n",
       "      [-73.2599935590733, 44.5181199201832],\n",
       "      [-73.240455159557, 44.5036845491799],\n",
       "      [-73.2369813706866, 44.5011348703684],\n",
       "      [-73.2359487994008, 44.500363500506],\n",
       "      [-73.2335821568972, 44.4986169469586],\n",
       "      [-73.2334159166757, 44.4984894919674],\n",
       "      [-73.2333198567138, 44.49841220703],\n",
       "      [-73.2332379892278, 44.4983386286544],\n",
       "      [-73.2331822246419, 44.4982785212879],\n",
       "      [-73.2331017370869, 44.4981896061264],\n",
       "      [-73.2329551634061, 44.4980007156031],\n",
       "      [-73.2323312734635, 44.4971291010902],\n",
       "      [-73.2319835993554, 44.4966634998462],\n",
       "      [-73.2318383290328, 44.4964840200897],\n",
       "      [-73.2316166290559, 44.496225441485],\n",
       "      [-73.2314457800031, 44.4960112522638],\n",
       "      [-73.2306311826111, 44.4949673294569],\n",
       "      [-73.2261234491214, 44.4892195624994],\n",
       "      [-73.2262830549679, 44.4890057954136],\n",
       "      [-73.2264109862949, 44.4888358201659],\n",
       "      [-73.2265312335867, 44.4886481764446],\n",
       "      [-73.2266200982463, 44.4884643878276],\n",
       "      [-73.2266969571979, 44.4882629583183],\n",
       "      [-73.2267558015936, 44.488097781555],\n",
       "      [-73.2267890024267, 44.4879873270808],\n",
       "      [-73.2268268955489, 44.4878435168872],\n",
       "      [-73.2268510510337, 44.4877322758053],\n",
       "      [-73.2268722579351, 44.4875735256078],\n",
       "      [-73.2268817597127, 44.4874844552145],\n",
       "      [-73.2268865689033, 44.4873972424722],\n",
       "      [-73.2268854930431, 44.4872473518409],\n",
       "      [-73.2268766711406, 44.4870747311045],\n",
       "      [-73.2268556598888, 44.486932983145],\n",
       "      [-73.2268218821552, 44.4867754269985],\n",
       "      [-73.226782015381, 44.4866337981097],\n",
       "      [-73.2267303547807, 44.4864914019],\n",
       "      [-73.226682184923, 44.486377105828],\n",
       "      [-73.2266297174898, 44.486264664863],\n",
       "      [-73.2265814176489, 44.4861714624775],\n",
       "      [-73.2265079901624, 44.4860477650905],\n",
       "      [-73.2264315046609, 44.4859309779816],\n",
       "      [-73.2263376283302, 44.4858055827528],\n",
       "      [-73.2262299140289, 44.4856731037744],\n",
       "      [-73.2261446482527, 44.4855767614477],\n",
       "      [-73.2260213004771, 44.4854507091747],\n",
       "      [-73.2258119557936, 44.4852643175298],\n",
       "      [-73.2257218467876, 44.4851890976691],\n",
       "      [-73.2256297942112, 44.4851155774814],\n",
       "      [-73.2254608154832, 44.4849844715203],\n",
       "      [-73.2250912608669, 44.4847083978011],\n",
       "      [-73.2248846373948, 44.4845509536871],\n",
       "      [-73.2247045761372, 44.4844128856609],\n",
       "      [-73.2244962890347, 44.4842477172634],\n",
       "      [-73.2243308500312, 44.4841165871553],\n",
       "      [-73.2241470602019, 44.4839626533536],\n",
       "      [-73.2240076786612, 44.4838419031108],\n",
       "      [-73.2238705897499, 44.4837157960899],\n",
       "      [-73.2238662177888, 44.4837117452474],\n",
       "      [-73.225157473842, 44.4832036632744],\n",
       "      [-73.2259295567779, 44.482899807499],\n",
       "      [-73.2270600824285, 44.4835282026417],\n",
       "      [-73.2279610164973, 44.4841723934418],\n",
       "      [-73.2286247721734, 44.4846653805345],\n",
       "      [-73.2287311049935, 44.4849390440644],\n",
       "      [-73.2286064355855, 44.4852437121746],\n",
       "      [-73.2285363079526, 44.4854801133908],\n",
       "      [-73.2285688731672, 44.4856345836888],\n",
       "      [-73.2288184341503, 44.4858318234596],\n",
       "      [-73.2290967109304, 44.4858743408392],\n",
       "      [-73.2295989687694, 44.4856689275409],\n",
       "      [-73.2299938386611, 44.4856416558925],\n",
       "      [-73.2303547661853, 44.4857592939741],\n",
       "      [-73.2305851154689, 44.4859905410532],\n",
       "      [-73.2306232135988, 44.4862730770993],\n",
       "      [-73.2303099680452, 44.4866398389437],\n",
       "      [-73.2302504998296, 44.4868169737314],\n",
       "      [-73.2303979900295, 44.4869563661823],\n",
       "      [-73.2307295157742, 44.4871726225214],\n",
       "      [-73.2310208543173, 44.4873795732067],\n",
       "      [-73.2312925035139, 44.4875825715639],\n",
       "      [-73.2317454555915, 44.487895073095],\n",
       "      [-73.2319965146046, 44.4882419120113],\n",
       "      [-73.2320759916333, 44.4883141010186],\n",
       "      [-73.2324805230322, 44.4886807653235],\n",
       "      [-73.2335058072145, 44.4892044495037],\n",
       "      [-73.2342817898114, 44.489552973047],\n",
       "      [-73.2350268445897, 44.4898469899308],\n",
       "      [-73.2354185387901, 44.4900338787969],\n",
       "      [-73.2358001607565, 44.4902007228509],\n",
       "      [-73.2361734618278, 44.4903618533167],\n",
       "      [-73.236582106445, 44.4904902729392],\n",
       "      [-73.2370434564201, 44.490654348746],\n",
       "      [-73.2374720619823, 44.4907764492445],\n",
       "      [-73.237996266941, 44.4909084768826],\n",
       "      [-73.2384291096608, 44.4910235160409],\n",
       "      [-73.2389240947848, 44.4911436348822],\n",
       "      [-73.2393521094767, 44.4912494206505],\n",
       "      [-73.2399827236835, 44.4914067640412],\n",
       "      [-73.2409043764534, 44.4915873868362],\n",
       "      [-73.2416546559786, 44.4917308666489],\n",
       "      [-73.2420322205012, 44.4917923948371],\n",
       "      [-73.2424120907103, 44.4918496878515],\n",
       "      [-73.243196039551, 44.4919523016972],\n",
       "      [-73.2439109165967, 44.4920917790041],\n",
       "      [-73.2440894108592, 44.4920702271186],\n",
       "      [-73.244437373757, 44.4920281649795],\n",
       "      [-73.2446198811909, 44.4918280030484],\n",
       "      [-73.2446263631308, 44.4915963665292],\n",
       "      [-73.2446109854008, 44.4911906478695],\n",
       "      [-73.2446771999263, 44.4908675016427],\n",
       "      [-73.2450225515021, 44.4903739366085],\n",
       "      [-73.2450914851804, 44.4900794580783],\n",
       "      [-73.2455497590367, 44.4897229586012],\n",
       "      [-73.2461973225123, 44.4895148355277],\n",
       "      [-73.2464544627426, 44.4892531559245],\n",
       "      [-73.2465938408413, 44.4887530565977],\n",
       "      [-73.2468995113471, 44.4882925084771],\n",
       "      [-73.2472558223356, 44.4879522765411],\n",
       "      [-73.2478111788457, 44.4876630505484],\n",
       "      [-73.2482692586825, 44.4875399635027],\n",
       "      [-73.2486960583373, 44.4875208549781],\n",
       "      [-73.2491350763646, 44.4876889656665],\n",
       "      [-73.2493987921489, 44.4878810053396],\n",
       "      [-73.2497211650593, 44.4881130155743],\n",
       "      [-73.2499906460786, 44.4889692865369],\n",
       "      [-73.2500871196256, 44.4893235685006],\n",
       "      [-73.2500760769455, 44.4897494271233],\n",
       "      [-73.2499633714586, 44.4900599451292],\n",
       "      [-73.2497325751156, 44.4904757163765],\n",
       "      [-73.2494579033658, 44.4911777880423],\n",
       "      [-73.2494754150811, 44.4918702078527],\n",
       "      [-73.2494448967794, 44.4923710018552],\n",
       "      [-73.2493869958804, 44.492789152761],\n",
       "      [-73.2491734423398, 44.4930798010756],\n",
       "      [-73.2488700181327, 44.4935015301076],\n",
       "      [-73.2483761157944, 44.4939299908427],\n",
       "      [-73.2481728103699, 44.4945003966978],\n",
       "      [-73.2478481574212, 44.4949838523026],\n",
       "      [-73.2478751302953, 44.4953419656218],\n",
       "      [-73.248323719316, 44.4959467697701],\n",
       "      [-73.2485050718382, 44.4963321348743],\n",
       "      [-73.2485121565363, 44.4966709737253],\n",
       "      [-73.2482409930655, 44.4971897957353],\n",
       "      [-73.2480144298419, 44.4974172501074],\n",
       "      [-73.2475990687508, 44.4979067821676],\n",
       "      [-73.2474494568267, 44.4982833471595],\n",
       "      [-73.2475804165848, 44.4985381304805],\n",
       "      [-73.2476078205742, 44.498591665987],\n",
       "      [-73.248008694285, 44.4988434154419],\n",
       "      [-73.2483578709828, 44.4991082985167],\n",
       "      [-73.2488940392239, 44.4993996565699],\n",
       "      [-73.2493501927319, 44.4996407740414],\n",
       "      [-73.2498433657766, 44.4998573193875],\n",
       "      [-73.2501260875687, 44.5000561221381],\n",
       "      [-73.2504067499519, 44.500186176703],\n",
       "      [-73.2508127483893, 44.5003149837187],\n",
       "      [-73.2511969323783, 44.5004584173445],\n",
       "      [-73.2516555730713, 44.500647059653],\n",
       "      [-73.2517794993193, 44.5006889912539],\n",
       "      [-73.2520040694141, 44.5007651328573],\n",
       "      [-73.2523739301432, 44.5008944539283],\n",
       "      [-73.2527350354702, 44.5010149724704],\n",
       "      [-73.2531182750674, 44.5011454691652],\n",
       "      [-73.2535470763825, 44.5013046304131],\n",
       "      [-73.2539317838804, 44.501426676826],\n",
       "      [-73.2542921629376, 44.5015514141553],\n",
       "      [-73.2547418690614, 44.5016551709817],\n",
       "      [-73.2553780920928, 44.5018393902379],\n",
       "      [-73.2558065369251, 44.5019396270187],\n",
       "      [-73.2561743472745, 44.5020307026746],\n",
       "      [-73.256559379034, 44.502146691359],\n",
       "      [-73.2569474344206, 44.5022228650589],\n",
       "      [-73.2571661980656, 44.5022745682423],\n",
       "      [-73.2577479977682, 44.502412310172],\n",
       "      [-73.2581712672897, 44.5025068073758],\n",
       "      [-73.2586277338389, 44.5025853335188],\n",
       "      [-73.2592472933135, 44.5027858120275],\n",
       "      [-73.2598891979274, 44.5029515483236],\n",
       "      [-73.2605416403341, 44.5030812122518],\n",
       "      [-73.2611266027358, 44.5032494293186],\n",
       "      [-73.2617157342484, 44.503314965493],\n",
       "      [-73.2622748299235, 44.5033372499],\n",
       "      [-73.2631311876641, 44.503433195728],\n",
       "      [-73.2638889805476, 44.5035344354221],\n",
       "      [-73.2642754303479, 44.503576566331],\n",
       "      [-73.2646825894327, 44.503609556957],\n",
       "      [-73.2651319105345, 44.5036512640003],\n",
       "      [-73.2658804276949, 44.5037338509216],\n",
       "      [-73.266272992197, 44.5037625744258],\n",
       "      [-73.2666722180061, 44.503789847055],\n",
       "      [-73.2670704677726, 44.5038024998876],\n",
       "      [-73.2674625345448, 44.5038232077622],\n",
       "      [-73.2679033801056, 44.5038177139015],\n",
       "      [-73.2683140824664, 44.5038209984689],\n",
       "      [-73.2690684869362, 44.5037830163641],\n",
       "      [-73.2697863618974, 44.5036866388785],\n",
       "      [-73.2706717932807, 44.5035421610857],\n",
       "      [-73.2710402956398, 44.5033849963678],\n",
       "      [-73.2712255733181, 44.5031012482041],\n",
       "      [-73.2712645687656, 44.5026015170375],\n",
       "      [-73.2713321571141, 44.5022437556738],\n",
       "      [-73.2712329272562, 44.5017812363541],\n",
       "      [-73.2711211934244, 44.5012345730367],\n",
       "      [-73.2709790095215, 44.5008520729168],\n",
       "      [-73.2709837734369, 44.5005575913101],\n",
       "      [-73.2711387003584, 44.5001778657825],\n",
       "      [-73.2713913731249, 44.49958233871],\n",
       "      [-73.2716884299296, 44.4988367543781],\n",
       "      [-73.2720251817397, 44.4983604616158],\n",
       "      [-73.27222176259, 44.498100961542],\n",
       "      [-73.2724081918824, 44.4978167813469],\n",
       "      [-73.2725991443637, 44.4975777077702],\n",
       "      [-73.2727988526992, 44.4973174826573],\n",
       "      [-73.2730767273407, 44.4971148023288],\n",
       "      [-73.2732988389622, 44.496914748751],\n",
       "      [-73.2736115614599, 44.4967624529464],\n",
       "      [-73.2736366284645, 44.4967563768247],\n",
       "      [-73.273873183936, 44.4966979653004],\n",
       "      [-73.2741883881365, 44.4967335141966],\n",
       "      [-73.2744523306883, 44.4968443588865],\n",
       "      [-73.2745774000803, 44.4970313738213],\n",
       "      [-73.2746519781283, 44.4973815640584],\n",
       "      [-73.2746039874367, 44.4977930509438],\n",
       "      [-73.2744907786096, 44.4982349310556],\n",
       "      [-73.2743667315767, 44.4987190702207],\n",
       "      [-73.2744071219187, 44.4990987404448],\n",
       "      [-73.274282824065, 44.4995938487477],\n",
       "      [-73.2736834719447, 44.5000609587775],\n",
       "      [-73.2736168325331, 44.5005189751191],\n",
       "      [-73.2734176479433, 44.5009085646865],\n",
       "      [-73.2733195778762, 44.501218583935],\n",
       "      [-73.2736866453707, 44.5015487948746],\n",
       "      [-73.2741996463875, 44.5020381781704],\n",
       "      [-73.2746422668219, 44.5021677770787],\n",
       "      [-73.2753044733541, 44.502498653391],\n",
       "      [-73.2756063659559, 44.5027724916569],\n",
       "      [-73.2758638834034, 44.5030781294439],\n",
       "      [-73.2760724116032, 44.5034527192059],\n",
       "      [-73.2760120059609, 44.5037869523063],\n",
       "      [-73.2759283669582, 44.5041473560213],\n",
       "      [-73.2763264168344, 44.5042630500664],\n",
       "      [-73.2766875508984, 44.5043805398746],\n",
       "      [-73.2769181563517, 44.5046116909424],\n",
       "      [-73.2769564913748, 44.5048942089494],\n",
       "      [-73.2774251374286, 44.5051466590733],\n",
       "      [-73.2776259678362, 44.5055025965722],\n",
       "      [-73.2777243890261, 44.5058112813231],\n",
       "      [-73.2777635738966, 44.5063346679537],\n",
       "      [-73.2775086733887, 44.5067894682536],\n",
       "      [-73.2771858603757, 44.5069544981193],\n",
       "      [-73.2767846119038, 44.507043284768],\n",
       "      [-73.2762350406223, 44.5076232654294],\n",
       "      [-73.2755144650747, 44.5082598068648],\n",
       "      [-73.2753141613885, 44.5087734304076],\n",
       "      [-73.2749519997188, 44.5096776571973],\n",
       "      [-73.2749130188645, 44.5101764043714],\n",
       "      [-73.2746163246906, 44.5104460090797],\n",
       "      [-73.2742115529109, 44.5108942243995],\n",
       "      [-73.274108758205, 44.5113529064327],\n",
       "      [-73.2742153534489, 44.5116265254031],\n",
       "      [-73.2741187284873, 44.511898287495],\n",
       "      [-73.273820523854, 44.5122625344485],\n",
       "      [-73.2734741054839, 44.5125477998767],\n",
       "      [-73.2731160984409, 44.5126701688636],\n",
       "      [-73.2722740325928, 44.512685849886],\n",
       "      [-73.2716090928247, 44.512870191926],\n",
       "      [-73.2714317224295, 44.5131894623767],\n",
       "      [-73.2712055102711, 44.5139777350894],\n",
       "      [-73.2713268225253, 44.514265177532],\n",
       "      [-73.2712967312154, 44.5145464716911],\n",
       "      [-73.2710728879474, 44.5149784074632],\n",
       "      [-73.2707949222577, 44.515181082929],\n",
       "      [-73.2704126979549, 44.5152570637266],\n",
       "      [-73.2699442952368, 44.5153552786092],\n",
       "      [-73.2697799007995, 44.5156463357561],\n",
       "      [-73.2695321578843, 44.5160853203538],\n",
       "      [-73.2696677850239, 44.5162960327149],\n",
       "      [-73.2697568633521, 44.5164342202114],\n",
       "      [-73.269807380857, 44.5167184857175],\n",
       "      [-73.2698541469124, 44.5170164159631],\n",
       "      [-73.2698855692417, 44.5173131842921],\n",
       "      [-73.269902439232, 44.5176092074541],\n",
       "      [-73.269906616247, 44.5178965975492],\n",
       "      [-73.2699003457582, 44.5182561936222],\n",
       "      [-73.2699060423212, 44.518778260589],\n",
       "      [-73.2698646538146, 44.5194262152674],\n",
       "      [-73.2699623634048, 44.5198909935599],\n",
       "      [-73.2701352941723, 44.5204261356455],\n",
       "      [-73.2702729600849, 44.5210292914886],\n",
       "      [-73.2703836067063, 44.5215506503053],\n",
       "      [-73.2706563717986, 44.5223525681642],\n",
       "      [-73.2708059147574, 44.5228122152497],\n",
       "      [-73.2709736699607, 44.5230729084624],\n",
       "      [-73.2711164222383, 44.523345301151],\n",
       "      [-73.2714186264459, 44.5238743655194],\n",
       "      [-73.2718053927238, 44.524168028504],\n",
       "      [-73.2722793345886, 44.5245731718781],\n",
       "      [-73.2725765576189, 44.5249619321238],\n",
       "      [-73.2718929937719, 44.5250860776611],\n",
       "      [-73.2707399912007, 44.5252956469716]]]}},\n",
       "  {'type': 'Feature',\n",
       "   'properties': {'OBJECTID': 8,\n",
       "    'WARD': 5,\n",
       "    'DISTRICT': 'South',\n",
       "    'Shape__Are': 3945828.28310394,\n",
       "    'Shape__Len': 9586.5616136336,\n",
       "    'COLOR': 'rgba(254,217,166,0.5)'},\n",
       "   'geometry': {'type': 'Polygon',\n",
       "    'coordinates': [[[-73.2139190040674, 44.4747471960899],\n",
       "      [-73.2137389604974, 44.4722214398187],\n",
       "      [-73.2137206042604, 44.4720366433079],\n",
       "      [-73.2136979127126, 44.4719150105673],\n",
       "      [-73.2136581988396, 44.4717501751301],\n",
       "      [-73.2136217428434, 44.4716592832737],\n",
       "      [-73.2135516073152, 44.4715119330524],\n",
       "      [-73.2134656142252, 44.4713846498724],\n",
       "      [-73.2133276616201, 44.4712156465223],\n",
       "      [-73.2124790636138, 44.4702916074269],\n",
       "      [-73.2099667437596, 44.4675785822594],\n",
       "      [-73.2095879392946, 44.4671721638471],\n",
       "      [-73.2092085658486, 44.4667507005524],\n",
       "      [-73.20886105798, 44.4663658802669],\n",
       "      [-73.2086564283823, 44.4661369605159],\n",
       "      [-73.2084939834935, 44.4659539010508],\n",
       "      [-73.2083044898223, 44.465742322353],\n",
       "      [-73.2081575785216, 44.4655770246322],\n",
       "      [-73.2080504318655, 44.4654525394414],\n",
       "      [-73.2079811235326, 44.4653718333659],\n",
       "      [-73.2078595414072, 44.4652225485065],\n",
       "      [-73.2078174659334, 44.4651530632878],\n",
       "      [-73.207786073554, 44.4650901210689],\n",
       "      [-73.2077495323883, 44.464991072427],\n",
       "      [-73.2077248279232, 44.4648965896589],\n",
       "      [-73.2077142074904, 44.4647976611648],\n",
       "      [-73.2077158497251, 44.4646410041996],\n",
       "      [-73.2077861034278, 44.4636950606534],\n",
       "      [-73.2077803213935, 44.4635415427884],\n",
       "      [-73.2077532674968, 44.4633175665818],\n",
       "      [-73.2077504217925, 44.4632446046958],\n",
       "      [-73.207759186777, 44.4631899910053],\n",
       "      [-73.2077821295682, 44.4631061815208],\n",
       "      [-73.2078472721292, 44.4628424024832],\n",
       "      [-73.2078640343337, 44.4627672086912],\n",
       "      [-73.2078846118399, 44.4626502282366],\n",
       "      [-73.207923329633, 44.4622796036218],\n",
       "      [-73.2084784453252, 44.4562270970792],\n",
       "      [-73.2085552081798, 44.455236676294],\n",
       "      [-73.2083803758922, 44.4552280584204],\n",
       "      [-73.2087687402409, 44.4511083776562],\n",
       "      [-73.2092543861436, 44.4459155997923],\n",
       "      [-73.2096315335229, 44.4459374433271],\n",
       "      [-73.2134364139489, 44.4461575705871],\n",
       "      [-73.217464216296, 44.4463698424876],\n",
       "      [-73.217958028954, 44.4463965502944],\n",
       "      [-73.2193632275238, 44.4464703914787],\n",
       "      [-73.2195915263061, 44.4464869523605],\n",
       "      [-73.2196039459573, 44.446347381701],\n",
       "      [-73.2206677593733, 44.4464028275308],\n",
       "      [-73.2207864332711, 44.4464119214257],\n",
       "      [-73.2209609180741, 44.4464261472139],\n",
       "      [-73.2233910207924, 44.4465511182333],\n",
       "      [-73.2269960517983, 44.4467307173312],\n",
       "      [-73.2273555020476, 44.4467490997632],\n",
       "      [-73.2282833789265, 44.4467953553],\n",
       "      [-73.2287728457275, 44.4468192317035],\n",
       "      [-73.2294249557968, 44.4468519110704],\n",
       "      [-73.2299199315936, 44.4468767319201],\n",
       "      [-73.2305076189191, 44.4469063006915],\n",
       "      [-73.2306639706449, 44.4469143000745],\n",
       "      [-73.2314940266462, 44.4469549690101],\n",
       "      [-73.2321527733127, 44.4469843549708],\n",
       "      [-73.2320806468484, 44.4476533124902],\n",
       "      [-73.2320551813194, 44.4478461209775],\n",
       "      [-73.2318766420232, 44.4484509359278],\n",
       "      [-73.2315915383735, 44.4490426513366],\n",
       "      [-73.2315647233023, 44.449253327832],\n",
       "      [-73.231624525112, 44.4494835570946],\n",
       "      [-73.2318151035776, 44.4495908926671],\n",
       "      [-73.2321008557799, 44.4497111171601],\n",
       "      [-73.2327202145819, 44.4497906716433],\n",
       "      [-73.2329364574091, 44.4499093717543],\n",
       "      [-73.2330901995214, 44.4500847186372],\n",
       "      [-73.2332627865961, 44.4502599452225],\n",
       "      [-73.2332798392628, 44.4504617621045],\n",
       "      [-73.2331854337178, 44.4507928182315],\n",
       "      [-73.2329809755133, 44.45161660047],\n",
       "      [-73.2327887986151, 44.4519472999773],\n",
       "      [-73.2326804337158, 44.4521357193819],\n",
       "      [-73.2326646373842, 44.4523482935271],\n",
       "      [-73.2326585025429, 44.4526426444409],\n",
       "      [-73.2325342782332, 44.4529445024186],\n",
       "      [-73.2324112034924, 44.4532442442913],\n",
       "      [-73.2322423439926, 44.4535248739401],\n",
       "      [-73.2321215521496, 44.4540075426337],\n",
       "      [-73.2319872391646, 44.4542565934674],\n",
       "      [-73.2316781784454, 44.4544725926501],\n",
       "      [-73.2311380975922, 44.4545197834147],\n",
       "      [-73.2306975976966, 44.454492088732],\n",
       "      [-73.2303012219295, 44.4545706975671],\n",
       "      [-73.2298374809215, 44.4550097153906],\n",
       "      [-73.2292356705942, 44.455366227205],\n",
       "      [-73.2285770825631, 44.4558306699005],\n",
       "      [-73.2282751357826, 44.4561152364887],\n",
       "      [-73.2277140086386, 44.4563662992093],\n",
       "      [-73.2271192125672, 44.4566573683784],\n",
       "      [-73.2267948445471, 44.4568129868151],\n",
       "      [-73.2264263473724, 44.4569566510962],\n",
       "      [-73.2259767529997, 44.4570201159362],\n",
       "      [-73.2256776705544, 44.4571253694913],\n",
       "      [-73.2249209090953, 44.4582594711452],\n",
       "      [-73.2249090423113, 44.4583159336788],\n",
       "      [-73.2248163378643, 44.4587574971059],\n",
       "      [-73.224453328848, 44.4592193367311],\n",
       "      [-73.2240231628544, 44.4594902213623],\n",
       "      [-73.2235847114225, 44.4597582041209],\n",
       "      [-73.2231523844464, 44.4599182920302],\n",
       "      [-73.2227657454983, 44.4599623620553],\n",
       "      [-73.2226607528862, 44.4602369483665],\n",
       "      [-73.222348064277, 44.4607054940853],\n",
       "      [-73.222284037934, 44.4608950286423],\n",
       "      [-73.2220915757953, 44.4614647603194],\n",
       "      [-73.2221234093353, 44.4617854465462],\n",
       "      [-73.2220919554606, 44.462068988832],\n",
       "      [-73.221812613953, 44.4626316754054],\n",
       "      [-73.2214913750496, 44.4631726905758],\n",
       "      [-73.2207380456992, 44.4640560214995],\n",
       "      [-73.2205617239115, 44.4643117905973],\n",
       "      [-73.220210930421, 44.4648143185953],\n",
       "      [-73.2200282365278, 44.4652868183247],\n",
       "      [-73.220007671771, 44.4653710364179],\n",
       "      [-73.2199377639768, 44.4656581951529],\n",
       "      [-73.2197409338005, 44.4660033850266],\n",
       "      [-73.2197076861735, 44.4663658235922],\n",
       "      [-73.2197003052161, 44.4666600405743],\n",
       "      [-73.2196844609633, 44.4669367330894],\n",
       "      [-73.2196988574914, 44.4672773572145],\n",
       "      [-73.2196699123664, 44.4677982439711],\n",
       "      [-73.2196758744505, 44.4680916739426],\n",
       "      [-73.2196798063212, 44.4683796324109],\n",
       "      [-73.2201894343728, 44.4690705045509],\n",
       "      [-73.2205039947958, 44.4695154003144],\n",
       "      [-73.2205563589213, 44.4698131775464],\n",
       "      [-73.220722838335, 44.4700648152451],\n",
       "      [-73.2211241918616, 44.4701895407087],\n",
       "      [-73.2214850075319, 44.4703072078728],\n",
       "      [-73.2217144529446, 44.4705367917962],\n",
       "      [-73.2218909069837, 44.4708960767115],\n",
       "      [-73.2218613638529, 44.4711758095342],\n",
       "      [-73.2215243687469, 44.4720674808713],\n",
       "      [-73.2214719361243, 44.4724341184254],\n",
       "      [-73.2215131340035, 44.4727813222913],\n",
       "      [-73.2215809871518, 44.4729011211312],\n",
       "      [-73.2216512502413, 44.473025122752],\n",
       "      [-73.2222910523722, 44.4738197811739],\n",
       "      [-73.2225435443575, 44.4741331654658],\n",
       "      [-73.2225510286867, 44.4744531616562],\n",
       "      [-73.2218321404921, 44.4744765495371],\n",
       "      [-73.2194124216757, 44.4745555167572],\n",
       "      [-73.2185914489818, 44.474582199154],\n",
       "      [-73.2170069160105, 44.474641092181],\n",
       "      [-73.2154874556752, 44.4746897119755],\n",
       "      [-73.2139190040674, 44.4747471960899]]]}},\n",
       "  {'type': 'Feature',\n",
       "   'properties': {'OBJECTID': 7,\n",
       "    'WARD': 6,\n",
       "    'DISTRICT': 'South',\n",
       "    'Shape__Are': 3020282.76257324,\n",
       "    'Shape__Len': 9281.90557654939,\n",
       "    'COLOR': 'rgba(255,255,204,0.5)'},\n",
       "   'geometry': {'type': 'Polygon',\n",
       "    'coordinates': [[[-73.2109906893559, 44.4759969839105],\n",
       "      [-73.2007023529722, 44.4763547369941],\n",
       "      [-73.1992185105388, 44.476397719214],\n",
       "      [-73.1991757861112, 44.4756815387582],\n",
       "      [-73.1991691954024, 44.4755572739848],\n",
       "      [-73.1991543023503, 44.4753297065638],\n",
       "      [-73.1991161436687, 44.4746011246361],\n",
       "      [-73.1983657941845, 44.4745562181207],\n",
       "      [-73.1984689120685, 44.4744421096644],\n",
       "      [-73.1985712457306, 44.4743281463011],\n",
       "      [-73.1986790120362, 44.474208666235],\n",
       "      [-73.1986668345637, 44.4742086003365],\n",
       "      [-73.1984448995983, 44.474108432052],\n",
       "      [-73.1983284044046, 44.4740558513449],\n",
       "      [-73.1981791364991, 44.4739888458258],\n",
       "      [-73.1981017123795, 44.4739519146006],\n",
       "      [-73.1980176211179, 44.4739158682197],\n",
       "      [-73.1978150139295, 44.4738223310824],\n",
       "      [-73.1975306430528, 44.4736902010755],\n",
       "      [-73.1964381972715, 44.4731826326634],\n",
       "      [-73.1964710210226, 44.4731354660766],\n",
       "      [-73.1965125840264, 44.4730634985433],\n",
       "      [-73.1965513916807, 44.4729909844314],\n",
       "      [-73.1965988402071, 44.4728855137417],\n",
       "      [-73.1966238794309, 44.4728112557851],\n",
       "      [-73.1966441572325, 44.4727329492046],\n",
       "      [-73.1966581645693, 44.472655805801],\n",
       "      [-73.1966720196514, 44.4725658678763],\n",
       "      [-73.1966803359864, 44.4725056331888],\n",
       "      [-73.1966834135415, 44.4724341811177],\n",
       "      [-73.1966768329207, 44.4723432420084],\n",
       "      [-73.1966690981718, 44.4722542790213],\n",
       "      [-73.1966529983105, 44.4721555234349],\n",
       "      [-73.1966251198625, 44.4720571213704],\n",
       "      [-73.1965930144795, 44.4719666187154],\n",
       "      [-73.1965645982961, 44.4718890311906],\n",
       "      [-73.1965206773091, 44.4717956487465],\n",
       "      [-73.1964550084746, 44.4716900237277],\n",
       "      [-73.1962827808765, 44.4714750864884],\n",
       "      [-73.1962364987642, 44.4714143414097],\n",
       "      [-73.1961801087188, 44.4713293305505],\n",
       "      [-73.196143252288, 44.4712685270783],\n",
       "      [-73.1961125542268, 44.4711971404772],\n",
       "      [-73.1960860498447, 44.4711150414341],\n",
       "      [-73.1960704192639, 44.4710556555798],\n",
       "      [-73.1960640069032, 44.4709787770642],\n",
       "      [-73.1960632765612, 44.4709173322132],\n",
       "      [-73.1960710374328, 44.4708433209447],\n",
       "      [-73.196083894712, 44.4707685748554],\n",
       "      [-73.1960990661109, 44.4706901590736],\n",
       "      [-73.1961175468082, 44.4706259251882],\n",
       "      [-73.196144330435, 44.4705662808204],\n",
       "      [-73.1961765135047, 44.4704983069193],\n",
       "      [-73.1962162491237, 44.4704378807259],\n",
       "      [-73.1962726721456, 44.4703606200667],\n",
       "      [-73.1963671285885, 44.4702450192185],\n",
       "      [-73.1966036694905, 44.4699897636878],\n",
       "      [-73.1967579258227, 44.4698168481885],\n",
       "      [-73.1978802569728, 44.4698052153609],\n",
       "      [-73.1981708531277, 44.4698021731247],\n",
       "      [-73.198207129119, 44.4703742621385],\n",
       "      [-73.198221501982, 44.4704267644987],\n",
       "      [-73.1982435553939, 44.4704647370486],\n",
       "      [-73.1982745331088, 44.4704935151675],\n",
       "      [-73.1983184159939, 44.4705175733455],\n",
       "      [-73.1983921546587, 44.4705422930983],\n",
       "      [-73.1984819134723, 44.4705600239347],\n",
       "      [-73.1986279061793, 44.470583598776],\n",
       "      [-73.1987058096156, 44.4705952148155],\n",
       "      [-73.1987656948012, 44.4706108792103],\n",
       "      [-73.1988221086339, 44.4706319078008],\n",
       "      [-73.199111858158, 44.4707550022683],\n",
       "      [-73.1991666572839, 44.4707722436941],\n",
       "      [-73.1992166333709, 44.4707803747555],\n",
       "      [-73.1992677227913, 44.4707830146996],\n",
       "      [-73.1993321295862, 44.4707826203516],\n",
       "      [-73.1993992222718, 44.4707768665325],\n",
       "      [-73.1994642515945, 44.4707628277962],\n",
       "      [-73.1995276176208, 44.4707410659628],\n",
       "      [-73.1995952122339, 44.4707116853371],\n",
       "      [-73.1998342939572, 44.4706043364221],\n",
       "      [-73.1998894685702, 44.4705872647081],\n",
       "      [-73.1999321839941, 44.4705794091871],\n",
       "      [-73.1999714378092, 44.4705776225114],\n",
       "      [-73.2000063991787, 44.4705781110989],\n",
       "      [-73.2004374661499, 44.4705964199687],\n",
       "      [-73.2003709845684, 44.4689783288329],\n",
       "      [-73.2003703287808, 44.4689234918474],\n",
       "      [-73.200376131128, 44.468850335523],\n",
       "      [-73.200382835338, 44.4687870172941],\n",
       "      [-73.2003964834503, 44.4687131090955],\n",
       "      [-73.2009027009288, 44.4670375074336],\n",
       "      [-73.2000866747275, 44.466944220892],\n",
       "      [-73.1999883387634, 44.4669313243957],\n",
       "      [-73.1999088019621, 44.4669140945574],\n",
       "      [-73.1998402187476, 44.4668932814497],\n",
       "      [-73.1997782734359, 44.4668691932179],\n",
       "      [-73.1992894019694, 44.4666450918962],\n",
       "      [-73.1991481720635, 44.4665919596342],\n",
       "      [-73.1990335293017, 44.4665618660344],\n",
       "      [-73.1989508668071, 44.466545919985],\n",
       "      [-73.198878518466, 44.4665386285593],\n",
       "      [-73.1988027019362, 44.4665368425907],\n",
       "      [-73.1987112299925, 44.4665396520863],\n",
       "      [-73.1986060612672, 44.4665464825607],\n",
       "      [-73.1985095670416, 44.4665562126161],\n",
       "      [-73.1984315368374, 44.4665663921486],\n",
       "      [-73.1983798367544, 44.4665780989325],\n",
       "      [-73.198333298058, 44.4665945537584],\n",
       "      [-73.1982728129512, 44.4666269842127],\n",
       "      [-73.1981905701572, 44.4666792340043],\n",
       "      [-73.1981134714588, 44.4667346867067],\n",
       "      [-73.1980556036963, 44.4667890372782],\n",
       "      [-73.1979865396568, 44.4668596274084],\n",
       "      [-73.1979351177699, 44.4669277185278],\n",
       "      [-73.1978856967523, 44.4669988914183],\n",
       "      [-73.1973239406353, 44.4679753911808],\n",
       "      [-73.197299121853, 44.4680348834636],\n",
       "      [-73.1972848753302, 44.468091779643],\n",
       "      [-73.1972844632849, 44.4681561842189],\n",
       "      [-73.1972983694404, 44.4682026437163],\n",
       "      [-73.1967437412109, 44.4683275214485],\n",
       "      [-73.1966109315546, 44.4683550492083],\n",
       "      [-73.1964871116275, 44.4683790058977],\n",
       "      [-73.1963534598785, 44.4684018974628],\n",
       "      [-73.1962472437371, 44.468419981496],\n",
       "      [-73.196172829636, 44.4684373091219],\n",
       "      [-73.1960518880362, 44.4684722163571],\n",
       "      [-73.1959595712559, 44.4685032925545],\n",
       "      [-73.1958845787094, 44.4685380600035],\n",
       "      [-73.1958023156578, 44.4685889024643],\n",
       "      [-73.1956217983695, 44.4687331495333],\n",
       "      [-73.1955766964672, 44.4687715316035],\n",
       "      [-73.1955419983667, 44.4687931166719],\n",
       "      [-73.1955052738536, 44.4688093701805],\n",
       "      [-73.195460284647, 44.4688241278924],\n",
       "      [-73.1953924885058, 44.4688366341891],\n",
       "      [-73.1952564184987, 44.4688543365953],\n",
       "      [-73.1942030249391, 44.4689483477236],\n",
       "      [-73.1941253761969, 44.4689579604248],\n",
       "      [-73.1940403464885, 44.4689743666326],\n",
       "      [-73.1939757915201, 44.4689952885013],\n",
       "      [-73.1939015026132, 44.4690233007632],\n",
       "      [-73.1938443830762, 44.4690419284142],\n",
       "      [-73.1937735008415, 44.4690590926273],\n",
       "      [-73.1937001894092, 44.4690702248027],\n",
       "      [-73.1935773640096, 44.4690788452868],\n",
       "      [-73.1933607726427, 44.4690959094496],\n",
       "      [-73.1930971303824, 44.4691195862689],\n",
       "      [-73.192899849268, 44.4691422974368],\n",
       "      [-73.1928579060344, 44.4691490207105],\n",
       "      [-73.1920388053296, 44.4647086650401],\n",
       "      [-73.1911641976955, 44.4602123900488],\n",
       "      [-73.1907258327129, 44.4579698091702],\n",
       "      [-73.1899787114897, 44.45414588344],\n",
       "      [-73.1989975286409, 44.4546920411039],\n",
       "      [-73.1991908570378, 44.4547043570042],\n",
       "      [-73.1996246499034, 44.4547305277959],\n",
       "      [-73.1999334935348, 44.454749305585],\n",
       "      [-73.1999943921942, 44.4547525888616],\n",
       "      [-73.2014085516241, 44.4548384077359],\n",
       "      [-73.2014659175105, 44.4548417110232],\n",
       "      [-73.2017892985934, 44.4548612395603],\n",
       "      [-73.2019232895624, 44.4548694156699],\n",
       "      [-73.2021747584998, 44.4548840402407],\n",
       "      [-73.2025566744036, 44.454906019067],\n",
       "      [-73.2029409563896, 44.4549288244066],\n",
       "      [-73.2033193386516, 44.4549508224301],\n",
       "      [-73.2036985076637, 44.4549728134525],\n",
       "      [-73.2040796377204, 44.4549946507347],\n",
       "      [-73.2044623503544, 44.4550174615287],\n",
       "      [-73.2048426974065, 44.4550394414856],\n",
       "      [-73.205223829965, 44.4550614153255],\n",
       "      [-73.2057098878653, 44.4550907554762],\n",
       "      [-73.207009909884, 44.4551528827197],\n",
       "      [-73.2082023997452, 44.4552193193811],\n",
       "      [-73.2083803758922, 44.4552280584204],\n",
       "      [-73.2085552081798, 44.455236676294],\n",
       "      [-73.2084784453252, 44.4562270970792],\n",
       "      [-73.207923329633, 44.4622796036218],\n",
       "      [-73.2078846118399, 44.4626502282366],\n",
       "      [-73.2078640343337, 44.4627672086912],\n",
       "      [-73.2078472721292, 44.4628424024832],\n",
       "      [-73.2077821295682, 44.4631061815208],\n",
       "      [-73.207759186777, 44.4631899910053],\n",
       "      [-73.2077504217925, 44.4632446046958],\n",
       "      [-73.2077532674968, 44.4633175665818],\n",
       "      [-73.2077803213935, 44.4635415427884],\n",
       "      [-73.2077861034278, 44.4636950606534],\n",
       "      [-73.2077158497251, 44.4646410041996],\n",
       "      [-73.2077142074904, 44.4647976611648],\n",
       "      [-73.2077248279232, 44.4648965896589],\n",
       "      [-73.2077495323883, 44.464991072427],\n",
       "      [-73.207786073554, 44.4650901210689],\n",
       "      [-73.2078174659334, 44.4651530632878],\n",
       "      [-73.2078595414072, 44.4652225485065],\n",
       "      [-73.2079811235326, 44.4653718333659],\n",
       "      [-73.2080504318655, 44.4654525394414],\n",
       "      [-73.2081575785216, 44.4655770246322],\n",
       "      [-73.2083044898223, 44.465742322353],\n",
       "      [-73.2084939834935, 44.4659539010508],\n",
       "      [-73.2086564283823, 44.4661369605159],\n",
       "      [-73.20886105798, 44.4663658802669],\n",
       "      [-73.2092085658486, 44.4667507005524],\n",
       "      [-73.2095879392946, 44.4671721638471],\n",
       "      [-73.2099667437596, 44.4675785822594],\n",
       "      [-73.2124790636138, 44.4702916074269],\n",
       "      [-73.2133276616201, 44.4712156465223],\n",
       "      [-73.2134656142252, 44.4713846498724],\n",
       "      [-73.2135516073152, 44.4715119330524],\n",
       "      [-73.2136217428434, 44.4716592832737],\n",
       "      [-73.2136581988396, 44.4717501751301],\n",
       "      [-73.2136979127126, 44.4719150105673],\n",
       "      [-73.2137206042604, 44.4720366433079],\n",
       "      [-73.2137389604974, 44.4722214398187],\n",
       "      [-73.2139190040674, 44.4747471960899],\n",
       "      [-73.2125444312804, 44.4747923403231],\n",
       "      [-73.2122817663048, 44.4747686677251],\n",
       "      [-73.2108051749407, 44.474822442138],\n",
       "      [-73.2109841076837, 44.4758755321086],\n",
       "      [-73.2109906893559, 44.4759969839105]]]}},\n",
       "  {'type': 'Feature',\n",
       "   'properties': {'OBJECTID': 1,\n",
       "    'WARD': 7,\n",
       "    'DISTRICT': 'North',\n",
       "    'Shape__Are': 7072752.23921967,\n",
       "    'Shape__Len': 23027.3495793427,\n",
       "    'COLOR': 'rgba(229,216,189,0.5)'},\n",
       "   'geometry': {'type': 'Polygon',\n",
       "    'coordinates': [[[-73.2707399912007, 44.5252956469716],\n",
       "      [-73.2718929937719, 44.5250860776611],\n",
       "      [-73.2725765576189, 44.5249619321238],\n",
       "      [-73.2725885600772, 44.5249777402473],\n",
       "      [-73.2729751031789, 44.5254616540278],\n",
       "      [-73.2733005606759, 44.5257553056194],\n",
       "      [-73.2734742344123, 44.5260160962375],\n",
       "      [-73.2735649844184, 44.5261897042793],\n",
       "      [-73.2736113665569, 44.5262782590289],\n",
       "      [-73.2738775243169, 44.5266651167358],\n",
       "      [-73.2738713428651, 44.5269999635705],\n",
       "      [-73.2739958237059, 44.5273454558653],\n",
       "      [-73.2741197359068, 44.5278260829729],\n",
       "      [-73.2744975654214, 44.5285399566918],\n",
       "      [-73.2749927960093, 44.5292715927932],\n",
       "      [-73.2756829037737, 44.5300816332366],\n",
       "      [-73.2751480260725, 44.5302450037349],\n",
       "      [-73.2746331886455, 44.5303781436814],\n",
       "      [-73.2742264212234, 44.5304782076789],\n",
       "      [-73.2736211620922, 44.5306119568975],\n",
       "      [-73.2731916398801, 44.5306861577398],\n",
       "      [-73.272983715794, 44.5307200466499],\n",
       "      [-73.2727755330258, 44.5307343920845],\n",
       "      [-73.2724941947203, 44.5307168909183],\n",
       "      [-73.2721766888933, 44.5306994923073],\n",
       "      [-73.2718956592274, 44.5306755188273],\n",
       "      [-73.2715604124378, 44.530684252906],\n",
       "      [-73.2712530615566, 44.5307511522833],\n",
       "      [-73.2710007811128, 44.5308500210363],\n",
       "      [-73.2707306232567, 44.530994568322],\n",
       "      [-73.2704975355908, 44.5311776755914],\n",
       "      [-73.2703364398253, 44.5313342832196],\n",
       "      [-73.2701674977664, 44.5315817805293],\n",
       "      [-73.2700432501572, 44.5317900251408],\n",
       "      [-73.2699913903332, 44.5319719092914],\n",
       "      [-73.2699762095225, 44.5321923559387],\n",
       "      [-73.2700111293158, 44.5324255417914],\n",
       "      [-73.2700812254321, 44.5326130715016],\n",
       "      [-73.2701789266858, 44.532806883757],\n",
       "      [-73.2704276103381, 44.5330905145005],\n",
       "      [-73.2707482067477, 44.5333411779616],\n",
       "      [-73.2712795629063, 44.5337718105408],\n",
       "      [-73.2723876017319, 44.5346395111751],\n",
       "      [-73.2731115843093, 44.5352440382748],\n",
       "      [-73.2735612880192, 44.5356818219263],\n",
       "      [-73.2738559849227, 44.5360233485043],\n",
       "      [-73.2741061966464, 44.5364495440085],\n",
       "      [-73.2742830380299, 44.5367983369508],\n",
       "      [-73.2743729208537, 44.5370830353912],\n",
       "      [-73.2743979569407, 44.5372513220859],\n",
       "      [-73.2743775593216, 44.5374329947182],\n",
       "      [-73.2743209902495, 44.5376149125863],\n",
       "      [-73.2742156549119, 44.5378555156065],\n",
       "      [-73.2739978947089, 44.5381875778942],\n",
       "      [-73.2737031545686, 44.5385266291191],\n",
       "      [-73.2735332626072, 44.538702846371],\n",
       "      [-73.2733361555274, 44.5388727780069],\n",
       "      [-73.2731027007917, 44.539029879274],\n",
       "      [-73.2728689037897, 44.5391611083048],\n",
       "      [-73.2725624526891, 44.5392992970903],\n",
       "      [-73.2722737443763, 44.5394114919049],\n",
       "      [-73.2716691591161, 44.5396035815102],\n",
       "      [-73.2713167159482, 44.5396837222182],\n",
       "      [-73.2709461013645, 44.5397575166605],\n",
       "      [-73.2704753604484, 44.5398125800938],\n",
       "      [-73.270050058508, 44.5398543986376],\n",
       "      [-73.2693257119386, 44.5399110266018],\n",
       "      [-73.2686050944798, 44.5399224876702],\n",
       "      [-73.2679072806842, 44.5399336495771],\n",
       "      [-73.2672184242092, 44.5399382792052],\n",
       "      [-73.2665632000916, 44.539898948338],\n",
       "      [-73.2659479221836, 44.5398171603996],\n",
       "      [-73.2654120240509, 44.5397013712434],\n",
       "      [-73.2648928173621, 44.5395389239732],\n",
       "      [-73.2644024469885, 44.5393561731584],\n",
       "      [-73.2640105034887, 44.5391827457288],\n",
       "      [-73.2636797164502, 44.5389648957349],\n",
       "      [-73.2632862468978, 44.5386742025857],\n",
       "      [-73.2629327647795, 44.5383139179351],\n",
       "      [-73.2627482123806, 44.5380623251468],\n",
       "      [-73.2625902812421, 44.5377716032387],\n",
       "      [-73.2624966374379, 44.5375258708141],\n",
       "      [-73.2624266918133, 44.5372279529588],\n",
       "      [-73.2623790937616, 44.536744273005],\n",
       "      [-73.2623914362645, 44.5364245726464],\n",
       "      [-73.2624729057939, 44.5360689757706],\n",
       "      [-73.2625720729033, 44.5358042379768],\n",
       "      [-73.2627314252191, 44.5354512139105],\n",
       "      [-73.2629517322551, 44.5350390057281],\n",
       "      [-73.2631728038518, 44.5346855686772],\n",
       "      [-73.2633533578675, 44.5343910392055],\n",
       "      [-73.263552523175, 44.5340765575905],\n",
       "      [-73.2637553581722, 44.5337723166556],\n",
       "      [-73.263996670421, 44.5334039782043],\n",
       "      [-73.264237788404, 44.5330210165378],\n",
       "      [-73.2645593321804, 44.5325348663964],\n",
       "      [-73.2649215726051, 44.5320044304027],\n",
       "      [-73.2653737776119, 44.531349087361],\n",
       "      [-73.266029074242, 44.5304716131132],\n",
       "      [-73.2664027423336, 44.5299150819856],\n",
       "      [-73.2666153741374, 44.5295507270593],\n",
       "      [-73.2667827943758, 44.5291865348785],\n",
       "      [-73.2668877733061, 44.5288875842635],\n",
       "      [-73.2669614200425, 44.5286277950698],\n",
       "      [-73.2670533886541, 44.5280567012607],\n",
       "      [-73.267058177048, 44.5277325509688],\n",
       "      [-73.2670144837792, 44.5274288335871],\n",
       "      [-73.2669134551962, 44.5270398675662],\n",
       "      [-73.2667694541305, 44.5266414868088],\n",
       "      [-73.2665890942953, 44.5262583950647],\n",
       "      [-73.2663177707792, 44.5258934909926],\n",
       "      [-73.2659462696156, 44.525503526199],\n",
       "      [-73.2655423400199, 44.5251584918913],\n",
       "      [-73.2647913199625, 44.5246352316308],\n",
       "      [-73.2643225890171, 44.5243540455556],\n",
       "      [-73.2637927820489, 44.5240916859619],\n",
       "      [-73.2629271578157, 44.5237307466373],\n",
       "      [-73.2622048377079, 44.5235059447257],\n",
       "      [-73.2616093556836, 44.5233608649081],\n",
       "      [-73.26090117727, 44.523255342726],\n",
       "      [-73.2602077724961, 44.5232276183265],\n",
       "      [-73.2591430332574, 44.5232719634423],\n",
       "      [-73.2585281764152, 44.5233294825902],\n",
       "      [-73.2580670159221, 44.5234167733745],\n",
       "      [-73.2576337901423, 44.5235363593813],\n",
       "      [-73.2574306242688, 44.5236025304489],\n",
       "      [-73.2572058092054, 44.523727200326],\n",
       "      [-73.2570671611479, 44.5238577664684],\n",
       "      [-73.2569334238111, 44.5240337198054],\n",
       "      [-73.2567461963261, 44.5242683821477],\n",
       "      [-73.2566260449812, 44.5244311671815],\n",
       "      [-73.2565274620775, 44.5245291261196],\n",
       "      [-73.2564064720308, 44.5246270920855],\n",
       "      [-73.2561450099421, 44.5247455347017],\n",
       "      [-73.2559556803258, 44.5248180802855],\n",
       "      [-73.2556939393767, 44.5248846359469],\n",
       "      [-73.255404264059, 44.5249190346793],\n",
       "      [-73.2551326443179, 44.5249208309109],\n",
       "      [-73.2548151732657, 44.5249033837719],\n",
       "      [-73.254343116144, 44.5248482874202],\n",
       "      [-73.2538375972632, 44.5247591007227],\n",
       "      [-73.2534887134133, 44.5246528478924],\n",
       "      [-73.2531166172793, 44.5245145463543],\n",
       "      [-73.2525593836399, 44.5242248952571],\n",
       "      [-73.2521066487878, 44.5239294920559],\n",
       "      [-73.2519372808548, 44.523781554904],\n",
       "      [-73.2518131161817, 44.5236331786524],\n",
       "      [-73.2515904353281, 44.5232521702519],\n",
       "      [-73.2514047297621, 44.5229034005282],\n",
       "      [-73.2512709452439, 44.5227098092217],\n",
       "      [-73.2511420677666, 44.5225614641129],\n",
       "      [-73.250991703167, 44.5224846928113],\n",
       "      [-73.2507871174327, 44.5224406188725],\n",
       "      [-73.2506147880838, 44.5224288149748],\n",
       "      [-73.2504703904528, 44.5224493096819],\n",
       "      [-73.2503261814156, 44.522515080702],\n",
       "      [-73.2501686290731, 44.5226132811939],\n",
       "      [-73.2500568399467, 44.5227242579451],\n",
       "      [-73.2499680973664, 44.5228544877345],\n",
       "      [-73.2499112978992, 44.5230233184834],\n",
       "      [-73.2499227496463, 44.5232112459415],\n",
       "      [-73.2500026205227, 44.5234312065056],\n",
       "      [-73.2501413684436, 44.5236441711567],\n",
       "      [-73.2502396543259, 44.5238898838267],\n",
       "      [-73.2502792283822, 44.5241553874955],\n",
       "      [-73.2502559344298, 44.5244537856346],\n",
       "      [-73.2501860417114, 44.5246745893523],\n",
       "      [-73.2501342919969, 44.524869400618],\n",
       "      [-73.2500369228773, 44.5250321694596],\n",
       "      [-73.2498772015899, 44.5252989809593],\n",
       "      [-73.2496761841967, 44.5255337222081],\n",
       "      [-73.2494266316664, 44.5258465425775],\n",
       "      [-73.2491761018754, 44.5261139488991],\n",
       "      [-73.2488897989395, 44.526381590136],\n",
       "      [-73.2486026854507, 44.5266168939688],\n",
       "      [-73.2482566033468, 44.5268524421368],\n",
       "      [-73.2477815932635, 44.5271204726067],\n",
       "      [-73.2473564839046, 44.5273251788789],\n",
       "      [-73.2469015499808, 44.5275035025339],\n",
       "      [-73.2463098859806, 44.5276884829341],\n",
       "      [-73.2458455079117, 44.5278665824049],\n",
       "      [-73.2451470601742, 44.528156309432],\n",
       "      [-73.2445482276905, 44.5284584607101],\n",
       "      [-73.2439718594852, 44.5287344479895],\n",
       "      [-73.2434308280647, 44.5289455192822],\n",
       "      [-73.2431148233616, 44.5290447403583],\n",
       "      [-73.2427894465482, 44.5291181491935],\n",
       "      [-73.2425090126072, 44.529139518483],\n",
       "      [-73.2422821038735, 44.5291345247085],\n",
       "      [-73.2420643008597, 44.5291034586098],\n",
       "      [-73.2418188801064, 44.5290337607537],\n",
       "      [-73.2415906551044, 44.5289250004927],\n",
       "      [-73.2412621360478, 44.5287197253457],\n",
       "      [-73.2410058035435, 44.5285333862779],\n",
       "      [-73.2408409375272, 44.5283983401851],\n",
       "      [-73.2407215919427, 44.5282565298739],\n",
       "      [-73.2406377712751, 44.5280949442047],\n",
       "      [-73.2406033010066, 44.5278877598671],\n",
       "      [-73.2405899895065, 44.527550791396],\n",
       "      [-73.2406026504619, 44.5271228165047],\n",
       "      [-73.2405373421264, 44.5265915734592],\n",
       "      [-73.240399334405, 44.526093424421],\n",
       "      [-73.2402952012872, 44.5257245621719],\n",
       "      [-73.2401825394266, 44.5254270473194],\n",
       "      [-73.2400489498002, 44.5252463782983],\n",
       "      [-73.2399067305688, 44.5250982474103],\n",
       "      [-73.239719161058, 44.5249698145572],\n",
       "      [-73.2392719248252, 44.5247004789027],\n",
       "      [-73.2388696687395, 44.5244437871163],\n",
       "      [-73.2382214290167, 44.524039491379],\n",
       "      [-73.2376684204381, 44.5236735271388],\n",
       "      [-73.2374348383738, 44.5234805641781],\n",
       "      [-73.2372103653479, 44.5232616695889],\n",
       "      [-73.2370218272805, 44.5230554783819],\n",
       "      [-73.2369063341537, 44.5228746888241],\n",
       "      [-73.236808513564, 44.5226613036311],\n",
       "      [-73.2367470207525, 44.5224607601228],\n",
       "      [-73.2366891022658, 44.5221694976494],\n",
       "      [-73.2366679168304, 44.5219232759461],\n",
       "      [-73.236696012975, 44.5216573309633],\n",
       "      [-73.2367383405934, 44.5213977629221],\n",
       "      [-73.2368298654541, 44.5211118638187],\n",
       "      [-73.2369309200925, 44.5208648534143],\n",
       "      [-73.2371655203452, 44.5204225095068],\n",
       "      [-73.2373965590689, 44.5200409348962],\n",
       "      [-73.2375782885404, 44.5197392653037],\n",
       "      [-73.2377830862004, 44.5194591025372],\n",
       "      [-73.2379259940509, 44.5192897213817],\n",
       "      [-73.2380961193901, 44.5191589749459],\n",
       "      [-73.2382715979484, 44.5190475981487],\n",
       "      [-73.2384962726138, 44.5189100297156],\n",
       "      [-73.2387398272534, 44.5188046798507],\n",
       "      [-73.2389110792592, 44.5187322796933],\n",
       "      [-73.2390631790496, 44.5186684410509],\n",
       "      [-73.2391989498097, 44.5185878331231],\n",
       "      [-73.2393293575455, 44.5184872927873],\n",
       "      [-73.2394861424888, 44.5182967279309],\n",
       "      [-73.2395751612422, 44.5180627296345],\n",
       "      [-73.2395983164281, 44.5179045277584],\n",
       "      [-73.2395799946364, 44.5177612184932],\n",
       "      [-73.2395186595414, 44.5175113198841],\n",
       "      [-73.239458384866, 44.5173452212706],\n",
       "      [-73.2393382499442, 44.5171390128448],\n",
       "      [-73.2391820720739, 44.5169420369659],\n",
       "      [-73.2389766530659, 44.5167675963034],\n",
       "      [-73.2387391823124, 44.5166071433714],\n",
       "      [-73.2385294030249, 44.5164917895631],\n",
       "      [-73.2382829907373, 44.5163702034094],\n",
       "      [-73.2380097732969, 44.5162423211666],\n",
       "      [-73.2376636835285, 44.5161019732225],\n",
       "      [-73.2374134414679, 44.5160192198375],\n",
       "      [-73.2371316109063, 44.5159562146853],\n",
       "      [-73.2368456213402, 44.5159061732091],\n",
       "      [-73.2363741268018, 44.5158574676111],\n",
       "      [-73.2359653521919, 44.5157952788867],\n",
       "      [-73.2357383178383, 44.5157448547144],\n",
       "      [-73.2355292001794, 44.5156813771651],\n",
       "      [-73.2353651184803, 44.5156046735265],\n",
       "      [-73.2352191131842, 44.515527712896],\n",
       "      [-73.2349908591731, 44.5153801294396],\n",
       "      [-73.2347070814431, 44.51516161035],\n",
       "      [-73.23446393293, 44.5149232834707],\n",
       "      [-73.2342430935326, 44.5146458632242],\n",
       "      [-73.2340125667426, 44.5143167573237],\n",
       "      [-73.2337618688668, 44.5140087320468],\n",
       "      [-73.2334782490364, 44.5137079488734],\n",
       "      [-73.2332173560523, 44.5134013944489],\n",
       "      [-73.233043024233, 44.5132274471713],\n",
       "      [-73.2328603039533, 44.5131054404247],\n",
       "      [-73.23260527281, 44.5129838972471],\n",
       "      [-73.2323868983136, 44.5129334108346],\n",
       "      [-73.2321511640597, 44.5129090489752],\n",
       "      [-73.2319247125874, 44.5129040316599],\n",
       "      [-73.2316620360994, 44.5129251201622],\n",
       "      [-73.2314004007409, 44.5129980883697],\n",
       "      [-73.2311476552093, 44.5130905439768],\n",
       "      [-73.2308777080256, 44.5132219199431],\n",
       "      [-73.2303826142059, 44.5134843825588],\n",
       "      [-73.2299869350264, 44.5137137251871],\n",
       "      [-73.2298075392948, 44.5138575968399],\n",
       "      [-73.2296554195295, 44.5140140893059],\n",
       "      [-73.2295129042395, 44.5142159393116],\n",
       "      [-73.2293531997574, 44.5144891912842],\n",
       "      [-73.2292023729989, 44.5147495909871],\n",
       "      [-73.2289894592385, 44.5150428683365],\n",
       "      [-73.2287869540051, 44.5153199078304],\n",
       "      [-73.2285393216625, 44.5155715019337],\n",
       "      [-73.2282730563207, 44.515810418957],\n",
       "      [-73.2279052098021, 44.5160672787624],\n",
       "      [-73.227567894173, 44.5162509622365],\n",
       "      [-73.2272344146784, 44.5163956708747],\n",
       "      [-73.2269003718954, 44.516495103435],\n",
       "      [-73.2265523284307, 44.5165750782851],\n",
       "      [-73.225955818332, 44.516682646247],\n",
       "      [-73.2252139555232, 44.5167651195821],\n",
       "      [-73.2245437653988, 44.5167952464871],\n",
       "      [-73.2239547644489, 44.5167795761613],\n",
       "      [-73.2234377596392, 44.516737434009],\n",
       "      [-73.2229338699586, 44.5166750973381],\n",
       "      [-73.222235200931, 44.5165635100047],\n",
       "      [-73.2215270931363, 44.516451274271],\n",
       "      [-73.220822243186, 44.5163480138836],\n",
       "      [-73.220374547156, 44.5163159659026],\n",
       "      [-73.2201391238443, 44.5163174505816],\n",
       "      [-73.2199490574273, 44.5163315855064],\n",
       "      [-73.2196050050683, 44.5163532996005],\n",
       "      [-73.2194237386674, 44.5163479727949],\n",
       "      [-73.2192422331401, 44.5163231023072],\n",
       "      [-73.2190238520428, 44.5162402483627],\n",
       "      [-73.2188231527696, 44.5161248011727],\n",
       "      [-73.2187403677951, 44.5160410931784],\n",
       "      [-73.2186480585607, 44.5158860122985],\n",
       "      [-73.2186097542673, 44.5157436694851],\n",
       "      [-73.2186163249855, 44.5155426876813],\n",
       "      [-73.2186687234562, 44.5153608238203],\n",
       "      [-73.2187304865807, 44.5152372558282],\n",
       "      [-73.2188189458978, 44.5151431890151],\n",
       "      [-73.2190628135778, 44.5149657443535],\n",
       "      [-73.2193883358459, 44.5147803315619],\n",
       "      [-73.2198169164417, 44.5146015803674],\n",
       "      [-73.2203377051852, 44.5144102930196],\n",
       "      [-73.2209242042474, 44.5142250582015],\n",
       "      [-73.2215469382856, 44.5140461997128],\n",
       "      [-73.2221650513171, 44.5138753819133],\n",
       "      [-73.2227680841877, 44.5137249048605],\n",
       "      [-73.223348951781, 44.5135939704242],\n",
       "      [-73.2238465657226, 44.5135324619606],\n",
       "      [-73.2243532972908, 44.5134773622748],\n",
       "      [-73.2248873064466, 44.5134350238595],\n",
       "      [-73.2254084386014, 44.5134002171442],\n",
       "      [-73.2258688902728, 44.5133532782514],\n",
       "      [-73.2262573592894, 44.5132700956817],\n",
       "      [-73.2265732558707, 44.5131667027626],\n",
       "      [-73.2269834488805, 44.5129974621845],\n",
       "      [-73.2273391572127, 44.5127771031165],\n",
       "      [-73.2275875808299, 44.51258962633],\n",
       "      [-73.2278364213467, 44.5123726174853],\n",
       "      [-73.2281233082891, 44.5121179622017],\n",
       "      [-73.2284404222505, 44.5117659467906],\n",
       "      [-73.228587648339, 44.5115639275957],\n",
       "      [-73.2287072056324, 44.5113492884863],\n",
       "      [-73.2287946048335, 44.5111088398624],\n",
       "      [-73.2288640762745, 44.5108491010471],\n",
       "      [-73.2289058779041, 44.510576602122],\n",
       "      [-73.2288836803279, 44.5102461558486],\n",
       "      [-73.2288252478508, 44.5099094729116],\n",
       "      [-73.2286881855929, 44.5094759854889],\n",
       "      [-73.2284655378699, 44.5090495116668],\n",
       "      [-73.2282619390509, 44.5087008175342],\n",
       "      [-73.2279582855693, 44.5083017170189],\n",
       "      [-73.2276316702522, 44.5079203387153],\n",
       "      [-73.2272880324184, 44.5075919394135],\n",
       "      [-73.2269356121226, 44.5073154828864],\n",
       "      [-73.2265381624481, 44.5070521070856],\n",
       "      [-73.2260545715201, 44.506750608844],\n",
       "      [-73.2257532732164, 44.5065709885233],\n",
       "      [-73.2255156377206, 44.506390963005],\n",
       "      [-73.2253234340827, 44.5062300539114],\n",
       "      [-73.225149872426, 44.5061145856783],\n",
       "      [-73.2249765502169, 44.5060183798118],\n",
       "      [-73.2247304505626, 44.5059161667365],\n",
       "      [-73.2245304185401, 44.505852612173],\n",
       "      [-73.2243128720621, 44.5058345865959],\n",
       "      [-73.2241141254274, 44.5058747981352],\n",
       "      [-73.2239066600436, 44.5059409370167],\n",
       "      [-73.2236871562372, 44.5060188231464],\n",
       "      [-73.2233306818619, 44.5061750559947],\n",
       "      [-73.2229273261919, 44.5064175001172],\n",
       "      [-73.222422334367, 44.506799515125],\n",
       "      [-73.2219572439483, 44.5072626915677],\n",
       "      [-73.2216087641594, 44.5076538369025],\n",
       "      [-73.221358264756, 44.5079277929276],\n",
       "      [-73.2211436686975, 44.5081494924839],\n",
       "      [-73.220883959754, 44.5083780864549],\n",
       "      [-73.2205787414725, 44.5086132944518],\n",
       "      [-73.2201701808297, 44.5089141173735],\n",
       "      [-73.2199728575125, 44.5090710233979],\n",
       "      [-73.2198653566706, 44.509181802538],\n",
       "      [-73.2196956242936, 44.5093773441339],\n",
       "      [-73.2194718995739, 44.5095927714331],\n",
       "      [-73.2192251397268, 44.5097887966274],\n",
       "      [-73.218964776441, 44.5099653619962],\n",
       "      [-73.2187041004422, 44.5101485379017],\n",
       "      [-73.2184791737309, 44.5102666646628],\n",
       "      [-73.218253767744, 44.5103458427428],\n",
       "      [-73.2180641984495, 44.5103989217641],\n",
       "      [-73.2178563925214, 44.5104391784431],\n",
       "      [-73.2176299547162, 44.5104664747732],\n",
       "      [-73.2174216704385, 44.5104677833172],\n",
       "      [-73.2170317429092, 44.5104314220533],\n",
       "      [-73.2166686126741, 44.5103688776112],\n",
       "      [-73.2162962044546, 44.5102868443821],\n",
       "      [-73.215941559224, 44.5101788252821],\n",
       "      [-73.2156045957069, 44.5100383531073],\n",
       "      [-73.2152673186206, 44.5098720076897],\n",
       "      [-73.2149536332608, 44.5096742973295],\n",
       "      [-73.2146918701449, 44.5094800580519],\n",
       "      [-73.2144810555035, 44.5092739685064],\n",
       "      [-73.2143151974409, 44.5090481928635],\n",
       "      [-73.2142034132518, 44.5088090008907],\n",
       "      [-73.2141236184397, 44.5085825463403],\n",
       "      [-73.2140888565831, 44.5083105314181],\n",
       "      [-73.214031382808, 44.5080774684423],\n",
       "      [-73.2139559105727, 44.507818644624],\n",
       "      [-73.2138859499621, 44.5076570924708],\n",
       "      [-73.225764052777, 44.5008835668173],\n",
       "      [-73.2280341504162, 44.4995886695271],\n",
       "      [-73.2281133568395, 44.4995435895372],\n",
       "      [-73.2183194212876, 44.4912102604646],\n",
       "      [-73.2185755192468, 44.4912048526159],\n",
       "      [-73.2193226191308, 44.4911904474043],\n",
       "      [-73.2198949088663, 44.4911781229369],\n",
       "      [-73.2204958746971, 44.4911654743127],\n",
       "      [-73.2212193481735, 44.4911468464069],\n",
       "      [-73.2214950589896, 44.4911389179072],\n",
       "      [-73.2217683484059, 44.4911258014675],\n",
       "      [-73.2220352842885, 44.4911072402814],\n",
       "      [-73.2222158153913, 44.4910911939621],\n",
       "      [-73.2224660894584, 44.4910596591414],\n",
       "      [-73.2227044906972, 44.4910211694383],\n",
       "      [-73.2228558508372, 44.4909972908888],\n",
       "      [-73.2230016239896, 44.4909664171434],\n",
       "      [-73.2232523439392, 44.49090745828],\n",
       "      [-73.2234829731553, 44.4908442668049],\n",
       "      [-73.2236939290097, 44.4907786688815],\n",
       "      [-73.2238715223007, 44.4907158126673],\n",
       "      [-73.2241006676775, 44.4906280212752],\n",
       "      [-73.2243382689596, 44.4905251305282],\n",
       "      [-73.2245745718303, 44.4904126856159],\n",
       "      [-73.2248266748922, 44.490275391475],\n",
       "      [-73.2250560227022, 44.4901407718786],\n",
       "      [-73.2252173531356, 44.4900340041349],\n",
       "      [-73.2253774283734, 44.4899210570168],\n",
       "      [-73.2255046993235, 44.4898242074752],\n",
       "      [-73.2257531625519, 44.4896155013204],\n",
       "      [-73.22606354948, 44.4892998133683],\n",
       "      [-73.2261234491214, 44.4892195624994],\n",
       "      [-73.2306311826111, 44.4949673294569],\n",
       "      [-73.2314457800031, 44.4960112522638],\n",
       "      [-73.2316166290559, 44.496225441485],\n",
       "      [-73.2318383290328, 44.4964840200897],\n",
       "      [-73.2319835993554, 44.4966634998462],\n",
       "      [-73.2323312734635, 44.4971291010902],\n",
       "      [-73.2329551634061, 44.4980007156031],\n",
       "      [-73.2331017370869, 44.4981896061264],\n",
       "      [-73.2331822246419, 44.4982785212879],\n",
       "      [-73.2332379892278, 44.4983386286544],\n",
       "      [-73.2333198567138, 44.49841220703],\n",
       "      [-73.2334159166757, 44.4984894919674],\n",
       "      [-73.2335821568972, 44.4986169469586],\n",
       "      [-73.2359487994008, 44.500363500506],\n",
       "      [-73.2369813706866, 44.5011348703684],\n",
       "      [-73.240455159557, 44.5036845491799],\n",
       "      [-73.2599935590733, 44.5181199201832],\n",
       "      [-73.2645081108472, 44.5214665304151],\n",
       "      [-73.2645947448085, 44.5215383676653],\n",
       "      [-73.2646345840969, 44.5215788789898],\n",
       "      [-73.2647081320755, 44.5216720369273],\n",
       "      [-73.2650800910097, 44.5222196335766],\n",
       "      [-73.2663775252501, 44.5214860617033],\n",
       "      [-73.266699484584, 44.5217869274121],\n",
       "      [-73.2668121625028, 44.5218961317955],\n",
       "      [-73.267215689819, 44.5222415856835],\n",
       "      [-73.267082559176, 44.5222814310928],\n",
       "      [-73.2671707376985, 44.5224407183774],\n",
       "      [-73.2672683398916, 44.5226290499073],\n",
       "      [-73.2673179187644, 44.5227225075608],\n",
       "      [-73.2673665055182, 44.5228003633159],\n",
       "      [-73.2674753424319, 44.5229759633293],\n",
       "      [-73.26745537836, 44.5229824249552],\n",
       "      [-73.2675489483034, 44.5231629088574],\n",
       "      [-73.2675692993254, 44.5231560225434],\n",
       "      [-73.2676695158135, 44.5233336493623],\n",
       "      [-73.2677713261103, 44.5235129527586],\n",
       "      [-73.2678731401519, 44.5236923973236],\n",
       "      [-73.2679793814578, 44.5238796855863],\n",
       "      [-73.2680880317966, 44.5240707543841],\n",
       "      [-73.268201518047, 44.5242707899317],\n",
       "      [-73.2683174208516, 44.5244751684057],\n",
       "      [-73.2684333244631, 44.5246795458492],\n",
       "      [-73.2685945875826, 44.5246262930607],\n",
       "      [-73.2687085059319, 44.524799185727],\n",
       "      [-73.2688236257832, 44.524973758471],\n",
       "      [-73.2689762674399, 44.5249225313489],\n",
       "      [-73.2689870647124, 44.5249663306574],\n",
       "      [-73.2689924772385, 44.5250191656074],\n",
       "      [-73.2689910714163, 44.5250915922326],\n",
       "      [-73.2689820218991, 44.5251507116348],\n",
       "      [-73.2689735038408, 44.525190562472],\n",
       "      [-73.2689590938597, 44.5252307355592],\n",
       "      [-73.268933438566, 44.5252826547595],\n",
       "      [-73.268899200696, 44.5253396938896],\n",
       "      [-73.2688609628789, 44.5253914161018],\n",
       "      [-73.2688225203015, 44.5254276724354],\n",
       "      [-73.2687820906859, 44.5254622547466],\n",
       "      [-73.2687447206469, 44.5254903485908],\n",
       "      [-73.2686729882973, 44.5255361091099],\n",
       "      [-73.2686152664302, 44.5255710894249],\n",
       "      [-73.2687385357995, 44.5256477381728],\n",
       "      [-73.2702152544711, 44.5253910094937],\n",
       "      [-73.2707399912007, 44.5252956469716]]]}},\n",
       "  {'type': 'Feature',\n",
       "   'properties': {'OBJECTID': 6,\n",
       "    'WARD': 8,\n",
       "    'DISTRICT': 'East',\n",
       "    'Shape__Are': 617387.785255432,\n",
       "    'Shape__Len': 6428.33008716662,\n",
       "    'COLOR': 'rgba(253,218,236,0.5)'},\n",
       "   'geometry': {'type': 'Polygon',\n",
       "    'coordinates': [[[-73.2056904027222, 44.4806567040077],\n",
       "      [-73.2055390722885, 44.4774871570677],\n",
       "      [-73.2005997615911, 44.4777601258888],\n",
       "      [-73.1992878896517, 44.4778325684584],\n",
       "      [-73.1990369218563, 44.4763877218304],\n",
       "      [-73.1989566607785, 44.4763766829251],\n",
       "      [-73.1988877669496, 44.4763636053229],\n",
       "      [-73.1988097332745, 44.4763417245287],\n",
       "      [-73.1987510047536, 44.4763247877728],\n",
       "      [-73.1984437223914, 44.4762158613987],\n",
       "      [-73.1980925574835, 44.4760831567529],\n",
       "      [-73.1950902648336, 44.4747421273892],\n",
       "      [-73.1949165197812, 44.4746644393175],\n",
       "      [-73.1937811842603, 44.4741499348471],\n",
       "      [-73.1937609669509, 44.4740017068196],\n",
       "      [-73.193720053509, 44.4736978011905],\n",
       "      [-73.1936748004435, 44.4734586055731],\n",
       "      [-73.193223129521, 44.4710711450807],\n",
       "      [-73.1929135667105, 44.4694386344493],\n",
       "      [-73.1928675616283, 44.4692016927652],\n",
       "      [-73.1928579060344, 44.4691490207105],\n",
       "      [-73.192899849268, 44.4691422974368],\n",
       "      [-73.1930971303824, 44.4691195862689],\n",
       "      [-73.1933607726427, 44.4690959094496],\n",
       "      [-73.1935773640096, 44.4690788452868],\n",
       "      [-73.1937001894092, 44.4690702248027],\n",
       "      [-73.1937735008415, 44.4690590926273],\n",
       "      [-73.1938443830762, 44.4690419284142],\n",
       "      [-73.1939015026132, 44.4690233007632],\n",
       "      [-73.1939757915201, 44.4689952885013],\n",
       "      [-73.1940403464885, 44.4689743666326],\n",
       "      [-73.1941253761969, 44.4689579604248],\n",
       "      [-73.1942030249391, 44.4689483477236],\n",
       "      [-73.1952564184987, 44.4688543365953],\n",
       "      [-73.1953924885058, 44.4688366341891],\n",
       "      [-73.195460284647, 44.4688241278924],\n",
       "      [-73.1955052738536, 44.4688093701805],\n",
       "      [-73.1955419983667, 44.4687931166719],\n",
       "      [-73.1955766964672, 44.4687715316035],\n",
       "      [-73.1956217983695, 44.4687331495333],\n",
       "      [-73.1958023156578, 44.4685889024643],\n",
       "      [-73.1958845787094, 44.4685380600035],\n",
       "      [-73.1959595712559, 44.4685032925545],\n",
       "      [-73.1960518880362, 44.4684722163571],\n",
       "      [-73.196172829636, 44.4684373091219],\n",
       "      [-73.1962472437371, 44.468419981496],\n",
       "      [-73.1963534598785, 44.4684018974628],\n",
       "      [-73.1964871116275, 44.4683790058977],\n",
       "      [-73.1966109315546, 44.4683550492083],\n",
       "      [-73.1967437412109, 44.4683275214485],\n",
       "      [-73.1972983694404, 44.4682026437163],\n",
       "      [-73.1972844632849, 44.4681561842189],\n",
       "      [-73.1972848753302, 44.468091779643],\n",
       "      [-73.197299121853, 44.4680348834636],\n",
       "      [-73.1973239406353, 44.4679753911808],\n",
       "      [-73.1978856967523, 44.4669988914183],\n",
       "      [-73.1979351177699, 44.4669277185278],\n",
       "      [-73.1979865396568, 44.4668596274084],\n",
       "      [-73.1980556036963, 44.4667890372782],\n",
       "      [-73.1981134714588, 44.4667346867067],\n",
       "      [-73.1981905701572, 44.4666792340043],\n",
       "      [-73.1982728129512, 44.4666269842127],\n",
       "      [-73.198333298058, 44.4665945537584],\n",
       "      [-73.1983798367544, 44.4665780989325],\n",
       "      [-73.1984315368374, 44.4665663921486],\n",
       "      [-73.1985095670416, 44.4665562126161],\n",
       "      [-73.1986060612672, 44.4665464825607],\n",
       "      [-73.1987112299925, 44.4665396520863],\n",
       "      [-73.1988027019362, 44.4665368425907],\n",
       "      [-73.198878518466, 44.4665386285593],\n",
       "      [-73.1989508668071, 44.466545919985],\n",
       "      [-73.1990335293017, 44.4665618660344],\n",
       "      [-73.1991481720635, 44.4665919596342],\n",
       "      [-73.1992894019694, 44.4666450918962],\n",
       "      [-73.1997782734359, 44.4668691932179],\n",
       "      [-73.1998402187476, 44.4668932814497],\n",
       "      [-73.1999088019621, 44.4669140945574],\n",
       "      [-73.1999883387634, 44.4669313243957],\n",
       "      [-73.2000866747275, 44.466944220892],\n",
       "      [-73.2009027009288, 44.4670375074336],\n",
       "      [-73.2003964834503, 44.4687131090955],\n",
       "      [-73.200382835338, 44.4687870172941],\n",
       "      [-73.200376131128, 44.468850335523],\n",
       "      [-73.2003703287808, 44.4689234918474],\n",
       "      [-73.2003709845684, 44.4689783288329],\n",
       "      [-73.2004374661499, 44.4705964199687],\n",
       "      [-73.2000063991787, 44.4705781110989],\n",
       "      [-73.1999714378092, 44.4705776225114],\n",
       "      [-73.1999321839941, 44.4705794091871],\n",
       "      [-73.1998894685702, 44.4705872647081],\n",
       "      [-73.1998342939572, 44.4706043364221],\n",
       "      [-73.1995952122339, 44.4707116853371],\n",
       "      [-73.1995276176208, 44.4707410659628],\n",
       "      [-73.1994642515945, 44.4707628277962],\n",
       "      [-73.1993992222718, 44.4707768665325],\n",
       "      [-73.1993321295862, 44.4707826203516],\n",
       "      [-73.1992677227913, 44.4707830146996],\n",
       "      [-73.1992166333709, 44.4707803747555],\n",
       "      [-73.1991666572839, 44.4707722436941],\n",
       "      [-73.199111858158, 44.4707550022683],\n",
       "      [-73.1988221086339, 44.4706319078008],\n",
       "      [-73.1987656948012, 44.4706108792103],\n",
       "      [-73.1987058096156, 44.4705952148155],\n",
       "      [-73.1986279061793, 44.470583598776],\n",
       "      [-73.1984819134723, 44.4705600239347],\n",
       "      [-73.1983921546587, 44.4705422930983],\n",
       "      [-73.1983184159939, 44.4705175733455],\n",
       "      [-73.1982745331088, 44.4704935151675],\n",
       "      [-73.1982435553939, 44.4704647370486],\n",
       "      [-73.198221501982, 44.4704267644987],\n",
       "      [-73.198207129119, 44.4703742621385],\n",
       "      [-73.1981708531277, 44.4698021731247],\n",
       "      [-73.1978802569728, 44.4698052153609],\n",
       "      [-73.1967579258227, 44.4698168481885],\n",
       "      [-73.1966036694905, 44.4699897636878],\n",
       "      [-73.1963671285885, 44.4702450192185],\n",
       "      [-73.1962726721456, 44.4703606200667],\n",
       "      [-73.1962162491237, 44.4704378807259],\n",
       "      [-73.1961765135047, 44.4704983069193],\n",
       "      [-73.196144330435, 44.4705662808204],\n",
       "      [-73.1961175468082, 44.4706259251882],\n",
       "      [-73.1960990661109, 44.4706901590736],\n",
       "      [-73.196083894712, 44.4707685748554],\n",
       "      [-73.1960710374328, 44.4708433209447],\n",
       "      [-73.1960632765612, 44.4709173322132],\n",
       "      [-73.1960640069032, 44.4709787770642],\n",
       "      [-73.1960704192639, 44.4710556555798],\n",
       "      [-73.1960860498447, 44.4711150414341],\n",
       "      [-73.1961125542268, 44.4711971404772],\n",
       "      [-73.196143252288, 44.4712685270783],\n",
       "      [-73.1961801087188, 44.4713293305505],\n",
       "      [-73.1962364987642, 44.4714143414097],\n",
       "      [-73.1962827808765, 44.4714750864884],\n",
       "      [-73.1964550084746, 44.4716900237277],\n",
       "      [-73.1965206773091, 44.4717956487465],\n",
       "      [-73.1965645982961, 44.4718890311906],\n",
       "      [-73.1965930144795, 44.4719666187154],\n",
       "      [-73.1966251198625, 44.4720571213704],\n",
       "      [-73.1966529983105, 44.4721555234349],\n",
       "      [-73.1966690981718, 44.4722542790213],\n",
       "      [-73.1966768329207, 44.4723432420084],\n",
       "      [-73.1966834135415, 44.4724341811177],\n",
       "      [-73.1966803359864, 44.4725056331888],\n",
       "      [-73.1966720196514, 44.4725658678763],\n",
       "      [-73.1966581645693, 44.472655805801],\n",
       "      [-73.1966441572325, 44.4727329492046],\n",
       "      [-73.1966238794309, 44.4728112557851],\n",
       "      [-73.1965988402071, 44.4728855137417],\n",
       "      [-73.1965513916807, 44.4729909844314],\n",
       "      [-73.1965125840264, 44.4730634985433],\n",
       "      [-73.1964710210226, 44.4731354660766],\n",
       "      [-73.1964381972715, 44.4731826326634],\n",
       "      [-73.1975306430528, 44.4736902010755],\n",
       "      [-73.1978150139295, 44.4738223310824],\n",
       "      [-73.1980176211179, 44.4739158682197],\n",
       "      [-73.1981017123795, 44.4739519146006],\n",
       "      [-73.1981791364991, 44.4739888458258],\n",
       "      [-73.1983284044046, 44.4740558513449],\n",
       "      [-73.1984448995983, 44.474108432052],\n",
       "      [-73.1986668345637, 44.4742086003365],\n",
       "      [-73.1986790120362, 44.474208666235],\n",
       "      [-73.1985712457306, 44.4743281463011],\n",
       "      [-73.1984689120685, 44.4744421096644],\n",
       "      [-73.1983657941845, 44.4745562181207],\n",
       "      [-73.1991161436687, 44.4746011246361],\n",
       "      [-73.1991543023503, 44.4753297065638],\n",
       "      [-73.1991691954024, 44.4755572739848],\n",
       "      [-73.1991757861112, 44.4756815387582],\n",
       "      [-73.1992185105388, 44.476397719214],\n",
       "      [-73.2007023529722, 44.4763547369941],\n",
       "      [-73.2109906893559, 44.4759969839105],\n",
       "      [-73.2110545677629, 44.4771493608458],\n",
       "      [-73.2111075618213, 44.4782461220179],\n",
       "      [-73.2112181409485, 44.4804937513108],\n",
       "      [-73.2093172741978, 44.4805570376979],\n",
       "      [-73.2056904027222, 44.4806567040077]]]}}]}"
      ]
     },
     "execution_count": 21,
     "metadata": {},
     "output_type": "execute_result"
    }
   ],
   "source": [
    "burlington"
   ]
  },
  {
   "cell_type": "code",
   "execution_count": 11,
   "metadata": {},
   "outputs": [],
   "source": [
    "for i, name in enumerate(files):\n",
    "    with open(name, 'w') as f:\n",
    "        f.write(json.dumps(burlington['features'][i]))"
   ]
  },
  {
   "cell_type": "code",
   "execution_count": 24,
   "metadata": {},
   "outputs": [],
   "source": [
    "layers = []\n",
    "for i, name in enumerate(files):\n",
    "    layers.append(\n",
    "        dict(\n",
    "            sourcetype = 'geojson',\n",
    "            source = json.load(open(name)),\n",
    "            type = 'fill',\n",
    "            color = colors[i],\n",
    "            below=\"road_major_label\"\n",
    "        )\n",
    "    )"
   ]
  },
  {
   "cell_type": "code",
   "execution_count": 23,
   "metadata": {},
   "outputs": [
    {
     "data": {
      "text/plain": [
       "[{'sourcetype': 'geojson',\n",
       "  'source': {'type': 'Feature',\n",
       "   'properties': {'OBJECTID': 5,\n",
       "    'WARD': 1,\n",
       "    'DISTRICT': 'East',\n",
       "    'Shape__Are': 2954396.40816498,\n",
       "    'Shape__Len': 7976.17879052443,\n",
       "    'COLOR': 'rgba(251,180,174,0.5)'},\n",
       "   'geometry': {'type': 'Polygon',\n",
       "    'coordinates': [[[-73.2044950286289, 44.4911969546581],\n",
       "      [-73.2044631499705, 44.4911923698885],\n",
       "      [-73.2041349524606, 44.4911485533009],\n",
       "      [-73.2039626460935, 44.4911302099742],\n",
       "      [-73.2038151435313, 44.4911162141606],\n",
       "      [-73.2036507790987, 44.4911048526854],\n",
       "      [-73.2034577466909, 44.4910945107979],\n",
       "      [-73.2033025037231, 44.4910902642945],\n",
       "      [-73.2031402429233, 44.4910904201147],\n",
       "      [-73.2029332353116, 44.4910942250047],\n",
       "      [-73.2027851816268, 44.4910996358481],\n",
       "      [-73.2025868810345, 44.4911087304009],\n",
       "      [-73.2022904829263, 44.4911281301531],\n",
       "      [-73.2021306841926, 44.4911371284497],\n",
       "      [-73.2017322144576, 44.4911632009298],\n",
       "      [-73.2017113180502, 44.4910916145696],\n",
       "      [-73.2016447210556, 44.4908456640037],\n",
       "      [-73.201542142659, 44.4905805298113],\n",
       "      [-73.2014402587376, 44.4904060876316],\n",
       "      [-73.2012982224961, 44.4902579066006],\n",
       "      [-73.2011424360376, 44.4901096694105],\n",
       "      [-73.2008964508122, 44.4899750626634],\n",
       "      [-73.200587056966, 44.4898602498555],\n",
       "      [-73.2000874468153, 44.4897401335391],\n",
       "      [-73.1995020386098, 44.4896400855372],\n",
       "      [-73.1987767703613, 44.489573233418],\n",
       "      [-73.1982597914053, 44.4895115704592],\n",
       "      [-73.1977062841195, 44.489417646618],\n",
       "      [-73.1971887665767, 44.4893105637027],\n",
       "      [-73.1965164310942, 44.4891352394645],\n",
       "      [-73.1958306157596, 44.4889493065468],\n",
       "      [-73.1953492555, 44.4888096536865],\n",
       "      [-73.1948675820889, 44.4886764686001],\n",
       "      [-73.1945131070791, 44.4885683814734],\n",
       "      [-73.1941947753669, 44.4884602139577],\n",
       "      [-73.1938952908257, 44.4883841328656],\n",
       "      [-73.1936862318951, 44.4883465927011],\n",
       "      [-73.1934735884131, 44.4883381808269],\n",
       "      [-73.1933197473446, 44.4883520515205],\n",
       "      [-73.1932022009591, 44.4883786384281],\n",
       "      [-73.193048782642, 44.4884282231919],\n",
       "      [-73.1929321288795, 44.4884969893072],\n",
       "      [-73.1928330373527, 44.4885559464655],\n",
       "      [-73.1927343761129, 44.4886181344282],\n",
       "      [-73.1926350928111, 44.488660921473],\n",
       "      [-73.1924951156795, 44.4886844092792],\n",
       "      [-73.1923545154169, 44.4886884960868],\n",
       "      [-73.1921869721673, 44.4886733405091],\n",
       "      [-73.1920553778721, 44.4886416562672],\n",
       "      [-73.1919370273805, 44.4886003288275],\n",
       "      [-73.1918549416722, 44.4885360021946],\n",
       "      [-73.1917810778084, 44.4884359087016],\n",
       "      [-73.1917302288242, 44.4883552216677],\n",
       "      [-73.19166625391, 44.4882940187071],\n",
       "      [-73.1916136596211, 44.4882650890049],\n",
       "      [-73.1915477116792, 44.488236381426],\n",
       "      [-73.1914524528491, 44.4882207870682],\n",
       "      [-73.1913440284544, 44.4882214434299],\n",
       "      [-73.1911903399249, 44.488248247036],\n",
       "      [-73.1910302794349, 44.4883011027876],\n",
       "      [-73.1908567751777, 44.4883799130427],\n",
       "      [-73.1906315677479, 44.4884719732936],\n",
       "      [-73.1903970092906, 44.4885706979183],\n",
       "      [-73.1901536532337, 44.4886563972271],\n",
       "      [-73.1899755591756, 44.4887125948687],\n",
       "      [-73.1897768830703, 44.4887559798349],\n",
       "      [-73.1896138908244, 44.4887601985012],\n",
       "      [-73.1894804355307, 44.488737240292],\n",
       "      [-73.1893612330383, 44.4886901502818],\n",
       "      [-73.1891995397368, 44.4885711806028],\n",
       "      [-73.1891076889979, 44.488477943503],\n",
       "      [-73.1890275447889, 44.488378026511],\n",
       "      [-73.1889557384499, 44.4882520462656],\n",
       "      [-73.1889136613695, 44.4881485247605],\n",
       "      [-73.1888990849754, 44.4880449786553],\n",
       "      [-73.1888929971966, 44.4879283033498],\n",
       "      [-73.1889009627366, 44.4878374175863],\n",
       "      [-73.1889205131937, 44.4877627725399],\n",
       "      [-73.1889529744238, 44.4876167577877],\n",
       "      [-73.1889522494708, 44.4875551726426],\n",
       "      [-73.1889373856812, 44.4874939535672],\n",
       "      [-73.1888936158034, 44.4874135033368],\n",
       "      [-73.1888230355386, 44.4873582449513],\n",
       "      [-73.1887370530335, 44.4873295152813],\n",
       "      [-73.1886154786714, 44.4873142185337],\n",
       "      [-73.1884828125218, 44.4873245802494],\n",
       "      [-73.1883790923011, 44.4873576871455],\n",
       "      [-73.1882936338801, 44.4874068559025],\n",
       "      [-73.1882399928333, 44.4874556915774],\n",
       "      [-73.1881955781169, 44.4875207831317],\n",
       "      [-73.1881423204395, 44.4876022403467],\n",
       "      [-73.1881025315315, 44.487693177403],\n",
       "      [-73.188080394887, 44.4877484323833],\n",
       "      [-73.1880471066204, 44.4877908178348],\n",
       "      [-73.1879888269784, 44.4878461501354],\n",
       "      [-73.1879170022497, 44.4878855332757],\n",
       "      [-73.1878244335346, 44.4879315101023],\n",
       "      [-73.1877276947928, 44.4879904477682],\n",
       "      [-73.1876397966155, 44.4880662069879],\n",
       "      [-73.1875085424459, 44.4881969266679],\n",
       "      [-73.1873811116525, 44.4883522312693],\n",
       "      [-73.187290190561, 44.4885052065571],\n",
       "      [-73.1872464604739, 44.4886286496179],\n",
       "      [-73.1872111800378, 44.488735730323],\n",
       "      [-73.1871497979948, 44.488894995651],\n",
       "      [-73.18709649801, 44.4889730778221],\n",
       "      [-73.1869971482072, 44.4890441240217],\n",
       "      [-73.1867718041347, 44.4890917418143],\n",
       "      [-73.1865096849874, 44.4891191910739],\n",
       "      [-73.1861019082792, 44.4891216414231],\n",
       "      [-73.1855639415433, 44.4891115130863],\n",
       "      [-73.1850229206678, 44.489108853874],\n",
       "      [-73.1844933032926, 44.4891071073954],\n",
       "      [-73.1837958715977, 44.4891005982552],\n",
       "      [-73.1830888389409, 44.489079237397],\n",
       "      [-73.1827233768727, 44.4890381127653],\n",
       "      [-73.1825232065331, 44.4889875623325],\n",
       "      [-73.1823265223909, 44.4888990238601],\n",
       "      [-73.1822130223683, 44.4888014108301],\n",
       "      [-73.1821030103601, 44.4886659512831],\n",
       "      [-73.1819875173003, 44.4884983234371],\n",
       "      [-73.1818850136679, 44.4882653719314],\n",
       "      [-73.1818440877862, 44.4879223719621],\n",
       "      [-73.1818634007805, 44.4874556911064],\n",
       "      [-73.1818643563828, 44.48706561602],\n",
       "      [-73.1818596386023, 44.4867617715006],\n",
       "      [-73.1818367760523, 44.4864179607407],\n",
       "      [-73.1817796699374, 44.4860685884268],\n",
       "      [-73.1816855205992, 44.4857091723911],\n",
       "      [-73.1815569192011, 44.4854274417256],\n",
       "      [-73.181356189967, 44.4851589366367],\n",
       "      [-73.1810839647297, 44.4848905767742],\n",
       "      [-73.1806857998851, 44.484636044901],\n",
       "      [-73.1801811105028, 44.484375676367],\n",
       "      [-73.1797419155869, 44.4842070207172],\n",
       "      [-73.1793176376251, 44.4841047860092],\n",
       "      [-73.1789755415705, 44.4840431202995],\n",
       "      [-73.1786044780617, 44.4840240932013],\n",
       "      [-73.1782194954444, 44.4840581588327],\n",
       "      [-73.1779231427385, 44.4841130717278],\n",
       "      [-73.1775943691212, 44.4842179539782],\n",
       "      [-73.177288304764, 44.4843504018312],\n",
       "      [-73.1769487896486, 44.4845117328874],\n",
       "      [-73.1763884323003, 44.4847698498033],\n",
       "      [-73.1758270644911, 44.4849749577672],\n",
       "      [-73.1757969298763, 44.4849848383872],\n",
       "      [-73.1768553291239, 44.4840053647087],\n",
       "      [-73.1781843829991, 44.4827907096024],\n",
       "      [-73.1827184882031, 44.4787841081374],\n",
       "      [-73.1833914883032, 44.4781887906888],\n",
       "      [-73.1850944015959, 44.4767215188086],\n",
       "      [-73.1863189839729, 44.4756702287367],\n",
       "      [-73.1874194706281, 44.474724994891],\n",
       "      [-73.1883717761577, 44.4739074784057],\n",
       "      [-73.1885801931877, 44.4737280613818],\n",
       "      [-73.1895690026345, 44.472877832907],\n",
       "      [-73.1898777199737, 44.4726113274577],\n",
       "      [-73.1900526871722, 44.4724605138799],\n",
       "      [-73.1901386162554, 44.4723865922956],\n",
       "      [-73.1930759526704, 44.4737017115917],\n",
       "      [-73.1931398752032, 44.4737264942884],\n",
       "      [-73.1932496658079, 44.4737771528045],\n",
       "      [-73.1933641578985, 44.4738267990309],\n",
       "      [-73.193487779282, 44.4738845450288],\n",
       "      [-73.1937609669509, 44.4740017068196],\n",
       "      [-73.1937811842603, 44.4741499348471],\n",
       "      [-73.1949165197812, 44.4746644393175],\n",
       "      [-73.1950902648336, 44.4747421273892],\n",
       "      [-73.1980925574835, 44.4760831567529],\n",
       "      [-73.1984437223914, 44.4762158613987],\n",
       "      [-73.1987510047536, 44.4763247877728],\n",
       "      [-73.1988097332745, 44.4763417245287],\n",
       "      [-73.1988877669496, 44.4763636053229],\n",
       "      [-73.1989566607785, 44.4763766829251],\n",
       "      [-73.1990369218563, 44.4763877218304],\n",
       "      [-73.1992878896517, 44.4778325684584],\n",
       "      [-73.2005997615911, 44.4777601258888],\n",
       "      [-73.2055390722885, 44.4774871570677],\n",
       "      [-73.2056904027222, 44.4806567040077],\n",
       "      [-73.205747955813, 44.482107088662],\n",
       "      [-73.2058092005398, 44.4832442970328],\n",
       "      [-73.2058890137727, 44.4849438569922],\n",
       "      [-73.2060347960772, 44.48807321694],\n",
       "      [-73.2060709785984, 44.4887277029202],\n",
       "      [-73.2054596342935, 44.4897027178079],\n",
       "      [-73.2044950286289, 44.4911969546581]]]}},\n",
       "  'type': 'fill',\n",
       "  'color': 'rgba(251,180,174,0.5)'},\n",
       " {'sourcetype': 'geojson',\n",
       "  'source': {'type': 'Feature',\n",
       "   'properties': {'OBJECTID': 3,\n",
       "    'WARD': 2,\n",
       "    'DISTRICT': 'Central',\n",
       "    'Shape__Are': 3333771.27412415,\n",
       "    'Shape__Len': 8348.21372518335,\n",
       "    'COLOR': 'rgba(179,205,227,0.5)'},\n",
       "   'geometry': {'type': 'Polygon',\n",
       "    'coordinates': [[[-73.2281133568395, 44.4995435895372],\n",
       "      [-73.2280341504162, 44.4995886695271],\n",
       "      [-73.225764052777, 44.5008835668173],\n",
       "      [-73.2138859499621, 44.5076570924708],\n",
       "      [-73.2138301377486, 44.5075277930409],\n",
       "      [-73.2136812554031, 44.5072110729023],\n",
       "      [-73.2135050222564, 44.5068749766904],\n",
       "      [-73.2133200725954, 44.5065650896327],\n",
       "      [-73.2130942539688, 44.5062553170472],\n",
       "      [-73.2128192414444, 44.505971724367],\n",
       "      [-73.2125533498836, 44.5057270244875],\n",
       "      [-73.2122513098433, 44.505482549416],\n",
       "      [-73.2118905640331, 44.5052255028057],\n",
       "      [-73.2116668093938, 44.5050843122806],\n",
       "      [-73.2113935450726, 44.5049434306088],\n",
       "      [-73.210933706036, 44.5047453530749],\n",
       "      [-73.210469468955, 44.5045731752736],\n",
       "      [-73.2100961622389, 44.5044133669306],\n",
       "      [-73.2097134279847, 44.5042212738282],\n",
       "      [-73.2093305393682, 44.5040162437269],\n",
       "      [-73.2091023166484, 44.5038944813469],\n",
       "      [-73.2087564469606, 44.5037605119797],\n",
       "      [-73.2083382771466, 44.5036269899911],\n",
       "      [-73.207874606095, 44.503500217276],\n",
       "      [-73.2074433929757, 44.5033926461833],\n",
       "      [-73.2069222525274, 44.5032576473074],\n",
       "      [-73.2065070220975, 44.5031391465405],\n",
       "      [-73.2060889398423, 44.5030120836422],\n",
       "      [-73.2058050847413, 44.5029034548521],\n",
       "      [-73.2053467759427, 44.5026990186922],\n",
       "      [-73.2048947717793, 44.5024631832823],\n",
       "      [-73.2044667145502, 44.5021923264998],\n",
       "      [-73.2040279945998, 44.5018515066054],\n",
       "      [-73.2037440058819, 44.5016004296946],\n",
       "      [-73.203487448118, 44.5013427143206],\n",
       "      [-73.2032209151608, 44.5010396405755],\n",
       "      [-73.202861677116, 44.5005426654337],\n",
       "      [-73.202704614251, 44.5002908037998],\n",
       "      [-73.202519273881, 44.4999419508592],\n",
       "      [-73.2023055776791, 44.4994893564665],\n",
       "      [-73.2021083099451, 44.4989974285345],\n",
       "      [-73.2019969247233, 44.4986874925113],\n",
       "      [-73.2018928515702, 44.4982991875854],\n",
       "      [-73.2017979031738, 44.4978524714599],\n",
       "      [-73.2017325898064, 44.49735382641],\n",
       "      [-73.2017235150224, 44.4970231530423],\n",
       "      [-73.2017260985464, 44.4964849989959],\n",
       "      [-73.2016816624399, 44.4961871657796],\n",
       "      [-73.2016016235894, 44.4959348300958],\n",
       "      [-73.2015344812651, 44.4956111216106],\n",
       "      [-73.2015314501271, 44.4953583128129],\n",
       "      [-73.2015563181795, 44.4950400858281],\n",
       "      [-73.2015883312869, 44.4948262938784],\n",
       "      [-73.2016589152686, 44.4946507924432],\n",
       "      [-73.2017424764224, 44.4944761966635],\n",
       "      [-73.2018406260619, 44.4943386329461],\n",
       "      [-73.2019658931214, 44.4942016062315],\n",
       "      [-73.2022256370036, 44.4939422602316],\n",
       "      [-73.2024602607804, 44.493717940954],\n",
       "      [-73.2025742221655, 44.4935885759187],\n",
       "      [-73.2026632653169, 44.4934454428437],\n",
       "      [-73.2027064985609, 44.4932830465789],\n",
       "      [-73.2026958285912, 44.4931469957258],\n",
       "      [-73.2026303179212, 44.4929593950995],\n",
       "      [-73.2025553023567, 44.492765384101],\n",
       "      [-73.2023773822239, 44.4923779555249],\n",
       "      [-73.2021390263306, 44.4920288650394],\n",
       "      [-73.201880263298, 44.4915831554605],\n",
       "      [-73.2017961380101, 44.4913827320007],\n",
       "      [-73.2017322144576, 44.4911632009298],\n",
       "      [-73.2021306841926, 44.4911371284497],\n",
       "      [-73.2022904829263, 44.4911281301531],\n",
       "      [-73.2025868810345, 44.4911087304009],\n",
       "      [-73.2027851816268, 44.4910996358481],\n",
       "      [-73.2029332353116, 44.4910942250047],\n",
       "      [-73.2031402429233, 44.4910904201147],\n",
       "      [-73.2033025037231, 44.4910902642945],\n",
       "      [-73.2034577466909, 44.4910945107979],\n",
       "      [-73.2036507790987, 44.4911048526854],\n",
       "      [-73.2038151435313, 44.4911162141606],\n",
       "      [-73.2039626460935, 44.4911302099742],\n",
       "      [-73.2041349524606, 44.4911485533009],\n",
       "      [-73.2044631499705, 44.4911923698885],\n",
       "      [-73.2044950286289, 44.4911969546581],\n",
       "      [-73.2054596342935, 44.4897027178079],\n",
       "      [-73.2060709785984, 44.4887277029202],\n",
       "      [-73.2060347960772, 44.48807321694],\n",
       "      [-73.2058890137727, 44.4849438569922],\n",
       "      [-73.2058092005398, 44.4832442970328],\n",
       "      [-73.205747955813, 44.482107088662],\n",
       "      [-73.2056904027222, 44.4806567040077],\n",
       "      [-73.2093172741978, 44.4805570376979],\n",
       "      [-73.2112181409485, 44.4804937513108],\n",
       "      [-73.2112256015957, 44.4804935644603],\n",
       "      [-73.2135624172147, 44.480424147771],\n",
       "      [-73.2136834627807, 44.4822332666908],\n",
       "      [-73.2137297360858, 44.4826455458222],\n",
       "      [-73.2138724097646, 44.4847454638392],\n",
       "      [-73.2139582119828, 44.4858858894763],\n",
       "      [-73.2140785225923, 44.4876005166688],\n",
       "      [-73.214874100426, 44.4882779506408],\n",
       "      [-73.2183194212876, 44.4912102604646],\n",
       "      [-73.2281133568395, 44.4995435895372]]]}},\n",
       "  'type': 'fill',\n",
       "  'color': 'rgba(179,205,227,0.2)'},\n",
       " {'sourcetype': 'geojson',\n",
       "  'source': {'type': 'Feature',\n",
       "   'properties': {'OBJECTID': 4,\n",
       "    'WARD': 3,\n",
       "    'DISTRICT': 'Central',\n",
       "    'Shape__Are': 1679803.15373993,\n",
       "    'Shape__Len': 5726.76878332311,\n",
       "    'COLOR': 'rgba(204,235,197,0.5)'},\n",
       "   'geometry': {'type': 'Polygon',\n",
       "    'coordinates': [[[-73.2261234491214, 44.4892195624994],\n",
       "      [-73.22606354948, 44.4892998133683],\n",
       "      [-73.2257531625519, 44.4896155013204],\n",
       "      [-73.2255046993235, 44.4898242074752],\n",
       "      [-73.2253774283734, 44.4899210570168],\n",
       "      [-73.2252173531356, 44.4900340041349],\n",
       "      [-73.2250560227022, 44.4901407718786],\n",
       "      [-73.2248266748922, 44.490275391475],\n",
       "      [-73.2245745718303, 44.4904126856159],\n",
       "      [-73.2243382689596, 44.4905251305282],\n",
       "      [-73.2241006676775, 44.4906280212752],\n",
       "      [-73.2238715223007, 44.4907158126673],\n",
       "      [-73.2236939290097, 44.4907786688815],\n",
       "      [-73.2234829731553, 44.4908442668049],\n",
       "      [-73.2232523439392, 44.49090745828],\n",
       "      [-73.2230016239896, 44.4909664171434],\n",
       "      [-73.2228558508372, 44.4909972908888],\n",
       "      [-73.2227044906972, 44.4910211694383],\n",
       "      [-73.2224660894584, 44.4910596591414],\n",
       "      [-73.2222158153913, 44.4910911939621],\n",
       "      [-73.2220352842885, 44.4911072402814],\n",
       "      [-73.2217683484059, 44.4911258014675],\n",
       "      [-73.2214950589896, 44.4911389179072],\n",
       "      [-73.2212193481735, 44.4911468464069],\n",
       "      [-73.2204958746971, 44.4911654743127],\n",
       "      [-73.2198949088663, 44.4911781229369],\n",
       "      [-73.2193226191308, 44.4911904474043],\n",
       "      [-73.2185755192468, 44.4912048526159],\n",
       "      [-73.2183194212876, 44.4912102604646],\n",
       "      [-73.214874100426, 44.4882779506408],\n",
       "      [-73.2140785225923, 44.4876005166688],\n",
       "      [-73.2139582119828, 44.4858858894763],\n",
       "      [-73.2138724097646, 44.4847454638392],\n",
       "      [-73.2137297360858, 44.4826455458222],\n",
       "      [-73.2136834627807, 44.4822332666908],\n",
       "      [-73.2135624172147, 44.480424147771],\n",
       "      [-73.2112256015957, 44.4804935644603],\n",
       "      [-73.2112181409485, 44.4804937513108],\n",
       "      [-73.2111075618213, 44.4782461220179],\n",
       "      [-73.2110545677629, 44.4771493608458],\n",
       "      [-73.2109906893559, 44.4759969839105],\n",
       "      [-73.2109841076837, 44.4758755321086],\n",
       "      [-73.2108051749407, 44.474822442138],\n",
       "      [-73.2122817663048, 44.4747686677251],\n",
       "      [-73.2125444312804, 44.4747923403231],\n",
       "      [-73.2139190040674, 44.4747471960899],\n",
       "      [-73.2154874556752, 44.4746897119755],\n",
       "      [-73.2170069160105, 44.474641092181],\n",
       "      [-73.2185914489818, 44.474582199154],\n",
       "      [-73.2194124216757, 44.4745555167572],\n",
       "      [-73.2218321404921, 44.4744765495371],\n",
       "      [-73.2225510286867, 44.4744531616562],\n",
       "      [-73.2225534972005, 44.4745577648374],\n",
       "      [-73.2226313695041, 44.4752025617631],\n",
       "      [-73.2226677050568, 44.4756960371104],\n",
       "      [-73.2226733973355, 44.4761572236369],\n",
       "      [-73.2229023003448, 44.4764042448268],\n",
       "      [-73.223132583086, 44.4766355068507],\n",
       "      [-73.2231410417557, 44.4767161676791],\n",
       "      [-73.2231646409459, 44.4769412856116],\n",
       "      [-73.2231052498484, 44.4773483248518],\n",
       "      [-73.2228656839796, 44.4778924809882],\n",
       "      [-73.2228312696276, 44.4781910876244],\n",
       "      [-73.2229485244929, 44.4784617350076],\n",
       "      [-73.2233301742234, 44.4787034289306],\n",
       "      [-73.224268055065, 44.4788508981671],\n",
       "      [-73.2245948969179, 44.4790116585753],\n",
       "      [-73.2247699517453, 44.4792861562793],\n",
       "      [-73.2250321500043, 44.4799678884874],\n",
       "      [-73.2253854139929, 44.4809288689728],\n",
       "      [-73.2255804550751, 44.4813888521779],\n",
       "      [-73.2256448394224, 44.4817343596967],\n",
       "      [-73.2256014928961, 44.4820403348734],\n",
       "      [-73.2256337857895, 44.4824905244971],\n",
       "      [-73.2257581207539, 44.4827917786442],\n",
       "      [-73.2257650034854, 44.4828083281],\n",
       "      [-73.2259295567779, 44.482899807499],\n",
       "      [-73.225157473842, 44.4832036632744],\n",
       "      [-73.2238662177888, 44.4837117452474],\n",
       "      [-73.2238705897499, 44.4837157960899],\n",
       "      [-73.2240076786612, 44.4838419031108],\n",
       "      [-73.2241470602019, 44.4839626533536],\n",
       "      [-73.2243308500312, 44.4841165871553],\n",
       "      [-73.2244962890347, 44.4842477172634],\n",
       "      [-73.2247045761372, 44.4844128856609],\n",
       "      [-73.2248846373948, 44.4845509536871],\n",
       "      [-73.2250912608669, 44.4847083978011],\n",
       "      [-73.2254608154832, 44.4849844715203],\n",
       "      [-73.2256297942112, 44.4851155774814],\n",
       "      [-73.2257218467876, 44.4851890976691],\n",
       "      [-73.2258119557936, 44.4852643175298],\n",
       "      [-73.2260213004771, 44.4854507091747],\n",
       "      [-73.2261446482527, 44.4855767614477],\n",
       "      [-73.2262299140289, 44.4856731037744],\n",
       "      [-73.2263376283302, 44.4858055827528],\n",
       "      [-73.2264315046609, 44.4859309779816],\n",
       "      [-73.2265079901624, 44.4860477650905],\n",
       "      [-73.2265814176489, 44.4861714624775],\n",
       "      [-73.2266297174898, 44.486264664863],\n",
       "      [-73.226682184923, 44.486377105828],\n",
       "      [-73.2267303547807, 44.4864914019],\n",
       "      [-73.226782015381, 44.4866337981097],\n",
       "      [-73.2268218821552, 44.4867754269985],\n",
       "      [-73.2268556598888, 44.486932983145],\n",
       "      [-73.2268766711406, 44.4870747311045],\n",
       "      [-73.2268854930431, 44.4872473518409],\n",
       "      [-73.2268865689033, 44.4873972424722],\n",
       "      [-73.2268817597127, 44.4874844552145],\n",
       "      [-73.2268722579351, 44.4875735256078],\n",
       "      [-73.2268510510337, 44.4877322758053],\n",
       "      [-73.2268268955489, 44.4878435168872],\n",
       "      [-73.2267890024267, 44.4879873270808],\n",
       "      [-73.2267558015936, 44.488097781555],\n",
       "      [-73.2266969571979, 44.4882629583183],\n",
       "      [-73.2266200982463, 44.4884643878276],\n",
       "      [-73.2265312335867, 44.4886481764446],\n",
       "      [-73.2264109862949, 44.4888358201659],\n",
       "      [-73.2262830549679, 44.4890057954136],\n",
       "      [-73.2261234491214, 44.4892195624994]]]}},\n",
       "  'type': 'fill',\n",
       "  'color': 'rgba(204,235,197,0.5)'},\n",
       " {'sourcetype': 'geojson',\n",
       "  'source': {'type': 'Feature',\n",
       "   'properties': {'OBJECTID': 2,\n",
       "    'WARD': 4,\n",
       "    'DISTRICT': 'North',\n",
       "    'Shape__Are': 5941918.4756012,\n",
       "    'Shape__Len': 17320.6427558326,\n",
       "    'COLOR': 'rgba(222,203,228,0.5)'},\n",
       "   'geometry': {'type': 'Polygon',\n",
       "    'coordinates': [[[-73.2707399912007, 44.5252956469716],\n",
       "      [-73.2702152544711, 44.5253910094937],\n",
       "      [-73.2687385357995, 44.5256477381728],\n",
       "      [-73.2686152664302, 44.5255710894249],\n",
       "      [-73.2686729882973, 44.5255361091099],\n",
       "      [-73.2687447206469, 44.5254903485908],\n",
       "      [-73.2687820906859, 44.5254622547466],\n",
       "      [-73.2688225203015, 44.5254276724354],\n",
       "      [-73.2688609628789, 44.5253914161018],\n",
       "      [-73.268899200696, 44.5253396938896],\n",
       "      [-73.268933438566, 44.5252826547595],\n",
       "      [-73.2689590938597, 44.5252307355592],\n",
       "      [-73.2689735038408, 44.525190562472],\n",
       "      [-73.2689820218991, 44.5251507116348],\n",
       "      [-73.2689910714163, 44.5250915922326],\n",
       "      [-73.2689924772385, 44.5250191656074],\n",
       "      [-73.2689870647124, 44.5249663306574],\n",
       "      [-73.2689762674399, 44.5249225313489],\n",
       "      [-73.2688236257832, 44.524973758471],\n",
       "      [-73.2687085059319, 44.524799185727],\n",
       "      [-73.2685945875826, 44.5246262930607],\n",
       "      [-73.2684333244631, 44.5246795458492],\n",
       "      [-73.2683174208516, 44.5244751684057],\n",
       "      [-73.268201518047, 44.5242707899317],\n",
       "      [-73.2680880317966, 44.5240707543841],\n",
       "      [-73.2679793814578, 44.5238796855863],\n",
       "      [-73.2678731401519, 44.5236923973236],\n",
       "      [-73.2677713261103, 44.5235129527586],\n",
       "      [-73.2676695158135, 44.5233336493623],\n",
       "      [-73.2675692993254, 44.5231560225434],\n",
       "      [-73.2675489483034, 44.5231629088574],\n",
       "      [-73.26745537836, 44.5229824249552],\n",
       "      [-73.2674753424319, 44.5229759633293],\n",
       "      [-73.2673665055182, 44.5228003633159],\n",
       "      [-73.2673179187644, 44.5227225075608],\n",
       "      [-73.2672683398916, 44.5226290499073],\n",
       "      [-73.2671707376985, 44.5224407183774],\n",
       "      [-73.267082559176, 44.5222814310928],\n",
       "      [-73.267215689819, 44.5222415856835],\n",
       "      [-73.2668121625028, 44.5218961317955],\n",
       "      [-73.266699484584, 44.5217869274121],\n",
       "      [-73.2663775252501, 44.5214860617033],\n",
       "      [-73.2650800910097, 44.5222196335766],\n",
       "      [-73.2647081320755, 44.5216720369273],\n",
       "      [-73.2646345840969, 44.5215788789898],\n",
       "      [-73.2645947448085, 44.5215383676653],\n",
       "      [-73.2645081108472, 44.5214665304151],\n",
       "      [-73.2599935590733, 44.5181199201832],\n",
       "      [-73.240455159557, 44.5036845491799],\n",
       "      [-73.2369813706866, 44.5011348703684],\n",
       "      [-73.2359487994008, 44.500363500506],\n",
       "      [-73.2335821568972, 44.4986169469586],\n",
       "      [-73.2334159166757, 44.4984894919674],\n",
       "      [-73.2333198567138, 44.49841220703],\n",
       "      [-73.2332379892278, 44.4983386286544],\n",
       "      [-73.2331822246419, 44.4982785212879],\n",
       "      [-73.2331017370869, 44.4981896061264],\n",
       "      [-73.2329551634061, 44.4980007156031],\n",
       "      [-73.2323312734635, 44.4971291010902],\n",
       "      [-73.2319835993554, 44.4966634998462],\n",
       "      [-73.2318383290328, 44.4964840200897],\n",
       "      [-73.2316166290559, 44.496225441485],\n",
       "      [-73.2314457800031, 44.4960112522638],\n",
       "      [-73.2306311826111, 44.4949673294569],\n",
       "      [-73.2261234491214, 44.4892195624994],\n",
       "      [-73.2262830549679, 44.4890057954136],\n",
       "      [-73.2264109862949, 44.4888358201659],\n",
       "      [-73.2265312335867, 44.4886481764446],\n",
       "      [-73.2266200982463, 44.4884643878276],\n",
       "      [-73.2266969571979, 44.4882629583183],\n",
       "      [-73.2267558015936, 44.488097781555],\n",
       "      [-73.2267890024267, 44.4879873270808],\n",
       "      [-73.2268268955489, 44.4878435168872],\n",
       "      [-73.2268510510337, 44.4877322758053],\n",
       "      [-73.2268722579351, 44.4875735256078],\n",
       "      [-73.2268817597127, 44.4874844552145],\n",
       "      [-73.2268865689033, 44.4873972424722],\n",
       "      [-73.2268854930431, 44.4872473518409],\n",
       "      [-73.2268766711406, 44.4870747311045],\n",
       "      [-73.2268556598888, 44.486932983145],\n",
       "      [-73.2268218821552, 44.4867754269985],\n",
       "      [-73.226782015381, 44.4866337981097],\n",
       "      [-73.2267303547807, 44.4864914019],\n",
       "      [-73.226682184923, 44.486377105828],\n",
       "      [-73.2266297174898, 44.486264664863],\n",
       "      [-73.2265814176489, 44.4861714624775],\n",
       "      [-73.2265079901624, 44.4860477650905],\n",
       "      [-73.2264315046609, 44.4859309779816],\n",
       "      [-73.2263376283302, 44.4858055827528],\n",
       "      [-73.2262299140289, 44.4856731037744],\n",
       "      [-73.2261446482527, 44.4855767614477],\n",
       "      [-73.2260213004771, 44.4854507091747],\n",
       "      [-73.2258119557936, 44.4852643175298],\n",
       "      [-73.2257218467876, 44.4851890976691],\n",
       "      [-73.2256297942112, 44.4851155774814],\n",
       "      [-73.2254608154832, 44.4849844715203],\n",
       "      [-73.2250912608669, 44.4847083978011],\n",
       "      [-73.2248846373948, 44.4845509536871],\n",
       "      [-73.2247045761372, 44.4844128856609],\n",
       "      [-73.2244962890347, 44.4842477172634],\n",
       "      [-73.2243308500312, 44.4841165871553],\n",
       "      [-73.2241470602019, 44.4839626533536],\n",
       "      [-73.2240076786612, 44.4838419031108],\n",
       "      [-73.2238705897499, 44.4837157960899],\n",
       "      [-73.2238662177888, 44.4837117452474],\n",
       "      [-73.225157473842, 44.4832036632744],\n",
       "      [-73.2259295567779, 44.482899807499],\n",
       "      [-73.2270600824285, 44.4835282026417],\n",
       "      [-73.2279610164973, 44.4841723934418],\n",
       "      [-73.2286247721734, 44.4846653805345],\n",
       "      [-73.2287311049935, 44.4849390440644],\n",
       "      [-73.2286064355855, 44.4852437121746],\n",
       "      [-73.2285363079526, 44.4854801133908],\n",
       "      [-73.2285688731672, 44.4856345836888],\n",
       "      [-73.2288184341503, 44.4858318234596],\n",
       "      [-73.2290967109304, 44.4858743408392],\n",
       "      [-73.2295989687694, 44.4856689275409],\n",
       "      [-73.2299938386611, 44.4856416558925],\n",
       "      [-73.2303547661853, 44.4857592939741],\n",
       "      [-73.2305851154689, 44.4859905410532],\n",
       "      [-73.2306232135988, 44.4862730770993],\n",
       "      [-73.2303099680452, 44.4866398389437],\n",
       "      [-73.2302504998296, 44.4868169737314],\n",
       "      [-73.2303979900295, 44.4869563661823],\n",
       "      [-73.2307295157742, 44.4871726225214],\n",
       "      [-73.2310208543173, 44.4873795732067],\n",
       "      [-73.2312925035139, 44.4875825715639],\n",
       "      [-73.2317454555915, 44.487895073095],\n",
       "      [-73.2319965146046, 44.4882419120113],\n",
       "      [-73.2320759916333, 44.4883141010186],\n",
       "      [-73.2324805230322, 44.4886807653235],\n",
       "      [-73.2335058072145, 44.4892044495037],\n",
       "      [-73.2342817898114, 44.489552973047],\n",
       "      [-73.2350268445897, 44.4898469899308],\n",
       "      [-73.2354185387901, 44.4900338787969],\n",
       "      [-73.2358001607565, 44.4902007228509],\n",
       "      [-73.2361734618278, 44.4903618533167],\n",
       "      [-73.236582106445, 44.4904902729392],\n",
       "      [-73.2370434564201, 44.490654348746],\n",
       "      [-73.2374720619823, 44.4907764492445],\n",
       "      [-73.237996266941, 44.4909084768826],\n",
       "      [-73.2384291096608, 44.4910235160409],\n",
       "      [-73.2389240947848, 44.4911436348822],\n",
       "      [-73.2393521094767, 44.4912494206505],\n",
       "      [-73.2399827236835, 44.4914067640412],\n",
       "      [-73.2409043764534, 44.4915873868362],\n",
       "      [-73.2416546559786, 44.4917308666489],\n",
       "      [-73.2420322205012, 44.4917923948371],\n",
       "      [-73.2424120907103, 44.4918496878515],\n",
       "      [-73.243196039551, 44.4919523016972],\n",
       "      [-73.2439109165967, 44.4920917790041],\n",
       "      [-73.2440894108592, 44.4920702271186],\n",
       "      [-73.244437373757, 44.4920281649795],\n",
       "      [-73.2446198811909, 44.4918280030484],\n",
       "      [-73.2446263631308, 44.4915963665292],\n",
       "      [-73.2446109854008, 44.4911906478695],\n",
       "      [-73.2446771999263, 44.4908675016427],\n",
       "      [-73.2450225515021, 44.4903739366085],\n",
       "      [-73.2450914851804, 44.4900794580783],\n",
       "      [-73.2455497590367, 44.4897229586012],\n",
       "      [-73.2461973225123, 44.4895148355277],\n",
       "      [-73.2464544627426, 44.4892531559245],\n",
       "      [-73.2465938408413, 44.4887530565977],\n",
       "      [-73.2468995113471, 44.4882925084771],\n",
       "      [-73.2472558223356, 44.4879522765411],\n",
       "      [-73.2478111788457, 44.4876630505484],\n",
       "      [-73.2482692586825, 44.4875399635027],\n",
       "      [-73.2486960583373, 44.4875208549781],\n",
       "      [-73.2491350763646, 44.4876889656665],\n",
       "      [-73.2493987921489, 44.4878810053396],\n",
       "      [-73.2497211650593, 44.4881130155743],\n",
       "      [-73.2499906460786, 44.4889692865369],\n",
       "      [-73.2500871196256, 44.4893235685006],\n",
       "      [-73.2500760769455, 44.4897494271233],\n",
       "      [-73.2499633714586, 44.4900599451292],\n",
       "      [-73.2497325751156, 44.4904757163765],\n",
       "      [-73.2494579033658, 44.4911777880423],\n",
       "      [-73.2494754150811, 44.4918702078527],\n",
       "      [-73.2494448967794, 44.4923710018552],\n",
       "      [-73.2493869958804, 44.492789152761],\n",
       "      [-73.2491734423398, 44.4930798010756],\n",
       "      [-73.2488700181327, 44.4935015301076],\n",
       "      [-73.2483761157944, 44.4939299908427],\n",
       "      [-73.2481728103699, 44.4945003966978],\n",
       "      [-73.2478481574212, 44.4949838523026],\n",
       "      [-73.2478751302953, 44.4953419656218],\n",
       "      [-73.248323719316, 44.4959467697701],\n",
       "      [-73.2485050718382, 44.4963321348743],\n",
       "      [-73.2485121565363, 44.4966709737253],\n",
       "      [-73.2482409930655, 44.4971897957353],\n",
       "      [-73.2480144298419, 44.4974172501074],\n",
       "      [-73.2475990687508, 44.4979067821676],\n",
       "      [-73.2474494568267, 44.4982833471595],\n",
       "      [-73.2475804165848, 44.4985381304805],\n",
       "      [-73.2476078205742, 44.498591665987],\n",
       "      [-73.248008694285, 44.4988434154419],\n",
       "      [-73.2483578709828, 44.4991082985167],\n",
       "      [-73.2488940392239, 44.4993996565699],\n",
       "      [-73.2493501927319, 44.4996407740414],\n",
       "      [-73.2498433657766, 44.4998573193875],\n",
       "      [-73.2501260875687, 44.5000561221381],\n",
       "      [-73.2504067499519, 44.500186176703],\n",
       "      [-73.2508127483893, 44.5003149837187],\n",
       "      [-73.2511969323783, 44.5004584173445],\n",
       "      [-73.2516555730713, 44.500647059653],\n",
       "      [-73.2517794993193, 44.5006889912539],\n",
       "      [-73.2520040694141, 44.5007651328573],\n",
       "      [-73.2523739301432, 44.5008944539283],\n",
       "      [-73.2527350354702, 44.5010149724704],\n",
       "      [-73.2531182750674, 44.5011454691652],\n",
       "      [-73.2535470763825, 44.5013046304131],\n",
       "      [-73.2539317838804, 44.501426676826],\n",
       "      [-73.2542921629376, 44.5015514141553],\n",
       "      [-73.2547418690614, 44.5016551709817],\n",
       "      [-73.2553780920928, 44.5018393902379],\n",
       "      [-73.2558065369251, 44.5019396270187],\n",
       "      [-73.2561743472745, 44.5020307026746],\n",
       "      [-73.256559379034, 44.502146691359],\n",
       "      [-73.2569474344206, 44.5022228650589],\n",
       "      [-73.2571661980656, 44.5022745682423],\n",
       "      [-73.2577479977682, 44.502412310172],\n",
       "      [-73.2581712672897, 44.5025068073758],\n",
       "      [-73.2586277338389, 44.5025853335188],\n",
       "      [-73.2592472933135, 44.5027858120275],\n",
       "      [-73.2598891979274, 44.5029515483236],\n",
       "      [-73.2605416403341, 44.5030812122518],\n",
       "      [-73.2611266027358, 44.5032494293186],\n",
       "      [-73.2617157342484, 44.503314965493],\n",
       "      [-73.2622748299235, 44.5033372499],\n",
       "      [-73.2631311876641, 44.503433195728],\n",
       "      [-73.2638889805476, 44.5035344354221],\n",
       "      [-73.2642754303479, 44.503576566331],\n",
       "      [-73.2646825894327, 44.503609556957],\n",
       "      [-73.2651319105345, 44.5036512640003],\n",
       "      [-73.2658804276949, 44.5037338509216],\n",
       "      [-73.266272992197, 44.5037625744258],\n",
       "      [-73.2666722180061, 44.503789847055],\n",
       "      [-73.2670704677726, 44.5038024998876],\n",
       "      [-73.2674625345448, 44.5038232077622],\n",
       "      [-73.2679033801056, 44.5038177139015],\n",
       "      [-73.2683140824664, 44.5038209984689],\n",
       "      [-73.2690684869362, 44.5037830163641],\n",
       "      [-73.2697863618974, 44.5036866388785],\n",
       "      [-73.2706717932807, 44.5035421610857],\n",
       "      [-73.2710402956398, 44.5033849963678],\n",
       "      [-73.2712255733181, 44.5031012482041],\n",
       "      [-73.2712645687656, 44.5026015170375],\n",
       "      [-73.2713321571141, 44.5022437556738],\n",
       "      [-73.2712329272562, 44.5017812363541],\n",
       "      [-73.2711211934244, 44.5012345730367],\n",
       "      [-73.2709790095215, 44.5008520729168],\n",
       "      [-73.2709837734369, 44.5005575913101],\n",
       "      [-73.2711387003584, 44.5001778657825],\n",
       "      [-73.2713913731249, 44.49958233871],\n",
       "      [-73.2716884299296, 44.4988367543781],\n",
       "      [-73.2720251817397, 44.4983604616158],\n",
       "      [-73.27222176259, 44.498100961542],\n",
       "      [-73.2724081918824, 44.4978167813469],\n",
       "      [-73.2725991443637, 44.4975777077702],\n",
       "      [-73.2727988526992, 44.4973174826573],\n",
       "      [-73.2730767273407, 44.4971148023288],\n",
       "      [-73.2732988389622, 44.496914748751],\n",
       "      [-73.2736115614599, 44.4967624529464],\n",
       "      [-73.2736366284645, 44.4967563768247],\n",
       "      [-73.273873183936, 44.4966979653004],\n",
       "      [-73.2741883881365, 44.4967335141966],\n",
       "      [-73.2744523306883, 44.4968443588865],\n",
       "      [-73.2745774000803, 44.4970313738213],\n",
       "      [-73.2746519781283, 44.4973815640584],\n",
       "      [-73.2746039874367, 44.4977930509438],\n",
       "      [-73.2744907786096, 44.4982349310556],\n",
       "      [-73.2743667315767, 44.4987190702207],\n",
       "      [-73.2744071219187, 44.4990987404448],\n",
       "      [-73.274282824065, 44.4995938487477],\n",
       "      [-73.2736834719447, 44.5000609587775],\n",
       "      [-73.2736168325331, 44.5005189751191],\n",
       "      [-73.2734176479433, 44.5009085646865],\n",
       "      [-73.2733195778762, 44.501218583935],\n",
       "      [-73.2736866453707, 44.5015487948746],\n",
       "      [-73.2741996463875, 44.5020381781704],\n",
       "      [-73.2746422668219, 44.5021677770787],\n",
       "      [-73.2753044733541, 44.502498653391],\n",
       "      [-73.2756063659559, 44.5027724916569],\n",
       "      [-73.2758638834034, 44.5030781294439],\n",
       "      [-73.2760724116032, 44.5034527192059],\n",
       "      [-73.2760120059609, 44.5037869523063],\n",
       "      [-73.2759283669582, 44.5041473560213],\n",
       "      [-73.2763264168344, 44.5042630500664],\n",
       "      [-73.2766875508984, 44.5043805398746],\n",
       "      [-73.2769181563517, 44.5046116909424],\n",
       "      [-73.2769564913748, 44.5048942089494],\n",
       "      [-73.2774251374286, 44.5051466590733],\n",
       "      [-73.2776259678362, 44.5055025965722],\n",
       "      [-73.2777243890261, 44.5058112813231],\n",
       "      [-73.2777635738966, 44.5063346679537],\n",
       "      [-73.2775086733887, 44.5067894682536],\n",
       "      [-73.2771858603757, 44.5069544981193],\n",
       "      [-73.2767846119038, 44.507043284768],\n",
       "      [-73.2762350406223, 44.5076232654294],\n",
       "      [-73.2755144650747, 44.5082598068648],\n",
       "      [-73.2753141613885, 44.5087734304076],\n",
       "      [-73.2749519997188, 44.5096776571973],\n",
       "      [-73.2749130188645, 44.5101764043714],\n",
       "      [-73.2746163246906, 44.5104460090797],\n",
       "      [-73.2742115529109, 44.5108942243995],\n",
       "      [-73.274108758205, 44.5113529064327],\n",
       "      [-73.2742153534489, 44.5116265254031],\n",
       "      [-73.2741187284873, 44.511898287495],\n",
       "      [-73.273820523854, 44.5122625344485],\n",
       "      [-73.2734741054839, 44.5125477998767],\n",
       "      [-73.2731160984409, 44.5126701688636],\n",
       "      [-73.2722740325928, 44.512685849886],\n",
       "      [-73.2716090928247, 44.512870191926],\n",
       "      [-73.2714317224295, 44.5131894623767],\n",
       "      [-73.2712055102711, 44.5139777350894],\n",
       "      [-73.2713268225253, 44.514265177532],\n",
       "      [-73.2712967312154, 44.5145464716911],\n",
       "      [-73.2710728879474, 44.5149784074632],\n",
       "      [-73.2707949222577, 44.515181082929],\n",
       "      [-73.2704126979549, 44.5152570637266],\n",
       "      [-73.2699442952368, 44.5153552786092],\n",
       "      [-73.2697799007995, 44.5156463357561],\n",
       "      [-73.2695321578843, 44.5160853203538],\n",
       "      [-73.2696677850239, 44.5162960327149],\n",
       "      [-73.2697568633521, 44.5164342202114],\n",
       "      [-73.269807380857, 44.5167184857175],\n",
       "      [-73.2698541469124, 44.5170164159631],\n",
       "      [-73.2698855692417, 44.5173131842921],\n",
       "      [-73.269902439232, 44.5176092074541],\n",
       "      [-73.269906616247, 44.5178965975492],\n",
       "      [-73.2699003457582, 44.5182561936222],\n",
       "      [-73.2699060423212, 44.518778260589],\n",
       "      [-73.2698646538146, 44.5194262152674],\n",
       "      [-73.2699623634048, 44.5198909935599],\n",
       "      [-73.2701352941723, 44.5204261356455],\n",
       "      [-73.2702729600849, 44.5210292914886],\n",
       "      [-73.2703836067063, 44.5215506503053],\n",
       "      [-73.2706563717986, 44.5223525681642],\n",
       "      [-73.2708059147574, 44.5228122152497],\n",
       "      [-73.2709736699607, 44.5230729084624],\n",
       "      [-73.2711164222383, 44.523345301151],\n",
       "      [-73.2714186264459, 44.5238743655194],\n",
       "      [-73.2718053927238, 44.524168028504],\n",
       "      [-73.2722793345886, 44.5245731718781],\n",
       "      [-73.2725765576189, 44.5249619321238],\n",
       "      [-73.2718929937719, 44.5250860776611],\n",
       "      [-73.2707399912007, 44.5252956469716]]]}},\n",
       "  'type': 'fill',\n",
       "  'color': 'rgba(222,203,228,0.5)'},\n",
       " {'sourcetype': 'geojson',\n",
       "  'source': {'type': 'Feature',\n",
       "   'properties': {'OBJECTID': 8,\n",
       "    'WARD': 5,\n",
       "    'DISTRICT': 'South',\n",
       "    'Shape__Are': 3945828.28310394,\n",
       "    'Shape__Len': 9586.5616136336,\n",
       "    'COLOR': 'rgba(254,217,166,0.5)'},\n",
       "   'geometry': {'type': 'Polygon',\n",
       "    'coordinates': [[[-73.2139190040674, 44.4747471960899],\n",
       "      [-73.2137389604974, 44.4722214398187],\n",
       "      [-73.2137206042604, 44.4720366433079],\n",
       "      [-73.2136979127126, 44.4719150105673],\n",
       "      [-73.2136581988396, 44.4717501751301],\n",
       "      [-73.2136217428434, 44.4716592832737],\n",
       "      [-73.2135516073152, 44.4715119330524],\n",
       "      [-73.2134656142252, 44.4713846498724],\n",
       "      [-73.2133276616201, 44.4712156465223],\n",
       "      [-73.2124790636138, 44.4702916074269],\n",
       "      [-73.2099667437596, 44.4675785822594],\n",
       "      [-73.2095879392946, 44.4671721638471],\n",
       "      [-73.2092085658486, 44.4667507005524],\n",
       "      [-73.20886105798, 44.4663658802669],\n",
       "      [-73.2086564283823, 44.4661369605159],\n",
       "      [-73.2084939834935, 44.4659539010508],\n",
       "      [-73.2083044898223, 44.465742322353],\n",
       "      [-73.2081575785216, 44.4655770246322],\n",
       "      [-73.2080504318655, 44.4654525394414],\n",
       "      [-73.2079811235326, 44.4653718333659],\n",
       "      [-73.2078595414072, 44.4652225485065],\n",
       "      [-73.2078174659334, 44.4651530632878],\n",
       "      [-73.207786073554, 44.4650901210689],\n",
       "      [-73.2077495323883, 44.464991072427],\n",
       "      [-73.2077248279232, 44.4648965896589],\n",
       "      [-73.2077142074904, 44.4647976611648],\n",
       "      [-73.2077158497251, 44.4646410041996],\n",
       "      [-73.2077861034278, 44.4636950606534],\n",
       "      [-73.2077803213935, 44.4635415427884],\n",
       "      [-73.2077532674968, 44.4633175665818],\n",
       "      [-73.2077504217925, 44.4632446046958],\n",
       "      [-73.207759186777, 44.4631899910053],\n",
       "      [-73.2077821295682, 44.4631061815208],\n",
       "      [-73.2078472721292, 44.4628424024832],\n",
       "      [-73.2078640343337, 44.4627672086912],\n",
       "      [-73.2078846118399, 44.4626502282366],\n",
       "      [-73.207923329633, 44.4622796036218],\n",
       "      [-73.2084784453252, 44.4562270970792],\n",
       "      [-73.2085552081798, 44.455236676294],\n",
       "      [-73.2083803758922, 44.4552280584204],\n",
       "      [-73.2087687402409, 44.4511083776562],\n",
       "      [-73.2092543861436, 44.4459155997923],\n",
       "      [-73.2096315335229, 44.4459374433271],\n",
       "      [-73.2134364139489, 44.4461575705871],\n",
       "      [-73.217464216296, 44.4463698424876],\n",
       "      [-73.217958028954, 44.4463965502944],\n",
       "      [-73.2193632275238, 44.4464703914787],\n",
       "      [-73.2195915263061, 44.4464869523605],\n",
       "      [-73.2196039459573, 44.446347381701],\n",
       "      [-73.2206677593733, 44.4464028275308],\n",
       "      [-73.2207864332711, 44.4464119214257],\n",
       "      [-73.2209609180741, 44.4464261472139],\n",
       "      [-73.2233910207924, 44.4465511182333],\n",
       "      [-73.2269960517983, 44.4467307173312],\n",
       "      [-73.2273555020476, 44.4467490997632],\n",
       "      [-73.2282833789265, 44.4467953553],\n",
       "      [-73.2287728457275, 44.4468192317035],\n",
       "      [-73.2294249557968, 44.4468519110704],\n",
       "      [-73.2299199315936, 44.4468767319201],\n",
       "      [-73.2305076189191, 44.4469063006915],\n",
       "      [-73.2306639706449, 44.4469143000745],\n",
       "      [-73.2314940266462, 44.4469549690101],\n",
       "      [-73.2321527733127, 44.4469843549708],\n",
       "      [-73.2320806468484, 44.4476533124902],\n",
       "      [-73.2320551813194, 44.4478461209775],\n",
       "      [-73.2318766420232, 44.4484509359278],\n",
       "      [-73.2315915383735, 44.4490426513366],\n",
       "      [-73.2315647233023, 44.449253327832],\n",
       "      [-73.231624525112, 44.4494835570946],\n",
       "      [-73.2318151035776, 44.4495908926671],\n",
       "      [-73.2321008557799, 44.4497111171601],\n",
       "      [-73.2327202145819, 44.4497906716433],\n",
       "      [-73.2329364574091, 44.4499093717543],\n",
       "      [-73.2330901995214, 44.4500847186372],\n",
       "      [-73.2332627865961, 44.4502599452225],\n",
       "      [-73.2332798392628, 44.4504617621045],\n",
       "      [-73.2331854337178, 44.4507928182315],\n",
       "      [-73.2329809755133, 44.45161660047],\n",
       "      [-73.2327887986151, 44.4519472999773],\n",
       "      [-73.2326804337158, 44.4521357193819],\n",
       "      [-73.2326646373842, 44.4523482935271],\n",
       "      [-73.2326585025429, 44.4526426444409],\n",
       "      [-73.2325342782332, 44.4529445024186],\n",
       "      [-73.2324112034924, 44.4532442442913],\n",
       "      [-73.2322423439926, 44.4535248739401],\n",
       "      [-73.2321215521496, 44.4540075426337],\n",
       "      [-73.2319872391646, 44.4542565934674],\n",
       "      [-73.2316781784454, 44.4544725926501],\n",
       "      [-73.2311380975922, 44.4545197834147],\n",
       "      [-73.2306975976966, 44.454492088732],\n",
       "      [-73.2303012219295, 44.4545706975671],\n",
       "      [-73.2298374809215, 44.4550097153906],\n",
       "      [-73.2292356705942, 44.455366227205],\n",
       "      [-73.2285770825631, 44.4558306699005],\n",
       "      [-73.2282751357826, 44.4561152364887],\n",
       "      [-73.2277140086386, 44.4563662992093],\n",
       "      [-73.2271192125672, 44.4566573683784],\n",
       "      [-73.2267948445471, 44.4568129868151],\n",
       "      [-73.2264263473724, 44.4569566510962],\n",
       "      [-73.2259767529997, 44.4570201159362],\n",
       "      [-73.2256776705544, 44.4571253694913],\n",
       "      [-73.2249209090953, 44.4582594711452],\n",
       "      [-73.2249090423113, 44.4583159336788],\n",
       "      [-73.2248163378643, 44.4587574971059],\n",
       "      [-73.224453328848, 44.4592193367311],\n",
       "      [-73.2240231628544, 44.4594902213623],\n",
       "      [-73.2235847114225, 44.4597582041209],\n",
       "      [-73.2231523844464, 44.4599182920302],\n",
       "      [-73.2227657454983, 44.4599623620553],\n",
       "      [-73.2226607528862, 44.4602369483665],\n",
       "      [-73.222348064277, 44.4607054940853],\n",
       "      [-73.222284037934, 44.4608950286423],\n",
       "      [-73.2220915757953, 44.4614647603194],\n",
       "      [-73.2221234093353, 44.4617854465462],\n",
       "      [-73.2220919554606, 44.462068988832],\n",
       "      [-73.221812613953, 44.4626316754054],\n",
       "      [-73.2214913750496, 44.4631726905758],\n",
       "      [-73.2207380456992, 44.4640560214995],\n",
       "      [-73.2205617239115, 44.4643117905973],\n",
       "      [-73.220210930421, 44.4648143185953],\n",
       "      [-73.2200282365278, 44.4652868183247],\n",
       "      [-73.220007671771, 44.4653710364179],\n",
       "      [-73.2199377639768, 44.4656581951529],\n",
       "      [-73.2197409338005, 44.4660033850266],\n",
       "      [-73.2197076861735, 44.4663658235922],\n",
       "      [-73.2197003052161, 44.4666600405743],\n",
       "      [-73.2196844609633, 44.4669367330894],\n",
       "      [-73.2196988574914, 44.4672773572145],\n",
       "      [-73.2196699123664, 44.4677982439711],\n",
       "      [-73.2196758744505, 44.4680916739426],\n",
       "      [-73.2196798063212, 44.4683796324109],\n",
       "      [-73.2201894343728, 44.4690705045509],\n",
       "      [-73.2205039947958, 44.4695154003144],\n",
       "      [-73.2205563589213, 44.4698131775464],\n",
       "      [-73.220722838335, 44.4700648152451],\n",
       "      [-73.2211241918616, 44.4701895407087],\n",
       "      [-73.2214850075319, 44.4703072078728],\n",
       "      [-73.2217144529446, 44.4705367917962],\n",
       "      [-73.2218909069837, 44.4708960767115],\n",
       "      [-73.2218613638529, 44.4711758095342],\n",
       "      [-73.2215243687469, 44.4720674808713],\n",
       "      [-73.2214719361243, 44.4724341184254],\n",
       "      [-73.2215131340035, 44.4727813222913],\n",
       "      [-73.2215809871518, 44.4729011211312],\n",
       "      [-73.2216512502413, 44.473025122752],\n",
       "      [-73.2222910523722, 44.4738197811739],\n",
       "      [-73.2225435443575, 44.4741331654658],\n",
       "      [-73.2225510286867, 44.4744531616562],\n",
       "      [-73.2218321404921, 44.4744765495371],\n",
       "      [-73.2194124216757, 44.4745555167572],\n",
       "      [-73.2185914489818, 44.474582199154],\n",
       "      [-73.2170069160105, 44.474641092181],\n",
       "      [-73.2154874556752, 44.4746897119755],\n",
       "      [-73.2139190040674, 44.4747471960899]]]}},\n",
       "  'type': 'fill',\n",
       "  'color': 'rgba(254,217,166,0.5)'},\n",
       " {'sourcetype': 'geojson',\n",
       "  'source': {'type': 'Feature',\n",
       "   'properties': {'OBJECTID': 7,\n",
       "    'WARD': 6,\n",
       "    'DISTRICT': 'South',\n",
       "    'Shape__Are': 3020282.76257324,\n",
       "    'Shape__Len': 9281.90557654939,\n",
       "    'COLOR': 'rgba(255,255,204,0.5)'},\n",
       "   'geometry': {'type': 'Polygon',\n",
       "    'coordinates': [[[-73.2109906893559, 44.4759969839105],\n",
       "      [-73.2007023529722, 44.4763547369941],\n",
       "      [-73.1992185105388, 44.476397719214],\n",
       "      [-73.1991757861112, 44.4756815387582],\n",
       "      [-73.1991691954024, 44.4755572739848],\n",
       "      [-73.1991543023503, 44.4753297065638],\n",
       "      [-73.1991161436687, 44.4746011246361],\n",
       "      [-73.1983657941845, 44.4745562181207],\n",
       "      [-73.1984689120685, 44.4744421096644],\n",
       "      [-73.1985712457306, 44.4743281463011],\n",
       "      [-73.1986790120362, 44.474208666235],\n",
       "      [-73.1986668345637, 44.4742086003365],\n",
       "      [-73.1984448995983, 44.474108432052],\n",
       "      [-73.1983284044046, 44.4740558513449],\n",
       "      [-73.1981791364991, 44.4739888458258],\n",
       "      [-73.1981017123795, 44.4739519146006],\n",
       "      [-73.1980176211179, 44.4739158682197],\n",
       "      [-73.1978150139295, 44.4738223310824],\n",
       "      [-73.1975306430528, 44.4736902010755],\n",
       "      [-73.1964381972715, 44.4731826326634],\n",
       "      [-73.1964710210226, 44.4731354660766],\n",
       "      [-73.1965125840264, 44.4730634985433],\n",
       "      [-73.1965513916807, 44.4729909844314],\n",
       "      [-73.1965988402071, 44.4728855137417],\n",
       "      [-73.1966238794309, 44.4728112557851],\n",
       "      [-73.1966441572325, 44.4727329492046],\n",
       "      [-73.1966581645693, 44.472655805801],\n",
       "      [-73.1966720196514, 44.4725658678763],\n",
       "      [-73.1966803359864, 44.4725056331888],\n",
       "      [-73.1966834135415, 44.4724341811177],\n",
       "      [-73.1966768329207, 44.4723432420084],\n",
       "      [-73.1966690981718, 44.4722542790213],\n",
       "      [-73.1966529983105, 44.4721555234349],\n",
       "      [-73.1966251198625, 44.4720571213704],\n",
       "      [-73.1965930144795, 44.4719666187154],\n",
       "      [-73.1965645982961, 44.4718890311906],\n",
       "      [-73.1965206773091, 44.4717956487465],\n",
       "      [-73.1964550084746, 44.4716900237277],\n",
       "      [-73.1962827808765, 44.4714750864884],\n",
       "      [-73.1962364987642, 44.4714143414097],\n",
       "      [-73.1961801087188, 44.4713293305505],\n",
       "      [-73.196143252288, 44.4712685270783],\n",
       "      [-73.1961125542268, 44.4711971404772],\n",
       "      [-73.1960860498447, 44.4711150414341],\n",
       "      [-73.1960704192639, 44.4710556555798],\n",
       "      [-73.1960640069032, 44.4709787770642],\n",
       "      [-73.1960632765612, 44.4709173322132],\n",
       "      [-73.1960710374328, 44.4708433209447],\n",
       "      [-73.196083894712, 44.4707685748554],\n",
       "      [-73.1960990661109, 44.4706901590736],\n",
       "      [-73.1961175468082, 44.4706259251882],\n",
       "      [-73.196144330435, 44.4705662808204],\n",
       "      [-73.1961765135047, 44.4704983069193],\n",
       "      [-73.1962162491237, 44.4704378807259],\n",
       "      [-73.1962726721456, 44.4703606200667],\n",
       "      [-73.1963671285885, 44.4702450192185],\n",
       "      [-73.1966036694905, 44.4699897636878],\n",
       "      [-73.1967579258227, 44.4698168481885],\n",
       "      [-73.1978802569728, 44.4698052153609],\n",
       "      [-73.1981708531277, 44.4698021731247],\n",
       "      [-73.198207129119, 44.4703742621385],\n",
       "      [-73.198221501982, 44.4704267644987],\n",
       "      [-73.1982435553939, 44.4704647370486],\n",
       "      [-73.1982745331088, 44.4704935151675],\n",
       "      [-73.1983184159939, 44.4705175733455],\n",
       "      [-73.1983921546587, 44.4705422930983],\n",
       "      [-73.1984819134723, 44.4705600239347],\n",
       "      [-73.1986279061793, 44.470583598776],\n",
       "      [-73.1987058096156, 44.4705952148155],\n",
       "      [-73.1987656948012, 44.4706108792103],\n",
       "      [-73.1988221086339, 44.4706319078008],\n",
       "      [-73.199111858158, 44.4707550022683],\n",
       "      [-73.1991666572839, 44.4707722436941],\n",
       "      [-73.1992166333709, 44.4707803747555],\n",
       "      [-73.1992677227913, 44.4707830146996],\n",
       "      [-73.1993321295862, 44.4707826203516],\n",
       "      [-73.1993992222718, 44.4707768665325],\n",
       "      [-73.1994642515945, 44.4707628277962],\n",
       "      [-73.1995276176208, 44.4707410659628],\n",
       "      [-73.1995952122339, 44.4707116853371],\n",
       "      [-73.1998342939572, 44.4706043364221],\n",
       "      [-73.1998894685702, 44.4705872647081],\n",
       "      [-73.1999321839941, 44.4705794091871],\n",
       "      [-73.1999714378092, 44.4705776225114],\n",
       "      [-73.2000063991787, 44.4705781110989],\n",
       "      [-73.2004374661499, 44.4705964199687],\n",
       "      [-73.2003709845684, 44.4689783288329],\n",
       "      [-73.2003703287808, 44.4689234918474],\n",
       "      [-73.200376131128, 44.468850335523],\n",
       "      [-73.200382835338, 44.4687870172941],\n",
       "      [-73.2003964834503, 44.4687131090955],\n",
       "      [-73.2009027009288, 44.4670375074336],\n",
       "      [-73.2000866747275, 44.466944220892],\n",
       "      [-73.1999883387634, 44.4669313243957],\n",
       "      [-73.1999088019621, 44.4669140945574],\n",
       "      [-73.1998402187476, 44.4668932814497],\n",
       "      [-73.1997782734359, 44.4668691932179],\n",
       "      [-73.1992894019694, 44.4666450918962],\n",
       "      [-73.1991481720635, 44.4665919596342],\n",
       "      [-73.1990335293017, 44.4665618660344],\n",
       "      [-73.1989508668071, 44.466545919985],\n",
       "      [-73.198878518466, 44.4665386285593],\n",
       "      [-73.1988027019362, 44.4665368425907],\n",
       "      [-73.1987112299925, 44.4665396520863],\n",
       "      [-73.1986060612672, 44.4665464825607],\n",
       "      [-73.1985095670416, 44.4665562126161],\n",
       "      [-73.1984315368374, 44.4665663921486],\n",
       "      [-73.1983798367544, 44.4665780989325],\n",
       "      [-73.198333298058, 44.4665945537584],\n",
       "      [-73.1982728129512, 44.4666269842127],\n",
       "      [-73.1981905701572, 44.4666792340043],\n",
       "      [-73.1981134714588, 44.4667346867067],\n",
       "      [-73.1980556036963, 44.4667890372782],\n",
       "      [-73.1979865396568, 44.4668596274084],\n",
       "      [-73.1979351177699, 44.4669277185278],\n",
       "      [-73.1978856967523, 44.4669988914183],\n",
       "      [-73.1973239406353, 44.4679753911808],\n",
       "      [-73.197299121853, 44.4680348834636],\n",
       "      [-73.1972848753302, 44.468091779643],\n",
       "      [-73.1972844632849, 44.4681561842189],\n",
       "      [-73.1972983694404, 44.4682026437163],\n",
       "      [-73.1967437412109, 44.4683275214485],\n",
       "      [-73.1966109315546, 44.4683550492083],\n",
       "      [-73.1964871116275, 44.4683790058977],\n",
       "      [-73.1963534598785, 44.4684018974628],\n",
       "      [-73.1962472437371, 44.468419981496],\n",
       "      [-73.196172829636, 44.4684373091219],\n",
       "      [-73.1960518880362, 44.4684722163571],\n",
       "      [-73.1959595712559, 44.4685032925545],\n",
       "      [-73.1958845787094, 44.4685380600035],\n",
       "      [-73.1958023156578, 44.4685889024643],\n",
       "      [-73.1956217983695, 44.4687331495333],\n",
       "      [-73.1955766964672, 44.4687715316035],\n",
       "      [-73.1955419983667, 44.4687931166719],\n",
       "      [-73.1955052738536, 44.4688093701805],\n",
       "      [-73.195460284647, 44.4688241278924],\n",
       "      [-73.1953924885058, 44.4688366341891],\n",
       "      [-73.1952564184987, 44.4688543365953],\n",
       "      [-73.1942030249391, 44.4689483477236],\n",
       "      [-73.1941253761969, 44.4689579604248],\n",
       "      [-73.1940403464885, 44.4689743666326],\n",
       "      [-73.1939757915201, 44.4689952885013],\n",
       "      [-73.1939015026132, 44.4690233007632],\n",
       "      [-73.1938443830762, 44.4690419284142],\n",
       "      [-73.1937735008415, 44.4690590926273],\n",
       "      [-73.1937001894092, 44.4690702248027],\n",
       "      [-73.1935773640096, 44.4690788452868],\n",
       "      [-73.1933607726427, 44.4690959094496],\n",
       "      [-73.1930971303824, 44.4691195862689],\n",
       "      [-73.192899849268, 44.4691422974368],\n",
       "      [-73.1928579060344, 44.4691490207105],\n",
       "      [-73.1920388053296, 44.4647086650401],\n",
       "      [-73.1911641976955, 44.4602123900488],\n",
       "      [-73.1907258327129, 44.4579698091702],\n",
       "      [-73.1899787114897, 44.45414588344],\n",
       "      [-73.1989975286409, 44.4546920411039],\n",
       "      [-73.1991908570378, 44.4547043570042],\n",
       "      [-73.1996246499034, 44.4547305277959],\n",
       "      [-73.1999334935348, 44.454749305585],\n",
       "      [-73.1999943921942, 44.4547525888616],\n",
       "      [-73.2014085516241, 44.4548384077359],\n",
       "      [-73.2014659175105, 44.4548417110232],\n",
       "      [-73.2017892985934, 44.4548612395603],\n",
       "      [-73.2019232895624, 44.4548694156699],\n",
       "      [-73.2021747584998, 44.4548840402407],\n",
       "      [-73.2025566744036, 44.454906019067],\n",
       "      [-73.2029409563896, 44.4549288244066],\n",
       "      [-73.2033193386516, 44.4549508224301],\n",
       "      [-73.2036985076637, 44.4549728134525],\n",
       "      [-73.2040796377204, 44.4549946507347],\n",
       "      [-73.2044623503544, 44.4550174615287],\n",
       "      [-73.2048426974065, 44.4550394414856],\n",
       "      [-73.205223829965, 44.4550614153255],\n",
       "      [-73.2057098878653, 44.4550907554762],\n",
       "      [-73.207009909884, 44.4551528827197],\n",
       "      [-73.2082023997452, 44.4552193193811],\n",
       "      [-73.2083803758922, 44.4552280584204],\n",
       "      [-73.2085552081798, 44.455236676294],\n",
       "      [-73.2084784453252, 44.4562270970792],\n",
       "      [-73.207923329633, 44.4622796036218],\n",
       "      [-73.2078846118399, 44.4626502282366],\n",
       "      [-73.2078640343337, 44.4627672086912],\n",
       "      [-73.2078472721292, 44.4628424024832],\n",
       "      [-73.2077821295682, 44.4631061815208],\n",
       "      [-73.207759186777, 44.4631899910053],\n",
       "      [-73.2077504217925, 44.4632446046958],\n",
       "      [-73.2077532674968, 44.4633175665818],\n",
       "      [-73.2077803213935, 44.4635415427884],\n",
       "      [-73.2077861034278, 44.4636950606534],\n",
       "      [-73.2077158497251, 44.4646410041996],\n",
       "      [-73.2077142074904, 44.4647976611648],\n",
       "      [-73.2077248279232, 44.4648965896589],\n",
       "      [-73.2077495323883, 44.464991072427],\n",
       "      [-73.207786073554, 44.4650901210689],\n",
       "      [-73.2078174659334, 44.4651530632878],\n",
       "      [-73.2078595414072, 44.4652225485065],\n",
       "      [-73.2079811235326, 44.4653718333659],\n",
       "      [-73.2080504318655, 44.4654525394414],\n",
       "      [-73.2081575785216, 44.4655770246322],\n",
       "      [-73.2083044898223, 44.465742322353],\n",
       "      [-73.2084939834935, 44.4659539010508],\n",
       "      [-73.2086564283823, 44.4661369605159],\n",
       "      [-73.20886105798, 44.4663658802669],\n",
       "      [-73.2092085658486, 44.4667507005524],\n",
       "      [-73.2095879392946, 44.4671721638471],\n",
       "      [-73.2099667437596, 44.4675785822594],\n",
       "      [-73.2124790636138, 44.4702916074269],\n",
       "      [-73.2133276616201, 44.4712156465223],\n",
       "      [-73.2134656142252, 44.4713846498724],\n",
       "      [-73.2135516073152, 44.4715119330524],\n",
       "      [-73.2136217428434, 44.4716592832737],\n",
       "      [-73.2136581988396, 44.4717501751301],\n",
       "      [-73.2136979127126, 44.4719150105673],\n",
       "      [-73.2137206042604, 44.4720366433079],\n",
       "      [-73.2137389604974, 44.4722214398187],\n",
       "      [-73.2139190040674, 44.4747471960899],\n",
       "      [-73.2125444312804, 44.4747923403231],\n",
       "      [-73.2122817663048, 44.4747686677251],\n",
       "      [-73.2108051749407, 44.474822442138],\n",
       "      [-73.2109841076837, 44.4758755321086],\n",
       "      [-73.2109906893559, 44.4759969839105]]]}},\n",
       "  'type': 'fill',\n",
       "  'color': 'rgba(255,255,204,0.5)'},\n",
       " {'sourcetype': 'geojson',\n",
       "  'source': {'type': 'Feature',\n",
       "   'properties': {'OBJECTID': 1,\n",
       "    'WARD': 7,\n",
       "    'DISTRICT': 'North',\n",
       "    'Shape__Are': 7072752.23921967,\n",
       "    'Shape__Len': 23027.3495793427,\n",
       "    'COLOR': 'rgba(229,216,189,0.5)'},\n",
       "   'geometry': {'type': 'Polygon',\n",
       "    'coordinates': [[[-73.2707399912007, 44.5252956469716],\n",
       "      [-73.2718929937719, 44.5250860776611],\n",
       "      [-73.2725765576189, 44.5249619321238],\n",
       "      [-73.2725885600772, 44.5249777402473],\n",
       "      [-73.2729751031789, 44.5254616540278],\n",
       "      [-73.2733005606759, 44.5257553056194],\n",
       "      [-73.2734742344123, 44.5260160962375],\n",
       "      [-73.2735649844184, 44.5261897042793],\n",
       "      [-73.2736113665569, 44.5262782590289],\n",
       "      [-73.2738775243169, 44.5266651167358],\n",
       "      [-73.2738713428651, 44.5269999635705],\n",
       "      [-73.2739958237059, 44.5273454558653],\n",
       "      [-73.2741197359068, 44.5278260829729],\n",
       "      [-73.2744975654214, 44.5285399566918],\n",
       "      [-73.2749927960093, 44.5292715927932],\n",
       "      [-73.2756829037737, 44.5300816332366],\n",
       "      [-73.2751480260725, 44.5302450037349],\n",
       "      [-73.2746331886455, 44.5303781436814],\n",
       "      [-73.2742264212234, 44.5304782076789],\n",
       "      [-73.2736211620922, 44.5306119568975],\n",
       "      [-73.2731916398801, 44.5306861577398],\n",
       "      [-73.272983715794, 44.5307200466499],\n",
       "      [-73.2727755330258, 44.5307343920845],\n",
       "      [-73.2724941947203, 44.5307168909183],\n",
       "      [-73.2721766888933, 44.5306994923073],\n",
       "      [-73.2718956592274, 44.5306755188273],\n",
       "      [-73.2715604124378, 44.530684252906],\n",
       "      [-73.2712530615566, 44.5307511522833],\n",
       "      [-73.2710007811128, 44.5308500210363],\n",
       "      [-73.2707306232567, 44.530994568322],\n",
       "      [-73.2704975355908, 44.5311776755914],\n",
       "      [-73.2703364398253, 44.5313342832196],\n",
       "      [-73.2701674977664, 44.5315817805293],\n",
       "      [-73.2700432501572, 44.5317900251408],\n",
       "      [-73.2699913903332, 44.5319719092914],\n",
       "      [-73.2699762095225, 44.5321923559387],\n",
       "      [-73.2700111293158, 44.5324255417914],\n",
       "      [-73.2700812254321, 44.5326130715016],\n",
       "      [-73.2701789266858, 44.532806883757],\n",
       "      [-73.2704276103381, 44.5330905145005],\n",
       "      [-73.2707482067477, 44.5333411779616],\n",
       "      [-73.2712795629063, 44.5337718105408],\n",
       "      [-73.2723876017319, 44.5346395111751],\n",
       "      [-73.2731115843093, 44.5352440382748],\n",
       "      [-73.2735612880192, 44.5356818219263],\n",
       "      [-73.2738559849227, 44.5360233485043],\n",
       "      [-73.2741061966464, 44.5364495440085],\n",
       "      [-73.2742830380299, 44.5367983369508],\n",
       "      [-73.2743729208537, 44.5370830353912],\n",
       "      [-73.2743979569407, 44.5372513220859],\n",
       "      [-73.2743775593216, 44.5374329947182],\n",
       "      [-73.2743209902495, 44.5376149125863],\n",
       "      [-73.2742156549119, 44.5378555156065],\n",
       "      [-73.2739978947089, 44.5381875778942],\n",
       "      [-73.2737031545686, 44.5385266291191],\n",
       "      [-73.2735332626072, 44.538702846371],\n",
       "      [-73.2733361555274, 44.5388727780069],\n",
       "      [-73.2731027007917, 44.539029879274],\n",
       "      [-73.2728689037897, 44.5391611083048],\n",
       "      [-73.2725624526891, 44.5392992970903],\n",
       "      [-73.2722737443763, 44.5394114919049],\n",
       "      [-73.2716691591161, 44.5396035815102],\n",
       "      [-73.2713167159482, 44.5396837222182],\n",
       "      [-73.2709461013645, 44.5397575166605],\n",
       "      [-73.2704753604484, 44.5398125800938],\n",
       "      [-73.270050058508, 44.5398543986376],\n",
       "      [-73.2693257119386, 44.5399110266018],\n",
       "      [-73.2686050944798, 44.5399224876702],\n",
       "      [-73.2679072806842, 44.5399336495771],\n",
       "      [-73.2672184242092, 44.5399382792052],\n",
       "      [-73.2665632000916, 44.539898948338],\n",
       "      [-73.2659479221836, 44.5398171603996],\n",
       "      [-73.2654120240509, 44.5397013712434],\n",
       "      [-73.2648928173621, 44.5395389239732],\n",
       "      [-73.2644024469885, 44.5393561731584],\n",
       "      [-73.2640105034887, 44.5391827457288],\n",
       "      [-73.2636797164502, 44.5389648957349],\n",
       "      [-73.2632862468978, 44.5386742025857],\n",
       "      [-73.2629327647795, 44.5383139179351],\n",
       "      [-73.2627482123806, 44.5380623251468],\n",
       "      [-73.2625902812421, 44.5377716032387],\n",
       "      [-73.2624966374379, 44.5375258708141],\n",
       "      [-73.2624266918133, 44.5372279529588],\n",
       "      [-73.2623790937616, 44.536744273005],\n",
       "      [-73.2623914362645, 44.5364245726464],\n",
       "      [-73.2624729057939, 44.5360689757706],\n",
       "      [-73.2625720729033, 44.5358042379768],\n",
       "      [-73.2627314252191, 44.5354512139105],\n",
       "      [-73.2629517322551, 44.5350390057281],\n",
       "      [-73.2631728038518, 44.5346855686772],\n",
       "      [-73.2633533578675, 44.5343910392055],\n",
       "      [-73.263552523175, 44.5340765575905],\n",
       "      [-73.2637553581722, 44.5337723166556],\n",
       "      [-73.263996670421, 44.5334039782043],\n",
       "      [-73.264237788404, 44.5330210165378],\n",
       "      [-73.2645593321804, 44.5325348663964],\n",
       "      [-73.2649215726051, 44.5320044304027],\n",
       "      [-73.2653737776119, 44.531349087361],\n",
       "      [-73.266029074242, 44.5304716131132],\n",
       "      [-73.2664027423336, 44.5299150819856],\n",
       "      [-73.2666153741374, 44.5295507270593],\n",
       "      [-73.2667827943758, 44.5291865348785],\n",
       "      [-73.2668877733061, 44.5288875842635],\n",
       "      [-73.2669614200425, 44.5286277950698],\n",
       "      [-73.2670533886541, 44.5280567012607],\n",
       "      [-73.267058177048, 44.5277325509688],\n",
       "      [-73.2670144837792, 44.5274288335871],\n",
       "      [-73.2669134551962, 44.5270398675662],\n",
       "      [-73.2667694541305, 44.5266414868088],\n",
       "      [-73.2665890942953, 44.5262583950647],\n",
       "      [-73.2663177707792, 44.5258934909926],\n",
       "      [-73.2659462696156, 44.525503526199],\n",
       "      [-73.2655423400199, 44.5251584918913],\n",
       "      [-73.2647913199625, 44.5246352316308],\n",
       "      [-73.2643225890171, 44.5243540455556],\n",
       "      [-73.2637927820489, 44.5240916859619],\n",
       "      [-73.2629271578157, 44.5237307466373],\n",
       "      [-73.2622048377079, 44.5235059447257],\n",
       "      [-73.2616093556836, 44.5233608649081],\n",
       "      [-73.26090117727, 44.523255342726],\n",
       "      [-73.2602077724961, 44.5232276183265],\n",
       "      [-73.2591430332574, 44.5232719634423],\n",
       "      [-73.2585281764152, 44.5233294825902],\n",
       "      [-73.2580670159221, 44.5234167733745],\n",
       "      [-73.2576337901423, 44.5235363593813],\n",
       "      [-73.2574306242688, 44.5236025304489],\n",
       "      [-73.2572058092054, 44.523727200326],\n",
       "      [-73.2570671611479, 44.5238577664684],\n",
       "      [-73.2569334238111, 44.5240337198054],\n",
       "      [-73.2567461963261, 44.5242683821477],\n",
       "      [-73.2566260449812, 44.5244311671815],\n",
       "      [-73.2565274620775, 44.5245291261196],\n",
       "      [-73.2564064720308, 44.5246270920855],\n",
       "      [-73.2561450099421, 44.5247455347017],\n",
       "      [-73.2559556803258, 44.5248180802855],\n",
       "      [-73.2556939393767, 44.5248846359469],\n",
       "      [-73.255404264059, 44.5249190346793],\n",
       "      [-73.2551326443179, 44.5249208309109],\n",
       "      [-73.2548151732657, 44.5249033837719],\n",
       "      [-73.254343116144, 44.5248482874202],\n",
       "      [-73.2538375972632, 44.5247591007227],\n",
       "      [-73.2534887134133, 44.5246528478924],\n",
       "      [-73.2531166172793, 44.5245145463543],\n",
       "      [-73.2525593836399, 44.5242248952571],\n",
       "      [-73.2521066487878, 44.5239294920559],\n",
       "      [-73.2519372808548, 44.523781554904],\n",
       "      [-73.2518131161817, 44.5236331786524],\n",
       "      [-73.2515904353281, 44.5232521702519],\n",
       "      [-73.2514047297621, 44.5229034005282],\n",
       "      [-73.2512709452439, 44.5227098092217],\n",
       "      [-73.2511420677666, 44.5225614641129],\n",
       "      [-73.250991703167, 44.5224846928113],\n",
       "      [-73.2507871174327, 44.5224406188725],\n",
       "      [-73.2506147880838, 44.5224288149748],\n",
       "      [-73.2504703904528, 44.5224493096819],\n",
       "      [-73.2503261814156, 44.522515080702],\n",
       "      [-73.2501686290731, 44.5226132811939],\n",
       "      [-73.2500568399467, 44.5227242579451],\n",
       "      [-73.2499680973664, 44.5228544877345],\n",
       "      [-73.2499112978992, 44.5230233184834],\n",
       "      [-73.2499227496463, 44.5232112459415],\n",
       "      [-73.2500026205227, 44.5234312065056],\n",
       "      [-73.2501413684436, 44.5236441711567],\n",
       "      [-73.2502396543259, 44.5238898838267],\n",
       "      [-73.2502792283822, 44.5241553874955],\n",
       "      [-73.2502559344298, 44.5244537856346],\n",
       "      [-73.2501860417114, 44.5246745893523],\n",
       "      [-73.2501342919969, 44.524869400618],\n",
       "      [-73.2500369228773, 44.5250321694596],\n",
       "      [-73.2498772015899, 44.5252989809593],\n",
       "      [-73.2496761841967, 44.5255337222081],\n",
       "      [-73.2494266316664, 44.5258465425775],\n",
       "      [-73.2491761018754, 44.5261139488991],\n",
       "      [-73.2488897989395, 44.526381590136],\n",
       "      [-73.2486026854507, 44.5266168939688],\n",
       "      [-73.2482566033468, 44.5268524421368],\n",
       "      [-73.2477815932635, 44.5271204726067],\n",
       "      [-73.2473564839046, 44.5273251788789],\n",
       "      [-73.2469015499808, 44.5275035025339],\n",
       "      [-73.2463098859806, 44.5276884829341],\n",
       "      [-73.2458455079117, 44.5278665824049],\n",
       "      [-73.2451470601742, 44.528156309432],\n",
       "      [-73.2445482276905, 44.5284584607101],\n",
       "      [-73.2439718594852, 44.5287344479895],\n",
       "      [-73.2434308280647, 44.5289455192822],\n",
       "      [-73.2431148233616, 44.5290447403583],\n",
       "      [-73.2427894465482, 44.5291181491935],\n",
       "      [-73.2425090126072, 44.529139518483],\n",
       "      [-73.2422821038735, 44.5291345247085],\n",
       "      [-73.2420643008597, 44.5291034586098],\n",
       "      [-73.2418188801064, 44.5290337607537],\n",
       "      [-73.2415906551044, 44.5289250004927],\n",
       "      [-73.2412621360478, 44.5287197253457],\n",
       "      [-73.2410058035435, 44.5285333862779],\n",
       "      [-73.2408409375272, 44.5283983401851],\n",
       "      [-73.2407215919427, 44.5282565298739],\n",
       "      [-73.2406377712751, 44.5280949442047],\n",
       "      [-73.2406033010066, 44.5278877598671],\n",
       "      [-73.2405899895065, 44.527550791396],\n",
       "      [-73.2406026504619, 44.5271228165047],\n",
       "      [-73.2405373421264, 44.5265915734592],\n",
       "      [-73.240399334405, 44.526093424421],\n",
       "      [-73.2402952012872, 44.5257245621719],\n",
       "      [-73.2401825394266, 44.5254270473194],\n",
       "      [-73.2400489498002, 44.5252463782983],\n",
       "      [-73.2399067305688, 44.5250982474103],\n",
       "      [-73.239719161058, 44.5249698145572],\n",
       "      [-73.2392719248252, 44.5247004789027],\n",
       "      [-73.2388696687395, 44.5244437871163],\n",
       "      [-73.2382214290167, 44.524039491379],\n",
       "      [-73.2376684204381, 44.5236735271388],\n",
       "      [-73.2374348383738, 44.5234805641781],\n",
       "      [-73.2372103653479, 44.5232616695889],\n",
       "      [-73.2370218272805, 44.5230554783819],\n",
       "      [-73.2369063341537, 44.5228746888241],\n",
       "      [-73.236808513564, 44.5226613036311],\n",
       "      [-73.2367470207525, 44.5224607601228],\n",
       "      [-73.2366891022658, 44.5221694976494],\n",
       "      [-73.2366679168304, 44.5219232759461],\n",
       "      [-73.236696012975, 44.5216573309633],\n",
       "      [-73.2367383405934, 44.5213977629221],\n",
       "      [-73.2368298654541, 44.5211118638187],\n",
       "      [-73.2369309200925, 44.5208648534143],\n",
       "      [-73.2371655203452, 44.5204225095068],\n",
       "      [-73.2373965590689, 44.5200409348962],\n",
       "      [-73.2375782885404, 44.5197392653037],\n",
       "      [-73.2377830862004, 44.5194591025372],\n",
       "      [-73.2379259940509, 44.5192897213817],\n",
       "      [-73.2380961193901, 44.5191589749459],\n",
       "      [-73.2382715979484, 44.5190475981487],\n",
       "      [-73.2384962726138, 44.5189100297156],\n",
       "      [-73.2387398272534, 44.5188046798507],\n",
       "      [-73.2389110792592, 44.5187322796933],\n",
       "      [-73.2390631790496, 44.5186684410509],\n",
       "      [-73.2391989498097, 44.5185878331231],\n",
       "      [-73.2393293575455, 44.5184872927873],\n",
       "      [-73.2394861424888, 44.5182967279309],\n",
       "      [-73.2395751612422, 44.5180627296345],\n",
       "      [-73.2395983164281, 44.5179045277584],\n",
       "      [-73.2395799946364, 44.5177612184932],\n",
       "      [-73.2395186595414, 44.5175113198841],\n",
       "      [-73.239458384866, 44.5173452212706],\n",
       "      [-73.2393382499442, 44.5171390128448],\n",
       "      [-73.2391820720739, 44.5169420369659],\n",
       "      [-73.2389766530659, 44.5167675963034],\n",
       "      [-73.2387391823124, 44.5166071433714],\n",
       "      [-73.2385294030249, 44.5164917895631],\n",
       "      [-73.2382829907373, 44.5163702034094],\n",
       "      [-73.2380097732969, 44.5162423211666],\n",
       "      [-73.2376636835285, 44.5161019732225],\n",
       "      [-73.2374134414679, 44.5160192198375],\n",
       "      [-73.2371316109063, 44.5159562146853],\n",
       "      [-73.2368456213402, 44.5159061732091],\n",
       "      [-73.2363741268018, 44.5158574676111],\n",
       "      [-73.2359653521919, 44.5157952788867],\n",
       "      [-73.2357383178383, 44.5157448547144],\n",
       "      [-73.2355292001794, 44.5156813771651],\n",
       "      [-73.2353651184803, 44.5156046735265],\n",
       "      [-73.2352191131842, 44.515527712896],\n",
       "      [-73.2349908591731, 44.5153801294396],\n",
       "      [-73.2347070814431, 44.51516161035],\n",
       "      [-73.23446393293, 44.5149232834707],\n",
       "      [-73.2342430935326, 44.5146458632242],\n",
       "      [-73.2340125667426, 44.5143167573237],\n",
       "      [-73.2337618688668, 44.5140087320468],\n",
       "      [-73.2334782490364, 44.5137079488734],\n",
       "      [-73.2332173560523, 44.5134013944489],\n",
       "      [-73.233043024233, 44.5132274471713],\n",
       "      [-73.2328603039533, 44.5131054404247],\n",
       "      [-73.23260527281, 44.5129838972471],\n",
       "      [-73.2323868983136, 44.5129334108346],\n",
       "      [-73.2321511640597, 44.5129090489752],\n",
       "      [-73.2319247125874, 44.5129040316599],\n",
       "      [-73.2316620360994, 44.5129251201622],\n",
       "      [-73.2314004007409, 44.5129980883697],\n",
       "      [-73.2311476552093, 44.5130905439768],\n",
       "      [-73.2308777080256, 44.5132219199431],\n",
       "      [-73.2303826142059, 44.5134843825588],\n",
       "      [-73.2299869350264, 44.5137137251871],\n",
       "      [-73.2298075392948, 44.5138575968399],\n",
       "      [-73.2296554195295, 44.5140140893059],\n",
       "      [-73.2295129042395, 44.5142159393116],\n",
       "      [-73.2293531997574, 44.5144891912842],\n",
       "      [-73.2292023729989, 44.5147495909871],\n",
       "      [-73.2289894592385, 44.5150428683365],\n",
       "      [-73.2287869540051, 44.5153199078304],\n",
       "      [-73.2285393216625, 44.5155715019337],\n",
       "      [-73.2282730563207, 44.515810418957],\n",
       "      [-73.2279052098021, 44.5160672787624],\n",
       "      [-73.227567894173, 44.5162509622365],\n",
       "      [-73.2272344146784, 44.5163956708747],\n",
       "      [-73.2269003718954, 44.516495103435],\n",
       "      [-73.2265523284307, 44.5165750782851],\n",
       "      [-73.225955818332, 44.516682646247],\n",
       "      [-73.2252139555232, 44.5167651195821],\n",
       "      [-73.2245437653988, 44.5167952464871],\n",
       "      [-73.2239547644489, 44.5167795761613],\n",
       "      [-73.2234377596392, 44.516737434009],\n",
       "      [-73.2229338699586, 44.5166750973381],\n",
       "      [-73.222235200931, 44.5165635100047],\n",
       "      [-73.2215270931363, 44.516451274271],\n",
       "      [-73.220822243186, 44.5163480138836],\n",
       "      [-73.220374547156, 44.5163159659026],\n",
       "      [-73.2201391238443, 44.5163174505816],\n",
       "      [-73.2199490574273, 44.5163315855064],\n",
       "      [-73.2196050050683, 44.5163532996005],\n",
       "      [-73.2194237386674, 44.5163479727949],\n",
       "      [-73.2192422331401, 44.5163231023072],\n",
       "      [-73.2190238520428, 44.5162402483627],\n",
       "      [-73.2188231527696, 44.5161248011727],\n",
       "      [-73.2187403677951, 44.5160410931784],\n",
       "      [-73.2186480585607, 44.5158860122985],\n",
       "      [-73.2186097542673, 44.5157436694851],\n",
       "      [-73.2186163249855, 44.5155426876813],\n",
       "      [-73.2186687234562, 44.5153608238203],\n",
       "      [-73.2187304865807, 44.5152372558282],\n",
       "      [-73.2188189458978, 44.5151431890151],\n",
       "      [-73.2190628135778, 44.5149657443535],\n",
       "      [-73.2193883358459, 44.5147803315619],\n",
       "      [-73.2198169164417, 44.5146015803674],\n",
       "      [-73.2203377051852, 44.5144102930196],\n",
       "      [-73.2209242042474, 44.5142250582015],\n",
       "      [-73.2215469382856, 44.5140461997128],\n",
       "      [-73.2221650513171, 44.5138753819133],\n",
       "      [-73.2227680841877, 44.5137249048605],\n",
       "      [-73.223348951781, 44.5135939704242],\n",
       "      [-73.2238465657226, 44.5135324619606],\n",
       "      [-73.2243532972908, 44.5134773622748],\n",
       "      [-73.2248873064466, 44.5134350238595],\n",
       "      [-73.2254084386014, 44.5134002171442],\n",
       "      [-73.2258688902728, 44.5133532782514],\n",
       "      [-73.2262573592894, 44.5132700956817],\n",
       "      [-73.2265732558707, 44.5131667027626],\n",
       "      [-73.2269834488805, 44.5129974621845],\n",
       "      [-73.2273391572127, 44.5127771031165],\n",
       "      [-73.2275875808299, 44.51258962633],\n",
       "      [-73.2278364213467, 44.5123726174853],\n",
       "      [-73.2281233082891, 44.5121179622017],\n",
       "      [-73.2284404222505, 44.5117659467906],\n",
       "      [-73.228587648339, 44.5115639275957],\n",
       "      [-73.2287072056324, 44.5113492884863],\n",
       "      [-73.2287946048335, 44.5111088398624],\n",
       "      [-73.2288640762745, 44.5108491010471],\n",
       "      [-73.2289058779041, 44.510576602122],\n",
       "      [-73.2288836803279, 44.5102461558486],\n",
       "      [-73.2288252478508, 44.5099094729116],\n",
       "      [-73.2286881855929, 44.5094759854889],\n",
       "      [-73.2284655378699, 44.5090495116668],\n",
       "      [-73.2282619390509, 44.5087008175342],\n",
       "      [-73.2279582855693, 44.5083017170189],\n",
       "      [-73.2276316702522, 44.5079203387153],\n",
       "      [-73.2272880324184, 44.5075919394135],\n",
       "      [-73.2269356121226, 44.5073154828864],\n",
       "      [-73.2265381624481, 44.5070521070856],\n",
       "      [-73.2260545715201, 44.506750608844],\n",
       "      [-73.2257532732164, 44.5065709885233],\n",
       "      [-73.2255156377206, 44.506390963005],\n",
       "      [-73.2253234340827, 44.5062300539114],\n",
       "      [-73.225149872426, 44.5061145856783],\n",
       "      [-73.2249765502169, 44.5060183798118],\n",
       "      [-73.2247304505626, 44.5059161667365],\n",
       "      [-73.2245304185401, 44.505852612173],\n",
       "      [-73.2243128720621, 44.5058345865959],\n",
       "      [-73.2241141254274, 44.5058747981352],\n",
       "      [-73.2239066600436, 44.5059409370167],\n",
       "      [-73.2236871562372, 44.5060188231464],\n",
       "      [-73.2233306818619, 44.5061750559947],\n",
       "      [-73.2229273261919, 44.5064175001172],\n",
       "      [-73.222422334367, 44.506799515125],\n",
       "      [-73.2219572439483, 44.5072626915677],\n",
       "      [-73.2216087641594, 44.5076538369025],\n",
       "      [-73.221358264756, 44.5079277929276],\n",
       "      [-73.2211436686975, 44.5081494924839],\n",
       "      [-73.220883959754, 44.5083780864549],\n",
       "      [-73.2205787414725, 44.5086132944518],\n",
       "      [-73.2201701808297, 44.5089141173735],\n",
       "      [-73.2199728575125, 44.5090710233979],\n",
       "      [-73.2198653566706, 44.509181802538],\n",
       "      [-73.2196956242936, 44.5093773441339],\n",
       "      [-73.2194718995739, 44.5095927714331],\n",
       "      [-73.2192251397268, 44.5097887966274],\n",
       "      [-73.218964776441, 44.5099653619962],\n",
       "      [-73.2187041004422, 44.5101485379017],\n",
       "      [-73.2184791737309, 44.5102666646628],\n",
       "      [-73.218253767744, 44.5103458427428],\n",
       "      [-73.2180641984495, 44.5103989217641],\n",
       "      [-73.2178563925214, 44.5104391784431],\n",
       "      [-73.2176299547162, 44.5104664747732],\n",
       "      [-73.2174216704385, 44.5104677833172],\n",
       "      [-73.2170317429092, 44.5104314220533],\n",
       "      [-73.2166686126741, 44.5103688776112],\n",
       "      [-73.2162962044546, 44.5102868443821],\n",
       "      [-73.215941559224, 44.5101788252821],\n",
       "      [-73.2156045957069, 44.5100383531073],\n",
       "      [-73.2152673186206, 44.5098720076897],\n",
       "      [-73.2149536332608, 44.5096742973295],\n",
       "      [-73.2146918701449, 44.5094800580519],\n",
       "      [-73.2144810555035, 44.5092739685064],\n",
       "      [-73.2143151974409, 44.5090481928635],\n",
       "      [-73.2142034132518, 44.5088090008907],\n",
       "      [-73.2141236184397, 44.5085825463403],\n",
       "      [-73.2140888565831, 44.5083105314181],\n",
       "      [-73.214031382808, 44.5080774684423],\n",
       "      [-73.2139559105727, 44.507818644624],\n",
       "      [-73.2138859499621, 44.5076570924708],\n",
       "      [-73.225764052777, 44.5008835668173],\n",
       "      [-73.2280341504162, 44.4995886695271],\n",
       "      [-73.2281133568395, 44.4995435895372],\n",
       "      [-73.2183194212876, 44.4912102604646],\n",
       "      [-73.2185755192468, 44.4912048526159],\n",
       "      [-73.2193226191308, 44.4911904474043],\n",
       "      [-73.2198949088663, 44.4911781229369],\n",
       "      [-73.2204958746971, 44.4911654743127],\n",
       "      [-73.2212193481735, 44.4911468464069],\n",
       "      [-73.2214950589896, 44.4911389179072],\n",
       "      [-73.2217683484059, 44.4911258014675],\n",
       "      [-73.2220352842885, 44.4911072402814],\n",
       "      [-73.2222158153913, 44.4910911939621],\n",
       "      [-73.2224660894584, 44.4910596591414],\n",
       "      [-73.2227044906972, 44.4910211694383],\n",
       "      [-73.2228558508372, 44.4909972908888],\n",
       "      [-73.2230016239896, 44.4909664171434],\n",
       "      [-73.2232523439392, 44.49090745828],\n",
       "      [-73.2234829731553, 44.4908442668049],\n",
       "      [-73.2236939290097, 44.4907786688815],\n",
       "      [-73.2238715223007, 44.4907158126673],\n",
       "      [-73.2241006676775, 44.4906280212752],\n",
       "      [-73.2243382689596, 44.4905251305282],\n",
       "      [-73.2245745718303, 44.4904126856159],\n",
       "      [-73.2248266748922, 44.490275391475],\n",
       "      [-73.2250560227022, 44.4901407718786],\n",
       "      [-73.2252173531356, 44.4900340041349],\n",
       "      [-73.2253774283734, 44.4899210570168],\n",
       "      [-73.2255046993235, 44.4898242074752],\n",
       "      [-73.2257531625519, 44.4896155013204],\n",
       "      [-73.22606354948, 44.4892998133683],\n",
       "      [-73.2261234491214, 44.4892195624994],\n",
       "      [-73.2306311826111, 44.4949673294569],\n",
       "      [-73.2314457800031, 44.4960112522638],\n",
       "      [-73.2316166290559, 44.496225441485],\n",
       "      [-73.2318383290328, 44.4964840200897],\n",
       "      [-73.2319835993554, 44.4966634998462],\n",
       "      [-73.2323312734635, 44.4971291010902],\n",
       "      [-73.2329551634061, 44.4980007156031],\n",
       "      [-73.2331017370869, 44.4981896061264],\n",
       "      [-73.2331822246419, 44.4982785212879],\n",
       "      [-73.2332379892278, 44.4983386286544],\n",
       "      [-73.2333198567138, 44.49841220703],\n",
       "      [-73.2334159166757, 44.4984894919674],\n",
       "      [-73.2335821568972, 44.4986169469586],\n",
       "      [-73.2359487994008, 44.500363500506],\n",
       "      [-73.2369813706866, 44.5011348703684],\n",
       "      [-73.240455159557, 44.5036845491799],\n",
       "      [-73.2599935590733, 44.5181199201832],\n",
       "      [-73.2645081108472, 44.5214665304151],\n",
       "      [-73.2645947448085, 44.5215383676653],\n",
       "      [-73.2646345840969, 44.5215788789898],\n",
       "      [-73.2647081320755, 44.5216720369273],\n",
       "      [-73.2650800910097, 44.5222196335766],\n",
       "      [-73.2663775252501, 44.5214860617033],\n",
       "      [-73.266699484584, 44.5217869274121],\n",
       "      [-73.2668121625028, 44.5218961317955],\n",
       "      [-73.267215689819, 44.5222415856835],\n",
       "      [-73.267082559176, 44.5222814310928],\n",
       "      [-73.2671707376985, 44.5224407183774],\n",
       "      [-73.2672683398916, 44.5226290499073],\n",
       "      [-73.2673179187644, 44.5227225075608],\n",
       "      [-73.2673665055182, 44.5228003633159],\n",
       "      [-73.2674753424319, 44.5229759633293],\n",
       "      [-73.26745537836, 44.5229824249552],\n",
       "      [-73.2675489483034, 44.5231629088574],\n",
       "      [-73.2675692993254, 44.5231560225434],\n",
       "      [-73.2676695158135, 44.5233336493623],\n",
       "      [-73.2677713261103, 44.5235129527586],\n",
       "      [-73.2678731401519, 44.5236923973236],\n",
       "      [-73.2679793814578, 44.5238796855863],\n",
       "      [-73.2680880317966, 44.5240707543841],\n",
       "      [-73.268201518047, 44.5242707899317],\n",
       "      [-73.2683174208516, 44.5244751684057],\n",
       "      [-73.2684333244631, 44.5246795458492],\n",
       "      [-73.2685945875826, 44.5246262930607],\n",
       "      [-73.2687085059319, 44.524799185727],\n",
       "      [-73.2688236257832, 44.524973758471],\n",
       "      [-73.2689762674399, 44.5249225313489],\n",
       "      [-73.2689870647124, 44.5249663306574],\n",
       "      [-73.2689924772385, 44.5250191656074],\n",
       "      [-73.2689910714163, 44.5250915922326],\n",
       "      [-73.2689820218991, 44.5251507116348],\n",
       "      [-73.2689735038408, 44.525190562472],\n",
       "      [-73.2689590938597, 44.5252307355592],\n",
       "      [-73.268933438566, 44.5252826547595],\n",
       "      [-73.268899200696, 44.5253396938896],\n",
       "      [-73.2688609628789, 44.5253914161018],\n",
       "      [-73.2688225203015, 44.5254276724354],\n",
       "      [-73.2687820906859, 44.5254622547466],\n",
       "      [-73.2687447206469, 44.5254903485908],\n",
       "      [-73.2686729882973, 44.5255361091099],\n",
       "      [-73.2686152664302, 44.5255710894249],\n",
       "      [-73.2687385357995, 44.5256477381728],\n",
       "      [-73.2702152544711, 44.5253910094937],\n",
       "      [-73.2707399912007, 44.5252956469716]]]}},\n",
       "  'type': 'fill',\n",
       "  'color': 'rgba(229,216,189,0.5)'},\n",
       " {'sourcetype': 'geojson',\n",
       "  'source': {'type': 'Feature',\n",
       "   'properties': {'OBJECTID': 6,\n",
       "    'WARD': 8,\n",
       "    'DISTRICT': 'East',\n",
       "    'Shape__Are': 617387.785255432,\n",
       "    'Shape__Len': 6428.33008716662,\n",
       "    'COLOR': 'rgba(253,218,236,0.5)'},\n",
       "   'geometry': {'type': 'Polygon',\n",
       "    'coordinates': [[[-73.2056904027222, 44.4806567040077],\n",
       "      [-73.2055390722885, 44.4774871570677],\n",
       "      [-73.2005997615911, 44.4777601258888],\n",
       "      [-73.1992878896517, 44.4778325684584],\n",
       "      [-73.1990369218563, 44.4763877218304],\n",
       "      [-73.1989566607785, 44.4763766829251],\n",
       "      [-73.1988877669496, 44.4763636053229],\n",
       "      [-73.1988097332745, 44.4763417245287],\n",
       "      [-73.1987510047536, 44.4763247877728],\n",
       "      [-73.1984437223914, 44.4762158613987],\n",
       "      [-73.1980925574835, 44.4760831567529],\n",
       "      [-73.1950902648336, 44.4747421273892],\n",
       "      [-73.1949165197812, 44.4746644393175],\n",
       "      [-73.1937811842603, 44.4741499348471],\n",
       "      [-73.1937609669509, 44.4740017068196],\n",
       "      [-73.193720053509, 44.4736978011905],\n",
       "      [-73.1936748004435, 44.4734586055731],\n",
       "      [-73.193223129521, 44.4710711450807],\n",
       "      [-73.1929135667105, 44.4694386344493],\n",
       "      [-73.1928675616283, 44.4692016927652],\n",
       "      [-73.1928579060344, 44.4691490207105],\n",
       "      [-73.192899849268, 44.4691422974368],\n",
       "      [-73.1930971303824, 44.4691195862689],\n",
       "      [-73.1933607726427, 44.4690959094496],\n",
       "      [-73.1935773640096, 44.4690788452868],\n",
       "      [-73.1937001894092, 44.4690702248027],\n",
       "      [-73.1937735008415, 44.4690590926273],\n",
       "      [-73.1938443830762, 44.4690419284142],\n",
       "      [-73.1939015026132, 44.4690233007632],\n",
       "      [-73.1939757915201, 44.4689952885013],\n",
       "      [-73.1940403464885, 44.4689743666326],\n",
       "      [-73.1941253761969, 44.4689579604248],\n",
       "      [-73.1942030249391, 44.4689483477236],\n",
       "      [-73.1952564184987, 44.4688543365953],\n",
       "      [-73.1953924885058, 44.4688366341891],\n",
       "      [-73.195460284647, 44.4688241278924],\n",
       "      [-73.1955052738536, 44.4688093701805],\n",
       "      [-73.1955419983667, 44.4687931166719],\n",
       "      [-73.1955766964672, 44.4687715316035],\n",
       "      [-73.1956217983695, 44.4687331495333],\n",
       "      [-73.1958023156578, 44.4685889024643],\n",
       "      [-73.1958845787094, 44.4685380600035],\n",
       "      [-73.1959595712559, 44.4685032925545],\n",
       "      [-73.1960518880362, 44.4684722163571],\n",
       "      [-73.196172829636, 44.4684373091219],\n",
       "      [-73.1962472437371, 44.468419981496],\n",
       "      [-73.1963534598785, 44.4684018974628],\n",
       "      [-73.1964871116275, 44.4683790058977],\n",
       "      [-73.1966109315546, 44.4683550492083],\n",
       "      [-73.1967437412109, 44.4683275214485],\n",
       "      [-73.1972983694404, 44.4682026437163],\n",
       "      [-73.1972844632849, 44.4681561842189],\n",
       "      [-73.1972848753302, 44.468091779643],\n",
       "      [-73.197299121853, 44.4680348834636],\n",
       "      [-73.1973239406353, 44.4679753911808],\n",
       "      [-73.1978856967523, 44.4669988914183],\n",
       "      [-73.1979351177699, 44.4669277185278],\n",
       "      [-73.1979865396568, 44.4668596274084],\n",
       "      [-73.1980556036963, 44.4667890372782],\n",
       "      [-73.1981134714588, 44.4667346867067],\n",
       "      [-73.1981905701572, 44.4666792340043],\n",
       "      [-73.1982728129512, 44.4666269842127],\n",
       "      [-73.198333298058, 44.4665945537584],\n",
       "      [-73.1983798367544, 44.4665780989325],\n",
       "      [-73.1984315368374, 44.4665663921486],\n",
       "      [-73.1985095670416, 44.4665562126161],\n",
       "      [-73.1986060612672, 44.4665464825607],\n",
       "      [-73.1987112299925, 44.4665396520863],\n",
       "      [-73.1988027019362, 44.4665368425907],\n",
       "      [-73.198878518466, 44.4665386285593],\n",
       "      [-73.1989508668071, 44.466545919985],\n",
       "      [-73.1990335293017, 44.4665618660344],\n",
       "      [-73.1991481720635, 44.4665919596342],\n",
       "      [-73.1992894019694, 44.4666450918962],\n",
       "      [-73.1997782734359, 44.4668691932179],\n",
       "      [-73.1998402187476, 44.4668932814497],\n",
       "      [-73.1999088019621, 44.4669140945574],\n",
       "      [-73.1999883387634, 44.4669313243957],\n",
       "      [-73.2000866747275, 44.466944220892],\n",
       "      [-73.2009027009288, 44.4670375074336],\n",
       "      [-73.2003964834503, 44.4687131090955],\n",
       "      [-73.200382835338, 44.4687870172941],\n",
       "      [-73.200376131128, 44.468850335523],\n",
       "      [-73.2003703287808, 44.4689234918474],\n",
       "      [-73.2003709845684, 44.4689783288329],\n",
       "      [-73.2004374661499, 44.4705964199687],\n",
       "      [-73.2000063991787, 44.4705781110989],\n",
       "      [-73.1999714378092, 44.4705776225114],\n",
       "      [-73.1999321839941, 44.4705794091871],\n",
       "      [-73.1998894685702, 44.4705872647081],\n",
       "      [-73.1998342939572, 44.4706043364221],\n",
       "      [-73.1995952122339, 44.4707116853371],\n",
       "      [-73.1995276176208, 44.4707410659628],\n",
       "      [-73.1994642515945, 44.4707628277962],\n",
       "      [-73.1993992222718, 44.4707768665325],\n",
       "      [-73.1993321295862, 44.4707826203516],\n",
       "      [-73.1992677227913, 44.4707830146996],\n",
       "      [-73.1992166333709, 44.4707803747555],\n",
       "      [-73.1991666572839, 44.4707722436941],\n",
       "      [-73.199111858158, 44.4707550022683],\n",
       "      [-73.1988221086339, 44.4706319078008],\n",
       "      [-73.1987656948012, 44.4706108792103],\n",
       "      [-73.1987058096156, 44.4705952148155],\n",
       "      [-73.1986279061793, 44.470583598776],\n",
       "      [-73.1984819134723, 44.4705600239347],\n",
       "      [-73.1983921546587, 44.4705422930983],\n",
       "      [-73.1983184159939, 44.4705175733455],\n",
       "      [-73.1982745331088, 44.4704935151675],\n",
       "      [-73.1982435553939, 44.4704647370486],\n",
       "      [-73.198221501982, 44.4704267644987],\n",
       "      [-73.198207129119, 44.4703742621385],\n",
       "      [-73.1981708531277, 44.4698021731247],\n",
       "      [-73.1978802569728, 44.4698052153609],\n",
       "      [-73.1967579258227, 44.4698168481885],\n",
       "      [-73.1966036694905, 44.4699897636878],\n",
       "      [-73.1963671285885, 44.4702450192185],\n",
       "      [-73.1962726721456, 44.4703606200667],\n",
       "      [-73.1962162491237, 44.4704378807259],\n",
       "      [-73.1961765135047, 44.4704983069193],\n",
       "      [-73.196144330435, 44.4705662808204],\n",
       "      [-73.1961175468082, 44.4706259251882],\n",
       "      [-73.1960990661109, 44.4706901590736],\n",
       "      [-73.196083894712, 44.4707685748554],\n",
       "      [-73.1960710374328, 44.4708433209447],\n",
       "      [-73.1960632765612, 44.4709173322132],\n",
       "      [-73.1960640069032, 44.4709787770642],\n",
       "      [-73.1960704192639, 44.4710556555798],\n",
       "      [-73.1960860498447, 44.4711150414341],\n",
       "      [-73.1961125542268, 44.4711971404772],\n",
       "      [-73.196143252288, 44.4712685270783],\n",
       "      [-73.1961801087188, 44.4713293305505],\n",
       "      [-73.1962364987642, 44.4714143414097],\n",
       "      [-73.1962827808765, 44.4714750864884],\n",
       "      [-73.1964550084746, 44.4716900237277],\n",
       "      [-73.1965206773091, 44.4717956487465],\n",
       "      [-73.1965645982961, 44.4718890311906],\n",
       "      [-73.1965930144795, 44.4719666187154],\n",
       "      [-73.1966251198625, 44.4720571213704],\n",
       "      [-73.1966529983105, 44.4721555234349],\n",
       "      [-73.1966690981718, 44.4722542790213],\n",
       "      [-73.1966768329207, 44.4723432420084],\n",
       "      [-73.1966834135415, 44.4724341811177],\n",
       "      [-73.1966803359864, 44.4725056331888],\n",
       "      [-73.1966720196514, 44.4725658678763],\n",
       "      [-73.1966581645693, 44.472655805801],\n",
       "      [-73.1966441572325, 44.4727329492046],\n",
       "      [-73.1966238794309, 44.4728112557851],\n",
       "      [-73.1965988402071, 44.4728855137417],\n",
       "      [-73.1965513916807, 44.4729909844314],\n",
       "      [-73.1965125840264, 44.4730634985433],\n",
       "      [-73.1964710210226, 44.4731354660766],\n",
       "      [-73.1964381972715, 44.4731826326634],\n",
       "      [-73.1975306430528, 44.4736902010755],\n",
       "      [-73.1978150139295, 44.4738223310824],\n",
       "      [-73.1980176211179, 44.4739158682197],\n",
       "      [-73.1981017123795, 44.4739519146006],\n",
       "      [-73.1981791364991, 44.4739888458258],\n",
       "      [-73.1983284044046, 44.4740558513449],\n",
       "      [-73.1984448995983, 44.474108432052],\n",
       "      [-73.1986668345637, 44.4742086003365],\n",
       "      [-73.1986790120362, 44.474208666235],\n",
       "      [-73.1985712457306, 44.4743281463011],\n",
       "      [-73.1984689120685, 44.4744421096644],\n",
       "      [-73.1983657941845, 44.4745562181207],\n",
       "      [-73.1991161436687, 44.4746011246361],\n",
       "      [-73.1991543023503, 44.4753297065638],\n",
       "      [-73.1991691954024, 44.4755572739848],\n",
       "      [-73.1991757861112, 44.4756815387582],\n",
       "      [-73.1992185105388, 44.476397719214],\n",
       "      [-73.2007023529722, 44.4763547369941],\n",
       "      [-73.2109906893559, 44.4759969839105],\n",
       "      [-73.2110545677629, 44.4771493608458],\n",
       "      [-73.2111075618213, 44.4782461220179],\n",
       "      [-73.2112181409485, 44.4804937513108],\n",
       "      [-73.2093172741978, 44.4805570376979],\n",
       "      [-73.2056904027222, 44.4806567040077]]]}},\n",
       "  'type': 'fill',\n",
       "  'color': 'rgba(253,218,236,0.5)'}]"
      ]
     },
     "execution_count": 23,
     "metadata": {},
     "output_type": "execute_result"
    }
   ],
   "source": [
    "layers"
   ]
  },
  {
   "cell_type": "code",
   "execution_count": 31,
   "metadata": {},
   "outputs": [
    {
     "name": "stdout",
     "output_type": "stream",
     "text": [
      "<class 'pandas.core.frame.DataFrame'>\n",
      "RangeIndex: 10831 entries, 0 to 10830\n",
      "Data columns (total 24 columns):\n",
      "Unnamed: 0                 10831 non-null int64\n",
      "lookup-id                  10831 non-null object\n",
      "Owner Name 1               10831 non-null object\n",
      "Mailing Address 1          10831 non-null object\n",
      "City                       10831 non-null object\n",
      "State                      10831 non-null object\n",
      "Zip                        10831 non-null object\n",
      "Location #                 10831 non-null int64\n",
      "Location Street            10831 non-null object\n",
      "Parcel ID                  10831 non-null object\n",
      "Span #                     10831 non-null object\n",
      "VT Use Category Code       10831 non-null object\n",
      "VT Use Category            10831 non-null object\n",
      "Category                   10831 non-null object\n",
      "Ownership Code             10831 non-null object\n",
      "Tax Status                 10831 non-null object\n",
      "Total Acres                10831 non-null float64\n",
      "Listed Real Value          10831 non-null float64\n",
      "% Business Use Declared    10831 non-null float64\n",
      "% Rental Use Declared      10831 non-null float64\n",
      "Search_String              10831 non-null object\n",
      "Latitude                   10831 non-null float64\n",
      "Longitude                  10831 non-null float64\n",
      "Address                    10831 non-null object\n",
      "dtypes: float64(6), int64(2), object(16)\n",
      "memory usage: 2.0+ MB\n"
     ]
    }
   ],
   "source": [
    "geocodes.info()"
   ]
  },
  {
   "cell_type": "code",
   "execution_count": null,
   "metadata": {},
   "outputs": [],
   "source": []
  }
 ],
 "metadata": {
  "kernelspec": {
   "display_name": "Python 3",
   "language": "python",
   "name": "python3"
  },
  "language_info": {
   "codemirror_mode": {
    "name": "ipython",
    "version": 3
   },
   "file_extension": ".py",
   "mimetype": "text/x-python",
   "name": "python",
   "nbconvert_exporter": "python",
   "pygments_lexer": "ipython3",
   "version": "3.6.8"
  }
 },
 "nbformat": 4,
 "nbformat_minor": 2
}
