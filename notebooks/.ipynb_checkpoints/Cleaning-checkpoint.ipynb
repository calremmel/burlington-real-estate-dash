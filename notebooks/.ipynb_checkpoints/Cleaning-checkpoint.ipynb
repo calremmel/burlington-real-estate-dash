{
 "cells": [
  {
   "cell_type": "code",
   "execution_count": 1,
   "metadata": {},
   "outputs": [
    {
     "name": "stderr",
     "output_type": "stream",
     "text": [
      "/home/calre/anaconda2/envs/learn-env/lib/python3.6/importlib/_bootstrap.py:219: RuntimeWarning: numpy.ufunc size changed, may indicate binary incompatibility. Expected 192 from C header, got 216 from PyObject\n",
      "  return f(*args, **kwds)\n"
     ]
    }
   ],
   "source": [
    "import pandas as pd\n",
    "import numpy as np\n",
    "import altair as alt\n",
    "import folium\n",
    "import json\n",
    "import string\n",
    "import geocoder\n",
    "import matplotlib.pyplot as plt\n",
    "\n",
    "from pandas.io.json import json_normalize\n",
    "\n",
    "alt.data_transformers.enable('json')\n",
    "%matplotlib inline"
   ]
  },
  {
   "cell_type": "code",
   "execution_count": 2,
   "metadata": {},
   "outputs": [],
   "source": [
    "from scipy.stats import iqr\n",
    "\n",
    "def remove_outliers(df, max_val=None):\n",
    "    df.dropna(inplace=True)\n",
    "    Q1 = df.describe()['25%']\n",
    "    Q3 = df.describe()['75%']\n",
    "    IQR = iqr(df)\n",
    "    thresh = 1.5 * IQR\n",
    "    if max_val == None:\n",
    "        max_val = Q3 + thresh\n",
    "    print(max_val)\n",
    "    min_val = Q1 - thresh\n",
    "    new_df = df.loc[(df < max_val) & (df > min_val)]\n",
    "    return new_df.reset_index()"
   ]
  },
  {
   "cell_type": "code",
   "execution_count": 3,
   "metadata": {},
   "outputs": [],
   "source": [
    "# load and flatten json\n",
    "f = open('../data/interim/data_processed.json')\n",
    "d = json.load(f)\n",
    "normalized = json_normalize(d)"
   ]
  },
  {
   "cell_type": "code",
   "execution_count": 4,
   "metadata": {},
   "outputs": [],
   "source": [
    "# unnest principals column and fill missing values with placeholder\n",
    "df_a = normalized[['business_id', 'owner_name', 'principals']]\n",
    "df_a = df_a.set_index(['business_id', 'owner_name'])\n",
    "\n",
    "unnested_list = []\n",
    "unnested_list.append(df_a['principals'].apply(pd.Series).stack())\n",
    "df_a = pd.concat(unnested_list, axis=1, keys=df_a.columns)"
   ]
  },
  {
   "cell_type": "code",
   "execution_count": 5,
   "metadata": {},
   "outputs": [],
   "source": [
    "# reset multiindex and drop level column\n",
    "df_a = df_a.reset_index()\n",
    "df_a.drop('level_2', axis=1, inplace=True)"
   ]
  },
  {
   "cell_type": "code",
   "execution_count": 6,
   "metadata": {},
   "outputs": [],
   "source": [
    "# unnest properties with owner_name as key\n",
    "df_b = json_normalize(d, record_path='properties', meta='owner_name')"
   ]
  },
  {
   "cell_type": "code",
   "execution_count": 7,
   "metadata": {},
   "outputs": [],
   "source": [
    "# merge data\n",
    "df = pd.merge(df_a, df_b, on='owner_name', how='outer')\n",
    "df.principals.fillna(\"NONE\", inplace=True)"
   ]
  },
  {
   "cell_type": "code",
   "execution_count": 8,
   "metadata": {},
   "outputs": [
    {
     "data": {
      "text/html": [
       "<div>\n",
       "<style scoped>\n",
       "    .dataframe tbody tr th:only-of-type {\n",
       "        vertical-align: middle;\n",
       "    }\n",
       "\n",
       "    .dataframe tbody tr th {\n",
       "        vertical-align: top;\n",
       "    }\n",
       "\n",
       "    .dataframe thead th {\n",
       "        text-align: right;\n",
       "    }\n",
       "</style>\n",
       "<table border=\"1\" class=\"dataframe\">\n",
       "  <thead>\n",
       "    <tr style=\"text-align: right;\">\n",
       "      <th></th>\n",
       "      <th>business_id</th>\n",
       "      <th>owner_name</th>\n",
       "      <th>principals</th>\n",
       "      <th>property_id</th>\n",
       "      <th>property_real_value</th>\n",
       "    </tr>\n",
       "  </thead>\n",
       "  <tbody>\n",
       "    <tr>\n",
       "      <th>0</th>\n",
       "      <td>20748.0</td>\n",
       "      <td>100 LOCUST LLC</td>\n",
       "      <td>JOSEPH S FORMICA</td>\n",
       "      <td>053-4-044-000</td>\n",
       "      <td>258800</td>\n",
       "    </tr>\n",
       "    <tr>\n",
       "      <th>1</th>\n",
       "      <td>37202.0</td>\n",
       "      <td>100 SHELBURNE LLC</td>\n",
       "      <td>THOMAS J HARRINGTON</td>\n",
       "      <td>054-2-020-000</td>\n",
       "      <td>253700</td>\n",
       "    </tr>\n",
       "    <tr>\n",
       "      <th>2</th>\n",
       "      <td>34690.0</td>\n",
       "      <td>103 N UNION LLC</td>\n",
       "      <td>SHEILA S JACOBS</td>\n",
       "      <td>044-3-206-000</td>\n",
       "      <td>454700</td>\n",
       "    </tr>\n",
       "    <tr>\n",
       "      <th>3</th>\n",
       "      <td>34690.0</td>\n",
       "      <td>103 N UNION LLC</td>\n",
       "      <td>STUART E JACOBS</td>\n",
       "      <td>044-3-206-000</td>\n",
       "      <td>454700</td>\n",
       "    </tr>\n",
       "    <tr>\n",
       "      <th>4</th>\n",
       "      <td>28877.0</td>\n",
       "      <td>107-109 MANSFIELD AVENUE LLC</td>\n",
       "      <td>ERIC J RAAD</td>\n",
       "      <td>045-3-077-000</td>\n",
       "      <td>353700</td>\n",
       "    </tr>\n",
       "  </tbody>\n",
       "</table>\n",
       "</div>"
      ],
      "text/plain": [
       "   business_id                    owner_name           principals  \\\n",
       "0      20748.0                100 LOCUST LLC     JOSEPH S FORMICA   \n",
       "1      37202.0             100 SHELBURNE LLC  THOMAS J HARRINGTON   \n",
       "2      34690.0               103 N UNION LLC      SHEILA S JACOBS   \n",
       "3      34690.0               103 N UNION LLC      STUART E JACOBS   \n",
       "4      28877.0  107-109 MANSFIELD AVENUE LLC          ERIC J RAAD   \n",
       "\n",
       "     property_id property_real_value  \n",
       "0  053-4-044-000              258800  \n",
       "1  054-2-020-000              253700  \n",
       "2  044-3-206-000              454700  \n",
       "3  044-3-206-000              454700  \n",
       "4  045-3-077-000              353700  "
      ]
     },
     "execution_count": 8,
     "metadata": {},
     "output_type": "execute_result"
    }
   ],
   "source": [
    "df.head()"
   ]
  },
  {
   "cell_type": "code",
   "execution_count": 9,
   "metadata": {},
   "outputs": [],
   "source": [
    "# replace null values with numeric placeholder\n",
    "df.loc[df['business_id'].isna(), 'business_id'] = -1"
   ]
  },
  {
   "cell_type": "code",
   "execution_count": 10,
   "metadata": {},
   "outputs": [],
   "source": [
    "# match case for all string data\n",
    "df['owner_name'] = df['owner_name'].str.upper()\n",
    "df['principals'] = df['principals'].str.upper()"
   ]
  },
  {
   "cell_type": "code",
   "execution_count": 11,
   "metadata": {},
   "outputs": [],
   "source": [
    "# get rid of extra lines denoting more principals in file\n",
    "to_drop_a = df[df.principals.str.contains(\"MORE\")].index\n",
    "df.drop(list(to_drop_a), inplace=True)"
   ]
  },
  {
   "cell_type": "code",
   "execution_count": 12,
   "metadata": {},
   "outputs": [],
   "source": [
    "# match slightly different names for champlain housing trust\n",
    "champlain_housing_trust = [\"CHAMPLAIN HOUSING TRUST INC\", \"CHAMPLAIN HOUSING TRUST\", \"CHAMPLAIN HOUSING TRUST INC.\"]\n",
    "df.loc[df['owner_name'].isin(champlain_housing_trust), 'owner_name'] = \"CHAMPLAIN HOUSING TRUST INC\""
   ]
  },
  {
   "cell_type": "code",
   "execution_count": 13,
   "metadata": {},
   "outputs": [],
   "source": [
    "# remove all possibly confounding punctuation\n",
    "df['owner_name'] = df['owner_name'].str.replace('[{}]'.format(string.punctuation), '')\n",
    "df['principals'] = df['principals'].str.replace('[{}]'.format(string.punctuation), '')"
   ]
  },
  {
   "cell_type": "code",
   "execution_count": 14,
   "metadata": {},
   "outputs": [
    {
     "data": {
      "text/plain": [
       "10099"
      ]
     },
     "execution_count": 14,
     "metadata": {},
     "output_type": "execute_result"
    }
   ],
   "source": [
    "# get lists for parsing\n",
    "principal_names = set(df.principals)\n",
    "owner_names = set(df.owner_name)\n",
    "all_names = principal_names.union(owner_names)\n",
    "len(all_names)"
   ]
  },
  {
   "cell_type": "code",
   "execution_count": 15,
   "metadata": {},
   "outputs": [
    {
     "data": {
      "text/plain": [
       "(12885, 5)"
      ]
     },
     "execution_count": 15,
     "metadata": {},
     "output_type": "execute_result"
    }
   ],
   "source": [
    "df.shape"
   ]
  },
  {
   "cell_type": "code",
   "execution_count": 16,
   "metadata": {},
   "outputs": [
    {
     "data": {
      "text/plain": [
       "(12636, 5)"
      ]
     },
     "execution_count": 16,
     "metadata": {},
     "output_type": "execute_result"
    }
   ],
   "source": [
    "# drop duplicates\n",
    "df.drop_duplicates(subset=['property_id', 'owner_name', 'principals'], inplace=True)\n",
    "df.shape"
   ]
  },
  {
   "cell_type": "code",
   "execution_count": 17,
   "metadata": {},
   "outputs": [],
   "source": [
    "df.to_csv('../data/processed/props_to_principals.csv')"
   ]
  },
  {
   "cell_type": "code",
   "execution_count": 18,
   "metadata": {},
   "outputs": [
    {
     "name": "stderr",
     "output_type": "stream",
     "text": [
      "/home/calre/anaconda2/envs/learn-env/lib/python3.6/site-packages/altair/utils/core.py:294: FutureWarning: A future version of pandas will default to `skipna=True`. To silence this warning, pass `skipna=True|False` explicitly.\n",
      "  attrs['type'] = infer_vegalite_type(data[attrs['field']])\n"
     ]
    },
    {
     "data": {
      "application/vnd.vegalite.v2+json": {
       "$schema": "https://vega.github.io/schema/vega-lite/v2.6.0.json",
       "config": {
        "view": {
         "height": 300,
         "width": 400
        }
       },
       "data": {
        "format": {
         "type": "json"
        },
        "url": "altair-data-e5485c8bc8f3c6a0db2cd74c0eed74c8.json"
       },
       "encoding": {
        "x": {
         "field": "counts",
         "type": "quantitative"
        },
        "y": {
         "field": "categories",
         "type": "nominal"
        }
       },
       "mark": "bar"
      },
      "image/png": "[encoded data removed]",
      "text/plain": [
       "<VegaLite 2 object>\n",
       "\n",
       "If you see this message, it means the renderer has not been properly enabled\n",
       "for the frontend that you are using. For more information, see\n",
       "https://altair-viz.github.io/user_guide/troubleshooting.html\n"
      ]
     },
     "execution_count": 18,
     "metadata": {},
     "output_type": "execute_result"
    }
   ],
   "source": [
    "# LLC analysis\n",
    "llcs = df.loc[(df.owner_name.str.contains(\"LLC\")) | (df.owner_name.str.contains(\"TRUST\"))]\n",
    "\n",
    "llcs = llcs.sort_values(by=['property_id', 'principals']).groupby('property_id').first().reset_index()\n",
    "\n",
    "llcs.shape\n",
    "\n",
    "llcs.head()\n",
    "\n",
    "llcs.loc[llcs['principals'] != \"NONE\", 'category'] = \"Principal Listed\"\n",
    "llcs.loc[llcs['principals'] == \"NONE\", 'category'] = \"No Principal Listed\"\n",
    "\n",
    "llc_counts = pd.DataFrame({\n",
    "    \"categories\": [\"Total LLCs\", \"LLCs with Names\", \"LLCs Anonymous\"],\n",
    "    \"counts\": [\n",
    "        llcs.shape[0],\n",
    "        llcs[llcs['principals'] != \"NONE\"].shape[0],\n",
    "        llcs[llcs['principals'] == \"NONE\"].shape[0]\n",
    "    ]\n",
    "})\n",
    "\n",
    "alt.Chart(llc_counts).mark_bar().encode(\n",
    "    x='counts',\n",
    "    y='categories'\n",
    ")"
   ]
  },
  {
   "cell_type": "markdown",
   "metadata": {},
   "source": [
    "# Merge in Geocodes"
   ]
  },
  {
   "cell_type": "code",
   "execution_count": 19,
   "metadata": {},
   "outputs": [],
   "source": [
    "# load data\n",
    "prop = pd.read_csv('../data/raw/properties.csv')\n",
    "geocodes = pd.read_csv('geocodes.csv')\n",
    "deforest_heights_geo = pd.read_csv('geocodes_deforest_heights.csv')"
   ]
  },
  {
   "cell_type": "code",
   "execution_count": 20,
   "metadata": {},
   "outputs": [],
   "source": [
    "# drop columns with excessive missing values\n",
    "to_drop = prop.isna().sum().sort_values(ascending=False).index[:21]\n",
    "prop.drop(to_drop, axis=1, inplace=True)"
   ]
  },
  {
   "cell_type": "code",
   "execution_count": 21,
   "metadata": {},
   "outputs": [
    {
     "data": {
      "text/plain": [
       "(10831, 19)"
      ]
     },
     "execution_count": 21,
     "metadata": {},
     "output_type": "execute_result"
    }
   ],
   "source": [
    "# fix misc irregularities\n",
    "prop.loc[(prop['City'].isna()) & (prop['State'] == \"VT\"), 'City'] = \"BURLINGTON\"\n",
    "prop.loc[(prop['City'].isna()) & (prop['State'] == \"CA\"), 'City'] = \"OAKLAND\"\n",
    "prop.loc[(prop['City'].str.contains(\"BERLIN\")) & (prop['State'].isna()), 'State'] = \"GER\"\n",
    "prop.loc[prop['Owner Name 1'] == \"SEROTA LIBBY\", 'City'] = \"RADLETT\"\n",
    "prop.loc[(prop['City'] == \"BURLINGTON\") & prop['Mailing Address 1'].isna(), \"Mailing Address 1\"] = prop['Location #'].astype(str) + \" \" + prop['Location Street']\n",
    "prop.loc[(prop['City'].str.contains(\"BERLIN\")) & (prop['Zip'].isna()), \"Zip\"] = 10117\n",
    "prop.loc[prop['City'] == \"GERMANY\", [\"State\", \"Zip\"]] = \"GER\", \"10117\"\n",
    "prop.loc[prop['Owner Name 1'] == \"JALILI ALI\", ['City', 'State', 'Zip']] = \"MEXICO CITY\", \"MEXICO\", \"9830\"\n",
    "prop.dropna(axis=0, inplace=True)\n",
    "prop.shape"
   ]
  },
  {
   "cell_type": "code",
   "execution_count": 22,
   "metadata": {},
   "outputs": [],
   "source": [
    "# create string for merging on\n",
    "prop['Search_String'] = prop['Location #'].astype(str) + \" \" + prop['Location Street'].astype(str) + \" BURLINGTON VT\""
   ]
  },
  {
   "cell_type": "code",
   "execution_count": 23,
   "metadata": {},
   "outputs": [
    {
     "data": {
      "text/plain": [
       "(74083, 23)"
      ]
     },
     "execution_count": 23,
     "metadata": {},
     "output_type": "execute_result"
    }
   ],
   "source": [
    "# merge dataframes\n",
    "merged_prop = pd.merge(prop, geocodes, how='left', on='Search_String')\n",
    "merged_prop.drop(\"Unnamed: 0\", axis=1, inplace=True)\n",
    "merged_prop.shape"
   ]
  },
  {
   "cell_type": "code",
   "execution_count": 24,
   "metadata": {},
   "outputs": [
    {
     "data": {
      "text/plain": [
       "(10836, 23)"
      ]
     },
     "execution_count": 24,
     "metadata": {},
     "output_type": "execute_result"
    }
   ],
   "source": [
    "# drop duplicates\n",
    "merged_prop.drop_duplicates(inplace=True)\n",
    "merged_prop.shape"
   ]
  },
  {
   "cell_type": "code",
   "execution_count": 25,
   "metadata": {},
   "outputs": [],
   "source": [
    "# merge in deforest heights geocodes -- these didn't take during initial pass\n",
    "deforest_heights = merged_prop.loc[merged_prop[\"Address\"].isna()]\n",
    "deforest_heights_search = deforest_heights['Location #'].astype(str) + \" Deforest Heights, Burlington, VT 05401\"\n",
    "deforest_heights_search.index\n",
    "merged_prop.loc[merged_prop['Latitude'].isna(), 'Address'] = merged_prop['Location #'].astype(str) + ' Deforest Heights, Burlington, VT 05401, USA'\n",
    "merged_prop.loc[deforest_heights_search.index, \"Latitude\"] = list(deforest_heights_geo['Latitude'])\n",
    "merged_prop.loc[deforest_heights_search.index, \"Longitude\"] = list(deforest_heights_geo['Longitude'])\n",
    "merged_prop.loc[deforest_heights_search.index, \"Address\"] = list(deforest_heights_geo['Address'])"
   ]
  },
  {
   "cell_type": "code",
   "execution_count": 26,
   "metadata": {},
   "outputs": [],
   "source": [
    "# fix remaining duplicates\n",
    "merged_errors = merged_prop[(merged_prop['Search_String'] == \"0 STANIFORD RD BURLINGTON VT\") & (merged_prop['Address'] == '115 St Paul St, Burlington, VT 05401, USA')].index\n",
    "merged_prop.drop(merged_errors, axis='index', inplace=True)"
   ]
  },
  {
   "cell_type": "code",
   "execution_count": 27,
   "metadata": {},
   "outputs": [],
   "source": [
    "# export csv\n",
    "merged_prop.to_csv('../data/processed/geocoded_properties.csv')"
   ]
  },
  {
   "cell_type": "markdown",
   "metadata": {},
   "source": [
    "## Get Last Names"
   ]
  },
  {
   "cell_type": "code",
   "execution_count": 28,
   "metadata": {},
   "outputs": [],
   "source": [
    "import probablepeople as pp"
   ]
  },
  {
   "cell_type": "code",
   "execution_count": 29,
   "metadata": {},
   "outputs": [],
   "source": [
    "def last_names_func(name_list):\n",
    "    last_names = []\n",
    "    errors = []\n",
    "    \n",
    "    for name in name_list:\n",
    "        try:\n",
    "            parse = pp.tag(name)\n",
    "        except:\n",
    "            errors.append(name)\n",
    "        if parse[1] == 'Person':\n",
    "            try:\n",
    "                last_names.append(parse[0]['Surname'])\n",
    "            except:\n",
    "                errors.append(name)\n",
    "    last_names = sorted(list(set(last_names)))\n",
    "    errors = sorted(list(set(errors)))\n",
    "    return last_names, errors"
   ]
  },
  {
   "cell_type": "code",
   "execution_count": 30,
   "metadata": {},
   "outputs": [],
   "source": [
    "last_names, errors = last_names_func(all_names)"
   ]
  },
  {
   "cell_type": "code",
   "execution_count": 31,
   "metadata": {},
   "outputs": [],
   "source": [
    "last_names.append(\"SMITH\")\n",
    "last_names.append(\"PIERSON\")"
   ]
  },
  {
   "cell_type": "code",
   "execution_count": 32,
   "metadata": {},
   "outputs": [
    {
     "name": "stdout",
     "output_type": "stream",
     "text": [
      "NAN\n"
     ]
    }
   ],
   "source": [
    "last_names_b = []\n",
    "\n",
    "for name in errors:\n",
    "    if any(char.isdigit() for char in name):\n",
    "        pass\n",
    "    else:\n",
    "        try:\n",
    "            parse = name.split(\" \")\n",
    "            if len(parse[1]) == 1:\n",
    "                if len(parse[2]) == 1:\n",
    "                    last_names_b.append(parse[3])\n",
    "                else:\n",
    "                    last_names_b.append(parse[2])\n",
    "            else:\n",
    "                if parse[0] == \"VAN\":\n",
    "                    last_names_b.append(parse[0] + \" \" + parse[1])\n",
    "                else:\n",
    "                    last_names_b.append(parse[0])\n",
    "        except:\n",
    "            print(name)"
   ]
  },
  {
   "cell_type": "code",
   "execution_count": 33,
   "metadata": {},
   "outputs": [],
   "source": [
    "last_names_b = sorted(list(set(last_names_b)))"
   ]
  },
  {
   "cell_type": "code",
   "execution_count": 34,
   "metadata": {},
   "outputs": [],
   "source": [
    "ln_a = set(last_names)\n",
    "ln_b = set(last_names_b)\n",
    "all_last_names = sorted(list(ln_a.union(ln_b)))"
   ]
  },
  {
   "cell_type": "code",
   "execution_count": 35,
   "metadata": {},
   "outputs": [],
   "source": [
    "all_last_names = [name for name in all_last_names if len(name) > 1]"
   ]
  },
  {
   "cell_type": "code",
   "execution_count": 36,
   "metadata": {},
   "outputs": [],
   "source": [
    "with open('../data/processed/last_names.txt', 'w') as f:\n",
    "    for item in all_last_names:\n",
    "        f.write(\"%s\\n\" % item)"
   ]
  },
  {
   "cell_type": "code",
   "execution_count": 37,
   "metadata": {},
   "outputs": [
    {
     "data": {
      "text/plain": [
       "3881"
      ]
     },
     "execution_count": 37,
     "metadata": {},
     "output_type": "execute_result"
    }
   ],
   "source": [
    "len(all_last_names)"
   ]
  },
  {
   "cell_type": "markdown",
   "metadata": {},
   "source": [
    "## Report on Multiple Businesses"
   ]
  },
  {
   "cell_type": "code",
   "execution_count": 38,
   "metadata": {},
   "outputs": [],
   "source": [
    "first_names = pd.read_csv('../data/raw/ssa_names_db.csv')"
   ]
  },
  {
   "cell_type": "code",
   "execution_count": 39,
   "metadata": {},
   "outputs": [],
   "source": [
    "fn_list = list(first_names['name'])\n",
    "fn_list = [x.upper() for x in fn_list]"
   ]
  },
  {
   "cell_type": "code",
   "execution_count": 40,
   "metadata": {},
   "outputs": [],
   "source": [
    "fn_list = set(fn_list)\n",
    "all_last_names = set(all_last_names)\n",
    "ln_filtered = all_last_names - fn_list\n",
    "ln_filtered = list(ln_filtered)"
   ]
  },
  {
   "cell_type": "code",
   "execution_count": 41,
   "metadata": {},
   "outputs": [],
   "source": [
    "ln_filtered = [x for x in all_last_names if x not in fn_list]"
   ]
  },
  {
   "cell_type": "code",
   "execution_count": 42,
   "metadata": {},
   "outputs": [],
   "source": [
    "import re\n",
    "\n",
    "def findWholeWord(word, sentence):\n",
    "    result = re.compile(r'\\b({0})\\b'.format(word), flags=re.IGNORECASE).search(sentence)\n",
    "    if result:\n",
    "        return True\n",
    "    else:\n",
    "        return False\n",
    "    "
   ]
  },
  {
   "cell_type": "code",
   "execution_count": 43,
   "metadata": {},
   "outputs": [],
   "source": [
    "def name_search(name, institutions=False):\n",
    "    \n",
    "    inst_lst = [45152.0, 43409.0, 46484.0, 46891.0]\n",
    "    \n",
    "    principal_bool = df.principals.map(lambda x: findWholeWord(name, x))\n",
    "    owner_bool = df.owner_name.map(lambda x: findWholeWord(name, x))\n",
    "    \n",
    "    data = df[\n",
    "        principal_bool | owner_bool\n",
    "    ].sort_values(\n",
    "        ['property_id', 'owner_name', 'principals']\n",
    "    ).drop_duplicates(subset=['property_id'])\n",
    "    \n",
    "    if institutions == False:\n",
    "        data = data[data['business_id'].isin(inst_lst) == False]\n",
    "    \n",
    "    return data"
   ]
  },
  {
   "cell_type": "code",
   "execution_count": 44,
   "metadata": {},
   "outputs": [],
   "source": [
    "def name_stats(name):\n",
    "    \n",
    "    data = name_search(name)\n",
    "    \n",
    "    business_count = data.loc[data.business_id > -1].shape[0]\n",
    "    property_count = data.shape[0]\n",
    "    total_prop_val = data.property_real_value.sum()\n",
    "    \n",
    "    return name, business_count, property_count, total_prop_val"
   ]
  },
  {
   "cell_type": "code",
   "execution_count": 45,
   "metadata": {},
   "outputs": [
    {
     "data": {
      "text/plain": [
       "('HANDY', 33, 59, 48816900.0)"
      ]
     },
     "execution_count": 45,
     "metadata": {},
     "output_type": "execute_result"
    }
   ],
   "source": [
    "name_stats(\"HANDY\")"
   ]
  },
  {
   "cell_type": "code",
   "execution_count": 46,
   "metadata": {},
   "outputs": [],
   "source": [
    "def name_stats_report(name_lst):\n",
    "    n_list = []\n",
    "    b_counts = []\n",
    "    p_counts = []\n",
    "    tvals = []\n",
    "    \n",
    "    for name in name_lst:\n",
    "        n, b, p, t = name_stats(name)\n",
    "        n_list.append(n)\n",
    "        b_counts.append(b)\n",
    "        p_counts.append(p)\n",
    "        tvals.append(t)\n",
    "        \n",
    "    report = pd.DataFrame(\n",
    "        {\n",
    "            \"name\": n_list,\n",
    "            \"business_count\": b_counts,\n",
    "            \"property_count\": p_counts,\n",
    "            \"total_value\": tvals\n",
    "        }\n",
    "    ).sort_values(by=[\"business_count\", \"property_count\", \"total_value\"], ascending=False)\n",
    "    \n",
    "    return report"
   ]
  },
  {
   "cell_type": "code",
   "execution_count": 47,
   "metadata": {},
   "outputs": [],
   "source": [
    "df.property_real_value = df.property_real_value.astype(float)"
   ]
  },
  {
   "cell_type": "code",
   "execution_count": 48,
   "metadata": {},
   "outputs": [],
   "source": [
    "report = name_stats_report(ln_filtered)"
   ]
  },
  {
   "cell_type": "code",
   "execution_count": 49,
   "metadata": {},
   "outputs": [],
   "source": [
    "report = report.sort_values(by=[\"business_count\", \"property_count\", \"total_value\"], ascending=False)"
   ]
  },
  {
   "cell_type": "code",
   "execution_count": 50,
   "metadata": {},
   "outputs": [],
   "source": [
    "remove_list = ['HOUSING', 'BROTHERS', 'PARTNERSHIP', 'ST', 'AND', 'III', \"LOOMIS\", \"PINE\", \"CHURCH\"]"
   ]
  },
  {
   "cell_type": "code",
   "execution_count": 51,
   "metadata": {},
   "outputs": [],
   "source": [
    "report[report['name'].isin(remove_list) == False].to_csv('vtdigger_report.csv')"
   ]
  },
  {
   "cell_type": "code",
   "execution_count": 52,
   "metadata": {},
   "outputs": [
    {
     "data": {
      "text/html": [
       "<div>\n",
       "<style scoped>\n",
       "    .dataframe tbody tr th:only-of-type {\n",
       "        vertical-align: middle;\n",
       "    }\n",
       "\n",
       "    .dataframe tbody tr th {\n",
       "        vertical-align: top;\n",
       "    }\n",
       "\n",
       "    .dataframe thead th {\n",
       "        text-align: right;\n",
       "    }\n",
       "</style>\n",
       "<table border=\"1\" class=\"dataframe\">\n",
       "  <thead>\n",
       "    <tr style=\"text-align: right;\">\n",
       "      <th></th>\n",
       "      <th>name</th>\n",
       "      <th>business_count</th>\n",
       "      <th>property_count</th>\n",
       "      <th>total_value</th>\n",
       "    </tr>\n",
       "  </thead>\n",
       "  <tbody>\n",
       "    <tr>\n",
       "      <th>511</th>\n",
       "      <td>HANDY</td>\n",
       "      <td>33</td>\n",
       "      <td>59</td>\n",
       "      <td>48816900.0</td>\n",
       "    </tr>\n",
       "    <tr>\n",
       "      <th>1829</th>\n",
       "      <td>DIEMER</td>\n",
       "      <td>30</td>\n",
       "      <td>31</td>\n",
       "      <td>6003300.0</td>\n",
       "    </tr>\n",
       "    <tr>\n",
       "      <th>1555</th>\n",
       "      <td>BISSONETTE</td>\n",
       "      <td>19</td>\n",
       "      <td>28</td>\n",
       "      <td>10260400.0</td>\n",
       "    </tr>\n",
       "    <tr>\n",
       "      <th>2137</th>\n",
       "      <td>OFFENHARTZ</td>\n",
       "      <td>19</td>\n",
       "      <td>19</td>\n",
       "      <td>8079000.0</td>\n",
       "    </tr>\n",
       "    <tr>\n",
       "      <th>1081</th>\n",
       "      <td>BOARDMAN</td>\n",
       "      <td>14</td>\n",
       "      <td>20</td>\n",
       "      <td>13107900.0</td>\n",
       "    </tr>\n",
       "    <tr>\n",
       "      <th>140</th>\n",
       "      <td>KAANTA</td>\n",
       "      <td>14</td>\n",
       "      <td>16</td>\n",
       "      <td>2047100.0</td>\n",
       "    </tr>\n",
       "    <tr>\n",
       "      <th>237</th>\n",
       "      <td>METROPOULOS</td>\n",
       "      <td>11</td>\n",
       "      <td>12</td>\n",
       "      <td>4496500.0</td>\n",
       "    </tr>\n",
       "    <tr>\n",
       "      <th>627</th>\n",
       "      <td>POMERLEAU</td>\n",
       "      <td>10</td>\n",
       "      <td>20</td>\n",
       "      <td>26327400.0</td>\n",
       "    </tr>\n",
       "    <tr>\n",
       "      <th>811</th>\n",
       "      <td>NICHOLS</td>\n",
       "      <td>10</td>\n",
       "      <td>18</td>\n",
       "      <td>12779200.0</td>\n",
       "    </tr>\n",
       "    <tr>\n",
       "      <th>229</th>\n",
       "      <td>SOMEKH</td>\n",
       "      <td>10</td>\n",
       "      <td>10</td>\n",
       "      <td>10672000.0</td>\n",
       "    </tr>\n",
       "    <tr>\n",
       "      <th>1169</th>\n",
       "      <td>HOEKSTRA</td>\n",
       "      <td>9</td>\n",
       "      <td>10</td>\n",
       "      <td>23164600.0</td>\n",
       "    </tr>\n",
       "    <tr>\n",
       "      <th>2518</th>\n",
       "      <td>GREEN</td>\n",
       "      <td>8</td>\n",
       "      <td>26</td>\n",
       "      <td>14611100.0</td>\n",
       "    </tr>\n",
       "    <tr>\n",
       "      <th>1107</th>\n",
       "      <td>ROBERTS</td>\n",
       "      <td>7</td>\n",
       "      <td>12</td>\n",
       "      <td>7076900.0</td>\n",
       "    </tr>\n",
       "    <tr>\n",
       "      <th>268</th>\n",
       "      <td>SIMENDINGER</td>\n",
       "      <td>7</td>\n",
       "      <td>8</td>\n",
       "      <td>3546100.0</td>\n",
       "    </tr>\n",
       "    <tr>\n",
       "      <th>601</th>\n",
       "      <td>KAPLAN</td>\n",
       "      <td>6</td>\n",
       "      <td>14</td>\n",
       "      <td>7339100.0</td>\n",
       "    </tr>\n",
       "    <tr>\n",
       "      <th>1228</th>\n",
       "      <td>ATWOOD</td>\n",
       "      <td>6</td>\n",
       "      <td>13</td>\n",
       "      <td>4829600.0</td>\n",
       "    </tr>\n",
       "    <tr>\n",
       "      <th>2481</th>\n",
       "      <td>EDWARDS</td>\n",
       "      <td>6</td>\n",
       "      <td>11</td>\n",
       "      <td>3053700.0</td>\n",
       "    </tr>\n",
       "    <tr>\n",
       "      <th>2707</th>\n",
       "      <td>FAOUR</td>\n",
       "      <td>6</td>\n",
       "      <td>10</td>\n",
       "      <td>2771600.0</td>\n",
       "    </tr>\n",
       "    <tr>\n",
       "      <th>598</th>\n",
       "      <td>LOTHROP</td>\n",
       "      <td>6</td>\n",
       "      <td>8</td>\n",
       "      <td>3528600.0</td>\n",
       "    </tr>\n",
       "    <tr>\n",
       "      <th>2354</th>\n",
       "      <td>SPEAR</td>\n",
       "      <td>6</td>\n",
       "      <td>8</td>\n",
       "      <td>1955400.0</td>\n",
       "    </tr>\n",
       "  </tbody>\n",
       "</table>\n",
       "</div>"
      ],
      "text/plain": [
       "             name  business_count  property_count  total_value\n",
       "511         HANDY              33              59   48816900.0\n",
       "1829       DIEMER              30              31    6003300.0\n",
       "1555   BISSONETTE              19              28   10260400.0\n",
       "2137   OFFENHARTZ              19              19    8079000.0\n",
       "1081     BOARDMAN              14              20   13107900.0\n",
       "140        KAANTA              14              16    2047100.0\n",
       "237   METROPOULOS              11              12    4496500.0\n",
       "627     POMERLEAU              10              20   26327400.0\n",
       "811       NICHOLS              10              18   12779200.0\n",
       "229        SOMEKH              10              10   10672000.0\n",
       "1169     HOEKSTRA               9              10   23164600.0\n",
       "2518        GREEN               8              26   14611100.0\n",
       "1107      ROBERTS               7              12    7076900.0\n",
       "268   SIMENDINGER               7               8    3546100.0\n",
       "601        KAPLAN               6              14    7339100.0\n",
       "1228       ATWOOD               6              13    4829600.0\n",
       "2481      EDWARDS               6              11    3053700.0\n",
       "2707        FAOUR               6              10    2771600.0\n",
       "598       LOTHROP               6               8    3528600.0\n",
       "2354        SPEAR               6               8    1955400.0"
      ]
     },
     "execution_count": 52,
     "metadata": {},
     "output_type": "execute_result"
    }
   ],
   "source": [
    "report[report['name'].isin(remove_list) == False].head(20)"
   ]
  },
  {
   "cell_type": "code",
   "execution_count": null,
   "metadata": {},
   "outputs": [],
   "source": [
    "name_search(\"SPEAR\")"
   ]
  }
 ],
 "metadata": {
  "kernelspec": {
   "display_name": "Python 3",
   "language": "python",
   "name": "python3"
  },
  "language_info": {
   "codemirror_mode": {
    "name": "ipython",
    "version": 3
   },
   "file_extension": ".py",
   "mimetype": "text/x-python",
   "name": "python",
   "nbconvert_exporter": "python",
   "pygments_lexer": "ipython3",
   "version": "3.6.8"
  }
 },
 "nbformat": 4,
 "nbformat_minor": 2
}
